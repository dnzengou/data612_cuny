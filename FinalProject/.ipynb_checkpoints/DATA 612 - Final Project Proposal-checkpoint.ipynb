{
 "cells": [
  {
   "cell_type": "markdown",
   "metadata": {},
   "source": [
    "### DATA 612 - Final Project Proposal\n",
    "\n",
    "Zach Alexander  \n",
    "7/7/2020"
   ]
  },
  {
   "cell_type": "markdown",
   "metadata": {},
   "source": [
    "### Instructions\n",
    "\n",
    "Find an interesting dataset and describe the system you plan to build out. If you would like to use one of the datasets you have already worked with, you should add a unique element or incorporate additional data. (i.e. explicit features you scrape from another source, like image analysis on movie posters). The overall goal, however, will be to produce quality recommendations by extracting insights from a large dataset. You may do so using Spark, or another distributed computing method, OR by effectively applying one of the more advanced mathematical techniques we have covered. There is no preference for one over the other, as long as your recommender works!"
   ]
  },
  {
   "cell_type": "markdown",
   "metadata": {},
   "source": [
    "### Goodreads Dataset\n",
    "\n",
    "For my final project, I've decided to use the [Goodreads dataset](http://fastml.com/goodbooks-10k-a-new-dataset-for-book-recommendations/) to build a custom recommender system that recommends books to users. The dataset contains six million ratings for ten thousand most popular books (with the most ratings). \n",
    "\n",
    "### Implementation\n",
    "\n",
    "I'm going to try to stretch my knowledge of Python here a bit, and try to develop a very basic Flask app that will serve up recommendations to users based on the books that they have previously rated. The goal here is to do a couple of things:\n",
    "\n",
    "+ Design a very basic Flask app that will allow a user to register/sign in and rate books. The Flask app will store book ratings from users in a PostgreSQL database, and it will be deployed to Heroku. \n",
    "\n",
    "+ In order to get a good book directory to help users rate items, I'll be using the [Google Books API](https://developers.google.com/books) (which has search capability) to allow users to rate books that they search for. I'm able to connect the Google Books API data to the Goodreads data based on the ISBN number of each book. \n",
    "\n",
    "+ Then, I'll utilize a distributed computing platform (Spark), to build an ALS algorithm that will take in the ratings from users, feed the new ratings into the robust dataset of Goodreads ratings, re-train the model, and then serve up recommendations of books to users based on their previous ratings.  \n",
    "\n",
    "+ The goal will be to serve up these recommendations to users in realtime based on their ratings, however, that may be too much of a stretch.\n",
    "\n",
    "This is a bit ambitious, so as a fallback, my goal is to build out the Flask app (already finished at this point, as of 7/7) and then build the ALS model in a jupyter notebook and Spark (utilizing the Goodreads dataset). I will then try to connect the Flask app to the Spark context, but if I run into issues, then I'll still be able to evaluate my ALS model and can use some of the ratings that I'm collecting from my Flask app to insert into the jupyter notebook (to show that if I were to get it linked up), how the recommendations would change based on user input."
   ]
  },
  {
   "cell_type": "code",
   "execution_count": null,
   "metadata": {},
   "outputs": [],
   "source": []
  }
 ],
 "metadata": {
  "kernelspec": {
   "display_name": "Python 3",
   "language": "python",
   "name": "python3"
  }
 },
 "nbformat": 4,
 "nbformat_minor": 4
}
