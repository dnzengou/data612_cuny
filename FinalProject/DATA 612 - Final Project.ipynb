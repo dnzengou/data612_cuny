{
 "cells": [
  {
   "cell_type": "markdown",
   "metadata": {},
   "source": [
    "## DATA 620 - Final Project (Goodreads Book Recommender System)\n",
    "##### By: Zach Alexander\n",
    "##### Date: July 12th, 2020\n",
    "\n",
    "***\n",
    "\n",
    "For my final project, I decided to build a book recommendation system. Since I really enjoy reading books, and there were myriad book datasets available, I thought it would be a good opportunity to utilize some of the skills I learned in this course to attempt a build of a modest, full-production book recommender. My final project can be outlined in the following steps:  \n",
    "\n",
    "+ **Part 1)** I decided to use the `goodbooks-10k` dataset, [located here on Kaggle](https://www.kaggle.com/zygmunt/goodbooks-10k), as my user-item dataset. This dataset has helped to formulate initial recommendations to users, and over time, will include additional books and ratings as more people use the application. Therefore, I initially downloaded the data and performed some exploratory analysis to get a better sense of its components.  \n",
    "\n",
    "+ **Part 2)** Next, I built out a full production Flask app in python. This included:\n",
    "  + A full user registration/sign-in function\n",
    "  + Integration with the Goodreads API to build in a search function which allowed a user to search and rate new books\n",
    "  + Connecting the Flask application to a PostgreSQL backend database to store user information, their book ratings, and eventually, user-specific book recommendations  \n",
    "  + Deployed the Flask application on Heroku at this link provided: [https://zach-book-recommender.herokuapp.com/](https://zach-book-recommender.herokuapp.com/)  \n",
    "  \n",
    "+ **Part 3)** Then, using the existing `goodbooks-10k` dataset, in combination with a few initial users from my Flask app, I built a recommender system using Pyspark's collaborative filtering and an Alternating Least Squares algorithm to find similarities between users. I did my best to implement some distributive computing in order to cut down on the amount of processing time, which you'll see throughout.\n",
    "  + This recommendation system model was developed and fine-tuned until reaching an optimal RMSE value (utilizing this jupyter notebook). Then, with the best model I could generate, I used Databricks and AWS to deploy just the optimal model parameters, located in a separate Databricks file to serve as my production model.  \n",
    "  + By creating a new cron job in Databricks, the deployed model will absorb new user ratings every hour, re-run the model, and recompute new recommendations for each user based on the updated calculations/predictions.  \n",
    "  \n",
    "In this notebook below, I've outlined many of the steps above in greater detail. Additionally, I've created a [YouTube video here to explain the process a bit further](https://www.youtube.com/watch?v=Z5JhqceWrzc&feature=youtu.be)."
   ]
  },
  {
   "cell_type": "markdown",
   "metadata": {},
   "source": [
    "### Part 1) Exploring the goodbooks-10k dataset\n",
    "\n",
    "As mentioned above, before creating a recommender system, it's always a good idea to familiarize yourself with the dataset. Below are a few initial findings from the `goodbooks-10k` dataset."
   ]
  },
  {
   "cell_type": "markdown",
   "metadata": {},
   "source": [
    "##### Dataset Information (goodbooks-10k)\n",
    "\n",
    "According to Kaggle, the `goodbooks-10k` dataset contains close to 1 million ratings across 10,000 different books located on a popular book recommender service, *Goodreads*. Additionally, in this dataset, there are about 53,425 users that have supplied ratings for at least 10 books. The book ratings are on a likert scale between 1 and 5. \n",
    "\n",
    "For the project, I decided to use Alternating Least Squares to provide predictions for books that haven't been read by each user. As mentioned above, although this is a robust dataset, I also thought it would be interesting to incorporate additional book ratings from users that utilize the Flask app that I created **(see Part 2)**. Therefore, although our initial goodbooks-10k dataset will contain close to 1 million ratings, I will also be appending additional user ratings to this dataset to serve recommendations to new users."
   ]
  },
  {
   "cell_type": "markdown",
   "metadata": {},
   "source": [
    "##### Loading in the ratings.csv file to explore ratings\n",
    "\n",
    "The Kaggle dataset contains a few different files, some of which we will use for this project, and others we can hope to utilize in later iterations of the recommendation model. For now, we'll start by loading in the `ratings.csv` file and performing some initial analysis. As we can see from the output below, the table consists of a `book_id`, `user_id` and `rating` column, to show the user-specific rating for a particular book. The `book_id` is specific to this dataset, but fortunately other tables have a crosswalk between the `book_id` and a goodreads-specific book ID, which we can use later on when loading these into the application."
   ]
  },
  {
   "cell_type": "code",
   "execution_count": 3,
   "metadata": {},
   "outputs": [
    {
     "data": {
      "text/html": [
       "<div>\n",
       "<style scoped>\n",
       "    .dataframe tbody tr th:only-of-type {\n",
       "        vertical-align: middle;\n",
       "    }\n",
       "\n",
       "    .dataframe tbody tr th {\n",
       "        vertical-align: top;\n",
       "    }\n",
       "\n",
       "    .dataframe thead th {\n",
       "        text-align: right;\n",
       "    }\n",
       "</style>\n",
       "<table border=\"1\" class=\"dataframe\">\n",
       "  <thead>\n",
       "    <tr style=\"text-align: right;\">\n",
       "      <th></th>\n",
       "      <th>book_id</th>\n",
       "      <th>user_id</th>\n",
       "      <th>rating</th>\n",
       "    </tr>\n",
       "  </thead>\n",
       "  <tbody>\n",
       "    <tr>\n",
       "      <th>0</th>\n",
       "      <td>1</td>\n",
       "      <td>314</td>\n",
       "      <td>5</td>\n",
       "    </tr>\n",
       "    <tr>\n",
       "      <th>1</th>\n",
       "      <td>1</td>\n",
       "      <td>439</td>\n",
       "      <td>3</td>\n",
       "    </tr>\n",
       "    <tr>\n",
       "      <th>2</th>\n",
       "      <td>1</td>\n",
       "      <td>588</td>\n",
       "      <td>5</td>\n",
       "    </tr>\n",
       "    <tr>\n",
       "      <th>3</th>\n",
       "      <td>1</td>\n",
       "      <td>1169</td>\n",
       "      <td>4</td>\n",
       "    </tr>\n",
       "    <tr>\n",
       "      <th>4</th>\n",
       "      <td>1</td>\n",
       "      <td>1185</td>\n",
       "      <td>4</td>\n",
       "    </tr>\n",
       "  </tbody>\n",
       "</table>\n",
       "</div>"
      ],
      "text/plain": [
       "   book_id  user_id  rating\n",
       "0        1      314       5\n",
       "1        1      439       3\n",
       "2        1      588       5\n",
       "3        1     1169       4\n",
       "4        1     1185       4"
      ]
     },
     "execution_count": 3,
     "metadata": {},
     "output_type": "execute_result"
    }
   ],
   "source": [
    "import pandas as pd\n",
    "import matplotlib.pyplot as plt\n",
    "import numpy as np\n",
    "from matplotlib import colors\n",
    "from matplotlib.ticker import PercentFormatter\n",
    "\n",
    "ratings_df_init = pd.read_csv('./data/ratings.csv')\n",
    "\n",
    "ratings_df_init.head()"
   ]
  },
  {
   "cell_type": "markdown",
   "metadata": {},
   "source": [
    "##### Overall counts\n",
    "\n",
    "After loading the `ratings.csv` dataset as a Pandas dataframe, I decided to confirm the count of ratings, users, and books. You can find this in a table below:"
   ]
  },
  {
   "cell_type": "code",
   "execution_count": 4,
   "metadata": {},
   "outputs": [
    {
     "data": {
      "text/html": [
       "<div>\n",
       "<style scoped>\n",
       "    .dataframe tbody tr th:only-of-type {\n",
       "        vertical-align: middle;\n",
       "    }\n",
       "\n",
       "    .dataframe tbody tr th {\n",
       "        vertical-align: top;\n",
       "    }\n",
       "\n",
       "    .dataframe thead th {\n",
       "        text-align: right;\n",
       "    }\n",
       "</style>\n",
       "<table border=\"1\" class=\"dataframe\">\n",
       "  <thead>\n",
       "    <tr style=\"text-align: right;\">\n",
       "      <th></th>\n",
       "      <th>Characteristic</th>\n",
       "      <th>Count</th>\n",
       "    </tr>\n",
       "  </thead>\n",
       "  <tbody>\n",
       "    <tr>\n",
       "      <th>0</th>\n",
       "      <td># of Ratings</td>\n",
       "      <td>981756</td>\n",
       "    </tr>\n",
       "    <tr>\n",
       "      <th>1</th>\n",
       "      <td># of Users</td>\n",
       "      <td>53424</td>\n",
       "    </tr>\n",
       "    <tr>\n",
       "      <th>2</th>\n",
       "      <td># of Books</td>\n",
       "      <td>10000</td>\n",
       "    </tr>\n",
       "  </tbody>\n",
       "</table>\n",
       "</div>"
      ],
      "text/plain": [
       "  Characteristic   Count\n",
       "0   # of Ratings  981756\n",
       "1     # of Users   53424\n",
       "2     # of Books   10000"
      ]
     },
     "execution_count": 4,
     "metadata": {},
     "output_type": "execute_result"
    }
   ],
   "source": [
    "num_ratings = ratings_df_init['rating'].count()\n",
    "num_users = ratings_df_init['user_id'].nunique()\n",
    "num_books = ratings_df_init['book_id'].nunique()\n",
    "\n",
    "pd.DataFrame([['# of Ratings', num_ratings],\n",
    "             ['# of Users', num_users], \n",
    "             ['# of Books', num_books]],\n",
    "            columns = ['Characteristic', 'Count'])"
   ]
  },
  {
   "cell_type": "markdown",
   "metadata": {},
   "source": [
    "As we can see, there were **981,756** book ratings (~1 million), **53,424** unique users, and **10,000** unique books in our `ratings.csv` dataset.  \n",
    "\n",
    "##### Average ratings by users\n",
    "\n",
    "Next, we can take a look at the average rating given by users for all books in our dataset. We can see it displayed here using the `describe()` function, but also plotted in a histogram below:"
   ]
  },
  {
   "cell_type": "code",
   "execution_count": 5,
   "metadata": {},
   "outputs": [
    {
     "data": {
      "text/plain": [
       "count    981756.000000\n",
       "mean          3.856534\n",
       "std           0.983941\n",
       "min           1.000000\n",
       "25%           3.000000\n",
       "50%           4.000000\n",
       "75%           5.000000\n",
       "max           5.000000\n",
       "Name: rating, dtype: float64"
      ]
     },
     "execution_count": 5,
     "metadata": {},
     "output_type": "execute_result"
    }
   ],
   "source": [
    "ratings_df_init['rating'].describe()"
   ]
  },
  {
   "cell_type": "code",
   "execution_count": 6,
   "metadata": {},
   "outputs": [
    {
     "data": {
      "image/png": "[encoded data removed]",
      "text/plain": [
       "<Figure size 432x288 with 1 Axes>"
      ]
     },
     "metadata": {
      "needs_background": "light"
     },
     "output_type": "display_data"
    }
   ],
   "source": [
    "data = ratings_df_init['rating']\n",
    "bins = [1, 2, 3, 4, 5, 6]\n",
    "\n",
    "plt.hist(data, bins, align=\"left\", rwidth=0.7)\n",
    "plt.xticks(bins)\n",
    "plt.xlabel('Rating value')\n",
    "plt.ylabel('Frequency')\n",
    "plt.title('Frequency of user ratings')\n",
    "plt.show()"
   ]
  },
  {
   "cell_type": "markdown",
   "metadata": {},
   "source": [
    "As we can see, most users provided pretty positive ratings on books, with the most frequent rating being a 4, and the average being slightly less at ~3.85.  \n",
    "\n",
    "##### Sparsity of the ratings dataset\n",
    "\n",
    "Since we are starting to think about an effective algorithm/model to implement on our ratings dataset, we'll need to take a look at the sparsity. We calculated the number of unrated books below:"
   ]
  },
  {
   "cell_type": "code",
   "execution_count": 7,
   "metadata": {},
   "outputs": [
    {
     "name": "stdout",
     "output_type": "stream",
     "text": [
      "Ratings dataset sparsity:  99.82\n"
     ]
    }
   ],
   "source": [
    "denominator = num_users * num_books\n",
    "\n",
    "sparsity_gr = (1.0 - (num_ratings) * 1.0 / denominator) * 100\n",
    "print(\"Ratings dataset sparsity: \", \"%.2f\" % sparsity_gr)"
   ]
  },
  {
   "cell_type": "markdown",
   "metadata": {},
   "source": [
    "As expected with such a wide variety of books in this dataset, and the volume of users in our dataset, it is very sparse! With this in mind, we'll have to think about an efficient method for providing predictions/recommendations to users.\n",
    "\n",
    "We can also take a look at how many ratings were given per user. I've plotted this below in a histogram:"
   ]
  },
  {
   "cell_type": "code",
   "execution_count": 8,
   "metadata": {},
   "outputs": [
    {
     "data": {
      "image/png": "[encoded data removed]",
      "text/plain": [
       "<Figure size 432x288 with 1 Axes>"
      ]
     },
     "metadata": {
      "needs_background": "light"
     },
     "output_type": "display_data"
    }
   ],
   "source": [
    "num_of_ratings = ratings_df_init.groupby('user_id').count()['rating']\n",
    "bins = [0, 5, 10, 15, 20, 25, 30, 35, 40, 45, 50, 55, 60, 65, 70, 75, 80, 85, 90, 95, 100, 105, 110, 115, 120, 125, 130, 135, 140, 145, 150, 155, 160, 165, 170, 175, 180]\n",
    "\n",
    "plt.hist(num_of_ratings, bins, align=\"left\", rwidth=0.7)\n",
    "plt.xlabel('Rating value')\n",
    "plt.ylabel('Frequency')\n",
    "plt.title('Frequency of user ratings')\n",
    "plt.show()"
   ]
  },
  {
   "cell_type": "markdown",
   "metadata": {},
   "source": [
    "We can see above that most users rated between 1 and 25 books, but a few users rated many more (as high as 175 ratings!)."
   ]
  },
  {
   "cell_type": "markdown",
   "metadata": {},
   "source": [
    "Finally, let's take a look at some of the most highly rated books. This may provide some insight into how our recommendations will be served later on:"
   ]
  },
  {
   "cell_type": "code",
   "execution_count": 9,
   "metadata": {},
   "outputs": [
    {
     "data": {
      "text/html": [
       "<div>\n",
       "<style scoped>\n",
       "    .dataframe tbody tr th:only-of-type {\n",
       "        vertical-align: middle;\n",
       "    }\n",
       "\n",
       "    .dataframe tbody tr th {\n",
       "        vertical-align: top;\n",
       "    }\n",
       "\n",
       "    .dataframe thead th {\n",
       "        text-align: right;\n",
       "    }\n",
       "</style>\n",
       "<table border=\"1\" class=\"dataframe\">\n",
       "  <thead>\n",
       "    <tr style=\"text-align: right;\">\n",
       "      <th></th>\n",
       "      <th>Top 20 Highest Rated Books</th>\n",
       "    </tr>\n",
       "  </thead>\n",
       "  <tbody>\n",
       "    <tr>\n",
       "      <th>0</th>\n",
       "      <td>ESV Study Bible</td>\n",
       "    </tr>\n",
       "    <tr>\n",
       "      <th>1</th>\n",
       "      <td>The Indispensable Calvin and Hobbes</td>\n",
       "    </tr>\n",
       "    <tr>\n",
       "      <th>2</th>\n",
       "      <td>The Days Are Just Packed: A Calvin and Hobbes ...</td>\n",
       "    </tr>\n",
       "    <tr>\n",
       "      <th>3</th>\n",
       "      <td>Attack of the Deranged Mutant Killer Monster S...</td>\n",
       "    </tr>\n",
       "    <tr>\n",
       "      <th>4</th>\n",
       "      <td>The Divan</td>\n",
       "    </tr>\n",
       "    <tr>\n",
       "      <th>5</th>\n",
       "      <td>There's Treasure Everywhere: A Calvin and Hobb...</td>\n",
       "    </tr>\n",
       "    <tr>\n",
       "      <th>6</th>\n",
       "      <td>Harry Potter Boxed Set, Books 1-5 (Harry Potte...</td>\n",
       "    </tr>\n",
       "    <tr>\n",
       "      <th>7</th>\n",
       "      <td>The Calvin and Hobbes Lazy Sunday Book</td>\n",
       "    </tr>\n",
       "    <tr>\n",
       "      <th>8</th>\n",
       "      <td>The Authoritative Calvin and Hobbes: A Calvin ...</td>\n",
       "    </tr>\n",
       "    <tr>\n",
       "      <th>9</th>\n",
       "      <td>It's a Magical World: A Calvin and Hobbes Coll...</td>\n",
       "    </tr>\n",
       "    <tr>\n",
       "      <th>10</th>\n",
       "      <td>A Court of Mist and Fury (A Court of Thorns an...</td>\n",
       "    </tr>\n",
       "    <tr>\n",
       "      <th>11</th>\n",
       "      <td>The Revenge of the Baby-Sat</td>\n",
       "    </tr>\n",
       "    <tr>\n",
       "      <th>12</th>\n",
       "      <td>Harry Potter Collection (Harry Potter, #1-6)</td>\n",
       "    </tr>\n",
       "    <tr>\n",
       "      <th>13</th>\n",
       "      <td>The Absolute Sandman, Volume One</td>\n",
       "    </tr>\n",
       "    <tr>\n",
       "      <th>14</th>\n",
       "      <td>The Calvin and Hobbes Tenth Anniversary Book</td>\n",
       "    </tr>\n",
       "    <tr>\n",
       "      <th>15</th>\n",
       "      <td>Preach My Gospel: A Guide To Missionary Service</td>\n",
       "    </tr>\n",
       "    <tr>\n",
       "      <th>16</th>\n",
       "      <td>Locke &amp; Key, Vol. 6: Alpha &amp; Omega</td>\n",
       "    </tr>\n",
       "    <tr>\n",
       "      <th>17</th>\n",
       "      <td>The Way of Kings, Part 1 (The Stormlight Archi...</td>\n",
       "    </tr>\n",
       "    <tr>\n",
       "      <th>18</th>\n",
       "      <td>Saga, Vol. 2 (Saga, #2)</td>\n",
       "    </tr>\n",
       "  </tbody>\n",
       "</table>\n",
       "</div>"
      ],
      "text/plain": [
       "                           Top 20 Highest Rated Books\n",
       "0                                     ESV Study Bible\n",
       "1                 The Indispensable Calvin and Hobbes\n",
       "2   The Days Are Just Packed: A Calvin and Hobbes ...\n",
       "3   Attack of the Deranged Mutant Killer Monster S...\n",
       "4                                           The Divan\n",
       "5   There's Treasure Everywhere: A Calvin and Hobb...\n",
       "6   Harry Potter Boxed Set, Books 1-5 (Harry Potte...\n",
       "7              The Calvin and Hobbes Lazy Sunday Book\n",
       "8   The Authoritative Calvin and Hobbes: A Calvin ...\n",
       "9   It's a Magical World: A Calvin and Hobbes Coll...\n",
       "10  A Court of Mist and Fury (A Court of Thorns an...\n",
       "11                        The Revenge of the Baby-Sat\n",
       "12       Harry Potter Collection (Harry Potter, #1-6)\n",
       "13                   The Absolute Sandman, Volume One\n",
       "14       The Calvin and Hobbes Tenth Anniversary Book\n",
       "15    Preach My Gospel: A Guide To Missionary Service\n",
       "16                 Locke & Key, Vol. 6: Alpha & Omega\n",
       "17  The Way of Kings, Part 1 (The Stormlight Archi...\n",
       "18                            Saga, Vol. 2 (Saga, #2)"
      ]
     },
     "execution_count": 9,
     "metadata": {},
     "output_type": "execute_result"
    }
   ],
   "source": [
    "books_df_init = pd.read_csv('./data/books.csv')\n",
    "\n",
    "books_df_init = pd.DataFrame(books_df_init)\n",
    "top_20_books = pd.DataFrame(ratings_df_init.groupby('book_id').mean().sort_values('rating', ascending=False).head(n=20))\n",
    "\n",
    "# print(top_20_books)\n",
    "top20 = []\n",
    "for bookid in top_20_books.index:\n",
    "  for x in range(1, len(books_df_init)):\n",
    "    if books_df_init[\"id\"][x] == bookid:\n",
    "      top20.append((books_df_init[\"title\"][x]))\n",
    "    else:\n",
    "      pass\n",
    "    \n",
    "pd.DataFrame(top20, columns = ['Top 20 Highest Rated Books'])"
   ]
  },
  {
   "cell_type": "markdown",
   "metadata": {},
   "source": [
    "As we can see above, there are some popular titles and characters. For instance, **Calvin and Hobbes** books are rated very highly by users in this dataset. Additionally, **Harry Potter**, and a few religous books also round out the top 20. This'll be interesting to note as we start to build our recommender. Based on these initial ratings, we'll likely see some of these show up in our recommendations if a user has not read/rated it before."
   ]
  },
  {
   "cell_type": "markdown",
   "metadata": {},
   "source": [
    "### Part 2) Building the Flask application\n",
    "\n",
    "Given that we'd like to add more data to our initial `goodbook-10k` dataset, I created a very basic python Flask application that allows for the following:  \n",
    "\n",
    "##### Functionality\n",
    "+ 1) Allows a user to register/sign-in under a specific username\n",
    "+ 2) Loads a profile page that displays a history of a user's rated books and provides navigation options to either rate more books or view recommended books  \n",
    "+ 3) Has a search feature that interacts with the Goodreads API to search for a book by title name. The user can then rate that book on a scale of 1-5. \n",
    "+ 4) A user can also find their book recommendations in a separate page \n",
    "\n",
    "##### Set-up Process\n",
    "To set up the application, I first created a basic Flask application, created my routes and page templates, and connected to a local PostgreSQL database. Next, after testing to make sure that I was able to properly register/sign-in each user, obtain specific userids to link back to particular book ratings, I then integrated the Goodreads API into the application to help users search for books that they'd like to rate. By ensuring that any rating that was generated was linked back to the correct bookid and attributed to the correct user, I did a fair bit of testing during this stage. Once the ratings portion of the application was set up, I then deployed my app in **Heroku**, and deployed my local PostgreSQL database to a remote database through the same service. After some testing, I was able to get this functionality working on remote servers. After this, I focused in on creating my recommender engine in PySpark. By using Databrick's built-in interface, this was quite simple. I used ALS (explained below) to serve recommendations to users. I then set up an AWS cluster and deployed the cluster, including the Databricks notebook in order to be able to automate runs on the model every hour. Databricks allows a user to create cron jobs, so I set this setting to re-run the model every hour. By connecting my Databricks notebook to my remote PostgreSQL database through a JDBC connection, I was able to seamlessly work back and forth between my remote database and my Databricks notebook to tweak my model and push new recommendations to my remote database.\n",
    "\n",
    "Once the model was fine-tuned, I was able to connect the new recommendations table that I created in my remote database to my Flask application and render the information for each recommended book utilizing the same Goodreads API I used earlier. \n",
    "\n",
    "##### Challenges building the application\n",
    "Although I was able to successfully create a process that serves up recommendations every hour for reach user, it would have been much preferred if I could have utilized PySpark outside of a Databricks notebook. This would have made the process a bit easier, and would have streamlined some of the code. I had issues getting PySpark running properly on my local machine, and due to time contraints, couldn't build the engine directly inside my Flask application. Additionally, the Goodreads API was very straightforward to use, but I was a bit limited in the scope of API endpoints that they offered. Because I had to query each individual book to obtain information, you'll notice that navigating between pages such as the 'Profile' page and the 'Recommendations' page is quite slow. Ironically, this is not due to the volume of ratings in my dataset, or the recommender model running in the background, but rather the way I had to retrieve book information from the Goodreads API. These are all items that I hope to adjust in the future, with more time. Finally, I would have really liked to have built out the user interface much more. I have experience working with a few Javascript front-end frameworks (i.e. Angular, etc.), but I ran out of time. Obviously, for this project I was prioritizing getting a working recommender model, and making sure that recommendations were user-specific."
   ]
  },
  {
   "cell_type": "markdown",
   "metadata": {},
   "source": [
    "### Part 3) Creating the Recommender Engine and Serving Recommendations Through the Application"
   ]
  },
  {
   "cell_type": "markdown",
   "metadata": {},
   "source": [
    "##### Creating the ALS model and setting it up to run every hour (based on new user ratings)\n",
    "\n",
    "Given the setup of the application, I wanted to ensure that new ratings from users were being incorporated into my collaborative filtering technique. I decided to work with PySpark's Alternating Least Squares algorithm for a couple of reasons:  \n",
    "\n",
    "+ 1) I'm working with a fairly large dataset of book ratings (~1 million), and therefore need to work with an algorithm that can be computationally efficient. ALS and matrix factorization seems to be a good choice once the ALS model is fit to the data.  \n",
    "\n",
    "+ 2) PySpark provides good documentation for it's ALS function, and has good built-in distributed computing processes to help cut down on processing time.  \n",
    "\n",
    "+ 3) Since I'm not using any features from my ratings dataset, I'll want to find similarities between users based on books they've rated. Matrix factorization and dimensionality reduction are good techniques to work with for a dataset such as this one. \n",
    "\n",
    "In order to do this, I created a JDBC connection to my remote PostgreSQL database, and was able to connect to my ratings table directly. By loading it in as a PySpark dataframe, I could then work with the ~1 million ratings in short order."
   ]
  },
  {
   "cell_type": "markdown",
   "metadata": {},
   "source": [
    "##### Importing the data from PostgreSQL\n",
    "\n",
    "After setting up a remote database in PostgreSQL, and loading in the ratings data, we can now pull it into our Databricks notebook to start our ML work.\n",
    "\n",
    "First, we need to declare our database credentials and load the JDBC driver that connects between our remote database and Databricks:"
   ]
  },
  {
   "cell_type": "code",
   "execution_count": 23,
   "metadata": {},
   "outputs": [
    {
     "data": {
      "text/html": [
       "<style scoped>\n",
       "  .ansiout {\n",
       "    display: block;\n",
       "    unicode-bidi: embed;\n",
       "    white-space: pre-wrap;\n",
       "    word-wrap: break-word;\n",
       "    word-break: break-all;\n",
       "    font-family: \"Source Code Pro\", \"Menlo\", monospace;;\n",
       "    font-size: 13px;\n",
       "    color: #555;\n",
       "    margin-left: 4px;\n",
       "    line-height: 19px;\n",
       "  }\n",
       "</style>\n",
       "<div class=\"ansiout\"></div>"
      ]
     },
     "metadata": {},
     "output_type": "display_data"
    }
   ],
   "source": [
    "import os\n",
    "driver = os.getenv('DRIVER')\n",
    "url = os.getenv('URL')\n",
    "table = os.getenv('TABLE')\n",
    "user = os.getenv('USER')\n",
    "password = os.getenv('PASSWORD')\n",
    "full_url = os.getenv('FULL_URL')"
   ]
  },
  {
   "cell_type": "markdown",
   "metadata": {},
   "source": [
    "Then, after importing the pyspark sql package contents to build out our schema for our ratings table, we can assign a data type value to each column of our ratings table and save it as `ratings_schema`."
   ]
  },
  {
   "cell_type": "code",
   "execution_count": 25,
   "metadata": {},
   "outputs": [
    {
     "data": {
      "text/html": [
       "<style scoped>\n",
       "  .ansiout {\n",
       "    display: block;\n",
       "    unicode-bidi: embed;\n",
       "    white-space: pre-wrap;\n",
       "    word-wrap: break-word;\n",
       "    word-break: break-all;\n",
       "    font-family: \"Source Code Pro\", \"Menlo\", monospace;;\n",
       "    font-size: 13px;\n",
       "    color: #555;\n",
       "    margin-left: 4px;\n",
       "    line-height: 19px;\n",
       "  }\n",
       "</style>\n",
       "<div class=\"ansiout\"></div>"
      ]
     },
     "metadata": {},
     "output_type": "display_data"
    }
   ],
   "source": [
    "from pyspark.sql.types import StructType, StructField\n",
    "from pyspark.sql.types import DoubleType, IntegerType, StringType\n",
    "\n",
    "ratings_schema = StructType([\n",
    "  StructField(\"col_id\", IntegerType()),\n",
    "  StructField(\"userid\", IntegerType()),\n",
    "  StructField(\"rating\", DoubleType()),\n",
    "  StructField(\"book_id\", IntegerType()),\n",
    "  StructField(\"username\", StringType()),\n",
    "  StructField(\"isbn10\", StringType())\n",
    "])"
   ]
  },
  {
   "cell_type": "markdown",
   "metadata": {},
   "source": [
    "With our schema ready, we can then read in our ratings table from our remote PostgreSQL database, supply the schema we've assigned above, and provide the necessary credentials, also declaried above. We'll save our spark dataframe in a variable called `remote_table`:"
   ]
  },
  {
   "cell_type": "code",
   "execution_count": 27,
   "metadata": {},
   "outputs": [
    {
     "data": {
      "text/html": [
       "<style scoped>\n",
       "  .ansiout {\n",
       "    display: block;\n",
       "    unicode-bidi: embed;\n",
       "    white-space: pre-wrap;\n",
       "    word-wrap: break-word;\n",
       "    word-break: break-all;\n",
       "    font-family: \"Source Code Pro\", \"Menlo\", monospace;;\n",
       "    font-size: 13px;\n",
       "    color: #555;\n",
       "    margin-left: 4px;\n",
       "    line-height: 19px;\n",
       "  }\n",
       "</style>\n",
       "<div class=\"ansiout\"></div>"
      ]
     },
     "metadata": {},
     "output_type": "display_data"
    }
   ],
   "source": [
    "remote_table = spark.read.format(\"jdbc\")\\\n",
    "  .option(\"driver\", driver)\\\n",
    "  .option(\"inferSchema\", ratings_schema) \\\n",
    "  .option(\"url\", url)\\\n",
    "  .option(\"dbtable\", table)\\\n",
    "  .option(\"user\", user)\\\n",
    "  .option(\"password\", password)\\\n",
    "  .load()"
   ]
  },
  {
   "cell_type": "markdown",
   "metadata": {},
   "source": [
    "We can then take a look at the contents of our `remote_table`, which is now saved as a spark data frame."
   ]
  },
  {
   "cell_type": "code",
   "execution_count": 29,
   "metadata": {},
   "outputs": [
    {
     "data": {
      "text/html": [
       "<style scoped>\n",
       "  .table-result-container {\n",
       "    max-height: 300px;\n",
       "    overflow: auto;\n",
       "  }\n",
       "  table, th, td {\n",
       "    border: 1px solid black;\n",
       "    border-collapse: collapse;\n",
       "  }\n",
       "  th, td {\n",
       "    padding: 5px;\n",
       "  }\n",
       "  th {\n",
       "    text-align: left;\n",
       "  }\n",
       "</style><div class='table-result-container'><table class='table-result'><thead style='background-color: white'><tr><th>col_id</th><th>userid</th><th>rating</th><th>book_id</th><th>username</th><th>isbn10</th></tr></thead><tbody><tr><td>1</td><td>314</td><td>5</td><td>1</td><td>kaggle</td><td>439023483</td></tr><tr><td>2</td><td>439</td><td>3</td><td>1</td><td>kaggle</td><td>439023483</td></tr><tr><td>3</td><td>588</td><td>5</td><td>1</td><td>kaggle</td><td>439023483</td></tr><tr><td>4</td><td>1169</td><td>4</td><td>1</td><td>kaggle</td><td>439023483</td></tr><tr><td>5</td><td>1185</td><td>4</td><td>1</td><td>kaggle</td><td>439023483</td></tr><tr><td>6</td><td>2077</td><td>4</td><td>1</td><td>kaggle</td><td>439023483</td></tr><tr><td>7</td><td>2487</td><td>4</td><td>1</td><td>kaggle</td><td>439023483</td></tr><tr><td>8</td><td>2900</td><td>5</td><td>1</td><td>kaggle</td><td>439023483</td></tr><tr><td>9</td><td>3662</td><td>4</td><td>1</td><td>kaggle</td><td>439023483</td></tr><tr><td>10</td><td>3922</td><td>5</td><td>1</td><td>kaggle</td><td>439023483</td></tr><tr><td>11</td><td>5379</td><td>5</td><td>1</td><td>kaggle</td><td>439023483</td></tr><tr><td>12</td><td>5461</td><td>3</td><td>1</td><td>kaggle</td><td>439023483</td></tr><tr><td>13</td><td>5885</td><td>5</td><td>1</td><td>kaggle</td><td>439023483</td></tr><tr><td>14</td><td>6630</td><td>5</td><td>1</td><td>kaggle</td><td>439023483</td></tr><tr><td>15</td><td>7563</td><td>3</td><td>1</td><td>kaggle</td><td>439023483</td></tr><tr><td>16</td><td>9246</td><td>1</td><td>1</td><td>kaggle</td><td>439023483</td></tr><tr><td>17</td><td>10140</td><td>4</td><td>1</td><td>kaggle</td><td>439023483</td></tr><tr><td>18</td><td>10146</td><td>5</td><td>1</td><td>kaggle</td><td>439023483</td></tr><tr><td>19</td><td>10246</td><td>4</td><td>1</td><td>kaggle</td><td>439023483</td></tr><tr><td>20</td><td>10335</td><td>4</td><td>1</td><td>kaggle</td><td>439023483</td></tr><tr><td>21</td><td>10610</td><td>5</td><td>1</td><td>kaggle</td><td>439023483</td></tr><tr><td>22</td><td>10944</td><td>5</td><td>1</td><td>kaggle</td><td>439023483</td></tr><tr><td>23</td><td>11854</td><td>4</td><td>1</td><td>kaggle</td><td>439023483</td></tr><tr><td>24</td><td>11927</td><td>4</td><td>1</td><td>kaggle</td><td>439023483</td></tr><tr><td>25</td><td>12471</td><td>5</td><td>1</td><td>kaggle</td><td>439023483</td></tr><tr><td>26</td><td>13282</td><td>5</td><td>1</td><td>kaggle</td><td>439023483</td></tr><tr><td>27</td><td>13544</td><td>5</td><td>1</td><td>kaggle</td><td>439023483</td></tr><tr><td>28</td><td>15494</td><td>5</td><td>1</td><td>kaggle</td><td>439023483</td></tr><tr><td>29</td><td>16377</td><td>4</td><td>1</td><td>kaggle</td><td>439023483</td></tr><tr><td>30</td><td>16913</td><td>5</td><td>1</td><td>kaggle</td><td>439023483</td></tr><tr><td>31</td><td>17434</td><td>5</td><td>1</td><td>kaggle</td><td>439023483</td></tr><tr><td>32</td><td>17663</td><td>5</td><td>1</td><td>kaggle</td><td>439023483</td></tr><tr><td>33</td><td>17984</td><td>5</td><td>1</td><td>kaggle</td><td>439023483</td></tr><tr><td>34</td><td>18031</td><td>5</td><td>1</td><td>kaggle</td><td>439023483</td></tr><tr><td>35</td><td>18313</td><td>5</td><td>1</td><td>kaggle</td><td>439023483</td></tr><tr><td>36</td><td>18361</td><td>4</td><td>1</td><td>kaggle</td><td>439023483</td></tr><tr><td>37</td><td>20076</td><td>3</td><td>1</td><td>kaggle</td><td>439023483</td></tr><tr><td>38</td><td>20467</td><td>3</td><td>1</td><td>kaggle</td><td>439023483</td></tr><tr><td>39</td><td>20848</td><td>5</td><td>1</td><td>kaggle</td><td>439023483</td></tr><tr><td>40</td><td>21228</td><td>5</td><td>1</td><td>kaggle</td><td>439023483</td></tr><tr><td>41</td><td>21487</td><td>4</td><td>1</td><td>kaggle</td><td>439023483</td></tr><tr><td>42</td><td>21713</td><td>5</td><td>1</td><td>kaggle</td><td>439023483</td></tr><tr><td>43</td><td>22602</td><td>4</td><td>1</td><td>kaggle</td><td>439023483</td></tr><tr><td>44</td><td>23576</td><td>4</td><td>1</td><td>kaggle</td><td>439023483</td></tr><tr><td>45</td><td>23612</td><td>4</td><td>1</td><td>kaggle</td><td>439023483</td></tr><tr><td>46</td><td>24326</td><td>5</td><td>1</td><td>kaggle</td><td>439023483</td></tr><tr><td>47</td><td>24389</td><td>4</td><td>1</td><td>kaggle</td><td>439023483</td></tr><tr><td>48</td><td>24499</td><td>5</td><td>1</td><td>kaggle</td><td>439023483</td></tr><tr><td>49</td><td>24834</td><td>4</td><td>1</td><td>kaggle</td><td>439023483</td></tr><tr><td>50</td><td>24845</td><td>5</td><td>1</td><td>kaggle</td><td>439023483</td></tr><tr><td>51</td><td>25164</td><td>4</td><td>1</td><td>kaggle</td><td>439023483</td></tr><tr><td>52</td><td>25182</td><td>5</td><td>1</td><td>kaggle</td><td>439023483</td></tr><tr><td>53</td><td>25214</td><td>4</td><td>1</td><td>kaggle</td><td>439023483</td></tr><tr><td>54</td><td>26145</td><td>4</td><td>1</td><td>kaggle</td><td>439023483</td></tr><tr><td>55</td><td>26629</td><td>4</td><td>1</td><td>kaggle</td><td>439023483</td></tr><tr><td>56</td><td>26661</td><td>4</td><td>1</td><td>kaggle</td><td>439023483</td></tr><tr><td>57</td><td>28158</td><td>4</td><td>1</td><td>kaggle</td><td>439023483</td></tr><tr><td>58</td><td>28767</td><td>5</td><td>1</td><td>kaggle</td><td>439023483</td></tr><tr><td>59</td><td>29123</td><td>3</td><td>1</td><td>kaggle</td><td>439023483</td></tr><tr><td>60</td><td>29703</td><td>5</td><td>1</td><td>kaggle</td><td>439023483</td></tr><tr><td>61</td><td>30681</td><td>5</td><td>1</td><td>kaggle</td><td>439023483</td></tr><tr><td>62</td><td>31001</td><td>4</td><td>1</td><td>kaggle</td><td>439023483</td></tr><tr><td>63</td><td>32055</td><td>4</td><td>1</td><td>kaggle</td><td>439023483</td></tr><tr><td>64</td><td>32305</td><td>5</td><td>1</td><td>kaggle</td><td>439023483</td></tr><tr><td>65</td><td>32592</td><td>4</td><td>1</td><td>kaggle</td><td>439023483</td></tr><tr><td>66</td><td>32635</td><td>5</td><td>1</td><td>kaggle</td><td>439023483</td></tr><tr><td>67</td><td>32748</td><td>5</td><td>1</td><td>kaggle</td><td>439023483</td></tr><tr><td>68</td><td>32923</td><td>5</td><td>1</td><td>kaggle</td><td>439023483</td></tr><tr><td>69</td><td>33065</td><td>4</td><td>1</td><td>kaggle</td><td>439023483</td></tr><tr><td>70</td><td>33697</td><td>4</td><td>1</td><td>kaggle</td><td>439023483</td></tr><tr><td>71</td><td>33716</td><td>5</td><td>1</td><td>kaggle</td><td>439023483</td></tr><tr><td>72</td><td>33872</td><td>5</td><td>1</td><td>kaggle</td><td>439023483</td></tr><tr><td>73</td><td>33890</td><td>3</td><td>1</td><td>kaggle</td><td>439023483</td></tr><tr><td>74</td><td>37284</td><td>5</td><td>1</td><td>kaggle</td><td>439023483</td></tr><tr><td>75</td><td>37834</td><td>5</td><td>1</td><td>kaggle</td><td>439023483</td></tr><tr><td>76</td><td>38080</td><td>4</td><td>1</td><td>kaggle</td><td>439023483</td></tr><tr><td>77</td><td>38082</td><td>5</td><td>1</td><td>kaggle</td><td>439023483</td></tr><tr><td>78</td><td>38475</td><td>4</td><td>1</td><td>kaggle</td><td>439023483</td></tr><tr><td>79</td><td>39423</td><td>3</td><td>1</td><td>kaggle</td><td>439023483</td></tr><tr><td>80</td><td>41074</td><td>3</td><td>1</td><td>kaggle</td><td>439023483</td></tr><tr><td>81</td><td>42404</td><td>5</td><td>1</td><td>kaggle</td><td>439023483</td></tr><tr><td>82</td><td>43985</td><td>4</td><td>1</td><td>kaggle</td><td>439023483</td></tr><tr><td>83</td><td>44243</td><td>2</td><td>1</td><td>kaggle</td><td>439023483</td></tr><tr><td>84</td><td>44397</td><td>5</td><td>1</td><td>kaggle</td><td>439023483</td></tr><tr><td>85</td><td>45269</td><td>4</td><td>1</td><td>kaggle</td><td>439023483</td></tr><tr><td>86</td><td>45493</td><td>5</td><td>1</td><td>kaggle</td><td>439023483</td></tr><tr><td>87</td><td>46977</td><td>4</td><td>1</td><td>kaggle</td><td>439023483</td></tr><tr><td>88</td><td>47476</td><td>4</td><td>1</td><td>kaggle</td><td>439023483</td></tr><tr><td>89</td><td>47746</td><td>5</td><td>1</td><td>kaggle</td><td>439023483</td></tr><tr><td>90</td><td>47800</td><td>5</td><td>1</td><td>kaggle</td><td>439023483</td></tr><tr><td>91</td><td>48482</td><td>3</td><td>1</td><td>kaggle</td><td>439023483</td></tr><tr><td>92</td><td>49298</td><td>4</td><td>1</td><td>kaggle</td><td>439023483</td></tr><tr><td>93</td><td>50104</td><td>5</td><td>1</td><td>kaggle</td><td>439023483</td></tr><tr><td>94</td><td>50342</td><td>3</td><td>1</td><td>kaggle</td><td>439023483</td></tr><tr><td>95</td><td>51166</td><td>4</td><td>1</td><td>kaggle</td><td>439023483</td></tr><tr><td>96</td><td>51460</td><td>3</td><td>1</td><td>kaggle</td><td>439023483</td></tr><tr><td>97</td><td>51480</td><td>1</td><td>1</td><td>kaggle</td><td>439023483</td></tr><tr><td>98</td><td>51838</td><td>5</td><td>1</td><td>kaggle</td><td>439023483</td></tr><tr><td>99</td><td>52036</td><td>2</td><td>1</td><td>kaggle</td><td>439023483</td></tr><tr><td>100</td><td>53245</td><td>4</td><td>1</td><td>kaggle</td><td>439023483</td></tr><tr><td>101</td><td>1169</td><td>3</td><td>2</td><td>kaggle</td><td>439554934</td></tr><tr><td>102</td><td>3022</td><td>4</td><td>2</td><td>kaggle</td><td>439554934</td></tr><tr><td>103</td><td>3922</td><td>5</td><td>2</td><td>kaggle</td><td>439554934</td></tr><tr><td>104</td><td>5115</td><td>4</td><td>2</td><td>kaggle</td><td>439554934</td></tr><tr><td>105</td><td>5436</td><td>5</td><td>2</td><td>kaggle</td><td>439554934</td></tr><tr><td>106</td><td>5461</td><td>4</td><td>2</td><td>kaggle</td><td>439554934</td></tr><tr><td>107</td><td>5885</td><td>4</td><td>2</td><td>kaggle</td><td>439554934</td></tr><tr><td>108</td><td>6063</td><td>1</td><td>2</td><td>kaggle</td><td>439554934</td></tr><tr><td>109</td><td>6342</td><td>3</td><td>2</td><td>kaggle</td><td>439554934</td></tr><tr><td>110</td><td>6630</td><td>5</td><td>2</td><td>kaggle</td><td>439554934</td></tr><tr><td>111</td><td>8167</td><td>2</td><td>2</td><td>kaggle</td><td>439554934</td></tr><tr><td>112</td><td>9731</td><td>4</td><td>2</td><td>kaggle</td><td>439554934</td></tr><tr><td>113</td><td>10111</td><td>5</td><td>2</td><td>kaggle</td><td>439554934</td></tr><tr><td>114</td><td>10140</td><td>3</td><td>2</td><td>kaggle</td><td>439554934</td></tr><tr><td>115</td><td>10288</td><td>5</td><td>2</td><td>kaggle</td><td>439554934</td></tr><tr><td>116</td><td>10509</td><td>2</td><td>2</td><td>kaggle</td><td>439554934</td></tr><tr><td>117</td><td>10610</td><td>5</td><td>2</td><td>kaggle</td><td>439554934</td></tr><tr><td>118</td><td>10751</td><td>3</td><td>2</td><td>kaggle</td><td>439554934</td></tr><tr><td>119</td><td>10944</td><td>5</td><td>2</td><td>kaggle</td><td>439554934</td></tr><tr><td>120</td><td>11285</td><td>4</td><td>2</td><td>kaggle</td><td>439554934</td></tr><tr><td>121</td><td>11408</td><td>5</td><td>2</td><td>kaggle</td><td>439554934</td></tr><tr><td>122</td><td>11691</td><td>4</td><td>2</td><td>kaggle</td><td>439554934</td></tr><tr><td>123</td><td>11692</td><td>3</td><td>2</td><td>kaggle</td><td>439554934</td></tr><tr><td>124</td><td>11868</td><td>5</td><td>2</td><td>kaggle</td><td>439554934</td></tr><tr><td>125</td><td>11927</td><td>5</td><td>2</td><td>kaggle</td><td>439554934</td></tr><tr><td>126</td><td>11945</td><td>5</td><td>2</td><td>kaggle</td><td>439554934</td></tr><tr><td>127</td><td>12874</td><td>4</td><td>2</td><td>kaggle</td><td>439554934</td></tr><tr><td>128</td><td>12946</td><td>5</td><td>2</td><td>kaggle</td><td>439554934</td></tr><tr><td>129</td><td>13282</td><td>5</td><td>2</td><td>kaggle</td><td>439554934</td></tr><tr><td>130</td><td>13794</td><td>1</td><td>2</td><td>kaggle</td><td>439554934</td></tr><tr><td>131</td><td>14372</td><td>3</td><td>2</td><td>kaggle</td><td>439554934</td></tr><tr><td>132</td><td>14546</td><td>5</td><td>2</td><td>kaggle</td><td>439554934</td></tr><tr><td>133</td><td>14603</td><td>4</td><td>2</td><td>kaggle</td><td>439554934</td></tr><tr><td>134</td><td>15604</td><td>4</td><td>2</td><td>kaggle</td><td>439554934</td></tr><tr><td>135</td><td>16913</td><td>2</td><td>2</td><td>kaggle</td><td>439554934</td></tr><tr><td>136</td><td>17434</td><td>5</td><td>2</td><td>kaggle</td><td>439554934</td></tr><tr><td>137</td><td>17566</td><td>4</td><td>2</td><td>kaggle</td><td>439554934</td></tr><tr><td>138</td><td>17643</td><td>1</td><td>2</td><td>kaggle</td><td>439554934</td></tr><tr><td>139</td><td>17663</td><td>5</td><td>2</td><td>kaggle</td><td>439554934</td></tr><tr><td>140</td><td>17984</td><td>5</td><td>2</td><td>kaggle</td><td>439554934</td></tr><tr><td>141</td><td>18313</td><td>5</td><td>2</td><td>kaggle</td><td>439554934</td></tr><tr><td>142</td><td>18361</td><td>4</td><td>2</td><td>kaggle</td><td>439554934</td></tr><tr><td>143</td><td>19526</td><td>4</td><td>2</td><td>kaggle</td><td>439554934</td></tr><tr><td>144</td><td>19724</td><td>5</td><td>2</td><td>kaggle</td><td>439554934</td></tr><tr><td>145</td><td>19729</td><td>4</td><td>2</td><td>kaggle</td><td>439554934</td></tr><tr><td>146</td><td>19942</td><td>5</td><td>2</td><td>kaggle</td><td>439554934</td></tr><tr><td>147</td><td>21217</td><td>4</td><td>2</td><td>kaggle</td><td>439554934</td></tr><tr><td>148</td><td>21228</td><td>4</td><td>2</td><td>kaggle</td><td>439554934</td></tr><tr><td>149</td><td>21487</td><td>5</td><td>2</td><td>kaggle</td><td>439554934</td></tr><tr><td>150</td><td>21676</td><td>5</td><td>2</td><td>kaggle</td><td>439554934</td></tr><tr><td>151</td><td>21733</td><td>5</td><td>2</td><td>kaggle</td><td>439554934</td></tr><tr><td>152</td><td>22602</td><td>4</td><td>2</td><td>kaggle</td><td>439554934</td></tr><tr><td>153</td><td>23576</td><td>5</td><td>2</td><td>kaggle</td><td>439554934</td></tr><tr><td>154</td><td>23612</td><td>5</td><td>2</td><td>kaggle</td><td>439554934</td></tr><tr><td>155</td><td>24499</td><td>5</td><td>2</td><td>kaggle</td><td>439554934</td></tr><tr><td>156</td><td>24834</td><td>4</td><td>2</td><td>kaggle</td><td>439554934</td></tr><tr><td>157</td><td>25164</td><td>4</td><td>2</td><td>kaggle</td><td>439554934</td></tr><tr><td>158</td><td>25182</td><td>5</td><td>2</td><td>kaggle</td><td>439554934</td></tr><tr><td>159</td><td>26145</td><td>4</td><td>2</td><td>kaggle</td><td>439554934</td></tr><tr><td>160</td><td>26629</td><td>4</td><td>2</td><td>kaggle</td><td>439554934</td></tr><tr><td>161</td><td>27499</td><td>5</td><td>2</td><td>kaggle</td><td>439554934</td></tr><tr><td>162</td><td>28767</td><td>4</td><td>2</td><td>kaggle</td><td>439554934</td></tr><tr><td>163</td><td>30313</td><td>5</td><td>2</td><td>kaggle</td><td>439554934</td></tr><tr><td>164</td><td>30681</td><td>4</td><td>2</td><td>kaggle</td><td>439554934</td></tr><tr><td>165</td><td>30944</td><td>5</td><td>2</td><td>kaggle</td><td>439554934</td></tr><tr><td>166</td><td>32055</td><td>4</td><td>2</td><td>kaggle</td><td>439554934</td></tr><tr><td>167</td><td>32305</td><td>5</td><td>2</td><td>kaggle</td><td>439554934</td></tr><tr><td>168</td><td>32592</td><td>4</td><td>2</td><td>kaggle</td><td>439554934</td></tr><tr><td>169</td><td>32635</td><td>4</td><td>2</td><td>kaggle</td><td>439554934</td></tr><tr><td>170</td><td>32748</td><td>5</td><td>2</td><td>kaggle</td><td>439554934</td></tr><tr><td>171</td><td>32918</td><td>5</td><td>2</td><td>kaggle</td><td>439554934</td></tr><tr><td>172</td><td>33065</td><td>5</td><td>2</td><td>kaggle</td><td>439554934</td></tr><tr><td>173</td><td>33697</td><td>4</td><td>2</td><td>kaggle</td><td>439554934</td></tr><tr><td>174</td><td>33716</td><td>5</td><td>2</td><td>kaggle</td><td>439554934</td></tr><tr><td>175</td><td>33872</td><td>5</td><td>2</td><td>kaggle</td><td>439554934</td></tr><tr><td>176</td><td>36099</td><td>5</td><td>2</td><td>kaggle</td><td>439554934</td></tr><tr><td>177</td><td>37834</td><td>4</td><td>2</td><td>kaggle</td><td>439554934</td></tr><tr><td>178</td><td>38082</td><td>5</td><td>2</td><td>kaggle</td><td>439554934</td></tr><tr><td>179</td><td>42404</td><td>5</td><td>2</td><td>kaggle</td><td>439554934</td></tr><tr><td>180</td><td>42508</td><td>4</td><td>2</td><td>kaggle</td><td>439554934</td></tr><tr><td>181</td><td>42810</td><td>4</td><td>2</td><td>kaggle</td><td>439554934</td></tr><tr><td>182</td><td>45269</td><td>4</td><td>2</td><td>kaggle</td><td>439554934</td></tr><tr><td>183</td><td>45493</td><td>5</td><td>2</td><td>kaggle</td><td>439554934</td></tr><tr><td>184</td><td>46421</td><td>5</td><td>2</td><td>kaggle</td><td>439554934</td></tr><tr><td>185</td><td>46977</td><td>3</td><td>2</td><td>kaggle</td><td>439554934</td></tr><tr><td>186</td><td>47476</td><td>3</td><td>2</td><td>kaggle</td><td>439554934</td></tr><tr><td>187</td><td>47478</td><td>2</td><td>2</td><td>kaggle</td><td>439554934</td></tr><tr><td>188</td><td>47800</td><td>5</td><td>2</td><td>kaggle</td><td>439554934</td></tr><tr><td>189</td><td>48482</td><td>5</td><td>2</td><td>kaggle</td><td>439554934</td></tr><tr><td>190</td><td>48559</td><td>5</td><td>2</td><td>kaggle</td><td>439554934</td></tr><tr><td>191</td><td>48687</td><td>1</td><td>2</td><td>kaggle</td><td>439554934</td></tr><tr><td>192</td><td>49298</td><td>5</td><td>2</td><td>kaggle</td><td>439554934</td></tr><tr><td>193</td><td>50096</td><td>5</td><td>2</td><td>kaggle</td><td>439554934</td></tr><tr><td>194</td><td>50104</td><td>5</td><td>2</td><td>kaggle</td><td>439554934</td></tr><tr><td>195</td><td>50133</td><td>5</td><td>2</td><td>kaggle</td><td>439554934</td></tr><tr><td>196</td><td>51166</td><td>5</td><td>2</td><td>kaggle</td><td>439554934</td></tr><tr><td>197</td><td>51460</td><td>4</td><td>2</td><td>kaggle</td><td>439554934</td></tr><tr><td>198</td><td>51838</td><td>4</td><td>2</td><td>kaggle</td><td>439554934</td></tr><tr><td>199</td><td>52036</td><td>3</td><td>2</td><td>kaggle</td><td>439554934</td></tr><tr><td>200</td><td>53292</td><td>5</td><td>2</td><td>kaggle</td><td>439554934</td></tr><tr><td>201</td><td>314</td><td>3</td><td>3</td><td>kaggle</td><td>316015849</td></tr><tr><td>202</td><td>588</td><td>1</td><td>3</td><td>kaggle</td><td>316015849</td></tr><tr><td>203</td><td>2077</td><td>2</td><td>3</td><td>kaggle</td><td>316015849</td></tr><tr><td>204</td><td>2487</td><td>3</td><td>3</td><td>kaggle</td><td>316015849</td></tr><tr><td>205</td><td>2900</td><td>3</td><td>3</td><td>kaggle</td><td>316015849</td></tr><tr><td>206</td><td>3662</td><td>4</td><td>3</td><td>kaggle</td><td>316015849</td></tr><tr><td>207</td><td>4536</td><td>1</td><td>3</td><td>kaggle</td><td>316015849</td></tr><tr><td>208</td><td>5115</td><td>4</td><td>3</td><td>kaggle</td><td>316015849</td></tr><tr><td>209</td><td>5272</td><td>5</td><td>3</td><td>kaggle</td><td>316015849</td></tr><tr><td>210</td><td>5461</td><td>2</td><td>3</td><td>kaggle</td><td>316015849</td></tr><tr><td>211</td><td>5885</td><td>4</td><td>3</td><td>kaggle</td><td>316015849</td></tr><tr><td>212</td><td>6063</td><td>5</td><td>3</td><td>kaggle</td><td>316015849</td></tr><tr><td>213</td><td>6630</td><td>5</td><td>3</td><td>kaggle</td><td>316015849</td></tr><tr><td>214</td><td>6634</td><td>3</td><td>3</td><td>kaggle</td><td>316015849</td></tr><tr><td>215</td><td>7001</td><td>4</td><td>3</td><td>kaggle</td><td>316015849</td></tr><tr><td>216</td><td>9246</td><td>1</td><td>3</td><td>kaggle</td><td>316015849</td></tr><tr><td>217</td><td>9731</td><td>2</td><td>3</td><td>kaggle</td><td>316015849</td></tr><tr><td>218</td><td>9771</td><td>3</td><td>3</td><td>kaggle</td><td>316015849</td></tr><tr><td>219</td><td>10140</td><td>3</td><td>3</td><td>kaggle</td><td>316015849</td></tr><tr><td>220</td><td>10246</td><td>1</td><td>3</td><td>kaggle</td><td>316015849</td></tr><tr><td>221</td><td>10249</td><td>5</td><td>3</td><td>kaggle</td><td>316015849</td></tr><tr><td>222</td><td>10509</td><td>1</td><td>3</td><td>kaggle</td><td>316015849</td></tr><tr><td>223</td><td>10610</td><td>1</td><td>3</td><td>kaggle</td><td>316015849</td></tr><tr><td>224</td><td>10751</td><td>1</td><td>3</td><td>kaggle</td><td>316015849</td></tr><tr><td>225</td><td>10944</td><td>1</td><td>3</td><td>kaggle</td><td>316015849</td></tr><tr><td>226</td><td>11285</td><td>2</td><td>3</td><td>kaggle</td><td>316015849</td></tr><tr><td>227</td><td>11408</td><td>3</td><td>3</td><td>kaggle</td><td>316015849</td></tr><tr><td>228</td><td>11599</td><td>4</td><td>3</td><td>kaggle</td><td>316015849</td></tr><tr><td>229</td><td>11854</td><td>1</td><td>3</td><td>kaggle</td><td>316015849</td></tr><tr><td>230</td><td>11927</td><td>4</td><td>3</td><td>kaggle</td><td>316015849</td></tr><tr><td>231</td><td>12471</td><td>2</td><td>3</td><td>kaggle</td><td>316015849</td></tr><tr><td>232</td><td>12946</td><td>4</td><td>3</td><td>kaggle</td><td>316015849</td></tr><tr><td>233</td><td>13274</td><td>5</td><td>3</td><td>kaggle</td><td>316015849</td></tr><tr><td>234</td><td>13282</td><td>5</td><td>3</td><td>kaggle</td><td>316015849</td></tr><tr><td>235</td><td>13794</td><td>1</td><td>3</td><td>kaggle</td><td>316015849</td></tr><tr><td>236</td><td>14546</td><td>5</td><td>3</td><td>kaggle</td><td>316015849</td></tr><tr><td>237</td><td>15604</td><td>1</td><td>3</td><td>kaggle</td><td>316015849</td></tr><tr><td>238</td><td>16377</td><td>1</td><td>3</td><td>kaggle</td><td>316015849</td></tr><tr><td>239</td><td>16569</td><td>1</td><td>3</td><td>kaggle</td><td>316015849</td></tr><tr><td>240</td><td>16913</td><td>4</td><td>3</td><td>kaggle</td><td>316015849</td></tr><tr><td>241</td><td>17434</td><td>4</td><td>3</td><td>kaggle</td><td>316015849</td></tr><tr><td>242</td><td>17663</td><td>4</td><td>3</td><td>kaggle</td><td>316015849</td></tr><tr><td>243</td><td>18031</td><td>3</td><td>3</td><td>kaggle</td><td>316015849</td></tr><tr><td>244</td><td>18313</td><td>5</td><td>3</td><td>kaggle</td><td>316015849</td></tr><tr><td>245</td><td>19724</td><td>4</td><td>3</td><td>kaggle</td><td>316015849</td></tr><tr><td>246</td><td>19942</td><td>4</td><td>3</td><td>kaggle</td><td>316015849</td></tr><tr><td>247</td><td>19984</td><td>2</td><td>3</td><td>kaggle</td><td>316015849</td></tr><tr><td>248</td><td>20076</td><td>3</td><td>3</td><td>kaggle</td><td>316015849</td></tr><tr><td>249</td><td>20782</td><td>4</td><td>3</td><td>kaggle</td><td>316015849</td></tr><tr><td>250</td><td>20848</td><td>4</td><td>3</td><td>kaggle</td><td>316015849</td></tr><tr><td>251</td><td>21228</td><td>3</td><td>3</td><td>kaggle</td><td>316015849</td></tr><tr><td>252</td><td>21487</td><td>3</td><td>3</td><td>kaggle</td><td>316015849</td></tr><tr><td>253</td><td>21733</td><td>1</td><td>3</td><td>kaggle</td><td>316015849</td></tr><tr><td>254</td><td>22602</td><td>3</td><td>3</td><td>kaggle</td><td>316015849</td></tr><tr><td>255</td><td>23576</td><td>1</td><td>3</td><td>kaggle</td><td>316015849</td></tr><tr><td>256</td><td>23612</td><td>3</td><td>3</td><td>kaggle</td><td>316015849</td></tr><tr><td>257</td><td>24326</td><td>3</td><td>3</td><td>kaggle</td><td>316015849</td></tr><tr><td>258</td><td>24389</td><td>3</td><td>3</td><td>kaggle</td><td>316015849</td></tr><tr><td>259</td><td>25182</td><td>3</td><td>3</td><td>kaggle</td><td>316015849</td></tr><tr><td>260</td><td>25214</td><td>1</td><td>3</td><td>kaggle</td><td>316015849</td></tr><tr><td>261</td><td>26398</td><td>2</td><td>3</td><td>kaggle</td><td>316015849</td></tr><tr><td>262</td><td>26629</td><td>4</td><td>3</td><td>kaggle</td><td>316015849</td></tr><tr><td>263</td><td>28767</td><td>3</td><td>3</td><td>kaggle</td><td>316015849</td></tr><tr><td>264</td><td>29703</td><td>1</td><td>3</td><td>kaggle</td><td>316015849</td></tr><tr><td>265</td><td>30681</td><td>4</td><td>3</td><td>kaggle</td><td>316015849</td></tr><tr><td>266</td><td>32305</td><td>1</td><td>3</td><td>kaggle</td><td>316015849</td></tr><tr><td>267</td><td>32592</td><td>5</td><td>3</td><td>kaggle</td><td>316015849</td></tr><tr><td>268</td><td>32635</td><td>4</td><td>3</td><td>kaggle</td><td>316015849</td></tr><tr><td>269</td><td>32918</td><td>5</td><td>3</td><td>kaggle</td><td>316015849</td></tr><tr><td>270</td><td>33065</td><td>1</td><td>3</td><td>kaggle</td><td>316015849</td></tr><tr><td>271</td><td>33716</td><td>3</td><td>3</td><td>kaggle</td><td>316015849</td></tr><tr><td>272</td><td>36099</td><td>4</td><td>3</td><td>kaggle</td><td>316015849</td></tr><tr><td>273</td><td>36240</td><td>2</td><td>3</td><td>kaggle</td><td>316015849</td></tr><tr><td>274</td><td>37284</td><td>1</td><td>3</td><td>kaggle</td><td>316015849</td></tr><tr><td>275</td><td>37834</td><td>4</td><td>3</td><td>kaggle</td><td>316015849</td></tr><tr><td>276</td><td>37855</td><td>3</td><td>3</td><td>kaggle</td><td>316015849</td></tr><tr><td>277</td><td>38080</td><td>5</td><td>3</td><td>kaggle</td><td>316015849</td></tr><tr><td>278</td><td>38082</td><td>3</td><td>3</td><td>kaggle</td><td>316015849</td></tr><tr><td>279</td><td>38475</td><td>3</td><td>3</td><td>kaggle</td><td>316015849</td></tr><tr><td>280</td><td>42404</td><td>5</td><td>3</td><td>kaggle</td><td>316015849</td></tr><tr><td>281</td><td>43602</td><td>4</td><td>3</td><td>kaggle</td><td>316015849</td></tr><tr><td>282</td><td>43985</td><td>2</td><td>3</td><td>kaggle</td><td>316015849</td></tr><tr><td>283</td><td>46977</td><td>2</td><td>3</td><td>kaggle</td><td>316015849</td></tr><tr><td>284</td><td>47746</td><td>5</td><td>3</td><td>kaggle</td><td>316015849</td></tr><tr><td>285</td><td>48482</td><td>3</td><td>3</td><td>kaggle</td><td>316015849</td></tr><tr><td>286</td><td>48687</td><td>1</td><td>3</td><td>kaggle</td><td>316015849</td></tr><tr><td>287</td><td>49288</td><td>5</td><td>3</td><td>kaggle</td><td>316015849</td></tr><tr><td>288</td><td>49289</td><td>5</td><td>3</td><td>kaggle</td><td>316015849</td></tr><tr><td>289</td><td>49295</td><td>5</td><td>3</td><td>kaggle</td><td>316015849</td></tr><tr><td>290</td><td>49297</td><td>5</td><td>3</td><td>kaggle</td><td>316015849</td></tr><tr><td>291</td><td>49298</td><td>1</td><td>3</td><td>kaggle</td><td>316015849</td></tr><tr><td>292</td><td>50096</td><td>5</td><td>3</td><td>kaggle</td><td>316015849</td></tr><tr><td>293</td><td>50101</td><td>5</td><td>3</td><td>kaggle</td><td>316015849</td></tr><tr><td>294</td><td>50102</td><td>5</td><td>3</td><td>kaggle</td><td>316015849</td></tr><tr><td>295</td><td>50104</td><td>5</td><td>3</td><td>kaggle</td><td>316015849</td></tr><tr><td>296</td><td>50133</td><td>5</td><td>3</td><td>kaggle</td><td>316015849</td></tr><tr><td>297</td><td>51166</td><td>3</td><td>3</td><td>kaggle</td><td>316015849</td></tr><tr><td>298</td><td>51460</td><td>2</td><td>3</td><td>kaggle</td><td>316015849</td></tr><tr><td>299</td><td>52036</td><td>1</td><td>3</td><td>kaggle</td><td>316015849</td></tr><tr><td>300</td><td>53292</td><td>5</td><td>3</td><td>kaggle</td><td>316015849</td></tr><tr><td>301</td><td>439</td><td>5</td><td>4</td><td>kaggle</td><td>61120081</td></tr><tr><td>302</td><td>1169</td><td>5</td><td>4</td><td>kaggle</td><td>61120081</td></tr><tr><td>303</td><td>2324</td><td>5</td><td>4</td><td>kaggle</td><td>61120081</td></tr><tr><td>304</td><td>2487</td><td>5</td><td>4</td><td>kaggle</td><td>61120081</td></tr><tr><td>305</td><td>3739</td><td>5</td><td>4</td><td>kaggle</td><td>61120081</td></tr><tr><td>306</td><td>3922</td><td>4</td><td>4</td><td>kaggle</td><td>61120081</td></tr><tr><td>307</td><td>4606</td><td>1</td><td>4</td><td>kaggle</td><td>61120081</td></tr><tr><td>308</td><td>5115</td><td>5</td><td>4</td><td>kaggle</td><td>61120081</td></tr><tr><td>309</td><td>5436</td><td>5</td><td>4</td><td>kaggle</td><td>61120081</td></tr><tr><td>310</td><td>6342</td><td>5</td><td>4</td><td>kaggle</td><td>61120081</td></tr><tr><td>311</td><td>6630</td><td>4</td><td>4</td><td>kaggle</td><td>61120081</td></tr><tr><td>312</td><td>8167</td><td>5</td><td>4</td><td>kaggle</td><td>61120081</td></tr><tr><td>313</td><td>8178</td><td>5</td><td>4</td><td>kaggle</td><td>61120081</td></tr><tr><td>314</td><td>9246</td><td>4</td><td>4</td><td>kaggle</td><td>61120081</td></tr><tr><td>315</td><td>10140</td><td>4</td><td>4</td><td>kaggle</td><td>61120081</td></tr><tr><td>316</td><td>11285</td><td>3</td><td>4</td><td>kaggle</td><td>61120081</td></tr><tr><td>317</td><td>11691</td><td>5</td><td>4</td><td>kaggle</td><td>61120081</td></tr><tr><td>318</td><td>11692</td><td>5</td><td>4</td><td>kaggle</td><td>61120081</td></tr><tr><td>319</td><td>11868</td><td>3</td><td>4</td><td>kaggle</td><td>61120081</td></tr><tr><td>320</td><td>11945</td><td>5</td><td>4</td><td>kaggle</td><td>61120081</td></tr><tr><td>321</td><td>12381</td><td>5</td><td>4</td><td>kaggle</td><td>61120081</td></tr><tr><td>322</td><td>12874</td><td>5</td><td>4</td><td>kaggle</td><td>61120081</td></tr><tr><td>323</td><td>12946</td><td>5</td><td>4</td><td>kaggle</td><td>61120081</td></tr><tr><td>324</td><td>13034</td><td>4</td><td>4</td><td>kaggle</td><td>61120081</td></tr><tr><td>325</td><td>13776</td><td>4</td><td>4</td><td>kaggle</td><td>61120081</td></tr><tr><td>326</td><td>13794</td><td>4</td><td>4</td><td>kaggle</td><td>61120081</td></tr><tr><td>327</td><td>14192</td><td>4</td><td>4</td><td>kaggle</td><td>61120081</td></tr><tr><td>328</td><td>14207</td><td>3</td><td>4</td><td>kaggle</td><td>61120081</td></tr><tr><td>329</td><td>14546</td><td>5</td><td>4</td><td>kaggle</td><td>61120081</td></tr><tr><td>330</td><td>14603</td><td>5</td><td>4</td><td>kaggle</td><td>61120081</td></tr><tr><td>331</td><td>15604</td><td>3</td><td>4</td><td>kaggle</td><td>61120081</td></tr><tr><td>332</td><td>17228</td><td>5</td><td>4</td><td>kaggle</td><td>61120081</td></tr><tr><td>333</td><td>17643</td><td>5</td><td>4</td><td>kaggle</td><td>61120081</td></tr><tr><td>334</td><td>17663</td><td>5</td><td>4</td><td>kaggle</td><td>61120081</td></tr><tr><td>335</td><td>17984</td><td>5</td><td>4</td><td>kaggle</td><td>61120081</td></tr><tr><td>336</td><td>18031</td><td>5</td><td>4</td><td>kaggle</td><td>61120081</td></tr><tr><td>337</td><td>18313</td><td>5</td><td>4</td><td>kaggle</td><td>61120081</td></tr><tr><td>338</td><td>19526</td><td>5</td><td>4</td><td>kaggle</td><td>61120081</td></tr><tr><td>339</td><td>19724</td><td>5</td><td>4</td><td>kaggle</td><td>61120081</td></tr><tr><td>340</td><td>19729</td><td>4</td><td>4</td><td>kaggle</td><td>61120081</td></tr><tr><td>341</td><td>20406</td><td>2</td><td>4</td><td>kaggle</td><td>61120081</td></tr><tr><td>342</td><td>20467</td><td>4</td><td>4</td><td>kaggle</td><td>61120081</td></tr><tr><td>343</td><td>21217</td><td>4</td><td>4</td><td>kaggle</td><td>61120081</td></tr><tr><td>344</td><td>21228</td><td>3</td><td>4</td><td>kaggle</td><td>61120081</td></tr><tr><td>345</td><td>21487</td><td>5</td><td>4</td><td>kaggle</td><td>61120081</td></tr><tr><td>346</td><td>21676</td><td>3</td><td>4</td><td>kaggle</td><td>61120081</td></tr><tr><td>347</td><td>21733</td><td>5</td><td>4</td><td>kaggle</td><td>61120081</td></tr><tr><td>348</td><td>23576</td><td>5</td><td>4</td><td>kaggle</td><td>61120081</td></tr><tr><td>349</td><td>24326</td><td>5</td><td>4</td><td>kaggle</td><td>61120081</td></tr><tr><td>350</td><td>25164</td><td>5</td><td>4</td><td>kaggle</td><td>61120081</td></tr><tr><td>351</td><td>25182</td><td>5</td><td>4</td><td>kaggle</td><td>61120081</td></tr><tr><td>352</td><td>25840</td><td>3</td><td>4</td><td>kaggle</td><td>61120081</td></tr><tr><td>353</td><td>26579</td><td>3</td><td>4</td><td>kaggle</td><td>61120081</td></tr><tr><td>354</td><td>26629</td><td>4</td><td>4</td><td>kaggle</td><td>61120081</td></tr><tr><td>355</td><td>26661</td><td>5</td><td>4</td><td>kaggle</td><td>61120081</td></tr><tr><td>356</td><td>27499</td><td>5</td><td>4</td><td>kaggle</td><td>61120081</td></tr><tr><td>357</td><td>27834</td><td>5</td><td>4</td><td>kaggle</td><td>61120081</td></tr><tr><td>358</td><td>27934</td><td>4</td><td>4</td><td>kaggle</td><td>61120081</td></tr><tr><td>359</td><td>28767</td><td>5</td><td>4</td><td>kaggle</td><td>61120081</td></tr><tr><td>360</td><td>29123</td><td>3</td><td>4</td><td>kaggle</td><td>61120081</td></tr><tr><td>361</td><td>29703</td><td>5</td><td>4</td><td>kaggle</td><td>61120081</td></tr><tr><td>362</td><td>30283</td><td>4</td><td>4</td><td>kaggle</td><td>61120081</td></tr><tr><td>363</td><td>30313</td><td>5</td><td>4</td><td>kaggle</td><td>61120081</td></tr><tr><td>364</td><td>30681</td><td>5</td><td>4</td><td>kaggle</td><td>61120081</td></tr><tr><td>365</td><td>30944</td><td>5</td><td>4</td><td>kaggle</td><td>61120081</td></tr><tr><td>366</td><td>32305</td><td>5</td><td>4</td><td>kaggle</td><td>61120081</td></tr><tr><td>367</td><td>32338</td><td>4</td><td>4</td><td>kaggle</td><td>61120081</td></tr><tr><td>368</td><td>32592</td><td>5</td><td>4</td><td>kaggle</td><td>61120081</td></tr><tr><td>369</td><td>32745</td><td>4</td><td>4</td><td>kaggle</td><td>61120081</td></tr><tr><td>370</td><td>32748</td><td>5</td><td>4</td><td>kaggle</td><td>61120081</td></tr><tr><td>371</td><td>32918</td><td>5</td><td>4</td><td>kaggle</td><td>61120081</td></tr><tr><td>372</td><td>32923</td><td>5</td><td>4</td><td>kaggle</td><td>61120081</td></tr><tr><td>373</td><td>33065</td><td>5</td><td>4</td><td>kaggle</td><td>61120081</td></tr><tr><td>374</td><td>33697</td><td>5</td><td>4</td><td>kaggle</td><td>61120081</td></tr><tr><td>375</td><td>33716</td><td>4</td><td>4</td><td>kaggle</td><td>61120081</td></tr><tr><td>376</td><td>33872</td><td>5</td><td>4</td><td>kaggle</td><td>61120081</td></tr><tr><td>377</td><td>34688</td><td>4</td><td>4</td><td>kaggle</td><td>61120081</td></tr><tr><td>378</td><td>36099</td><td>5</td><td>4</td><td>kaggle</td><td>61120081</td></tr><tr><td>379</td><td>37284</td><td>3</td><td>4</td><td>kaggle</td><td>61120081</td></tr><tr><td>380</td><td>37834</td><td>4</td><td>4</td><td>kaggle</td><td>61120081</td></tr><tr><td>381</td><td>39423</td><td>5</td><td>4</td><td>kaggle</td><td>61120081</td></tr><tr><td>382</td><td>42404</td><td>5</td><td>4</td><td>kaggle</td><td>61120081</td></tr><tr><td>383</td><td>43985</td><td>5</td><td>4</td><td>kaggle</td><td>61120081</td></tr><tr><td>384</td><td>44243</td><td>3</td><td>4</td><td>kaggle</td><td>61120081</td></tr><tr><td>385</td><td>44397</td><td>5</td><td>4</td><td>kaggle</td><td>61120081</td></tr><tr><td>386</td><td>45269</td><td>5</td><td>4</td><td>kaggle</td><td>61120081</td></tr><tr><td>387</td><td>46482</td><td>5</td><td>4</td><td>kaggle</td><td>61120081</td></tr><tr><td>388</td><td>47411</td><td>4</td><td>4</td><td>kaggle</td><td>61120081</td></tr><tr><td>389</td><td>47730</td><td>5</td><td>4</td><td>kaggle</td><td>61120081</td></tr><tr><td>390</td><td>47800</td><td>5</td><td>4</td><td>kaggle</td><td>61120081</td></tr><tr><td>391</td><td>48482</td><td>3</td><td>4</td><td>kaggle</td><td>61120081</td></tr><tr><td>392</td><td>48559</td><td>5</td><td>4</td><td>kaggle</td><td>61120081</td></tr><tr><td>393</td><td>48687</td><td>5</td><td>4</td><td>kaggle</td><td>61120081</td></tr><tr><td>394</td><td>49298</td><td>5</td><td>4</td><td>kaggle</td><td>61120081</td></tr><tr><td>395</td><td>50102</td><td>5</td><td>4</td><td>kaggle</td><td>61120081</td></tr><tr><td>396</td><td>51460</td><td>5</td><td>4</td><td>kaggle</td><td>61120081</td></tr><tr><td>397</td><td>51838</td><td>4</td><td>4</td><td>kaggle</td><td>61120081</td></tr><tr><td>398</td><td>52036</td><td>3</td><td>4</td><td>kaggle</td><td>61120081</td></tr><tr><td>399</td><td>53245</td><td>5</td><td>4</td><td>kaggle</td><td>61120081</td></tr><tr><td>400</td><td>53292</td><td>5</td><td>4</td><td>kaggle</td><td>61120081</td></tr><tr><td>401</td><td>314</td><td>4</td><td>5</td><td>kaggle</td><td>743273567</td></tr><tr><td>402</td><td>1169</td><td>5</td><td>5</td><td>kaggle</td><td>743273567</td></tr><tr><td>403</td><td>1952</td><td>5</td><td>5</td><td>kaggle</td><td>743273567</td></tr><tr><td>404</td><td>2324</td><td>5</td><td>5</td><td>kaggle</td><td>743273567</td></tr><tr><td>405</td><td>2487</td><td>3</td><td>5</td><td>kaggle</td><td>743273567</td></tr><tr><td>406</td><td>2900</td><td>5</td><td>5</td><td>kaggle</td><td>743273567</td></tr><tr><td>407</td><td>3022</td><td>1</td><td>5</td><td>kaggle</td><td>743273567</td></tr><tr><td>408</td><td>3662</td><td>4</td><td>5</td><td>kaggle</td><td>743273567</td></tr><tr><td>409</td><td>3739</td><td>5</td><td>5</td><td>kaggle</td><td>743273567</td></tr><tr><td>410</td><td>3922</td><td>2</td><td>5</td><td>kaggle</td><td>743273567</td></tr><tr><td>411</td><td>5115</td><td>3</td><td>5</td><td>kaggle</td><td>743273567</td></tr><tr><td>412</td><td>5461</td><td>5</td><td>5</td><td>kaggle</td><td>743273567</td></tr><tr><td>413</td><td>6342</td><td>5</td><td>5</td><td>kaggle</td><td>743273567</td></tr><tr><td>414</td><td>6630</td><td>3</td><td>5</td><td>kaggle</td><td>743273567</td></tr><tr><td>415</td><td>7001</td><td>5</td><td>5</td><td>kaggle</td><td>743273567</td></tr><tr><td>416</td><td>8167</td><td>4</td><td>5</td><td>kaggle</td><td>743273567</td></tr><tr><td>417</td><td>8370</td><td>3</td><td>5</td><td>kaggle</td><td>743273567</td></tr><tr><td>418</td><td>9246</td><td>3</td><td>5</td><td>kaggle</td><td>743273567</td></tr><tr><td>419</td><td>10111</td><td>5</td><td>5</td><td>kaggle</td><td>743273567</td></tr><tr><td>420</td><td>10246</td><td>4</td><td>5</td><td>kaggle</td><td>743273567</td></tr><tr><td>421</td><td>10402</td><td>4</td><td>5</td><td>kaggle</td><td>743273567</td></tr><tr><td>422</td><td>10944</td><td>3</td><td>5</td><td>kaggle</td><td>743273567</td></tr><tr><td>423</td><td>11691</td><td>5</td><td>5</td><td>kaggle</td><td>743273567</td></tr><tr><td>424</td><td>11692</td><td>4</td><td>5</td><td>kaggle</td><td>743273567</td></tr><tr><td>425</td><td>11868</td><td>3</td><td>5</td><td>kaggle</td><td>743273567</td></tr><tr><td>426</td><td>11927</td><td>5</td><td>5</td><td>kaggle</td><td>743273567</td></tr><tr><td>427</td><td>11945</td><td>4</td><td>5</td><td>kaggle</td><td>743273567</td></tr><tr><td>428</td><td>12381</td><td>4</td><td>5</td><td>kaggle</td><td>743273567</td></tr><tr><td>429</td><td>12476</td><td>5</td><td>5</td><td>kaggle</td><td>743273567</td></tr><tr><td>430</td><td>12874</td><td>4</td><td>5</td><td>kaggle</td><td>743273567</td></tr><tr><td>431</td><td>12946</td><td>5</td><td>5</td><td>kaggle</td><td>743273567</td></tr><tr><td>432</td><td>13034</td><td>4</td><td>5</td><td>kaggle</td><td>743273567</td></tr><tr><td>433</td><td>13776</td><td>4</td><td>5</td><td>kaggle</td><td>743273567</td></tr><tr><td>434</td><td>13794</td><td>2</td><td>5</td><td>kaggle</td><td>743273567</td></tr><tr><td>435</td><td>14546</td><td>2</td><td>5</td><td>kaggle</td><td>743273567</td></tr><tr><td>436</td><td>14603</td><td>4</td><td>5</td><td>kaggle</td><td>743273567</td></tr><tr><td>437</td><td>15547</td><td>2</td><td>5</td><td>kaggle</td><td>743273567</td></tr><tr><td>438</td><td>17228</td><td>5</td><td>5</td><td>kaggle</td><td>743273567</td></tr><tr><td>439</td><td>17643</td><td>2</td><td>5</td><td>kaggle</td><td>743273567</td></tr><tr><td>440</td><td>17663</td><td>5</td><td>5</td><td>kaggle</td><td>743273567</td></tr><tr><td>441</td><td>18031</td><td>5</td><td>5</td><td>kaggle</td><td>743273567</td></tr><tr><td>442</td><td>18313</td><td>2</td><td>5</td><td>kaggle</td><td>743273567</td></tr><tr><td>443</td><td>19526</td><td>4</td><td>5</td><td>kaggle</td><td>743273567</td></tr><tr><td>444</td><td>19724</td><td>5</td><td>5</td><td>kaggle</td><td>743273567</td></tr><tr><td>445</td><td>19729</td><td>4</td><td>5</td><td>kaggle</td><td>743273567</td></tr><tr><td>446</td><td>20406</td><td>5</td><td>5</td><td>kaggle</td><td>743273567</td></tr><tr><td>447</td><td>20467</td><td>4</td><td>5</td><td>kaggle</td><td>743273567</td></tr><tr><td>448</td><td>21217</td><td>4</td><td>5</td><td>kaggle</td><td>743273567</td></tr><tr><td>449</td><td>21228</td><td>4</td><td>5</td><td>kaggle</td><td>743273567</td></tr><tr><td>450</td><td>21487</td><td>5</td><td>5</td><td>kaggle</td><td>743273567</td></tr><tr><td>451</td><td>21676</td><td>4</td><td>5</td><td>kaggle</td><td>743273567</td></tr><tr><td>452</td><td>21733</td><td>4</td><td>5</td><td>kaggle</td><td>743273567</td></tr><tr><td>453</td><td>22602</td><td>5</td><td>5</td><td>kaggle</td><td>743273567</td></tr><tr><td>454</td><td>23576</td><td>5</td><td>5</td><td>kaggle</td><td>743273567</td></tr><tr><td>455</td><td>24499</td><td>3</td><td>5</td><td>kaggle</td><td>743273567</td></tr><tr><td>456</td><td>25164</td><td>4</td><td>5</td><td>kaggle</td><td>743273567</td></tr><tr><td>457</td><td>25182</td><td>5</td><td>5</td><td>kaggle</td><td>743273567</td></tr><tr><td>458</td><td>25840</td><td>3</td><td>5</td><td>kaggle</td><td>743273567</td></tr><tr><td>459</td><td>26629</td><td>5</td><td>5</td><td>kaggle</td><td>743273567</td></tr><tr><td>460</td><td>26661</td><td>5</td><td>5</td><td>kaggle</td><td>743273567</td></tr><tr><td>461</td><td>27499</td><td>5</td><td>5</td><td>kaggle</td><td>743273567</td></tr><tr><td>462</td><td>27834</td><td>4</td><td>5</td><td>kaggle</td><td>743273567</td></tr><tr><td>463</td><td>28158</td><td>4</td><td>5</td><td>kaggle</td><td>743273567</td></tr><tr><td>464</td><td>28767</td><td>2</td><td>5</td><td>kaggle</td><td>743273567</td></tr><tr><td>465</td><td>29703</td><td>5</td><td>5</td><td>kaggle</td><td>743273567</td></tr><tr><td>466</td><td>29819</td><td>2</td><td>5</td><td>kaggle</td><td>743273567</td></tr><tr><td>467</td><td>30681</td><td>3</td><td>5</td><td>kaggle</td><td>743273567</td></tr><tr><td>468</td><td>30944</td><td>4</td><td>5</td><td>kaggle</td><td>743273567</td></tr><tr><td>469</td><td>32338</td><td>3</td><td>5</td><td>kaggle</td><td>743273567</td></tr><tr><td>470</td><td>32635</td><td>3</td><td>5</td><td>kaggle</td><td>743273567</td></tr><tr><td>471</td><td>32748</td><td>4</td><td>5</td><td>kaggle</td><td>743273567</td></tr><tr><td>472</td><td>32923</td><td>5</td><td>5</td><td>kaggle</td><td>743273567</td></tr><tr><td>473</td><td>33065</td><td>4</td><td>5</td><td>kaggle</td><td>743273567</td></tr><tr><td>474</td><td>33697</td><td>5</td><td>5</td><td>kaggle</td><td>743273567</td></tr><tr><td>475</td><td>33716</td><td>4</td><td>5</td><td>kaggle</td><td>743273567</td></tr><tr><td>476</td><td>33872</td><td>4</td><td>5</td><td>kaggle</td><td>743273567</td></tr><tr><td>477</td><td>34688</td><td>3</td><td>5</td><td>kaggle</td><td>743273567</td></tr><tr><td>478</td><td>36099</td><td>3</td><td>5</td><td>kaggle</td><td>743273567</td></tr><tr><td>479</td><td>37284</td><td>2</td><td>5</td><td>kaggle</td><td>743273567</td></tr><tr><td>480</td><td>38798</td><td>2</td><td>5</td><td>kaggle</td><td>743273567</td></tr><tr><td>481</td><td>39423</td><td>2</td><td>5</td><td>kaggle</td><td>743273567</td></tr><tr><td>482</td><td>41074</td><td>3</td><td>5</td><td>kaggle</td><td>743273567</td></tr><tr><td>483</td><td>42404</td><td>3</td><td>5</td><td>kaggle</td><td>743273567</td></tr><tr><td>484</td><td>44243</td><td>2</td><td>5</td><td>kaggle</td><td>743273567</td></tr><tr><td>485</td><td>44397</td><td>5</td><td>5</td><td>kaggle</td><td>743273567</td></tr><tr><td>486</td><td>45269</td><td>4</td><td>5</td><td>kaggle</td><td>743273567</td></tr><tr><td>487</td><td>45493</td><td>5</td><td>5</td><td>kaggle</td><td>743273567</td></tr><tr><td>488</td><td>45554</td><td>5</td><td>5</td><td>kaggle</td><td>743273567</td></tr><tr><td>489</td><td>46139</td><td>4</td><td>5</td><td>kaggle</td><td>743273567</td></tr><tr><td>490</td><td>46421</td><td>5</td><td>5</td><td>kaggle</td><td>743273567</td></tr><tr><td>491</td><td>46482</td><td>5</td><td>5</td><td>kaggle</td><td>743273567</td></tr><tr><td>492</td><td>47800</td><td>3</td><td>5</td><td>kaggle</td><td>743273567</td></tr><tr><td>493</td><td>48559</td><td>3</td><td>5</td><td>kaggle</td><td>743273567</td></tr><tr><td>494</td><td>48687</td><td>5</td><td>5</td><td>kaggle</td><td>743273567</td></tr><tr><td>495</td><td>49298</td><td>2</td><td>5</td><td>kaggle</td><td>743273567</td></tr><tr><td>496</td><td>50104</td><td>5</td><td>5</td><td>kaggle</td><td>743273567</td></tr><tr><td>497</td><td>51166</td><td>4</td><td>5</td><td>kaggle</td><td>743273567</td></tr><tr><td>498</td><td>51838</td><td>4</td><td>5</td><td>kaggle</td><td>743273567</td></tr><tr><td>499</td><td>52036</td><td>4</td><td>5</td><td>kaggle</td><td>743273567</td></tr><tr><td>500</td><td>53292</td><td>5</td><td>5</td><td>kaggle</td><td>743273567</td></tr><tr><td>501</td><td>173</td><td>5</td><td>6</td><td>kaggle</td><td>525478817</td></tr><tr><td>502</td><td>314</td><td>5</td><td>6</td><td>kaggle</td><td>525478817</td></tr><tr><td>503</td><td>725</td><td>5</td><td>6</td><td>kaggle</td><td>525478817</td></tr><tr><td>504</td><td>2077</td><td>2</td><td>6</td><td>kaggle</td><td>525478817</td></tr><tr><td>505</td><td>2171</td><td>5</td><td>6</td><td>kaggle</td><td>525478817</td></tr><tr><td>506</td><td>3662</td><td>5</td><td>6</td><td>kaggle</td><td>525478817</td></tr><tr><td>507</td><td>5379</td><td>5</td><td>6</td><td>kaggle</td><td>525478817</td></tr><tr><td>508</td><td>6016</td><td>5</td><td>6</td><td>kaggle</td><td>525478817</td></tr><tr><td>509</td><td>8440</td><td>4</td><td>6</td><td>kaggle</td><td>525478817</td></tr><tr><td>510</td><td>8612</td><td>4</td><td>6</td><td>kaggle</td><td>525478817</td></tr><tr><td>511</td><td>9195</td><td>3</td><td>6</td><td>kaggle</td><td>525478817</td></tr><tr><td>512</td><td>9246</td><td>2</td><td>6</td><td>kaggle</td><td>525478817</td></tr><tr><td>513</td><td>9722</td><td>5</td><td>6</td><td>kaggle</td><td>525478817</td></tr><tr><td>514</td><td>10727</td><td>5</td><td>6</td><td>kaggle</td><td>525478817</td></tr><tr><td>515</td><td>11599</td><td>4</td><td>6</td><td>kaggle</td><td>525478817</td></tr><tr><td>516</td><td>11691</td><td>3</td><td>6</td><td>kaggle</td><td>525478817</td></tr><tr><td>517</td><td>11927</td><td>5</td><td>6</td><td>kaggle</td><td>525478817</td></tr><tr><td>518</td><td>12476</td><td>4</td><td>6</td><td>kaggle</td><td>525478817</td></tr><tr><td>519</td><td>13282</td><td>5</td><td>6</td><td>kaggle</td><td>525478817</td></tr><tr><td>520</td><td>14222</td><td>4</td><td>6</td><td>kaggle</td><td>525478817</td></tr><tr><td>521</td><td>14285</td><td>4</td><td>6</td><td>kaggle</td><td>525478817</td></tr><tr><td>522</td><td>15318</td><td>4</td><td>6</td><td>kaggle</td><td>525478817</td></tr><tr><td>523</td><td>16569</td><td>5</td><td>6</td><td>kaggle</td><td>525478817</td></tr><tr><td>524</td><td>16913</td><td>5</td><td>6</td><td>kaggle</td><td>525478817</td></tr><tr><td>525</td><td>17329</td><td>5</td><td>6</td><td>kaggle</td><td>525478817</td></tr><tr><td>526</td><td>17405</td><td>4</td><td>6</td><td>kaggle</td><td>525478817</td></tr><tr><td>527</td><td>17984</td><td>4</td><td>6</td><td>kaggle</td><td>525478817</td></tr><tr><td>528</td><td>18031</td><td>1</td><td>6</td><td>kaggle</td><td>525478817</td></tr><tr><td>529</td><td>18179</td><td>1</td><td>6</td><td>kaggle</td><td>525478817</td></tr><tr><td>530</td><td>18199</td><td>5</td><td>6</td><td>kaggle</td><td>525478817</td></tr><tr><td>531</td><td>18316</td><td>5</td><td>6</td><td>kaggle</td><td>525478817</td></tr><tr><td>532</td><td>18361</td><td>5</td><td>6</td><td>kaggle</td><td>525478817</td></tr><tr><td>533</td><td>18550</td><td>4</td><td>6</td><td>kaggle</td><td>525478817</td></tr><tr><td>534</td><td>18798</td><td>4</td><td>6</td><td>kaggle</td><td>525478817</td></tr><tr><td>535</td><td>18957</td><td>5</td><td>6</td><td>kaggle</td><td>525478817</td></tr><tr><td>536</td><td>20076</td><td>4</td><td>6</td><td>kaggle</td><td>525478817</td></tr><tr><td>537</td><td>20782</td><td>4</td><td>6</td><td>kaggle</td><td>525478817</td></tr><tr><td>538</td><td>21228</td><td>4</td><td>6</td><td>kaggle</td><td>525478817</td></tr><tr><td>539</td><td>22212</td><td>4</td><td>6</td><td>kaggle</td><td>525478817</td></tr><tr><td>540</td><td>22534</td><td>3</td><td>6</td><td>kaggle</td><td>525478817</td></tr><tr><td>541</td><td>24326</td><td>5</td><td>6</td><td>kaggle</td><td>525478817</td></tr><tr><td>542</td><td>25030</td><td>3</td><td>6</td><td>kaggle</td><td>525478817</td></tr><tr><td>543</td><td>26146</td><td>3</td><td>6</td><td>kaggle</td><td>525478817</td></tr><tr><td>544</td><td>26244</td><td>5</td><td>6</td><td>kaggle</td><td>525478817</td></tr><tr><td>545</td><td>26398</td><td>4</td><td>6</td><td>kaggle</td><td>525478817</td></tr><tr><td>546</td><td>26942</td><td>4</td><td>6</td><td>kaggle</td><td>525478817</td></tr><tr><td>547</td><td>28158</td><td>3</td><td>6</td><td>kaggle</td><td>525478817</td></tr><tr><td>548</td><td>28831</td><td>4</td><td>6</td><td>kaggle</td><td>525478817</td></tr><tr><td>549</td><td>29031</td><td>4</td><td>6</td><td>kaggle</td><td>525478817</td></tr><tr><td>550</td><td>29644</td><td>5</td><td>6</td><td>kaggle</td><td>525478817</td></tr><tr><td>551</td><td>29689</td><td>3</td><td>6</td><td>kaggle</td><td>525478817</td></tr><tr><td>552</td><td>30601</td><td>5</td><td>6</td><td>kaggle</td><td>525478817</td></tr><tr><td>553</td><td>30879</td><td>5</td><td>6</td><td>kaggle</td><td>525478817</td></tr><tr><td>554</td><td>31001</td><td>4</td><td>6</td><td>kaggle</td><td>525478817</td></tr><tr><td>555</td><td>31305</td><td>4</td><td>6</td><td>kaggle</td><td>525478817</td></tr><tr><td>556</td><td>31760</td><td>4</td><td>6</td><td>kaggle</td><td>525478817</td></tr><tr><td>557</td><td>32419</td><td>4</td><td>6</td><td>kaggle</td><td>525478817</td></tr><tr><td>558</td><td>32635</td><td>5</td><td>6</td><td>kaggle</td><td>525478817</td></tr><tr><td>559</td><td>32923</td><td>4</td><td>6</td><td>kaggle</td><td>525478817</td></tr><tr><td>560</td><td>33119</td><td>5</td><td>6</td><td>kaggle</td><td>525478817</td></tr><tr><td>561</td><td>33147</td><td>5</td><td>6</td><td>kaggle</td><td>525478817</td></tr><tr><td>562</td><td>33207</td><td>4</td><td>6</td><td>kaggle</td><td>525478817</td></tr><tr><td>563</td><td>33872</td><td>2</td><td>6</td><td>kaggle</td><td>525478817</td></tr><tr><td>564</td><td>34531</td><td>4</td><td>6</td><td>kaggle</td><td>525478817</td></tr><tr><td>565</td><td>35259</td><td>2</td><td>6</td><td>kaggle</td><td>525478817</td></tr><tr><td>566</td><td>35982</td><td>2</td><td>6</td><td>kaggle</td><td>525478817</td></tr><tr><td>567</td><td>36664</td><td>3</td><td>6</td><td>kaggle</td><td>525478817</td></tr><tr><td>568</td><td>37035</td><td>4</td><td>6</td><td>kaggle</td><td>525478817</td></tr><tr><td>569</td><td>37041</td><td>3</td><td>6</td><td>kaggle</td><td>525478817</td></tr><tr><td>570</td><td>38687</td><td>3</td><td>6</td><td>kaggle</td><td>525478817</td></tr><tr><td>571</td><td>38851</td><td>5</td><td>6</td><td>kaggle</td><td>525478817</td></tr><tr><td>572</td><td>39720</td><td>4</td><td>6</td><td>kaggle</td><td>525478817</td></tr><tr><td>573</td><td>40167</td><td>3</td><td>6</td><td>kaggle</td><td>525478817</td></tr><tr><td>574</td><td>40251</td><td>5</td><td>6</td><td>kaggle</td><td>525478817</td></tr><tr><td>575</td><td>40490</td><td>3</td><td>6</td><td>kaggle</td><td>525478817</td></tr><tr><td>576</td><td>41318</td><td>3</td><td>6</td><td>kaggle</td><td>525478817</td></tr><tr><td>577</td><td>43985</td><td>4</td><td>6</td><td>kaggle</td><td>525478817</td></tr><tr><td>578</td><td>45493</td><td>4</td><td>6</td><td>kaggle</td><td>525478817</td></tr><tr><td>579</td><td>47490</td><td>5</td><td>6</td><td>kaggle</td><td>525478817</td></tr><tr><td>580</td><td>47746</td><td>5</td><td>6</td><td>kaggle</td><td>525478817</td></tr><tr><td>581</td><td>48687</td><td>5</td><td>6</td><td>kaggle</td><td>525478817</td></tr><tr><td>582</td><td>49138</td><td>5</td><td>6</td><td>kaggle</td><td>525478817</td></tr><tr><td>583</td><td>49382</td><td>5</td><td>6</td><td>kaggle</td><td>525478817</td></tr><tr><td>584</td><td>49830</td><td>5</td><td>6</td><td>kaggle</td><td>525478817</td></tr><tr><td>585</td><td>50096</td><td>5</td><td>6</td><td>kaggle</td><td>525478817</td></tr><tr><td>586</td><td>50101</td><td>5</td><td>6</td><td>kaggle</td><td>525478817</td></tr><tr><td>587</td><td>50102</td><td>5</td><td>6</td><td>kaggle</td><td>525478817</td></tr><tr><td>588</td><td>50104</td><td>5</td><td>6</td><td>kaggle</td><td>525478817</td></tr><tr><td>589</td><td>50133</td><td>5</td><td>6</td><td>kaggle</td><td>525478817</td></tr><tr><td>590</td><td>50610</td><td>3</td><td>6</td><td>kaggle</td><td>525478817</td></tr><tr><td>591</td><td>51065</td><td>5</td><td>6</td><td>kaggle</td><td>525478817</td></tr><tr><td>592</td><td>51166</td><td>5</td><td>6</td><td>kaggle</td><td>525478817</td></tr><tr><td>593</td><td>51480</td><td>2</td><td>6</td><td>kaggle</td><td>525478817</td></tr><tr><td>594</td><td>51762</td><td>4</td><td>6</td><td>kaggle</td><td>525478817</td></tr><tr><td>595</td><td>52036</td><td>2</td><td>6</td><td>kaggle</td><td>525478817</td></tr><tr><td>596</td><td>52469</td><td>5</td><td>6</td><td>kaggle</td><td>525478817</td></tr><tr><td>597</td><td>52583</td><td>5</td><td>6</td><td>kaggle</td><td>525478817</td></tr><tr><td>598</td><td>52740</td><td>2</td><td>6</td><td>kaggle</td><td>525478817</td></tr><tr><td>599</td><td>53145</td><td>5</td><td>6</td><td>kaggle</td><td>525478817</td></tr><tr><td>600</td><td>53292</td><td>5</td><td>6</td><td>kaggle</td><td>525478817</td></tr><tr><td>601</td><td>439</td><td>3</td><td>7</td><td>kaggle</td><td>618260307</td></tr><tr><td>602</td><td>951</td><td>5</td><td>7</td><td>kaggle</td><td>618260307</td></tr><tr><td>603</td><td>2324</td><td>5</td><td>7</td><td>kaggle</td><td>618260307</td></tr><tr><td>604</td><td>3022</td><td>3</td><td>7</td><td>kaggle</td><td>618260307</td></tr><tr><td>605</td><td>3739</td><td>5</td><td>7</td><td>kaggle</td><td>618260307</td></tr><tr><td>606</td><td>3922</td><td>5</td><td>7</td><td>kaggle</td><td>618260307</td></tr><tr><td>607</td><td>4536</td><td>3</td><td>7</td><td>kaggle</td><td>618260307</td></tr><tr><td>608</td><td>5115</td><td>4</td><td>7</td><td>kaggle</td><td>618260307</td></tr><tr><td>609</td><td>5436</td><td>5</td><td>7</td><td>kaggle</td><td>618260307</td></tr><tr><td>610</td><td>5461</td><td>5</td><td>7</td><td>kaggle</td><td>618260307</td></tr><tr><td>611</td><td>5629</td><td>3</td><td>7</td><td>kaggle</td><td>618260307</td></tr><tr><td>612</td><td>6063</td><td>4</td><td>7</td><td>kaggle</td><td>618260307</td></tr><tr><td>613</td><td>6630</td><td>5</td><td>7</td><td>kaggle</td><td>618260307</td></tr><tr><td>614</td><td>6634</td><td>4</td><td>7</td><td>kaggle</td><td>618260307</td></tr><tr><td>615</td><td>7001</td><td>3</td><td>7</td><td>kaggle</td><td>618260307</td></tr><tr><td>616</td><td>7563</td><td>4</td><td>7</td><td>kaggle</td><td>618260307</td></tr><tr><td>617</td><td>8167</td><td>3</td><td>7</td><td>kaggle</td><td>618260307</td></tr><tr><td>618</td><td>8484</td><td>4</td><td>7</td><td>kaggle</td><td>618260307</td></tr><tr><td>619</td><td>10111</td><td>4</td><td>7</td><td>kaggle</td><td>618260307</td></tr><tr><td>620</td><td>10140</td><td>4</td><td>7</td><td>kaggle</td><td>618260307</td></tr><tr><td>621</td><td>10246</td><td>4</td><td>7</td><td>kaggle</td><td>618260307</td></tr><tr><td>622</td><td>10249</td><td>5</td><td>7</td><td>kaggle</td><td>618260307</td></tr><tr><td>623</td><td>10509</td><td>2</td><td>7</td><td>kaggle</td><td>618260307</td></tr><tr><td>624</td><td>10610</td><td>4</td><td>7</td><td>kaggle</td><td>618260307</td></tr><tr><td>625</td><td>10944</td><td>5</td><td>7</td><td>kaggle</td><td>618260307</td></tr><tr><td>626</td><td>11285</td><td>3</td><td>7</td><td>kaggle</td><td>618260307</td></tr><tr><td>627</td><td>11408</td><td>2</td><td>7</td><td>kaggle</td><td>618260307</td></tr><tr><td>628</td><td>11691</td><td>4</td><td>7</td><td>kaggle</td><td>618260307</td></tr><tr><td>629</td><td>11692</td><td>4</td><td>7</td><td>kaggle</td><td>618260307</td></tr><tr><td>630</td><td>11854</td><td>5</td><td>7</td><td>kaggle</td><td>618260307</td></tr><tr><td>631</td><td>11868</td><td>1</td><td>7</td><td>kaggle</td><td>618260307</td></tr><tr><td>632</td><td>11927</td><td>5</td><td>7</td><td>kaggle</td><td>618260307</td></tr><tr><td>633</td><td>12381</td><td>5</td><td>7</td><td>kaggle</td><td>618260307</td></tr><tr><td>634</td><td>12455</td><td>1</td><td>7</td><td>kaggle</td><td>618260307</td></tr><tr><td>635</td><td>12874</td><td>4</td><td>7</td><td>kaggle</td><td>618260307</td></tr><tr><td>636</td><td>12946</td><td>5</td><td>7</td><td>kaggle</td><td>618260307</td></tr><tr><td>637</td><td>13034</td><td>4</td><td>7</td><td>kaggle</td><td>618260307</td></tr><tr><td>638</td><td>13282</td><td>1</td><td>7</td><td>kaggle</td><td>618260307</td></tr><tr><td>639</td><td>13794</td><td>3</td><td>7</td><td>kaggle</td><td>618260307</td></tr><tr><td>640</td><td>14192</td><td>5</td><td>7</td><td>kaggle</td><td>618260307</td></tr><tr><td>641</td><td>14248</td><td>5</td><td>7</td><td>kaggle</td><td>618260307</td></tr><tr><td>642</td><td>14546</td><td>3</td><td>7</td><td>kaggle</td><td>618260307</td></tr><tr><td>643</td><td>15604</td><td>3</td><td>7</td><td>kaggle</td><td>618260307</td></tr><tr><td>644</td><td>16569</td><td>5</td><td>7</td><td>kaggle</td><td>618260307</td></tr><tr><td>645</td><td>16913</td><td>3</td><td>7</td><td>kaggle</td><td>618260307</td></tr><tr><td>646</td><td>17566</td><td>4</td><td>7</td><td>kaggle</td><td>618260307</td></tr><tr><td>647</td><td>17643</td><td>3</td><td>7</td><td>kaggle</td><td>618260307</td></tr><tr><td>648</td><td>17663</td><td>4</td><td>7</td><td>kaggle</td><td>618260307</td></tr><tr><td>649</td><td>18031</td><td>5</td><td>7</td><td>kaggle</td><td>618260307</td></tr><tr><td>650</td><td>18313</td><td>5</td><td>7</td><td>kaggle</td><td>618260307</td></tr><tr><td>651</td><td>18798</td><td>3</td><td>7</td><td>kaggle</td><td>618260307</td></tr><tr><td>652</td><td>19526</td><td>5</td><td>7</td><td>kaggle</td><td>618260307</td></tr><tr><td>653</td><td>19984</td><td>5</td><td>7</td><td>kaggle</td><td>618260307</td></tr><tr><td>654</td><td>20406</td><td>5</td><td>7</td><td>kaggle</td><td>618260307</td></tr><tr><td>655</td><td>20848</td><td>5</td><td>7</td><td>kaggle</td><td>618260307</td></tr><tr><td>656</td><td>21217</td><td>4</td><td>7</td><td>kaggle</td><td>618260307</td></tr><tr><td>657</td><td>21228</td><td>5</td><td>7</td><td>kaggle</td><td>618260307</td></tr><tr><td>658</td><td>21487</td><td>4</td><td>7</td><td>kaggle</td><td>618260307</td></tr><tr><td>659</td><td>21676</td><td>5</td><td>7</td><td>kaggle</td><td>618260307</td></tr><tr><td>660</td><td>21733</td><td>2</td><td>7</td><td>kaggle</td><td>618260307</td></tr><tr><td>661</td><td>22164</td><td>4</td><td>7</td><td>kaggle</td><td>618260307</td></tr><tr><td>662</td><td>22602</td><td>4</td><td>7</td><td>kaggle</td><td>618260307</td></tr><tr><td>663</td><td>23576</td><td>1</td><td>7</td><td>kaggle</td><td>618260307</td></tr><tr><td>664</td><td>24499</td><td>2</td><td>7</td><td>kaggle</td><td>618260307</td></tr><tr><td>665</td><td>24845</td><td>5</td><td>7</td><td>kaggle</td><td>618260307</td></tr><tr><td>666</td><td>25840</td><td>3</td><td>7</td><td>kaggle</td><td>618260307</td></tr><tr><td>667</td><td>26145</td><td>4</td><td>7</td><td>kaggle</td><td>618260307</td></tr><tr><td>668</td><td>26629</td><td>4</td><td>7</td><td>kaggle</td><td>618260307</td></tr><tr><td>669</td><td>26718</td><td>4</td><td>7</td><td>kaggle</td><td>618260307</td></tr><tr><td>670</td><td>27499</td><td>5</td><td>7</td><td>kaggle</td><td>618260307</td></tr><tr><td>671</td><td>28767</td><td>2</td><td>7</td><td>kaggle</td><td>618260307</td></tr><tr><td>672</td><td>30944</td><td>5</td><td>7</td><td>kaggle</td><td>618260307</td></tr><tr><td>673</td><td>31001</td><td>5</td><td>7</td><td>kaggle</td><td>618260307</td></tr><tr><td>674</td><td>32055</td><td>3</td><td>7</td><td>kaggle</td><td>618260307</td></tr><tr><td>675</td><td>32305</td><td>5</td><td>7</td><td>kaggle</td><td>618260307</td></tr><tr><td>676</td><td>32592</td><td>4</td><td>7</td><td>kaggle</td><td>618260307</td></tr><tr><td>677</td><td>32635</td><td>4</td><td>7</td><td>kaggle</td><td>618260307</td></tr><tr><td>678</td><td>32748</td><td>5</td><td>7</td><td>kaggle</td><td>618260307</td></tr><tr><td>679</td><td>33697</td><td>4</td><td>7</td><td>kaggle</td><td>618260307</td></tr><tr><td>680</td><td>33872</td><td>4</td><td>7</td><td>kaggle</td><td>618260307</td></tr><tr><td>681</td><td>36099</td><td>5</td><td>7</td><td>kaggle</td><td>618260307</td></tr><tr><td>682</td><td>37284</td><td>4</td><td>7</td><td>kaggle</td><td>618260307</td></tr><tr><td>683</td><td>37690</td><td>4</td><td>7</td><td>kaggle</td><td>618260307</td></tr><tr><td>684</td><td>38798</td><td>3</td><td>7</td><td>kaggle</td><td>618260307</td></tr><tr><td>685</td><td>38865</td><td>5</td><td>7</td><td>kaggle</td><td>618260307</td></tr><tr><td>686</td><td>39423</td><td>3</td><td>7</td><td>kaggle</td><td>618260307</td></tr><tr><td>687</td><td>40126</td><td>4</td><td>7</td><td>kaggle</td><td>618260307</td></tr><tr><td>688</td><td>42508</td><td>3</td><td>7</td><td>kaggle</td><td>618260307</td></tr><tr><td>689</td><td>42810</td><td>4</td><td>7</td><td>kaggle</td><td>618260307</td></tr><tr><td>690</td><td>43622</td><td>2</td><td>7</td><td>kaggle</td><td>618260307</td></tr><tr><td>691</td><td>45269</td><td>4</td><td>7</td><td>kaggle</td><td>618260307</td></tr><tr><td>692</td><td>45493</td><td>5</td><td>7</td><td>kaggle</td><td>618260307</td></tr><tr><td>693</td><td>46139</td><td>5</td><td>7</td><td>kaggle</td><td>618260307</td></tr><tr><td>694</td><td>48482</td><td>3</td><td>7</td><td>kaggle</td><td>618260307</td></tr><tr><td>695</td><td>48559</td><td>5</td><td>7</td><td>kaggle</td><td>618260307</td></tr><tr><td>696</td><td>51460</td><td>4</td><td>7</td><td>kaggle</td><td>618260307</td></tr><tr><td>697</td><td>51480</td><td>1</td><td>7</td><td>kaggle</td><td>618260307</td></tr><tr><td>698</td><td>51838</td><td>5</td><td>7</td><td>kaggle</td><td>618260307</td></tr><tr><td>699</td><td>52036</td><td>5</td><td>7</td><td>kaggle</td><td>618260307</td></tr><tr><td>700</td><td>53292</td><td>5</td><td>7</td><td>kaggle</td><td>618260307</td></tr><tr><td>701</td><td>588</td><td>3</td><td>8</td><td>kaggle</td><td>316769177</td></tr><tr><td>702</td><td>1952</td><td>4</td><td>8</td><td>kaggle</td><td>316769177</td></tr><tr><td>703</td><td>2276</td><td>4</td><td>8</td><td>kaggle</td><td>316769177</td></tr><tr><td>704</td><td>2324</td><td>5</td><td>8</td><td>kaggle</td><td>316769177</td></tr><tr><td>705</td><td>2900</td><td>3</td><td>8</td><td>kaggle</td><td>316769177</td></tr><tr><td>706</td><td>3022</td><td>1</td><td>8</td><td>kaggle</td><td>316769177</td></tr><tr><td>707</td><td>3922</td><td>1</td><td>8</td><td>kaggle</td><td>316769177</td></tr><tr><td>708</td><td>4606</td><td>2</td><td>8</td><td>kaggle</td><td>316769177</td></tr><tr><td>709</td><td>5461</td><td>4</td><td>8</td><td>kaggle</td><td>316769177</td></tr><tr><td>710</td><td>6342</td><td>5</td><td>8</td><td>kaggle</td><td>316769177</td></tr><tr><td>711</td><td>6630</td><td>4</td><td>8</td><td>kaggle</td><td>316769177</td></tr><tr><td>712</td><td>7001</td><td>5</td><td>8</td><td>kaggle</td><td>316769177</td></tr><tr><td>713</td><td>9246</td><td>4</td><td>8</td><td>kaggle</td><td>316769177</td></tr><tr><td>714</td><td>9771</td><td>5</td><td>8</td><td>kaggle</td><td>316769177</td></tr><tr><td>715</td><td>10140</td><td>3</td><td>8</td><td>kaggle</td><td>316769177</td></tr><tr><td>716</td><td>10246</td><td>5</td><td>8</td><td>kaggle</td><td>316769177</td></tr><tr><td>717</td><td>11285</td><td>3</td><td>8</td><td>kaggle</td><td>316769177</td></tr><tr><td>718</td><td>11691</td><td>5</td><td>8</td><td>kaggle</td><td>316769177</td></tr><tr><td>719</td><td>11868</td><td>2</td><td>8</td><td>kaggle</td><td>316769177</td></tr><tr><td>720</td><td>11945</td><td>5</td><td>8</td><td>kaggle</td><td>316769177</td></tr><tr><td>721</td><td>12381</td><td>3</td><td>8</td><td>kaggle</td><td>316769177</td></tr><tr><td>722</td><td>12874</td><td>4</td><td>8</td><td>kaggle</td><td>316769177</td></tr><tr><td>723</td><td>12946</td><td>4</td><td>8</td><td>kaggle</td><td>316769177</td></tr><tr><td>724</td><td>13034</td><td>4</td><td>8</td><td>kaggle</td><td>316769177</td></tr><tr><td>725</td><td>13776</td><td>4</td><td>8</td><td>kaggle</td><td>316769177</td></tr><tr><td>726</td><td>13794</td><td>2</td><td>8</td><td>kaggle</td><td>316769177</td></tr><tr><td>727</td><td>13991</td><td>4</td><td>8</td><td>kaggle</td><td>316769177</td></tr><tr><td>728</td><td>14192</td><td>4</td><td>8</td><td>kaggle</td><td>316769177</td></tr><tr><td>729</td><td>14207</td><td>4</td><td>8</td><td>kaggle</td><td>316769177</td></tr><tr><td>730</td><td>14546</td><td>2</td><td>8</td><td>kaggle</td><td>316769177</td></tr><tr><td>731</td><td>14603</td><td>5</td><td>8</td><td>kaggle</td><td>316769177</td></tr><tr><td>732</td><td>17228</td><td>4</td><td>8</td><td>kaggle</td><td>316769177</td></tr><tr><td>733</td><td>17434</td><td>5</td><td>8</td><td>kaggle</td><td>316769177</td></tr><tr><td>734</td><td>17643</td><td>1</td><td>8</td><td>kaggle</td><td>316769177</td></tr><tr><td>735</td><td>18313</td><td>1</td><td>8</td><td>kaggle</td><td>316769177</td></tr><tr><td>736</td><td>19526</td><td>4</td><td>8</td><td>kaggle</td><td>316769177</td></tr><tr><td>737</td><td>19724</td><td>3</td><td>8</td><td>kaggle</td><td>316769177</td></tr><tr><td>738</td><td>19729</td><td>5</td><td>8</td><td>kaggle</td><td>316769177</td></tr><tr><td>739</td><td>20076</td><td>4</td><td>8</td><td>kaggle</td><td>316769177</td></tr><tr><td>740</td><td>20406</td><td>2</td><td>8</td><td>kaggle</td><td>316769177</td></tr><tr><td>741</td><td>20782</td><td>4</td><td>8</td><td>kaggle</td><td>316769177</td></tr><tr><td>742</td><td>20848</td><td>5</td><td>8</td><td>kaggle</td><td>316769177</td></tr><tr><td>743</td><td>21217</td><td>4</td><td>8</td><td>kaggle</td><td>316769177</td></tr><tr><td>744</td><td>21228</td><td>4</td><td>8</td><td>kaggle</td><td>316769177</td></tr><tr><td>745</td><td>21487</td><td>3</td><td>8</td><td>kaggle</td><td>316769177</td></tr><tr><td>746</td><td>21676</td><td>3</td><td>8</td><td>kaggle</td><td>316769177</td></tr><tr><td>747</td><td>21733</td><td>2</td><td>8</td><td>kaggle</td><td>316769177</td></tr><tr><td>748</td><td>22602</td><td>3</td><td>8</td><td>kaggle</td><td>316769177</td></tr><tr><td>749</td><td>23576</td><td>5</td><td>8</td><td>kaggle</td><td>316769177</td></tr><tr><td>750</td><td>24326</td><td>5</td><td>8</td><td>kaggle</td><td>316769177</td></tr><tr><td>751</td><td>24499</td><td>3</td><td>8</td><td>kaggle</td><td>316769177</td></tr><tr><td>752</td><td>25164</td><td>4</td><td>8</td><td>kaggle</td><td>316769177</td></tr><tr><td>753</td><td>25182</td><td>5</td><td>8</td><td>kaggle</td><td>316769177</td></tr><tr><td>754</td><td>25840</td><td>2</td><td>8</td><td>kaggle</td><td>316769177</td></tr><tr><td>755</td><td>26145</td><td>3</td><td>8</td><td>kaggle</td><td>316769177</td></tr><tr><td>756</td><td>26579</td><td>3</td><td>8</td><td>kaggle</td><td>316769177</td></tr><tr><td>757</td><td>26661</td><td>5</td><td>8</td><td>kaggle</td><td>316769177</td></tr><tr><td>758</td><td>27499</td><td>3</td><td>8</td><td>kaggle</td><td>316769177</td></tr><tr><td>759</td><td>27834</td><td>4</td><td>8</td><td>kaggle</td><td>316769177</td></tr><tr><td>760</td><td>28158</td><td>3</td><td>8</td><td>kaggle</td><td>316769177</td></tr><tr><td>761</td><td>28767</td><td>2</td><td>8</td><td>kaggle</td><td>316769177</td></tr><tr><td>762</td><td>30681</td><td>4</td><td>8</td><td>kaggle</td><td>316769177</td></tr><tr><td>763</td><td>30944</td><td>3</td><td>8</td><td>kaggle</td><td>316769177</td></tr><tr><td>764</td><td>32338</td><td>3</td><td>8</td><td>kaggle</td><td>316769177</td></tr><tr><td>765</td><td>32592</td><td>4</td><td>8</td><td>kaggle</td><td>316769177</td></tr><tr><td>766</td><td>32745</td><td>4</td><td>8</td><td>kaggle</td><td>316769177</td></tr><tr><td>767</td><td>32748</td><td>5</td><td>8</td><td>kaggle</td><td>316769177</td></tr><tr><td>768</td><td>32923</td><td>5</td><td>8</td><td>kaggle</td><td>316769177</td></tr><tr><td>769</td><td>33065</td><td>3</td><td>8</td><td>kaggle</td><td>316769177</td></tr><tr><td>770</td><td>33716</td><td>4</td><td>8</td><td>kaggle</td><td>316769177</td></tr><tr><td>771</td><td>33872</td><td>4</td><td>8</td><td>kaggle</td><td>316769177</td></tr><tr><td>772</td><td>36099</td><td>4</td><td>8</td><td>kaggle</td><td>316769177</td></tr><tr><td>773</td><td>36695</td><td>4</td><td>8</td><td>kaggle</td><td>316769177</td></tr><tr><td>774</td><td>37284</td><td>5</td><td>8</td><td>kaggle</td><td>316769177</td></tr><tr><td>775</td><td>37834</td><td>4</td><td>8</td><td>kaggle</td><td>316769177</td></tr><tr><td>776</td><td>38798</td><td>4</td><td>8</td><td>kaggle</td><td>316769177</td></tr><tr><td>777</td><td>39423</td><td>3</td><td>8</td><td>kaggle</td><td>316769177</td></tr><tr><td>778</td><td>42404</td><td>2</td><td>8</td><td>kaggle</td><td>316769177</td></tr><tr><td>779</td><td>42574</td><td>4</td><td>8</td><td>kaggle</td><td>316769177</td></tr><tr><td>780</td><td>42810</td><td>3</td><td>8</td><td>kaggle</td><td>316769177</td></tr><tr><td>781</td><td>43985</td><td>3</td><td>8</td><td>kaggle</td><td>316769177</td></tr><tr><td>782</td><td>45269</td><td>5</td><td>8</td><td>kaggle</td><td>316769177</td></tr><tr><td>783</td><td>45554</td><td>5</td><td>8</td><td>kaggle</td><td>316769177</td></tr><tr><td>784</td><td>46139</td><td>3</td><td>8</td><td>kaggle</td><td>316769177</td></tr><tr><td>785</td><td>46482</td><td>5</td><td>8</td><td>kaggle</td><td>316769177</td></tr><tr><td>786</td><td>47730</td><td>5</td><td>8</td><td>kaggle</td><td>316769177</td></tr><tr><td>787</td><td>47800</td><td>5</td><td>8</td><td>kaggle</td><td>316769177</td></tr><tr><td>788</td><td>48559</td><td>4</td><td>8</td><td>kaggle</td><td>316769177</td></tr><tr><td>789</td><td>48687</td><td>5</td><td>8</td><td>kaggle</td><td>316769177</td></tr><tr><td>790</td><td>49288</td><td>5</td><td>8</td><td>kaggle</td><td>316769177</td></tr><tr><td>791</td><td>49289</td><td>5</td><td>8</td><td>kaggle</td><td>316769177</td></tr><tr><td>792</td><td>49295</td><td>5</td><td>8</td><td>kaggle</td><td>316769177</td></tr><tr><td>793</td><td>49297</td><td>5</td><td>8</td><td>kaggle</td><td>316769177</td></tr><tr><td>794</td><td>50096</td><td>5</td><td>8</td><td>kaggle</td><td>316769177</td></tr><tr><td>795</td><td>50101</td><td>5</td><td>8</td><td>kaggle</td><td>316769177</td></tr><tr><td>796</td><td>50102</td><td>5</td><td>8</td><td>kaggle</td><td>316769177</td></tr><tr><td>797</td><td>50104</td><td>5</td><td>8</td><td>kaggle</td><td>316769177</td></tr><tr><td>798</td><td>50133</td><td>5</td><td>8</td><td>kaggle</td><td>316769177</td></tr><tr><td>799</td><td>51838</td><td>4</td><td>8</td><td>kaggle</td><td>316769177</td></tr><tr><td>800</td><td>53292</td><td>5</td><td>8</td><td>kaggle</td><td>316769177</td></tr><tr><td>801</td><td>439</td><td>3</td><td>9</td><td>kaggle</td><td>1416524797</td></tr><tr><td>802</td><td>588</td><td>3</td><td>9</td><td>kaggle</td><td>1416524797</td></tr><tr><td>803</td><td>951</td><td>1</td><td>9</td><td>kaggle</td><td>1416524797</td></tr><tr><td>804</td><td>3087</td><td>3</td><td>9</td><td>kaggle</td><td>1416524797</td></tr><tr><td>805</td><td>3922</td><td>3</td><td>9</td><td>kaggle</td><td>1416524797</td></tr><tr><td>806</td><td>4536</td><td>3</td><td>9</td><td>kaggle</td><td>1416524797</td></tr><tr><td>807</td><td>5115</td><td>3</td><td>9</td><td>kaggle</td><td>1416524797</td></tr><tr><td>808</td><td>5436</td><td>4</td><td>9</td><td>kaggle</td><td>1416524797</td></tr><tr><td>809</td><td>5461</td><td>4</td><td>9</td><td>kaggle</td><td>1416524797</td></tr><tr><td>810</td><td>6063</td><td>3</td><td>9</td><td>kaggle</td><td>1416524797</td></tr><tr><td>811</td><td>6630</td><td>4</td><td>9</td><td>kaggle</td><td>1416524797</td></tr><tr><td>812</td><td>7001</td><td>4</td><td>9</td><td>kaggle</td><td>1416524797</td></tr><tr><td>813</td><td>7563</td><td>1</td><td>9</td><td>kaggle</td><td>1416524797</td></tr><tr><td>814</td><td>8484</td><td>5</td><td>9</td><td>kaggle</td><td>1416524797</td></tr><tr><td>815</td><td>9246</td><td>4</td><td>9</td><td>kaggle</td><td>1416524797</td></tr><tr><td>816</td><td>9731</td><td>3</td><td>9</td><td>kaggle</td><td>1416524797</td></tr><tr><td>817</td><td>10140</td><td>2</td><td>9</td><td>kaggle</td><td>1416524797</td></tr><tr><td>818</td><td>10509</td><td>5</td><td>9</td><td>kaggle</td><td>1416524797</td></tr><tr><td>819</td><td>10610</td><td>3</td><td>9</td><td>kaggle</td><td>1416524797</td></tr><tr><td>820</td><td>10944</td><td>4</td><td>9</td><td>kaggle</td><td>1416524797</td></tr><tr><td>821</td><td>11408</td><td>1</td><td>9</td><td>kaggle</td><td>1416524797</td></tr><tr><td>822</td><td>11445</td><td>4</td><td>9</td><td>kaggle</td><td>1416524797</td></tr><tr><td>823</td><td>11691</td><td>3</td><td>9</td><td>kaggle</td><td>1416524797</td></tr><tr><td>824</td><td>11692</td><td>3</td><td>9</td><td>kaggle</td><td>1416524797</td></tr><tr><td>825</td><td>11854</td><td>1</td><td>9</td><td>kaggle</td><td>1416524797</td></tr><tr><td>826</td><td>11945</td><td>4</td><td>9</td><td>kaggle</td><td>1416524797</td></tr><tr><td>827</td><td>11999</td><td>3</td><td>9</td><td>kaggle</td><td>1416524797</td></tr><tr><td>828</td><td>12466</td><td>1</td><td>9</td><td>kaggle</td><td>1416524797</td></tr><tr><td>829</td><td>12874</td><td>5</td><td>9</td><td>kaggle</td><td>1416524797</td></tr><tr><td>830</td><td>13034</td><td>5</td><td>9</td><td>kaggle</td><td>1416524797</td></tr><tr><td>831</td><td>13544</td><td>3</td><td>9</td><td>kaggle</td><td>1416524797</td></tr><tr><td>832</td><td>13794</td><td>2</td><td>9</td><td>kaggle</td><td>1416524797</td></tr><tr><td>833</td><td>13991</td><td>4</td><td>9</td><td>kaggle</td><td>1416524797</td></tr><tr><td>834</td><td>14248</td><td>3</td><td>9</td><td>kaggle</td><td>1416524797</td></tr><tr><td>835</td><td>14372</td><td>2</td><td>9</td><td>kaggle</td><td>1416524797</td></tr><tr><td>836</td><td>14936</td><td>4</td><td>9</td><td>kaggle</td><td>1416524797</td></tr><tr><td>837</td><td>15494</td><td>3</td><td>9</td><td>kaggle</td><td>1416524797</td></tr><tr><td>838</td><td>15604</td><td>4</td><td>9</td><td>kaggle</td><td>1416524797</td></tr><tr><td>839</td><td>16177</td><td>2</td><td>9</td><td>kaggle</td><td>1416524797</td></tr><tr><td>840</td><td>17566</td><td>4</td><td>9</td><td>kaggle</td><td>1416524797</td></tr><tr><td>841</td><td>17643</td><td>3</td><td>9</td><td>kaggle</td><td>1416524797</td></tr><tr><td>842</td><td>17984</td><td>4</td><td>9</td><td>kaggle</td><td>1416524797</td></tr><tr><td>843</td><td>18031</td><td>3</td><td>9</td><td>kaggle</td><td>1416524797</td></tr><tr><td>844</td><td>18313</td><td>5</td><td>9</td><td>kaggle</td><td>1416524797</td></tr><tr><td>845</td><td>18798</td><td>2</td><td>9</td><td>kaggle</td><td>1416524797</td></tr><tr><td>846</td><td>18857</td><td>3</td><td>9</td><td>kaggle</td><td>1416524797</td></tr><tr><td>847</td><td>19526</td><td>3</td><td>9</td><td>kaggle</td><td>1416524797</td></tr><tr><td>848</td><td>19724</td><td>4</td><td>9</td><td>kaggle</td><td>1416524797</td></tr><tr><td>849</td><td>21217</td><td>4</td><td>9</td><td>kaggle</td><td>1416524797</td></tr><tr><td>850</td><td>21228</td><td>5</td><td>9</td><td>kaggle</td><td>1416524797</td></tr><tr><td>851</td><td>21487</td><td>3</td><td>9</td><td>kaggle</td><td>1416524797</td></tr><tr><td>852</td><td>22164</td><td>3</td><td>9</td><td>kaggle</td><td>1416524797</td></tr><tr><td>853</td><td>23576</td><td>2</td><td>9</td><td>kaggle</td><td>1416524797</td></tr><tr><td>854</td><td>23612</td><td>3</td><td>9</td><td>kaggle</td><td>1416524797</td></tr><tr><td>855</td><td>24389</td><td>4</td><td>9</td><td>kaggle</td><td>1416524797</td></tr><tr><td>856</td><td>24499</td><td>2</td><td>9</td><td>kaggle</td><td>1416524797</td></tr><tr><td>857</td><td>24834</td><td>5</td><td>9</td><td>kaggle</td><td>1416524797</td></tr><tr><td>858</td><td>24845</td><td>4</td><td>9</td><td>kaggle</td><td>1416524797</td></tr><tr><td>859</td><td>25164</td><td>3</td><td>9</td><td>kaggle</td><td>1416524797</td></tr><tr><td>860</td><td>25214</td><td>3</td><td>9</td><td>kaggle</td><td>1416524797</td></tr><tr><td>861</td><td>26053</td><td>2</td><td>9</td><td>kaggle</td><td>1416524797</td></tr><tr><td>862</td><td>26398</td><td>5</td><td>9</td><td>kaggle</td><td>1416524797</td></tr><tr><td>863</td><td>26661</td><td>3</td><td>9</td><td>kaggle</td><td>1416524797</td></tr><tr><td>864</td><td>27834</td><td>4</td><td>9</td><td>kaggle</td><td>1416524797</td></tr><tr><td>865</td><td>28767</td><td>3</td><td>9</td><td>kaggle</td><td>1416524797</td></tr><tr><td>866</td><td>31001</td><td>3</td><td>9</td><td>kaggle</td><td>1416524797</td></tr><tr><td>867</td><td>32055</td><td>5</td><td>9</td><td>kaggle</td><td>1416524797</td></tr><tr><td>868</td><td>32592</td><td>3</td><td>9</td><td>kaggle</td><td>1416524797</td></tr><tr><td>869</td><td>32748</td><td>5</td><td>9</td><td>kaggle</td><td>1416524797</td></tr><tr><td>870</td><td>32918</td><td>5</td><td>9</td><td>kaggle</td><td>1416524797</td></tr><tr><td>871</td><td>32923</td><td>3</td><td>9</td><td>kaggle</td><td>1416524797</td></tr><tr><td>872</td><td>33697</td><td>2</td><td>9</td><td>kaggle</td><td>1416524797</td></tr><tr><td>873</td><td>33716</td><td>3</td><td>9</td><td>kaggle</td><td>1416524797</td></tr><tr><td>874</td><td>36099</td><td>4</td><td>9</td><td>kaggle</td><td>1416524797</td></tr><tr><td>875</td><td>36695</td><td>4</td><td>9</td><td>kaggle</td><td>1416524797</td></tr><tr><td>876</td><td>37284</td><td>4</td><td>9</td><td>kaggle</td><td>1416524797</td></tr><tr><td>877</td><td>37834</td><td>3</td><td>9</td><td>kaggle</td><td>1416524797</td></tr><tr><td>878</td><td>38080</td><td>1</td><td>9</td><td>kaggle</td><td>1416524797</td></tr><tr><td>879</td><td>38082</td><td>5</td><td>9</td><td>kaggle</td><td>1416524797</td></tr><tr><td>880</td><td>38798</td><td>3</td><td>9</td><td>kaggle</td><td>1416524797</td></tr><tr><td>881</td><td>38865</td><td>3</td><td>9</td><td>kaggle</td><td>1416524797</td></tr><tr><td>882</td><td>41074</td><td>3</td><td>9</td><td>kaggle</td><td>1416524797</td></tr><tr><td>883</td><td>42508</td><td>3</td><td>9</td><td>kaggle</td><td>1416524797</td></tr><tr><td>884</td><td>43602</td><td>4</td><td>9</td><td>kaggle</td><td>1416524797</td></tr><tr><td>885</td><td>43622</td><td>3</td><td>9</td><td>kaggle</td><td>1416524797</td></tr><tr><td>886</td><td>43985</td><td>3</td><td>9</td><td>kaggle</td><td>1416524797</td></tr><tr><td>887</td><td>44243</td><td>4</td><td>9</td><td>kaggle</td><td>1416524797</td></tr><tr><td>888</td><td>44397</td><td>5</td><td>9</td><td>kaggle</td><td>1416524797</td></tr><tr><td>889</td><td>46139</td><td>5</td><td>9</td><td>kaggle</td><td>1416524797</td></tr><tr><td>890</td><td>46977</td><td>2</td><td>9</td><td>kaggle</td><td>1416524797</td></tr><tr><td>891</td><td>47730</td><td>5</td><td>9</td><td>kaggle</td><td>1416524797</td></tr><tr><td>892</td><td>48482</td><td>3</td><td>9</td><td>kaggle</td><td>1416524797</td></tr><tr><td>893</td><td>49298</td><td>2</td><td>9</td><td>kaggle</td><td>1416524797</td></tr><tr><td>894</td><td>50104</td><td>5</td><td>9</td><td>kaggle</td><td>1416524797</td></tr><tr><td>895</td><td>50342</td><td>3</td><td>9</td><td>kaggle</td><td>1416524797</td></tr><tr><td>896</td><td>51166</td><td>4</td><td>9</td><td>kaggle</td><td>1416524797</td></tr><tr><td>897</td><td>51460</td><td>4</td><td>9</td><td>kaggle</td><td>1416524797</td></tr><tr><td>898</td><td>51480</td><td>1</td><td>9</td><td>kaggle</td><td>1416524797</td></tr><tr><td>899</td><td>51838</td><td>4</td><td>9</td><td>kaggle</td><td>1416524797</td></tr><tr><td>900</td><td>53293</td><td>5</td><td>9</td><td>kaggle</td><td>1416524797</td></tr><tr><td>901</td><td>3662</td><td>4</td><td>10</td><td>kaggle</td><td>679783261</td></tr><tr><td>902</td><td>3922</td><td>5</td><td>10</td><td>kaggle</td><td>679783261</td></tr><tr><td>903</td><td>4536</td><td>2</td><td>10</td><td>kaggle</td><td>679783261</td></tr><tr><td>904</td><td>5115</td><td>4</td><td>10</td><td>kaggle</td><td>679783261</td></tr><tr><td>905</td><td>5272</td><td>3</td><td>10</td><td>kaggle</td><td>679783261</td></tr><tr><td>906</td><td>5461</td><td>3</td><td>10</td><td>kaggle</td><td>679783261</td></tr><tr><td>907</td><td>6063</td><td>1</td><td>10</td><td>kaggle</td><td>679783261</td></tr><tr><td>908</td><td>6630</td><td>3</td><td>10</td><td>kaggle</td><td>679783261</td></tr><tr><td>909</td><td>7001</td><td>4</td><td>10</td><td>kaggle</td><td>679783261</td></tr><tr><td>910</td><td>8167</td><td>3</td><td>10</td><td>kaggle</td><td>679783261</td></tr><tr><td>911</td><td>9246</td><td>2</td><td>10</td><td>kaggle</td><td>679783261</td></tr><tr><td>912</td><td>9731</td><td>3</td><td>10</td><td>kaggle</td><td>679783261</td></tr><tr><td>913</td><td>10111</td><td>5</td><td>10</td><td>kaggle</td><td>679783261</td></tr><tr><td>914</td><td>10249</td><td>4</td><td>10</td><td>kaggle</td><td>679783261</td></tr><tr><td>915</td><td>10509</td><td>2</td><td>10</td><td>kaggle</td><td>679783261</td></tr><tr><td>916</td><td>10610</td><td>5</td><td>10</td><td>kaggle</td><td>679783261</td></tr><tr><td>917</td><td>10944</td><td>4</td><td>10</td><td>kaggle</td><td>679783261</td></tr><tr><td>918</td><td>11285</td><td>5</td><td>10</td><td>kaggle</td><td>679783261</td></tr><tr><td>919</td><td>11692</td><td>5</td><td>10</td><td>kaggle</td><td>679783261</td></tr><tr><td>920</td><td>11854</td><td>4</td><td>10</td><td>kaggle</td><td>679783261</td></tr><tr><td>921</td><td>11868</td><td>5</td><td>10</td><td>kaggle</td><td>679783261</td></tr><tr><td>922</td><td>11927</td><td>5</td><td>10</td><td>kaggle</td><td>679783261</td></tr><tr><td>923</td><td>12381</td><td>5</td><td>10</td><td>kaggle</td><td>679783261</td></tr><tr><td>924</td><td>12455</td><td>3</td><td>10</td><td>kaggle</td><td>679783261</td></tr><tr><td>925</td><td>12471</td><td>5</td><td>10</td><td>kaggle</td><td>679783261</td></tr><tr><td>926</td><td>12874</td><td>4</td><td>10</td><td>kaggle</td><td>679783261</td></tr><tr><td>927</td><td>12946</td><td>5</td><td>10</td><td>kaggle</td><td>679783261</td></tr><tr><td>928</td><td>13034</td><td>5</td><td>10</td><td>kaggle</td><td>679783261</td></tr><tr><td>929</td><td>13282</td><td>5</td><td>10</td><td>kaggle</td><td>679783261</td></tr><tr><td>930</td><td>13776</td><td>4</td><td>10</td><td>kaggle</td><td>679783261</td></tr><tr><td>931</td><td>13794</td><td>4</td><td>10</td><td>kaggle</td><td>679783261</td></tr><tr><td>932</td><td>13991</td><td>4</td><td>10</td><td>kaggle</td><td>679783261</td></tr><tr><td>933</td><td>14192</td><td>4</td><td>10</td><td>kaggle</td><td>679783261</td></tr><tr><td>934</td><td>14248</td><td>5</td><td>10</td><td>kaggle</td><td>679783261</td></tr><tr><td>935</td><td>15547</td><td>3</td><td>10</td><td>kaggle</td><td>679783261</td></tr><tr><td>936</td><td>15604</td><td>3</td><td>10</td><td>kaggle</td><td>679783261</td></tr><tr><td>937</td><td>17228</td><td>5</td><td>10</td><td>kaggle</td><td>679783261</td></tr><tr><td>938</td><td>17434</td><td>4</td><td>10</td><td>kaggle</td><td>679783261</td></tr><tr><td>939</td><td>17643</td><td>1</td><td>10</td><td>kaggle</td><td>679783261</td></tr><tr><td>940</td><td>17663</td><td>4</td><td>10</td><td>kaggle</td><td>679783261</td></tr><tr><td>941</td><td>17984</td><td>5</td><td>10</td><td>kaggle</td><td>679783261</td></tr><tr><td>942</td><td>18313</td><td>5</td><td>10</td><td>kaggle</td><td>679783261</td></tr><tr><td>943</td><td>19526</td><td>4</td><td>10</td><td>kaggle</td><td>679783261</td></tr><tr><td>944</td><td>19724</td><td>5</td><td>10</td><td>kaggle</td><td>679783261</td></tr><tr><td>945</td><td>19942</td><td>5</td><td>10</td><td>kaggle</td><td>679783261</td></tr><tr><td>946</td><td>20076</td><td>3</td><td>10</td><td>kaggle</td><td>679783261</td></tr><tr><td>947</td><td>20406</td><td>4</td><td>10</td><td>kaggle</td><td>679783261</td></tr><tr><td>948</td><td>20967</td><td>4</td><td>10</td><td>kaggle</td><td>679783261</td></tr><tr><td>949</td><td>21217</td><td>3</td><td>10</td><td>kaggle</td><td>679783261</td></tr><tr><td>950</td><td>21228</td><td>4</td><td>10</td><td>kaggle</td><td>679783261</td></tr><tr><td>951</td><td>21487</td><td>5</td><td>10</td><td>kaggle</td><td>679783261</td></tr><tr><td>952</td><td>21676</td><td>5</td><td>10</td><td>kaggle</td><td>679783261</td></tr><tr><td>953</td><td>21733</td><td>4</td><td>10</td><td>kaggle</td><td>679783261</td></tr><tr><td>954</td><td>22164</td><td>5</td><td>10</td><td>kaggle</td><td>679783261</td></tr><tr><td>955</td><td>23576</td><td>4</td><td>10</td><td>kaggle</td><td>679783261</td></tr><tr><td>956</td><td>23612</td><td>4</td><td>10</td><td>kaggle</td><td>679783261</td></tr><tr><td>957</td><td>24326</td><td>5</td><td>10</td><td>kaggle</td><td>679783261</td></tr><tr><td>958</td><td>24499</td><td>4</td><td>10</td><td>kaggle</td><td>679783261</td></tr><tr><td>959</td><td>25164</td><td>4</td><td>10</td><td>kaggle</td><td>679783261</td></tr><tr><td>960</td><td>25182</td><td>5</td><td>10</td><td>kaggle</td><td>679783261</td></tr><tr><td>961</td><td>25840</td><td>5</td><td>10</td><td>kaggle</td><td>679783261</td></tr><tr><td>962</td><td>26145</td><td>4</td><td>10</td><td>kaggle</td><td>679783261</td></tr><tr><td>963</td><td>26661</td><td>4</td><td>10</td><td>kaggle</td><td>679783261</td></tr><tr><td>964</td><td>26718</td><td>5</td><td>10</td><td>kaggle</td><td>679783261</td></tr><tr><td>965</td><td>27834</td><td>5</td><td>10</td><td>kaggle</td><td>679783261</td></tr><tr><td>966</td><td>27934</td><td>5</td><td>10</td><td>kaggle</td><td>679783261</td></tr><tr><td>967</td><td>28767</td><td>5</td><td>10</td><td>kaggle</td><td>679783261</td></tr><tr><td>968</td><td>28824</td><td>4</td><td>10</td><td>kaggle</td><td>679783261</td></tr><tr><td>969</td><td>29703</td><td>4</td><td>10</td><td>kaggle</td><td>679783261</td></tr><tr><td>970</td><td>30283</td><td>4</td><td>10</td><td>kaggle</td><td>679783261</td></tr><tr><td>971</td><td>30681</td><td>4</td><td>10</td><td>kaggle</td><td>679783261</td></tr><tr><td>972</td><td>32338</td><td>3</td><td>10</td><td>kaggle</td><td>679783261</td></tr><tr><td>973</td><td>32635</td><td>4</td><td>10</td><td>kaggle</td><td>679783261</td></tr><tr><td>974</td><td>32748</td><td>4</td><td>10</td><td>kaggle</td><td>679783261</td></tr><tr><td>975</td><td>33065</td><td>5</td><td>10</td><td>kaggle</td><td>679783261</td></tr><tr><td>976</td><td>36099</td><td>5</td><td>10</td><td>kaggle</td><td>679783261</td></tr><tr><td>977</td><td>39423</td><td>3</td><td>10</td><td>kaggle</td><td>679783261</td></tr><tr><td>978</td><td>41074</td><td>3</td><td>10</td><td>kaggle</td><td>679783261</td></tr><tr><td>979</td><td>42404</td><td>5</td><td>10</td><td>kaggle</td><td>679783261</td></tr><tr><td>980</td><td>42574</td><td>4</td><td>10</td><td>kaggle</td><td>679783261</td></tr><tr><td>981</td><td>44397</td><td>5</td><td>10</td><td>kaggle</td><td>679783261</td></tr><tr><td>982</td><td>46482</td><td>5</td><td>10</td><td>kaggle</td><td>679783261</td></tr><tr><td>983</td><td>47411</td><td>2</td><td>10</td><td>kaggle</td><td>679783261</td></tr><tr><td>984</td><td>47730</td><td>5</td><td>10</td><td>kaggle</td><td>679783261</td></tr><tr><td>985</td><td>47800</td><td>5</td><td>10</td><td>kaggle</td><td>679783261</td></tr><tr><td>986</td><td>48559</td><td>4</td><td>10</td><td>kaggle</td><td>679783261</td></tr><tr><td>987</td><td>48687</td><td>5</td><td>10</td><td>kaggle</td><td>679783261</td></tr><tr><td>988</td><td>49288</td><td>5</td><td>10</td><td>kaggle</td><td>679783261</td></tr><tr><td>989</td><td>49289</td><td>5</td><td>10</td><td>kaggle</td><td>679783261</td></tr><tr><td>990</td><td>49295</td><td>5</td><td>10</td><td>kaggle</td><td>679783261</td></tr><tr><td>991</td><td>49297</td><td>5</td><td>10</td><td>kaggle</td><td>679783261</td></tr><tr><td>992</td><td>50096</td><td>5</td><td>10</td><td>kaggle</td><td>679783261</td></tr><tr><td>993</td><td>50101</td><td>5</td><td>10</td><td>kaggle</td><td>679783261</td></tr><tr><td>994</td><td>50102</td><td>5</td><td>10</td><td>kaggle</td><td>679783261</td></tr><tr><td>995</td><td>50133</td><td>5</td><td>10</td><td>kaggle</td><td>679783261</td></tr><tr><td>996</td><td>50999</td><td>5</td><td>10</td><td>kaggle</td><td>679783261</td></tr><tr><td>997</td><td>51166</td><td>3</td><td>10</td><td>kaggle</td><td>679783261</td></tr><tr><td>998</td><td>51838</td><td>4</td><td>10</td><td>kaggle</td><td>679783261</td></tr><tr><td>999</td><td>52036</td><td>4</td><td>10</td><td>kaggle</td><td>679783261</td></tr><tr><td>1000</td><td>53292</td><td>5</td><td>10</td><td>kaggle</td><td>679783261</td></tr></tbody></table></div>"
      ]
     },
     "metadata": {},
     "output_type": "display_data"
    }
   ],
   "source": [
    "display(remote_table.select(\"*\")).cache()"
   ]
  },
  {
   "cell_type": "markdown",
   "metadata": {},
   "source": [
    "This table above is the same table we worked with earlier in our exploration, but given the application that I built in Part 2, we've added a column ID number for each row, a username row, which takes the user information from the application and maps it to a specific book ID and rating, and also the corresponding ISBN number of the book, to help us work within our application later on.  \n",
    "\n",
    "##### Setting up our ALS model\n",
    "With our Spark dataframe loaded into Databricks, we then can start to set up our data to run our ALS model. First, we can split the data frame into a training, validation and testing dataset -- 60% training, 20% validation and 20% testing. The validation dataset will be used to test the fine-tuning of our model parameters, and will allow us to have a hold-out test set that we can use to compute the RMSE on our final, optimized model."
   ]
  },
  {
   "cell_type": "code",
   "execution_count": 31,
   "metadata": {},
   "outputs": [
    {
     "data": {
      "text/html": [
       "<style scoped>\n",
       "  .ansiout {\n",
       "    display: block;\n",
       "    unicode-bidi: embed;\n",
       "    white-space: pre-wrap;\n",
       "    word-wrap: break-word;\n",
       "    word-break: break-all;\n",
       "    font-family: \"Source Code Pro\", \"Menlo\", monospace;;\n",
       "    font-size: 13px;\n",
       "    color: #555;\n",
       "    margin-left: 4px;\n",
       "    line-height: 19px;\n",
       "  }\n",
       "</style>\n",
       "<div class=\"ansiout\">Out[69]: DataFrame[col_id: int, userid: int, rating: int, book_id: int, username: string, isbn10: string]</div>"
      ]
     },
     "metadata": {},
     "output_type": "display_data"
    }
   ],
   "source": [
    "(training, validation, test) = remote_table.randomSplit([0.6, 0.2, 0.2])\n",
    "\n",
    "# caching data to cut down on cross-validation time later\n",
    "training.cache()\n",
    "validation.cache()\n",
    "test.cache()"
   ]
  },
  {
   "cell_type": "markdown",
   "metadata": {},
   "source": [
    "After caching the training and test datasets for later, which hopefully will cut down on some processing time, I imported the ALS, evaluation, and tuning functionality from the `pyspark.ml` package. For a base ALS model, we'll set the maximum iterations at 5, our initial regularization parameter at 0.25, and assign our user, book, and rating components to their corresponding column names to set up our matrix. The `ALS()` function conveniently sets up our matrix."
   ]
  },
  {
   "cell_type": "code",
   "execution_count": 33,
   "metadata": {},
   "outputs": [
    {
     "data": {
      "text/html": [
       "<style scoped>\n",
       "  .ansiout {\n",
       "    display: block;\n",
       "    unicode-bidi: embed;\n",
       "    white-space: pre-wrap;\n",
       "    word-wrap: break-word;\n",
       "    word-break: break-all;\n",
       "    font-family: \"Source Code Pro\", \"Menlo\", monospace;;\n",
       "    font-size: 13px;\n",
       "    color: #555;\n",
       "    margin-left: 4px;\n",
       "    line-height: 19px;\n",
       "  }\n",
       "</style>\n",
       "<div class=\"ansiout\"></div>"
      ]
     },
     "metadata": {},
     "output_type": "display_data"
    }
   ],
   "source": [
    "from pyspark.ml.recommendation import ALS\n",
    "from pyspark.ml.evaluation import RegressionEvaluator\n",
    "from pyspark.ml.tuning import TrainValidationSplit, ParamGridBuilder\n",
    "\n",
    "als_dt = ALS(maxIter=5, regParam=0.25, userCol=\"userid\", itemCol=\"book_id\", ratingCol=\"rating\", coldStartStrategy=\"drop\", nonnegative = True, implicitPrefs = False) "
   ]
  },
  {
   "cell_type": "markdown",
   "metadata": {},
   "source": [
    "##### Fine-tuning the model parameters\n",
    "\n",
    "With the base ALS model set, we can then tune our model to ensure we obtain the optimal parameters and rank for our ALS computations. To do this, I borrowed a `tune_ALS()` function from [this article](https://towardsdatascience.com/prototyping-a-recommender-system-step-by-step-part-2-alternating-least-square-als-matrix-4a76c58714a1), to help demonstrate this process. Essentially, we will supply a list of parameters and iterate through each to compute the RMSE on our validation dataset. The model with parameters that yield the lowest RMSE will be the one we'll use to run on our final hold-out test dataset:"
   ]
  },
  {
   "cell_type": "code",
   "execution_count": 35,
   "metadata": {},
   "outputs": [
    {
     "data": {
      "text/html": [
       "<style scoped>\n",
       "  .ansiout {\n",
       "    display: block;\n",
       "    unicode-bidi: embed;\n",
       "    white-space: pre-wrap;\n",
       "    word-wrap: break-word;\n",
       "    word-break: break-all;\n",
       "    font-family: \"Source Code Pro\", \"Menlo\", monospace;;\n",
       "    font-size: 13px;\n",
       "    color: #555;\n",
       "    margin-left: 4px;\n",
       "    line-height: 19px;\n",
       "  }\n",
       "</style>\n",
       "<div class=\"ansiout\"></div>"
      ]
     },
     "metadata": {},
     "output_type": "display_data"
    }
   ],
   "source": [
    "def tune_ALS(train_data, validation_data, maxIter, regParams, ranks, als_dt):\n",
    "    min_error = float('inf')\n",
    "    best_rank = -1\n",
    "    best_regularization = 0\n",
    "    best_model = None\n",
    "    for rank in ranks:\n",
    "        for reg in regParams:\n",
    "            # get ALS model\n",
    "            als = als_dt.setMaxIter(maxIter).setRank(rank).setRegParam(reg)\n",
    "            # train ALS model\n",
    "            model = als.fit(training)\n",
    "            # evaluate the model by computing the RMSE on the validation data\n",
    "            predictions = model.transform(validation)\n",
    "            evaluator = RegressionEvaluator(metricName=\"rmse\",\n",
    "                                            labelCol=\"rating\",\n",
    "                                            predictionCol=\"prediction\")\n",
    "            rmse = evaluator.evaluate(predictions)\n",
    "            print('{} latent factors and regularization = {}: '\n",
    "                  'validation RMSE is {}'.format(rank, reg, rmse))\n",
    "            if rmse < min_error:\n",
    "                min_error = rmse\n",
    "                best_rank = rank\n",
    "                best_regularization = reg\n",
    "                best_model = model\n",
    "    print('\\nThe best model has {} latent factors and '\n",
    "          'regularization = {}'.format(best_rank, best_regularization))\n",
    "    return best_model"
   ]
  },
  {
   "cell_type": "markdown",
   "metadata": {},
   "source": [
    "And now we can run the function with our range of parameters:"
   ]
  },
  {
   "cell_type": "code",
   "execution_count": 37,
   "metadata": {},
   "outputs": [
    {
     "data": {
      "text/html": [
       "<style scoped>\n",
       "  .ansiout {\n",
       "    display: block;\n",
       "    unicode-bidi: embed;\n",
       "    white-space: pre-wrap;\n",
       "    word-wrap: break-word;\n",
       "    word-break: break-all;\n",
       "    font-family: \"Source Code Pro\", \"Menlo\", monospace;;\n",
       "    font-size: 13px;\n",
       "    color: #555;\n",
       "    margin-left: 4px;\n",
       "    line-height: 19px;\n",
       "  }\n",
       "</style>\n",
       "<div class=\"ansiout\">10 latent factors and regularization = 0.15: validation RMSE is 0.9251187790506373\n",
       "10 latent factors and regularization = 0.2: validation RMSE is 0.911303798674784\n",
       "10 latent factors and regularization = 0.25: validation RMSE is 0.9102230973739172\n",
       "20 latent factors and regularization = 0.15: validation RMSE is 0.9180876886516705\n",
       "20 latent factors and regularization = 0.2: validation RMSE is 0.9093585736908846\n",
       "20 latent factors and regularization = 0.25: validation RMSE is 0.909896159236216\n",
       "50 latent factors and regularization = 0.15: validation RMSE is 0.9074113507297799\n",
       "50 latent factors and regularization = 0.2: validation RMSE is 0.9057946226241741\n",
       "50 latent factors and regularization = 0.25: validation RMSE is 0.9086605001930027\n",
       "70 latent factors and regularization = 0.15: validation RMSE is 0.9062863932865718\n",
       "70 latent factors and regularization = 0.2: validation RMSE is 0.905996191081747\n",
       "70 latent factors and regularization = 0.25: validation RMSE is 0.9091846850715163\n",
       "\n",
       "The best model has 50 latent factors and regularization = 0.2\n",
       "Out[72]: ALS_c000b77f7b07</div>"
      ]
     },
     "metadata": {},
     "output_type": "display_data"
    }
   ],
   "source": [
    "tune_ALS(training, validation, 10, [.15, .20, .25], [10, 20, 50, 70], als_dt)"
   ]
  },
  {
   "cell_type": "markdown",
   "metadata": {},
   "source": [
    "As we can see above from the outputs, the best model (for this specific run), will contain 50 latent factors (rank 50), and a regularization parameter value of 0.2."
   ]
  },
  {
   "cell_type": "markdown",
   "metadata": {},
   "source": [
    "##### Fitting the model to our training dataset\n",
    "\n",
    "We can then run our ALS model with these optimal parameters, and fit this to our training dataset."
   ]
  },
  {
   "cell_type": "code",
   "execution_count": 40,
   "metadata": {},
   "outputs": [
    {
     "data": {
      "text/html": [
       "<style scoped>\n",
       "  .ansiout {\n",
       "    display: block;\n",
       "    unicode-bidi: embed;\n",
       "    white-space: pre-wrap;\n",
       "    word-wrap: break-word;\n",
       "    word-break: break-all;\n",
       "    font-family: \"Source Code Pro\", \"Menlo\", monospace;;\n",
       "    font-size: 13px;\n",
       "    color: #555;\n",
       "    margin-left: 4px;\n",
       "    line-height: 19px;\n",
       "  }\n",
       "</style>\n",
       "<div class=\"ansiout\"></div>"
      ]
     },
     "metadata": {},
     "output_type": "display_data"
    }
   ],
   "source": [
    "als = ALS(maxIter=10, regParam=0.20, userCol=\"userid\", itemCol=\"book_id\", ratingCol=\"rating\", coldStartStrategy=\"drop\", nonnegative = True, implicitPrefs = False).setRank(50)"
   ]
  },
  {
   "cell_type": "code",
   "execution_count": 41,
   "metadata": {},
   "outputs": [
    {
     "data": {
      "text/html": [
       "<style scoped>\n",
       "  .ansiout {\n",
       "    display: block;\n",
       "    unicode-bidi: embed;\n",
       "    white-space: pre-wrap;\n",
       "    word-wrap: break-word;\n",
       "    word-break: break-all;\n",
       "    font-family: \"Source Code Pro\", \"Menlo\", monospace;;\n",
       "    font-size: 13px;\n",
       "    color: #555;\n",
       "    margin-left: 4px;\n",
       "    line-height: 19px;\n",
       "  }\n",
       "</style>\n",
       "<div class=\"ansiout\"></div>"
      ]
     },
     "metadata": {},
     "output_type": "display_data"
    }
   ],
   "source": [
    "model = als.fit(training)"
   ]
  },
  {
   "cell_type": "markdown",
   "metadata": {},
   "source": [
    "We can then use this model to compute predictions on our test dataset and compute the RMSE value."
   ]
  },
  {
   "cell_type": "code",
   "execution_count": 43,
   "metadata": {},
   "outputs": [
    {
     "data": {
      "text/html": [
       "<style scoped>\n",
       "  .ansiout {\n",
       "    display: block;\n",
       "    unicode-bidi: embed;\n",
       "    white-space: pre-wrap;\n",
       "    word-wrap: break-word;\n",
       "    word-break: break-all;\n",
       "    font-family: \"Source Code Pro\", \"Menlo\", monospace;;\n",
       "    font-size: 13px;\n",
       "    color: #555;\n",
       "    margin-left: 4px;\n",
       "    line-height: 19px;\n",
       "  }\n",
       "</style>\n",
       "<div class=\"ansiout\"></div>"
      ]
     },
     "metadata": {},
     "output_type": "display_data"
    }
   ],
   "source": [
    "predictions = model.transform(test)"
   ]
  },
  {
   "cell_type": "code",
   "execution_count": 44,
   "metadata": {},
   "outputs": [
    {
     "data": {
      "text/html": [
       "<style scoped>\n",
       "  .ansiout {\n",
       "    display: block;\n",
       "    unicode-bidi: embed;\n",
       "    white-space: pre-wrap;\n",
       "    word-wrap: break-word;\n",
       "    word-break: break-all;\n",
       "    font-family: \"Source Code Pro\", \"Menlo\", monospace;;\n",
       "    font-size: 13px;\n",
       "    color: #555;\n",
       "    margin-left: 4px;\n",
       "    line-height: 19px;\n",
       "  }\n",
       "</style>\n",
       "<div class=\"ansiout\"></div>"
      ]
     },
     "metadata": {},
     "output_type": "display_data"
    }
   ],
   "source": [
    "rmse = evaluator.evaluate(predictions)"
   ]
  },
  {
   "cell_type": "code",
   "execution_count": 45,
   "metadata": {},
   "outputs": [
    {
     "data": {
      "text/html": [
       "<style scoped>\n",
       "  .ansiout {\n",
       "    display: block;\n",
       "    unicode-bidi: embed;\n",
       "    white-space: pre-wrap;\n",
       "    word-wrap: break-word;\n",
       "    word-break: break-all;\n",
       "    font-family: \"Source Code Pro\", \"Menlo\", monospace;;\n",
       "    font-size: 13px;\n",
       "    color: #555;\n",
       "    margin-left: 4px;\n",
       "    line-height: 19px;\n",
       "  }\n",
       "</style>\n",
       "<div class=\"ansiout\">RMSE : 0.9069674858525751\n",
       "</div>"
      ]
     },
     "metadata": {},
     "output_type": "display_data"
    }
   ],
   "source": [
    "# Evaluation results\n",
    "print(\"RMSE : {}\".format(str(rmse)))"
   ]
  },
  {
   "cell_type": "markdown",
   "metadata": {},
   "source": [
    "##### Generating book recommendations for all users\n",
    "\n",
    "As we can see above, our RMSE value is around 0.9, which for our purposes, and a likert scale of 1-5, it isn't too bad. We can use this model to generate predictions and recommendations. To do this, we can use the `recommendForAllUsers()` function in PySpark, to attempt to find the 10 highest rated books for each user."
   ]
  },
  {
   "cell_type": "code",
   "execution_count": 47,
   "metadata": {},
   "outputs": [
    {
     "data": {
      "text/html": [
       "<style scoped>\n",
       "  .ansiout {\n",
       "    display: block;\n",
       "    unicode-bidi: embed;\n",
       "    white-space: pre-wrap;\n",
       "    word-wrap: break-word;\n",
       "    word-break: break-all;\n",
       "    font-family: \"Source Code Pro\", \"Menlo\", monospace;;\n",
       "    font-size: 13px;\n",
       "    color: #555;\n",
       "    margin-left: 4px;\n",
       "    line-height: 19px;\n",
       "  }\n",
       "</style>\n",
       "<div class=\"ansiout\"></div>"
      ]
     },
     "metadata": {},
     "output_type": "display_data"
    }
   ],
   "source": [
    "# Generate n recommendations for all users\n",
    "ALS_recommendations = model.recommendForAllUsers(numItems = 10)"
   ]
  },
  {
   "cell_type": "markdown",
   "metadata": {},
   "source": [
    "As an example, I've printed out the book recommendations for one user in our dataset (this is the first user I created in my application!). Interestingly, we can see that due to the types of books that this user rated initially, the recommendations are all books outside the scope of the 10,000 books in our initial Goodreads dataset (all book_id's below are above 10,000). This is to be expected given that all of the books that this user rated were \"Data Science\" books, which aren't part of the `books.csv` dataset. Fortunately for us, other custom users (that are data science fanatics) have also rated these books, and others similar to these, which shows that the recommendations and algorithm are working quite nicely."
   ]
  },
  {
   "cell_type": "code",
   "execution_count": 49,
   "metadata": {},
   "outputs": [
    {
     "data": {
      "text/html": [
       "<style scoped>\n",
       "  .table-result-container {\n",
       "    max-height: 300px;\n",
       "    overflow: auto;\n",
       "  }\n",
       "  table, th, td {\n",
       "    border: 1px solid black;\n",
       "    border-collapse: collapse;\n",
       "  }\n",
       "  th, td {\n",
       "    padding: 5px;\n",
       "  }\n",
       "  th {\n",
       "    text-align: left;\n",
       "  }\n",
       "</style><div class='table-result-container'><table class='table-result'><thead style='background-color: white'><tr><th>userid</th><th>recommendations</th></tr></thead><tbody><tr><td>53427</td><td>List(List(10025, 4.7729807), List(10026, 4.7729807), List(10024, 4.7729807), List(10027, 4.7729807), List(10029, 4.7729807), List(10028, 4.6535206), List(10020, 4.4985204), List(10036, 4.4262066), List(10034, 4.4262066), List(10001, 3.8394945))</td></tr></tbody></table></div>"
      ]
     },
     "metadata": {},
     "output_type": "display_data"
    }
   ],
   "source": [
    "display(ALS_recommendations.filter(ALS_recommendations['userid'] == 53427))"
   ]
  },
  {
   "cell_type": "markdown",
   "metadata": {},
   "source": [
    "Now, we can manipulate the recommendations above and orient them in a tabular format. To do this, we'll use `spark.sql`:"
   ]
  },
  {
   "cell_type": "code",
   "execution_count": 51,
   "metadata": {},
   "outputs": [
    {
     "data": {
      "text/html": [
       "<style scoped>\n",
       "  .ansiout {\n",
       "    display: block;\n",
       "    unicode-bidi: embed;\n",
       "    white-space: pre-wrap;\n",
       "    word-wrap: break-word;\n",
       "    word-break: break-all;\n",
       "    font-family: \"Source Code Pro\", \"Menlo\", monospace;;\n",
       "    font-size: 13px;\n",
       "    color: #555;\n",
       "    margin-left: 4px;\n",
       "    line-height: 19px;\n",
       "  }\n",
       "</style>\n",
       "<div class=\"ansiout\"></div>"
      ]
     },
     "metadata": {},
     "output_type": "display_data"
    }
   ],
   "source": [
    "# Temporary table\n",
    "ALS_recommendations.registerTempTable(\"ALS_recs_temp\")\n",
    "clean_recs = spark.sql(\"\"\"SELECT userid,\n",
    "                            bookIds_and_ratings.book_id AS book_id,\n",
    "                            bookIds_and_ratings.rating AS prediction\n",
    "                        FROM ALS_recs_temp LATERAL VIEW explode(recommendations) exploded_table AS bookIds_and_ratings\"\"\")"
   ]
  },
  {
   "cell_type": "markdown",
   "metadata": {},
   "source": [
    "Additionally, we can pull back in some of the columns from our initial `remote_table` before we continue processing:"
   ]
  },
  {
   "cell_type": "code",
   "execution_count": 53,
   "metadata": {},
   "outputs": [
    {
     "data": {
      "text/html": [
       "<style scoped>\n",
       "  .table-result-container {\n",
       "    max-height: 300px;\n",
       "    overflow: auto;\n",
       "  }\n",
       "  table, th, td {\n",
       "    border: 1px solid black;\n",
       "    border-collapse: collapse;\n",
       "  }\n",
       "  th, td {\n",
       "    padding: 5px;\n",
       "  }\n",
       "  th {\n",
       "    text-align: left;\n",
       "  }\n",
       "</style><div class='table-result-container'><table class='table-result'><thead style='background-color: white'><tr><th>userid</th><th>book_id</th><th>prediction</th></tr></thead><tbody><tr><td>148</td><td>5207</td><td>4.62019</td></tr><tr><td>148</td><td>10020</td><td>4.6170945</td></tr><tr><td>148</td><td>6920</td><td>4.5810843</td></tr><tr><td>148</td><td>6590</td><td>4.555902</td></tr><tr><td>148</td><td>9566</td><td>4.5549664</td></tr><tr><td>148</td><td>3628</td><td>4.532255</td></tr><tr><td>148</td><td>7254</td><td>4.51552</td></tr><tr><td>148</td><td>6862</td><td>4.5137057</td></tr><tr><td>148</td><td>9076</td><td>4.50106</td></tr><tr><td>148</td><td>6361</td><td>4.4931087</td></tr><tr><td>463</td><td>6590</td><td>4.425055</td></tr><tr><td>463</td><td>3628</td><td>4.40778</td></tr><tr><td>463</td><td>6920</td><td>4.3863163</td></tr><tr><td>463</td><td>5207</td><td>4.321691</td></tr><tr><td>463</td><td>780</td><td>4.3084073</td></tr><tr><td>463</td><td>1788</td><td>4.3045664</td></tr><tr><td>463</td><td>7254</td><td>4.3022366</td></tr><tr><td>463</td><td>9566</td><td>4.298447</td></tr><tr><td>463</td><td>6361</td><td>4.278274</td></tr><tr><td>463</td><td>4483</td><td>4.2415285</td></tr><tr><td>471</td><td>6658</td><td>2.5641153</td></tr><tr><td>471</td><td>9076</td><td>2.4194803</td></tr><tr><td>471</td><td>10020</td><td>2.341264</td></tr><tr><td>471</td><td>6710</td><td>2.3151565</td></tr><tr><td>471</td><td>2346</td><td>2.3125074</td></tr><tr><td>471</td><td>1851</td><td>2.2919881</td></tr><tr><td>471</td><td>3491</td><td>2.291208</td></tr><tr><td>471</td><td>7550</td><td>2.289651</td></tr><tr><td>471</td><td>6902</td><td>2.2886224</td></tr><tr><td>471</td><td>8186</td><td>2.2822292</td></tr><tr><td>496</td><td>10020</td><td>5.5526276</td></tr><tr><td>496</td><td>5207</td><td>5.3444724</td></tr><tr><td>496</td><td>9566</td><td>5.2825766</td></tr><tr><td>496</td><td>6920</td><td>5.2513766</td></tr><tr><td>496</td><td>9076</td><td>5.2488685</td></tr><tr><td>496</td><td>6902</td><td>5.238644</td></tr><tr><td>496</td><td>6590</td><td>5.230732</td></tr><tr><td>496</td><td>3885</td><td>5.1834755</td></tr><tr><td>496</td><td>862</td><td>5.164692</td></tr><tr><td>496</td><td>6361</td><td>5.1646028</td></tr><tr><td>833</td><td>5207</td><td>4.334465</td></tr><tr><td>833</td><td>9566</td><td>4.3139086</td></tr><tr><td>833</td><td>4336</td><td>4.3032656</td></tr><tr><td>833</td><td>6590</td><td>4.293918</td></tr><tr><td>833</td><td>6920</td><td>4.2552996</td></tr><tr><td>833</td><td>8187</td><td>4.2444406</td></tr><tr><td>833</td><td>5754</td><td>4.2311964</td></tr><tr><td>833</td><td>7254</td><td>4.199366</td></tr><tr><td>833</td><td>1788</td><td>4.184783</td></tr><tr><td>833</td><td>6361</td><td>4.1705604</td></tr><tr><td>1088</td><td>3628</td><td>4.4781084</td></tr><tr><td>1088</td><td>6920</td><td>4.407611</td></tr><tr><td>1088</td><td>6590</td><td>4.3969984</td></tr><tr><td>1088</td><td>5207</td><td>4.391594</td></tr><tr><td>1088</td><td>1788</td><td>4.3681297</td></tr><tr><td>1088</td><td>9566</td><td>4.3569407</td></tr><tr><td>1088</td><td>10020</td><td>4.3552074</td></tr><tr><td>1088</td><td>7254</td><td>4.3178997</td></tr><tr><td>1088</td><td>1380</td><td>4.2910028</td></tr><tr><td>1088</td><td>780</td><td>4.286737</td></tr><tr><td>1342</td><td>5207</td><td>4.214657</td></tr><tr><td>1342</td><td>6920</td><td>4.166545</td></tr><tr><td>1342</td><td>7254</td><td>4.0950246</td></tr><tr><td>1342</td><td>6590</td><td>4.0799336</td></tr><tr><td>1342</td><td>9566</td><td>4.0679793</td></tr><tr><td>1342</td><td>10020</td><td>4.054906</td></tr><tr><td>1342</td><td>3628</td><td>4.0468254</td></tr><tr><td>1342</td><td>6361</td><td>4.0459065</td></tr><tr><td>1342</td><td>8978</td><td>4.026768</td></tr><tr><td>1342</td><td>7275</td><td>4.015468</td></tr><tr><td>1580</td><td>3628</td><td>4.6468744</td></tr><tr><td>1580</td><td>10020</td><td>4.6212053</td></tr><tr><td>1580</td><td>6920</td><td>4.5898786</td></tr><tr><td>1580</td><td>5207</td><td>4.5788813</td></tr><tr><td>1580</td><td>6862</td><td>4.5503025</td></tr><tr><td>1580</td><td>2840</td><td>4.525726</td></tr><tr><td>1580</td><td>4706</td><td>4.512018</td></tr><tr><td>1580</td><td>7254</td><td>4.5092063</td></tr><tr><td>1580</td><td>1788</td><td>4.5048685</td></tr><tr><td>1580</td><td>6590</td><td>4.502844</td></tr><tr><td>1645</td><td>10020</td><td>4.361786</td></tr><tr><td>1645</td><td>6920</td><td>4.0851274</td></tr><tr><td>1645</td><td>5207</td><td>4.0719047</td></tr><tr><td>1645</td><td>9566</td><td>4.068623</td></tr><tr><td>1645</td><td>6590</td><td>4.0589046</td></tr><tr><td>1645</td><td>3628</td><td>4.058325</td></tr><tr><td>1645</td><td>9076</td><td>4.052799</td></tr><tr><td>1645</td><td>4868</td><td>4.0480847</td></tr><tr><td>1645</td><td>7254</td><td>4.043219</td></tr><tr><td>1645</td><td>6361</td><td>4.036836</td></tr><tr><td>1829</td><td>10020</td><td>4.609874</td></tr><tr><td>1829</td><td>6590</td><td>4.5834994</td></tr><tr><td>1829</td><td>6920</td><td>4.5781054</td></tr><tr><td>1829</td><td>5207</td><td>4.567096</td></tr><tr><td>1829</td><td>9566</td><td>4.5642395</td></tr><tr><td>1829</td><td>3628</td><td>4.560293</td></tr><tr><td>1829</td><td>7254</td><td>4.5237947</td></tr><tr><td>1829</td><td>1788</td><td>4.4721875</td></tr><tr><td>1829</td><td>6361</td><td>4.470133</td></tr><tr><td>1829</td><td>8978</td><td>4.4585266</td></tr><tr><td>1959</td><td>10020</td><td>3.5385253</td></tr><tr><td>1959</td><td>5207</td><td>3.3989594</td></tr><tr><td>1959</td><td>9566</td><td>3.3546956</td></tr><tr><td>1959</td><td>6920</td><td>3.336715</td></tr><tr><td>1959</td><td>3628</td><td>3.3350935</td></tr><tr><td>1959</td><td>6590</td><td>3.3258402</td></tr><tr><td>1959</td><td>6361</td><td>3.3146958</td></tr><tr><td>1959</td><td>3885</td><td>3.3123004</td></tr><tr><td>1959</td><td>5580</td><td>3.3091798</td></tr><tr><td>1959</td><td>4483</td><td>3.3079534</td></tr><tr><td>2122</td><td>5207</td><td>3.2472258</td></tr><tr><td>2122</td><td>10020</td><td>3.2391884</td></tr><tr><td>2122</td><td>3628</td><td>3.232128</td></tr><tr><td>2122</td><td>6920</td><td>3.2248225</td></tr><tr><td>2122</td><td>3491</td><td>3.2046304</td></tr><tr><td>2122</td><td>6590</td><td>3.1876454</td></tr><tr><td>2122</td><td>6361</td><td>3.1874192</td></tr><tr><td>2122</td><td>9566</td><td>3.1872234</td></tr><tr><td>2122</td><td>4483</td><td>3.1678567</td></tr><tr><td>2122</td><td>8187</td><td>3.1660745</td></tr><tr><td>2142</td><td>3628</td><td>4.480275</td></tr><tr><td>2142</td><td>10020</td><td>4.4542303</td></tr><tr><td>2142</td><td>6920</td><td>4.4352355</td></tr><tr><td>2142</td><td>6590</td><td>4.4060802</td></tr><tr><td>2142</td><td>6862</td><td>4.384401</td></tr><tr><td>2142</td><td>5207</td><td>4.372869</td></tr><tr><td>2142</td><td>1788</td><td>4.3685994</td></tr><tr><td>2142</td><td>8965</td><td>4.3415327</td></tr><tr><td>2142</td><td>9566</td><td>4.3323646</td></tr><tr><td>2142</td><td>7254</td><td>4.330122</td></tr><tr><td>2366</td><td>10020</td><td>5.843847</td></tr><tr><td>2366</td><td>5207</td><td>5.628117</td></tr><tr><td>2366</td><td>9566</td><td>5.605118</td></tr><tr><td>2366</td><td>6590</td><td>5.58828</td></tr><tr><td>2366</td><td>6920</td><td>5.5879636</td></tr><tr><td>2366</td><td>5580</td><td>5.5161457</td></tr><tr><td>2366</td><td>6902</td><td>5.497058</td></tr><tr><td>2366</td><td>267</td><td>5.4956846</td></tr><tr><td>2366</td><td>3628</td><td>5.491968</td></tr><tr><td>2366</td><td>6361</td><td>5.483329</td></tr><tr><td>2659</td><td>10020</td><td>4.3102493</td></tr><tr><td>2659</td><td>5207</td><td>4.265975</td></tr><tr><td>2659</td><td>6920</td><td>4.2360563</td></tr><tr><td>2659</td><td>6590</td><td>4.2172008</td></tr><tr><td>2659</td><td>862</td><td>4.2131457</td></tr><tr><td>2659</td><td>6361</td><td>4.1970577</td></tr><tr><td>2659</td><td>9566</td><td>4.192108</td></tr><tr><td>2659</td><td>3628</td><td>4.18759</td></tr><tr><td>2659</td><td>7254</td><td>4.1840744</td></tr><tr><td>2659</td><td>5580</td><td>4.158204</td></tr><tr><td>2866</td><td>10020</td><td>4.5100317</td></tr><tr><td>2866</td><td>5207</td><td>4.2999053</td></tr><tr><td>2866</td><td>6920</td><td>4.2982383</td></tr><tr><td>2866</td><td>3628</td><td>4.2867756</td></tr><tr><td>2866</td><td>9566</td><td>4.28537</td></tr><tr><td>2866</td><td>6590</td><td>4.2721806</td></tr><tr><td>2866</td><td>862</td><td>4.2478495</td></tr><tr><td>2866</td><td>7593</td><td>4.2408032</td></tr><tr><td>2866</td><td>3491</td><td>4.2387757</td></tr><tr><td>2866</td><td>3885</td><td>4.2289634</td></tr><tr><td>3175</td><td>6575</td><td>4.273235</td></tr><tr><td>3175</td><td>10020</td><td>4.2501884</td></tr><tr><td>3175</td><td>3885</td><td>4.0332355</td></tr><tr><td>3175</td><td>5919</td><td>3.991921</td></tr><tr><td>3175</td><td>6920</td><td>3.9784336</td></tr><tr><td>3175</td><td>6590</td><td>3.975373</td></tr><tr><td>3175</td><td>9076</td><td>3.9725966</td></tr><tr><td>3175</td><td>9566</td><td>3.9545033</td></tr><tr><td>3175</td><td>8286</td><td>3.9502292</td></tr><tr><td>3175</td><td>1331</td><td>3.9401</td></tr><tr><td>3749</td><td>4643</td><td>3.8561869</td></tr><tr><td>3749</td><td>5207</td><td>3.583997</td></tr><tr><td>3749</td><td>10020</td><td>3.520467</td></tr><tr><td>3749</td><td>3628</td><td>3.4915469</td></tr><tr><td>3749</td><td>8976</td><td>3.4803672</td></tr><tr><td>3749</td><td>9566</td><td>3.4792285</td></tr><tr><td>3749</td><td>9076</td><td>3.4710815</td></tr><tr><td>3749</td><td>8187</td><td>3.4592476</td></tr><tr><td>3749</td><td>3885</td><td>3.454442</td></tr><tr><td>3749</td><td>6902</td><td>3.4413304</td></tr><tr><td>3794</td><td>10020</td><td>4.440062</td></tr><tr><td>3794</td><td>3628</td><td>4.407818</td></tr><tr><td>3794</td><td>9076</td><td>4.3948083</td></tr><tr><td>3794</td><td>9566</td><td>4.3192434</td></tr><tr><td>3794</td><td>5207</td><td>4.3148394</td></tr><tr><td>3794</td><td>7593</td><td>4.3129106</td></tr><tr><td>3794</td><td>6920</td><td>4.3056993</td></tr><tr><td>3794</td><td>3885</td><td>4.2926173</td></tr><tr><td>3794</td><td>6590</td><td>4.2899218</td></tr><tr><td>3794</td><td>6361</td><td>4.272157</td></tr><tr><td>3918</td><td>3628</td><td>4.413255</td></tr><tr><td>3918</td><td>5207</td><td>4.396358</td></tr><tr><td>3918</td><td>6920</td><td>4.3465495</td></tr><tr><td>3918</td><td>6590</td><td>4.3206787</td></tr><tr><td>3918</td><td>9566</td><td>4.314622</td></tr><tr><td>3918</td><td>1788</td><td>4.303895</td></tr><tr><td>3918</td><td>10020</td><td>4.29326</td></tr><tr><td>3918</td><td>780</td><td>4.275227</td></tr><tr><td>3918</td><td>7254</td><td>4.2667437</td></tr><tr><td>3918</td><td>4868</td><td>4.226596</td></tr><tr><td>3997</td><td>10020</td><td>4.626963</td></tr><tr><td>3997</td><td>3628</td><td>4.4683914</td></tr><tr><td>3997</td><td>5580</td><td>4.464676</td></tr><tr><td>3997</td><td>862</td><td>4.439373</td></tr><tr><td>3997</td><td>562</td><td>4.4363847</td></tr><tr><td>3997</td><td>6920</td><td>4.4289603</td></tr><tr><td>3997</td><td>5207</td><td>4.428185</td></tr><tr><td>3997</td><td>307</td><td>4.416001</td></tr><tr><td>3997</td><td>9566</td><td>4.412625</td></tr><tr><td>3997</td><td>6361</td><td>4.3938174</td></tr><tr><td>4101</td><td>5207</td><td>4.046519</td></tr><tr><td>4101</td><td>10020</td><td>4.0184345</td></tr><tr><td>4101</td><td>4868</td><td>3.9982421</td></tr><tr><td>4101</td><td>9076</td><td>3.997908</td></tr><tr><td>4101</td><td>6902</td><td>3.9908888</td></tr><tr><td>4101</td><td>6920</td><td>3.9820094</td></tr><tr><td>4101</td><td>4483</td><td>3.9782481</td></tr><tr><td>4101</td><td>3628</td><td>3.9692357</td></tr><tr><td>4101</td><td>6361</td><td>3.9590032</td></tr><tr><td>4101</td><td>7209</td><td>3.9543984</td></tr><tr><td>4519</td><td>9141</td><td>4.169705</td></tr><tr><td>4519</td><td>10020</td><td>4.138665</td></tr><tr><td>4519</td><td>4344</td><td>3.937047</td></tr><tr><td>4519</td><td>862</td><td>3.9345946</td></tr><tr><td>4519</td><td>6902</td><td>3.9226377</td></tr><tr><td>4519</td><td>9566</td><td>3.9098847</td></tr><tr><td>4519</td><td>6590</td><td>3.9089925</td></tr><tr><td>4519</td><td>3628</td><td>3.9085426</td></tr><tr><td>4519</td><td>6920</td><td>3.905953</td></tr><tr><td>4519</td><td>5207</td><td>3.8941655</td></tr><tr><td>4818</td><td>9076</td><td>3.0557334</td></tr><tr><td>4818</td><td>6902</td><td>3.0242193</td></tr><tr><td>4818</td><td>4868</td><td>3.005009</td></tr><tr><td>4818</td><td>10020</td><td>2.9594193</td></tr><tr><td>4818</td><td>3628</td><td>2.9187388</td></tr><tr><td>4818</td><td>5207</td><td>2.9173212</td></tr><tr><td>4818</td><td>4154</td><td>2.9056466</td></tr><tr><td>4818</td><td>6920</td><td>2.899479</td></tr><tr><td>4818</td><td>7254</td><td>2.8896778</td></tr><tr><td>4818</td><td>6361</td><td>2.8867815</td></tr><tr><td>4900</td><td>10020</td><td>4.508919</td></tr><tr><td>4900</td><td>5207</td><td>4.456184</td></tr><tr><td>4900</td><td>3628</td><td>4.3936286</td></tr><tr><td>4900</td><td>6920</td><td>4.368657</td></tr><tr><td>4900</td><td>9566</td><td>4.343824</td></tr><tr><td>4900</td><td>6590</td><td>4.326856</td></tr><tr><td>4900</td><td>7254</td><td>4.302351</td></tr><tr><td>4900</td><td>6361</td><td>4.289423</td></tr><tr><td>4900</td><td>1788</td><td>4.2819552</td></tr><tr><td>4900</td><td>4483</td><td>4.2677574</td></tr><tr><td>4935</td><td>3628</td><td>4.058038</td></tr><tr><td>4935</td><td>10020</td><td>4.0265794</td></tr><tr><td>4935</td><td>5207</td><td>4.0094476</td></tr><tr><td>4935</td><td>6590</td><td>3.9935775</td></tr><tr><td>4935</td><td>9566</td><td>3.9845269</td></tr><tr><td>4935</td><td>6920</td><td>3.982689</td></tr><tr><td>4935</td><td>6902</td><td>3.9799428</td></tr><tr><td>4935</td><td>6102</td><td>3.9668832</td></tr><tr><td>4935</td><td>5580</td><td>3.92823</td></tr><tr><td>4935</td><td>4344</td><td>3.912135</td></tr><tr><td>5156</td><td>10020</td><td>4.131759</td></tr><tr><td>5156</td><td>862</td><td>3.9983366</td></tr><tr><td>5156</td><td>3628</td><td>3.9899414</td></tr><tr><td>5156</td><td>7593</td><td>3.9607165</td></tr><tr><td>5156</td><td>8187</td><td>3.958746</td></tr><tr><td>5156</td><td>6361</td><td>3.9321315</td></tr><tr><td>5156</td><td>6920</td><td>3.921621</td></tr><tr><td>5156</td><td>9076</td><td>3.9215257</td></tr><tr><td>5156</td><td>5207</td><td>3.908666</td></tr><tr><td>5156</td><td>562</td><td>3.8990128</td></tr><tr><td>5300</td><td>7242</td><td>4.2298565</td></tr><tr><td>5300</td><td>6583</td><td>3.7990503</td></tr><tr><td>5300</td><td>6457</td><td>3.7914941</td></tr><tr><td>5300</td><td>4344</td><td>3.789877</td></tr><tr><td>5300</td><td>6590</td><td>3.7795084</td></tr><tr><td>5300</td><td>9566</td><td>3.7741272</td></tr><tr><td>5300</td><td>5207</td><td>3.7639232</td></tr><tr><td>5300</td><td>8548</td><td>3.7457108</td></tr><tr><td>5300</td><td>9842</td><td>3.7325587</td></tr><tr><td>5300</td><td>6902</td><td>3.7304637</td></tr><tr><td>5518</td><td>10020</td><td>4.7699795</td></tr><tr><td>5518</td><td>5207</td><td>4.613179</td></tr><tr><td>5518</td><td>862</td><td>4.580929</td></tr><tr><td>5518</td><td>3628</td><td>4.5795517</td></tr><tr><td>5518</td><td>6920</td><td>4.574866</td></tr><tr><td>5518</td><td>9566</td><td>4.557149</td></tr><tr><td>5518</td><td>6590</td><td>4.5523763</td></tr><tr><td>5518</td><td>5580</td><td>4.5126243</td></tr><tr><td>5518</td><td>7254</td><td>4.508398</td></tr><tr><td>5518</td><td>6361</td><td>4.505234</td></tr><tr><td>5803</td><td>5207</td><td>3.851123</td></tr><tr><td>5803</td><td>6920</td><td>3.7712438</td></tr><tr><td>5803</td><td>6590</td><td>3.752706</td></tr><tr><td>5803</td><td>9566</td><td>3.7515304</td></tr><tr><td>5803</td><td>3628</td><td>3.7174082</td></tr><tr><td>5803</td><td>10020</td><td>3.7027237</td></tr><tr><td>5803</td><td>6361</td><td>3.695295</td></tr><tr><td>5803</td><td>7254</td><td>3.69335</td></tr><tr><td>5803</td><td>6401</td><td>3.6830173</td></tr><tr><td>5803</td><td>8978</td><td>3.6712718</td></tr><tr><td>6336</td><td>10020</td><td>3.526728</td></tr><tr><td>6336</td><td>3628</td><td>3.4140925</td></tr><tr><td>6336</td><td>6590</td><td>3.3761156</td></tr><tr><td>6336</td><td>5207</td><td>3.363214</td></tr><tr><td>6336</td><td>9566</td><td>3.3598921</td></tr><tr><td>6336</td><td>6920</td><td>3.3457122</td></tr><tr><td>6336</td><td>6361</td><td>3.303247</td></tr><tr><td>6336</td><td>1788</td><td>3.2972405</td></tr><tr><td>6336</td><td>7254</td><td>3.293131</td></tr><tr><td>6336</td><td>5580</td><td>3.287898</td></tr><tr><td>6357</td><td>10020</td><td>4.663596</td></tr><tr><td>6357</td><td>8501</td><td>4.6424837</td></tr><tr><td>6357</td><td>5207</td><td>4.6252522</td></tr><tr><td>6357</td><td>6590</td><td>4.609534</td></tr><tr><td>6357</td><td>6920</td><td>4.588524</td></tr><tr><td>6357</td><td>9566</td><td>4.568675</td></tr><tr><td>6357</td><td>5919</td><td>4.556395</td></tr><tr><td>6357</td><td>6902</td><td>4.542227</td></tr><tr><td>6357</td><td>4346</td><td>4.53898</td></tr><tr><td>6357</td><td>2507</td><td>4.507269</td></tr><tr><td>6397</td><td>10020</td><td>4.3083353</td></tr><tr><td>6397</td><td>5207</td><td>4.1391506</td></tr><tr><td>6397</td><td>6902</td><td>4.1263866</td></tr><tr><td>6397</td><td>9566</td><td>4.0868773</td></tr><tr><td>6397</td><td>6920</td><td>4.0863223</td></tr><tr><td>6397</td><td>9076</td><td>4.0775194</td></tr><tr><td>6397</td><td>6590</td><td>4.07261</td></tr><tr><td>6397</td><td>3491</td><td>4.045959</td></tr><tr><td>6397</td><td>6361</td><td>4.0317383</td></tr><tr><td>6397</td><td>4868</td><td>4.018431</td></tr><tr><td>6466</td><td>9566</td><td>3.662928</td></tr><tr><td>6466</td><td>6590</td><td>3.6564455</td></tr><tr><td>6466</td><td>5207</td><td>3.6503735</td></tr><tr><td>6466</td><td>6920</td><td>3.6253793</td></tr><tr><td>6466</td><td>9076</td><td>3.6227753</td></tr><tr><td>6466</td><td>8415</td><td>3.5820606</td></tr><tr><td>6466</td><td>9531</td><td>3.5769336</td></tr><tr><td>6466</td><td>6361</td><td>3.5740695</td></tr><tr><td>6466</td><td>9842</td><td>3.5576718</td></tr><tr><td>6466</td><td>5580</td><td>3.5569618</td></tr><tr><td>6620</td><td>10020</td><td>4.607557</td></tr><tr><td>6620</td><td>9531</td><td>4.351711</td></tr><tr><td>6620</td><td>9076</td><td>4.322681</td></tr><tr><td>6620</td><td>5919</td><td>4.311081</td></tr><tr><td>6620</td><td>2507</td><td>4.3078656</td></tr><tr><td>6620</td><td>862</td><td>4.299502</td></tr><tr><td>6620</td><td>1341</td><td>4.286978</td></tr><tr><td>6620</td><td>562</td><td>4.2840815</td></tr><tr><td>6620</td><td>1010</td><td>4.2693553</td></tr><tr><td>6620</td><td>3491</td><td>4.269168</td></tr><tr><td>6654</td><td>6920</td><td>3.041961</td></tr><tr><td>6654</td><td>6590</td><td>3.0418715</td></tr><tr><td>6654</td><td>10020</td><td>3.0290341</td></tr><tr><td>6654</td><td>9566</td><td>3.0271697</td></tr><tr><td>6654</td><td>5207</td><td>3.0160778</td></tr><tr><td>6654</td><td>3628</td><td>3.0127254</td></tr><tr><td>6654</td><td>7254</td><td>2.9932613</td></tr><tr><td>6654</td><td>5580</td><td>2.9805427</td></tr><tr><td>6654</td><td>7593</td><td>2.9789069</td></tr><tr><td>6654</td><td>6361</td><td>2.9718585</td></tr><tr><td>6658</td><td>10020</td><td>4.4204698</td></tr><tr><td>6658</td><td>5207</td><td>4.240355</td></tr><tr><td>6658</td><td>3628</td><td>4.20215</td></tr><tr><td>6658</td><td>6920</td><td>4.188752</td></tr><tr><td>6658</td><td>9076</td><td>4.18697</td></tr><tr><td>6658</td><td>9566</td><td>4.1825433</td></tr><tr><td>6658</td><td>6590</td><td>4.170341</td></tr><tr><td>6658</td><td>7254</td><td>4.1409125</td></tr><tr><td>6658</td><td>6361</td><td>4.14024</td></tr><tr><td>6658</td><td>862</td><td>4.1246696</td></tr><tr><td>7240</td><td>10020</td><td>5.199912</td></tr><tr><td>7240</td><td>5207</td><td>5.066918</td></tr><tr><td>7240</td><td>6590</td><td>4.995078</td></tr><tr><td>7240</td><td>9566</td><td>4.9904037</td></tr><tr><td>7240</td><td>6920</td><td>4.9826307</td></tr><tr><td>7240</td><td>562</td><td>4.955238</td></tr><tr><td>7240</td><td>3628</td><td>4.9259925</td></tr><tr><td>7240</td><td>862</td><td>4.922255</td></tr><tr><td>7240</td><td>6361</td><td>4.9218097</td></tr><tr><td>7240</td><td>9076</td><td>4.919676</td></tr><tr><td>7253</td><td>10020</td><td>4.2750387</td></tr><tr><td>7253</td><td>5207</td><td>4.2063084</td></tr><tr><td>7253</td><td>6862</td><td>4.1477523</td></tr><tr><td>7253</td><td>6920</td><td>4.1236467</td></tr><tr><td>7253</td><td>6590</td><td>4.1081004</td></tr><tr><td>7253</td><td>9566</td><td>4.100134</td></tr><tr><td>7253</td><td>3628</td><td>4.085259</td></tr><tr><td>7253</td><td>2840</td><td>4.08158</td></tr><tr><td>7253</td><td>6361</td><td>4.076507</td></tr><tr><td>7253</td><td>7254</td><td>4.0596433</td></tr><tr><td>7340</td><td>5207</td><td>4.7299604</td></tr><tr><td>7340</td><td>6590</td><td>4.719532</td></tr><tr><td>7340</td><td>10020</td><td>4.7119637</td></tr><tr><td>7340</td><td>6920</td><td>4.706821</td></tr><tr><td>7340</td><td>3628</td><td>4.676933</td></tr><tr><td>7340</td><td>9566</td><td>4.6465173</td></tr><tr><td>7340</td><td>6862</td><td>4.645539</td></tr><tr><td>7340</td><td>6361</td><td>4.6183796</td></tr><tr><td>7340</td><td>7254</td><td>4.610733</td></tr><tr><td>7340</td><td>8926</td><td>4.597102</td></tr><tr><td>7554</td><td>8233</td><td>3.8389447</td></tr><tr><td>7554</td><td>10020</td><td>3.5905223</td></tr><tr><td>7554</td><td>6590</td><td>3.519689</td></tr><tr><td>7554</td><td>3628</td><td>3.4783726</td></tr><tr><td>7554</td><td>6920</td><td>3.463813</td></tr><tr><td>7554</td><td>7593</td><td>3.4394517</td></tr><tr><td>7554</td><td>5207</td><td>3.432407</td></tr><tr><td>7554</td><td>9566</td><td>3.4280305</td></tr><tr><td>7554</td><td>2636</td><td>3.417307</td></tr><tr><td>7554</td><td>9076</td><td>3.4151878</td></tr><tr><td>7754</td><td>10020</td><td>4.2371373</td></tr><tr><td>7754</td><td>9076</td><td>4.1454663</td></tr><tr><td>7754</td><td>5207</td><td>4.0313444</td></tr><tr><td>7754</td><td>9531</td><td>4.0110345</td></tr><tr><td>7754</td><td>6902</td><td>4.010119</td></tr><tr><td>7754</td><td>9566</td><td>3.9711037</td></tr><tr><td>7754</td><td>862</td><td>3.970319</td></tr><tr><td>7754</td><td>562</td><td>3.9588616</td></tr><tr><td>7754</td><td>6920</td><td>3.9524014</td></tr><tr><td>7754</td><td>6361</td><td>3.9487984</td></tr><tr><td>7833</td><td>10020</td><td>4.628259</td></tr><tr><td>7833</td><td>3628</td><td>4.47207</td></tr><tr><td>7833</td><td>5207</td><td>4.4670143</td></tr><tr><td>7833</td><td>862</td><td>4.4334426</td></tr><tr><td>7833</td><td>6920</td><td>4.419505</td></tr><tr><td>7833</td><td>9566</td><td>4.4103146</td></tr><tr><td>7833</td><td>3885</td><td>4.4013553</td></tr><tr><td>7833</td><td>9141</td><td>4.370443</td></tr><tr><td>7833</td><td>7593</td><td>4.3630104</td></tr><tr><td>7833</td><td>6902</td><td>4.3553643</td></tr><tr><td>7982</td><td>10020</td><td>5.7233605</td></tr><tr><td>7982</td><td>5207</td><td>5.5148315</td></tr><tr><td>7982</td><td>6590</td><td>5.503703</td></tr><tr><td>7982</td><td>6920</td><td>5.490475</td></tr><tr><td>7982</td><td>3628</td><td>5.4852495</td></tr><tr><td>7982</td><td>862</td><td>5.480244</td></tr><tr><td>7982</td><td>9566</td><td>5.4767766</td></tr><tr><td>7982</td><td>6361</td><td>5.4455423</td></tr><tr><td>7982</td><td>5580</td><td>5.430267</td></tr><tr><td>7982</td><td>1010</td><td>5.404723</td></tr><tr><td>7993</td><td>3628</td><td>4.5435266</td></tr><tr><td>7993</td><td>6590</td><td>4.5082397</td></tr><tr><td>7993</td><td>1788</td><td>4.4937534</td></tr><tr><td>7993</td><td>1380</td><td>4.474887</td></tr><tr><td>7993</td><td>6920</td><td>4.465427</td></tr><tr><td>7993</td><td>8818</td><td>4.431004</td></tr><tr><td>7993</td><td>4640</td><td>4.4238625</td></tr><tr><td>7993</td><td>7593</td><td>4.4191628</td></tr><tr><td>7993</td><td>10020</td><td>4.4123445</td></tr><tr><td>7993</td><td>7254</td><td>4.402852</td></tr><tr><td>8086</td><td>7334</td><td>3.5832999</td></tr><tr><td>8086</td><td>8606</td><td>3.2849026</td></tr><tr><td>8086</td><td>9076</td><td>3.2581797</td></tr><tr><td>8086</td><td>3746</td><td>3.248175</td></tr><tr><td>8086</td><td>2884</td><td>3.2389786</td></tr><tr><td>8086</td><td>8109</td><td>3.227169</td></tr><tr><td>8086</td><td>862</td><td>3.2241073</td></tr><tr><td>8086</td><td>4522</td><td>3.2172492</td></tr><tr><td>8086</td><td>70</td><td>3.215257</td></tr><tr><td>8086</td><td>9712</td><td>3.2132573</td></tr><tr><td>8389</td><td>10020</td><td>3.8492312</td></tr><tr><td>8389</td><td>5207</td><td>3.7248201</td></tr><tr><td>8389</td><td>9566</td><td>3.6762152</td></tr><tr><td>8389</td><td>8854</td><td>3.6754246</td></tr><tr><td>8389</td><td>6361</td><td>3.6597297</td></tr><tr><td>8389</td><td>6920</td><td>3.6471813</td></tr><tr><td>8389</td><td>5580</td><td>3.6295989</td></tr><tr><td>8389</td><td>862</td><td>3.6209376</td></tr><tr><td>8389</td><td>6590</td><td>3.6202419</td></tr><tr><td>8389</td><td>3628</td><td>3.5864954</td></tr><tr><td>8592</td><td>10020</td><td>4.725116</td></tr><tr><td>8592</td><td>3628</td><td>4.65705</td></tr><tr><td>8592</td><td>9076</td><td>4.651289</td></tr><tr><td>8592</td><td>5207</td><td>4.627168</td></tr><tr><td>8592</td><td>6920</td><td>4.618972</td></tr><tr><td>8592</td><td>6590</td><td>4.603748</td></tr><tr><td>8592</td><td>9566</td><td>4.5744753</td></tr><tr><td>8592</td><td>9531</td><td>4.564329</td></tr><tr><td>8592</td><td>4868</td><td>4.5558157</td></tr><tr><td>8592</td><td>7593</td><td>4.5535183</td></tr><tr><td>8638</td><td>6590</td><td>4.5236835</td></tr><tr><td>8638</td><td>9566</td><td>4.50242</td></tr><tr><td>8638</td><td>5207</td><td>4.466201</td></tr><tr><td>8638</td><td>6920</td><td>4.440277</td></tr><tr><td>8638</td><td>7254</td><td>4.4034905</td></tr><tr><td>8638</td><td>10020</td><td>4.3883195</td></tr><tr><td>8638</td><td>6361</td><td>4.3878155</td></tr><tr><td>8638</td><td>1788</td><td>4.373075</td></tr><tr><td>8638</td><td>7874</td><td>4.370472</td></tr><tr><td>8638</td><td>3628</td><td>4.345274</td></tr><tr><td>9376</td><td>8580</td><td>3.5566678</td></tr><tr><td>9376</td><td>7910</td><td>3.5554776</td></tr><tr><td>9376</td><td>5207</td><td>3.5503373</td></tr><tr><td>9376</td><td>9566</td><td>3.4961247</td></tr><tr><td>9376</td><td>6590</td><td>3.472745</td></tr><tr><td>9376</td><td>6920</td><td>3.4617743</td></tr><tr><td>9376</td><td>7254</td><td>3.456522</td></tr><tr><td>9376</td><td>6361</td><td>3.4328794</td></tr><tr><td>9376</td><td>10020</td><td>3.4172528</td></tr><tr><td>9376</td><td>3628</td><td>3.3879845</td></tr><tr><td>9427</td><td>10020</td><td>4.095595</td></tr><tr><td>9427</td><td>4043</td><td>4.0472383</td></tr><tr><td>9427</td><td>3491</td><td>3.9831545</td></tr><tr><td>9427</td><td>8926</td><td>3.9771981</td></tr><tr><td>9427</td><td>6645</td><td>3.9419315</td></tr><tr><td>9427</td><td>6862</td><td>3.937266</td></tr><tr><td>9427</td><td>5207</td><td>3.9049814</td></tr><tr><td>9427</td><td>862</td><td>3.8845272</td></tr><tr><td>9427</td><td>3191</td><td>3.856483</td></tr><tr><td>9427</td><td>6659</td><td>3.8320892</td></tr><tr><td>9465</td><td>6920</td><td>4.9458914</td></tr><tr><td>9465</td><td>6590</td><td>4.9145226</td></tr><tr><td>9465</td><td>5207</td><td>4.898381</td></tr><tr><td>9465</td><td>3628</td><td>4.8622</td></tr><tr><td>9465</td><td>9566</td><td>4.848221</td></tr><tr><td>9465</td><td>10020</td><td>4.8255267</td></tr><tr><td>9465</td><td>7254</td><td>4.8197794</td></tr><tr><td>9465</td><td>1788</td><td>4.817349</td></tr><tr><td>9465</td><td>8978</td><td>4.807869</td></tr><tr><td>9465</td><td>4483</td><td>4.805811</td></tr><tr><td>9852</td><td>10020</td><td>4.7144938</td></tr><tr><td>9852</td><td>5207</td><td>4.705515</td></tr><tr><td>9852</td><td>9566</td><td>4.654929</td></tr><tr><td>9852</td><td>9076</td><td>4.63787</td></tr><tr><td>9852</td><td>3628</td><td>4.61416</td></tr><tr><td>9852</td><td>4868</td><td>4.610177</td></tr><tr><td>9852</td><td>2767</td><td>4.5965633</td></tr><tr><td>9852</td><td>3491</td><td>4.595421</td></tr><tr><td>9852</td><td>6361</td><td>4.5842676</td></tr><tr><td>9852</td><td>6920</td><td>4.5754757</td></tr><tr><td>9900</td><td>10020</td><td>5.339747</td></tr><tr><td>9900</td><td>9076</td><td>5.135588</td></tr><tr><td>9900</td><td>6902</td><td>5.0758886</td></tr><tr><td>9900</td><td>5207</td><td>5.0285234</td></tr><tr><td>9900</td><td>4868</td><td>5.000366</td></tr><tr><td>9900</td><td>3628</td><td>4.967562</td></tr><tr><td>9900</td><td>8854</td><td>4.9572186</td></tr><tr><td>9900</td><td>6920</td><td>4.9428196</td></tr><tr><td>9900</td><td>6590</td><td>4.9407425</td></tr><tr><td>9900</td><td>9566</td><td>4.923235</td></tr><tr><td>10206</td><td>10020</td><td>4.409086</td></tr><tr><td>10206</td><td>5207</td><td>4.265431</td></tr><tr><td>10206</td><td>6920</td><td>4.251783</td></tr><tr><td>10206</td><td>6590</td><td>4.2418675</td></tr><tr><td>10206</td><td>9566</td><td>4.2375784</td></tr><tr><td>10206</td><td>3628</td><td>4.223248</td></tr><tr><td>10206</td><td>9076</td><td>4.211574</td></tr><tr><td>10206</td><td>6361</td><td>4.175311</td></tr><tr><td>10206</td><td>9531</td><td>4.1692796</td></tr><tr><td>10206</td><td>1788</td><td>4.134844</td></tr><tr><td>10362</td><td>10020</td><td>4.842984</td></tr><tr><td>10362</td><td>5207</td><td>4.782204</td></tr><tr><td>10362</td><td>6902</td><td>4.777264</td></tr><tr><td>10362</td><td>6590</td><td>4.6939106</td></tr><tr><td>10362</td><td>9566</td><td>4.6810265</td></tr><tr><td>10362</td><td>6920</td><td>4.6777596</td></tr><tr><td>10362</td><td>7254</td><td>4.6623898</td></tr><tr><td>10362</td><td>3628</td><td>4.659633</td></tr><tr><td>10362</td><td>8978</td><td>4.619267</td></tr><tr><td>10362</td><td>6361</td><td>4.597758</td></tr><tr><td>10623</td><td>983</td><td>3.9085693</td></tr><tr><td>10623</td><td>10020</td><td>3.9031525</td></tr><tr><td>10623</td><td>5207</td><td>3.9002833</td></tr><tr><td>10623</td><td>6590</td><td>3.8947537</td></tr><tr><td>10623</td><td>2244</td><td>3.8904555</td></tr><tr><td>10623</td><td>9566</td><td>3.862382</td></tr><tr><td>10623</td><td>9076</td><td>3.8586798</td></tr><tr><td>10623</td><td>6920</td><td>3.855268</td></tr><tr><td>10623</td><td>3628</td><td>3.8517501</td></tr><tr><td>10623</td><td>1380</td><td>3.847467</td></tr><tr><td>10817</td><td>6089</td><td>4.794072</td></tr><tr><td>10817</td><td>10020</td><td>4.472475</td></tr><tr><td>10817</td><td>5207</td><td>4.413244</td></tr><tr><td>10817</td><td>9566</td><td>4.361685</td></tr><tr><td>10817</td><td>6920</td><td>4.353859</td></tr><tr><td>10817</td><td>6590</td><td>4.3258753</td></tr><tr><td>10817</td><td>6361</td><td>4.297447</td></tr><tr><td>10817</td><td>6902</td><td>4.2826505</td></tr><tr><td>10817</td><td>6457</td><td>4.267276</td></tr><tr><td>10817</td><td>7593</td><td>4.2670536</td></tr><tr><td>11033</td><td>10020</td><td>2.9502556</td></tr><tr><td>11033</td><td>3628</td><td>2.9251096</td></tr><tr><td>11033</td><td>862</td><td>2.9139862</td></tr><tr><td>11033</td><td>6920</td><td>2.8974411</td></tr><tr><td>11033</td><td>6590</td><td>2.8938656</td></tr><tr><td>11033</td><td>9842</td><td>2.879654</td></tr><tr><td>11033</td><td>4344</td><td>2.8701234</td></tr><tr><td>11033</td><td>9566</td><td>2.8678324</td></tr><tr><td>11033</td><td>5207</td><td>2.862888</td></tr><tr><td>11033</td><td>8109</td><td>2.8475235</td></tr><tr><td>11141</td><td>10020</td><td>4.816468</td></tr><tr><td>11141</td><td>9076</td><td>4.683408</td></tr><tr><td>11141</td><td>6920</td><td>4.6460266</td></tr><tr><td>11141</td><td>2507</td><td>4.644705</td></tr><tr><td>11141</td><td>9566</td><td>4.628432</td></tr><tr><td>11141</td><td>5580</td><td>4.6144714</td></tr><tr><td>11141</td><td>9141</td><td>4.6031756</td></tr><tr><td>11141</td><td>9531</td><td>4.601591</td></tr><tr><td>11141</td><td>6590</td><td>4.587825</td></tr><tr><td>11141</td><td>3885</td><td>4.5859337</td></tr><tr><td>11317</td><td>10020</td><td>4.4097176</td></tr><tr><td>11317</td><td>5207</td><td>4.219063</td></tr><tr><td>11317</td><td>6920</td><td>4.214651</td></tr><tr><td>11317</td><td>6590</td><td>4.187873</td></tr><tr><td>11317</td><td>9566</td><td>4.1842895</td></tr><tr><td>11317</td><td>3628</td><td>4.163044</td></tr><tr><td>11317</td><td>6902</td><td>4.146723</td></tr><tr><td>11317</td><td>7254</td><td>4.144477</td></tr><tr><td>11317</td><td>9076</td><td>4.1308537</td></tr><tr><td>11317</td><td>6361</td><td>4.120182</td></tr><tr><td>11458</td><td>5207</td><td>4.4271502</td></tr><tr><td>11458</td><td>9566</td><td>4.4089155</td></tr><tr><td>11458</td><td>6590</td><td>4.4010215</td></tr><tr><td>11458</td><td>10020</td><td>4.374297</td></tr><tr><td>11458</td><td>6920</td><td>4.3689227</td></tr><tr><td>11458</td><td>7254</td><td>4.3306494</td></tr><tr><td>11458</td><td>3628</td><td>4.3143144</td></tr><tr><td>11458</td><td>4868</td><td>4.3101783</td></tr><tr><td>11458</td><td>1788</td><td>4.294682</td></tr><tr><td>11458</td><td>8926</td><td>4.2925363</td></tr><tr><td>11748</td><td>5634</td><td>4.269228</td></tr><tr><td>11748</td><td>6228</td><td>3.9961379</td></tr><tr><td>11748</td><td>10020</td><td>3.9845707</td></tr><tr><td>11748</td><td>862</td><td>3.9620025</td></tr><tr><td>11748</td><td>2149</td><td>3.949481</td></tr><tr><td>11748</td><td>9141</td><td>3.8987207</td></tr><tr><td>11748</td><td>9566</td><td>3.8980122</td></tr><tr><td>11748</td><td>3628</td><td>3.8695934</td></tr><tr><td>11748</td><td>9531</td><td>3.8653202</td></tr><tr><td>11748</td><td>5207</td><td>3.845392</td></tr><tr><td>11858</td><td>10020</td><td>4.355114</td></tr><tr><td>11858</td><td>6590</td><td>4.2229304</td></tr><tr><td>11858</td><td>5207</td><td>4.2047224</td></tr><tr><td>11858</td><td>9566</td><td>4.204585</td></tr><tr><td>11858</td><td>6920</td><td>4.18646</td></tr><tr><td>11858</td><td>9076</td><td>4.1732626</td></tr><tr><td>11858</td><td>2507</td><td>4.1700354</td></tr><tr><td>11858</td><td>6361</td><td>4.1670055</td></tr><tr><td>11858</td><td>3885</td><td>4.1501827</td></tr><tr><td>11858</td><td>5580</td><td>4.139987</td></tr><tr><td>12027</td><td>10020</td><td>5.5803113</td></tr><tr><td>12027</td><td>9076</td><td>5.380655</td></tr><tr><td>12027</td><td>5207</td><td>5.357118</td></tr><tr><td>12027</td><td>6361</td><td>5.3441687</td></tr><tr><td>12027</td><td>6920</td><td>5.3365664</td></tr><tr><td>12027</td><td>3628</td><td>5.3333683</td></tr><tr><td>12027</td><td>6590</td><td>5.330557</td></tr><tr><td>12027</td><td>862</td><td>5.329954</td></tr><tr><td>12027</td><td>9566</td><td>5.3076854</td></tr><tr><td>12027</td><td>1010</td><td>5.282721</td></tr><tr><td>12046</td><td>10020</td><td>4.534798</td></tr><tr><td>12046</td><td>8286</td><td>4.3687983</td></tr><tr><td>12046</td><td>5207</td><td>4.2081485</td></tr><tr><td>12046</td><td>3491</td><td>4.1761546</td></tr><tr><td>12046</td><td>6920</td><td>4.1700187</td></tr><tr><td>12046</td><td>6361</td><td>4.169241</td></tr><tr><td>12046</td><td>5580</td><td>4.168678</td></tr><tr><td>12046</td><td>6590</td><td>4.1572084</td></tr><tr><td>12046</td><td>862</td><td>4.153301</td></tr><tr><td>12046</td><td>267</td><td>4.1428957</td></tr><tr><td>12799</td><td>10020</td><td>5.198858</td></tr><tr><td>12799</td><td>862</td><td>4.9093704</td></tr><tr><td>12799</td><td>9566</td><td>4.900491</td></tr><tr><td>12799</td><td>5207</td><td>4.899756</td></tr><tr><td>12799</td><td>3628</td><td>4.8855734</td></tr><tr><td>12799</td><td>9141</td><td>4.8642626</td></tr><tr><td>12799</td><td>6361</td><td>4.845681</td></tr><tr><td>12799</td><td>3885</td><td>4.817893</td></tr><tr><td>12799</td><td>6920</td><td>4.8167987</td></tr><tr><td>12799</td><td>267</td><td>4.8092327</td></tr><tr><td>12940</td><td>10020</td><td>4.3130813</td></tr><tr><td>12940</td><td>8286</td><td>4.169037</td></tr><tr><td>12940</td><td>5935</td><td>4.1304026</td></tr><tr><td>12940</td><td>5948</td><td>4.0760202</td></tr><tr><td>12940</td><td>7749</td><td>4.0704284</td></tr><tr><td>12940</td><td>3491</td><td>4.0626063</td></tr><tr><td>12940</td><td>2149</td><td>4.061278</td></tr><tr><td>12940</td><td>6886</td><td>4.048598</td></tr><tr><td>12940</td><td>5580</td><td>4.0406885</td></tr><tr><td>12940</td><td>862</td><td>3.983701</td></tr><tr><td>13285</td><td>10020</td><td>5.323206</td></tr><tr><td>13285</td><td>5207</td><td>5.183091</td></tr><tr><td>13285</td><td>6590</td><td>5.135923</td></tr><tr><td>13285</td><td>9566</td><td>5.135059</td></tr><tr><td>13285</td><td>6920</td><td>5.1155567</td></tr><tr><td>13285</td><td>6361</td><td>5.0868993</td></tr><tr><td>13285</td><td>7254</td><td>5.045721</td></tr><tr><td>13285</td><td>5580</td><td>5.0413404</td></tr><tr><td>13285</td><td>4483</td><td>5.0355215</td></tr><tr><td>13285</td><td>3628</td><td>5.0245333</td></tr><tr><td>13289</td><td>9566</td><td>4.6859007</td></tr><tr><td>13289</td><td>6590</td><td>4.650105</td></tr><tr><td>13289</td><td>5207</td><td>4.638139</td></tr><tr><td>13289</td><td>6920</td><td>4.6290674</td></tr><tr><td>13289</td><td>10020</td><td>4.621982</td></tr><tr><td>13289</td><td>4344</td><td>4.620895</td></tr><tr><td>13289</td><td>9842</td><td>4.569477</td></tr><tr><td>13289</td><td>7254</td><td>4.563509</td></tr><tr><td>13289</td><td>1010</td><td>4.5631332</td></tr><tr><td>13289</td><td>5580</td><td>4.5535913</td></tr><tr><td>13623</td><td>10020</td><td>3.1985257</td></tr><tr><td>13623</td><td>5207</td><td>3.11901</td></tr><tr><td>13623</td><td>9566</td><td>3.0646014</td></tr><tr><td>13623</td><td>6902</td><td>3.06077</td></tr><tr><td>13623</td><td>6920</td><td>3.0435016</td></tr><tr><td>13623</td><td>6590</td><td>3.0179908</td></tr><tr><td>13623</td><td>9076</td><td>3.0013585</td></tr><tr><td>13623</td><td>6862</td><td>2.9931536</td></tr><tr><td>13623</td><td>7254</td><td>2.9925938</td></tr><tr><td>13623</td><td>3885</td><td>2.985447</td></tr><tr><td>13832</td><td>10020</td><td>4.1954436</td></tr><tr><td>13832</td><td>3628</td><td>4.0302916</td></tr><tr><td>13832</td><td>6920</td><td>4.0284796</td></tr><tr><td>13832</td><td>3885</td><td>4.0233016</td></tr><tr><td>13832</td><td>6590</td><td>4.019783</td></tr><tr><td>13832</td><td>9566</td><td>4.0157785</td></tr><tr><td>13832</td><td>7254</td><td>4.0156207</td></tr><tr><td>13832</td><td>5207</td><td>3.993464</td></tr><tr><td>13832</td><td>5580</td><td>3.9887192</td></tr><tr><td>13832</td><td>6361</td><td>3.985269</td></tr><tr><td>13840</td><td>8255</td><td>3.1299431</td></tr><tr><td>13840</td><td>9076</td><td>3.093319</td></tr><tr><td>13840</td><td>5335</td><td>3.0535326</td></tr><tr><td>13840</td><td>3086</td><td>3.0502954</td></tr><tr><td>13840</td><td>862</td><td>3.0471616</td></tr><tr><td>13840</td><td>964</td><td>3.04258</td></tr><tr><td>13840</td><td>10020</td><td>3.037929</td></tr><tr><td>13840</td><td>5207</td><td>3.035267</td></tr><tr><td>13840</td><td>2353</td><td>3.0279026</td></tr><tr><td>13840</td><td>9208</td><td>3.0229137</td></tr><tr><td>14450</td><td>4202</td><td>4.7692785</td></tr><tr><td>14450</td><td>10020</td><td>4.5507946</td></tr><tr><td>14450</td><td>6590</td><td>4.46701</td></tr><tr><td>14450</td><td>983</td><td>4.4355674</td></tr><tr><td>14450</td><td>3491</td><td>4.4250636</td></tr><tr><td>14450</td><td>2767</td><td>4.42162</td></tr><tr><td>14450</td><td>3395</td><td>4.4083743</td></tr><tr><td>14450</td><td>780</td><td>4.404834</td></tr><tr><td>14450</td><td>3628</td><td>4.4000516</td></tr><tr><td>14450</td><td>6920</td><td>4.395468</td></tr><tr><td>14570</td><td>10020</td><td>5.6159296</td></tr><tr><td>14570</td><td>5207</td><td>5.6033063</td></tr><tr><td>14570</td><td>3628</td><td>5.533864</td></tr><tr><td>14570</td><td>6920</td><td>5.508641</td></tr><tr><td>14570</td><td>9566</td><td>5.472445</td></tr><tr><td>14570</td><td>6902</td><td>5.459286</td></tr><tr><td>14570</td><td>6590</td><td>5.4362516</td></tr><tr><td>14570</td><td>7254</td><td>5.4066334</td></tr><tr><td>14570</td><td>7593</td><td>5.3953657</td></tr><tr><td>14570</td><td>9076</td><td>5.390859</td></tr><tr><td>14832</td><td>8809</td><td>2.8547297</td></tr><tr><td>14832</td><td>10020</td><td>2.7695622</td></tr><tr><td>14832</td><td>4344</td><td>2.7630727</td></tr><tr><td>14832</td><td>7593</td><td>2.7474813</td></tr><tr><td>14832</td><td>862</td><td>2.6822302</td></tr><tr><td>14832</td><td>4868</td><td>2.6820471</td></tr><tr><td>14832</td><td>3491</td><td>2.6585176</td></tr><tr><td>14832</td><td>9141</td><td>2.6551747</td></tr><tr><td>14832</td><td>6920</td><td>2.648814</td></tr><tr><td>14832</td><td>6902</td><td>2.6453896</td></tr><tr><td>15447</td><td>10020</td><td>4.8808475</td></tr><tr><td>15447</td><td>9076</td><td>4.703251</td></tr><tr><td>15447</td><td>3628</td><td>4.635332</td></tr><tr><td>15447</td><td>6590</td><td>4.630692</td></tr><tr><td>15447</td><td>6361</td><td>4.607524</td></tr><tr><td>15447</td><td>8109</td><td>4.6064706</td></tr><tr><td>15447</td><td>5207</td><td>4.60504</td></tr><tr><td>15447</td><td>6920</td><td>4.603833</td></tr><tr><td>15447</td><td>3491</td><td>4.6001396</td></tr><tr><td>15447</td><td>9566</td><td>4.591638</td></tr><tr><td>15619</td><td>7425</td><td>4.3345785</td></tr><tr><td>15619</td><td>5207</td><td>4.2718825</td></tr><tr><td>15619</td><td>3628</td><td>4.257066</td></tr><tr><td>15619</td><td>4344</td><td>4.252158</td></tr><tr><td>15619</td><td>10020</td><td>4.195593</td></tr><tr><td>15619</td><td>9842</td><td>4.194667</td></tr><tr><td>15619</td><td>7550</td><td>4.189834</td></tr><tr><td>15619</td><td>5919</td><td>4.176225</td></tr><tr><td>15619</td><td>6920</td><td>4.174262</td></tr><tr><td>15619</td><td>6228</td><td>4.1714125</td></tr><tr><td>15727</td><td>10020</td><td>4.697122</td></tr><tr><td>15727</td><td>5919</td><td>4.4622345</td></tr><tr><td>15727</td><td>3491</td><td>4.4217005</td></tr><tr><td>15727</td><td>8926</td><td>4.4108806</td></tr><tr><td>15727</td><td>6590</td><td>4.408866</td></tr><tr><td>15727</td><td>267</td><td>4.4067297</td></tr><tr><td>15727</td><td>3520</td><td>4.4035993</td></tr><tr><td>15727</td><td>1341</td><td>4.4030766</td></tr><tr><td>15727</td><td>862</td><td>4.3933525</td></tr><tr><td>15727</td><td>6920</td><td>4.392514</td></tr><tr><td>15790</td><td>10020</td><td>5.010311</td></tr><tr><td>15790</td><td>5207</td><td>4.905453</td></tr><tr><td>15790</td><td>9566</td><td>4.869564</td></tr><tr><td>15790</td><td>6590</td><td>4.8245573</td></tr><tr><td>15790</td><td>6920</td><td>4.807924</td></tr><tr><td>15790</td><td>3628</td><td>4.788686</td></tr><tr><td>15790</td><td>6361</td><td>4.7528152</td></tr><tr><td>15790</td><td>1788</td><td>4.7502494</td></tr><tr><td>15790</td><td>4344</td><td>4.73971</td></tr><tr><td>15790</td><td>862</td><td>4.73866</td></tr><tr><td>15846</td><td>10020</td><td>5.6608534</td></tr><tr><td>15846</td><td>5207</td><td>5.5048623</td></tr><tr><td>15846</td><td>6920</td><td>5.420968</td></tr><tr><td>15846</td><td>9566</td><td>5.4135385</td></tr><tr><td>15846</td><td>6590</td><td>5.388777</td></tr><tr><td>15846</td><td>6361</td><td>5.32078</td></tr><tr><td>15846</td><td>5580</td><td>5.2894015</td></tr><tr><td>15846</td><td>7254</td><td>5.2846756</td></tr><tr><td>15846</td><td>9076</td><td>5.2671595</td></tr><tr><td>15846</td><td>6862</td><td>5.254656</td></tr><tr><td>15957</td><td>9603</td><td>3.7966206</td></tr><tr><td>15957</td><td>9076</td><td>3.4221764</td></tr><tr><td>15957</td><td>5207</td><td>3.3601413</td></tr><tr><td>15957</td><td>9531</td><td>3.3523402</td></tr><tr><td>15957</td><td>9566</td><td>3.3419862</td></tr><tr><td>15957</td><td>3885</td><td>3.332906</td></tr><tr><td>15957</td><td>10020</td><td>3.3321269</td></tr><tr><td>15957</td><td>6590</td><td>3.321677</td></tr><tr><td>15957</td><td>3798</td><td>3.3063586</td></tr><tr><td>15957</td><td>5088</td><td>3.2836275</td></tr><tr><td>16386</td><td>10020</td><td>4.596677</td></tr><tr><td>16386</td><td>5207</td><td>4.4856167</td></tr><tr><td>16386</td><td>6920</td><td>4.4301057</td></tr><tr><td>16386</td><td>9566</td><td>4.396067</td></tr><tr><td>16386</td><td>6590</td><td>4.3836517</td></tr><tr><td>16386</td><td>6862</td><td>4.3770456</td></tr><tr><td>16386</td><td>3628</td><td>4.3647738</td></tr><tr><td>16386</td><td>7593</td><td>4.3619146</td></tr><tr><td>16386</td><td>3695</td><td>4.3497753</td></tr><tr><td>16386</td><td>6361</td><td>4.3340387</td></tr><tr><td>16503</td><td>10020</td><td>3.5344377</td></tr><tr><td>16503</td><td>5207</td><td>3.4249885</td></tr><tr><td>16503</td><td>9566</td><td>3.4233692</td></tr><tr><td>16503</td><td>6590</td><td>3.3765604</td></tr><tr><td>16503</td><td>6920</td><td>3.3328376</td></tr><tr><td>16503</td><td>6361</td><td>3.314581</td></tr><tr><td>16503</td><td>8978</td><td>3.3098683</td></tr><tr><td>16503</td><td>6228</td><td>3.3036582</td></tr><tr><td>16503</td><td>9076</td><td>3.3002882</td></tr><tr><td>16503</td><td>7254</td><td>3.2991793</td></tr><tr><td>16574</td><td>10020</td><td>4.7651196</td></tr><tr><td>16574</td><td>3628</td><td>4.6201515</td></tr><tr><td>16574</td><td>6920</td><td>4.524063</td></tr><tr><td>16574</td><td>5207</td><td>4.523755</td></tr><tr><td>16574</td><td>1788</td><td>4.483052</td></tr><tr><td>16574</td><td>6590</td><td>4.4731154</td></tr><tr><td>16574</td><td>5580</td><td>4.458162</td></tr><tr><td>16574</td><td>6361</td><td>4.444923</td></tr><tr><td>16574</td><td>9566</td><td>4.442835</td></tr><tr><td>16574</td><td>4483</td><td>4.438864</td></tr><tr><td>17389</td><td>10020</td><td>3.4177585</td></tr><tr><td>17389</td><td>6590</td><td>3.3509653</td></tr><tr><td>17389</td><td>5207</td><td>3.2998986</td></tr><tr><td>17389</td><td>9566</td><td>3.29949</td></tr><tr><td>17389</td><td>6920</td><td>3.2957947</td></tr><tr><td>17389</td><td>3628</td><td>3.249565</td></tr><tr><td>17389</td><td>6361</td><td>3.2430677</td></tr><tr><td>17389</td><td>9076</td><td>3.210306</td></tr><tr><td>17389</td><td>8978</td><td>3.2069662</td></tr><tr><td>17389</td><td>862</td><td>3.206629</td></tr><tr><td>17420</td><td>5207</td><td>4.602209</td></tr><tr><td>17420</td><td>4868</td><td>4.5989504</td></tr><tr><td>17420</td><td>10020</td><td>4.5681224</td></tr><tr><td>17420</td><td>6920</td><td>4.5616894</td></tr><tr><td>17420</td><td>9566</td><td>4.542342</td></tr><tr><td>17420</td><td>6902</td><td>4.5089517</td></tr><tr><td>17420</td><td>6590</td><td>4.505166</td></tr><tr><td>17420</td><td>9076</td><td>4.490385</td></tr><tr><td>17420</td><td>3628</td><td>4.488063</td></tr><tr><td>17420</td><td>7254</td><td>4.478532</td></tr><tr><td>17679</td><td>10020</td><td>5.224992</td></tr><tr><td>17679</td><td>5207</td><td>5.140422</td></tr><tr><td>17679</td><td>3628</td><td>5.1034007</td></tr><tr><td>17679</td><td>6590</td><td>5.072743</td></tr><tr><td>17679</td><td>9566</td><td>5.06893</td></tr><tr><td>17679</td><td>862</td><td>5.0160685</td></tr><tr><td>17679</td><td>6920</td><td>5.0123653</td></tr><tr><td>17679</td><td>8978</td><td>4.994641</td></tr><tr><td>17679</td><td>3885</td><td>4.9705563</td></tr><tr><td>17679</td><td>7550</td><td>4.9648786</td></tr><tr><td>17753</td><td>9307</td><td>4.5424</td></tr><tr><td>17753</td><td>4868</td><td>3.9206815</td></tr><tr><td>17753</td><td>9566</td><td>3.8278666</td></tr><tr><td>17753</td><td>6902</td><td>3.8210948</td></tr><tr><td>17753</td><td>6920</td><td>3.8074665</td></tr><tr><td>17753</td><td>6590</td><td>3.783076</td></tr><tr><td>17753</td><td>6583</td><td>3.7787247</td></tr><tr><td>17753</td><td>780</td><td>3.7587006</td></tr><tr><td>17753</td><td>6963</td><td>3.7577763</td></tr><tr><td>17753</td><td>5207</td><td>3.755575</td></tr><tr><td>18024</td><td>10020</td><td>3.9542189</td></tr><tr><td>18024</td><td>9566</td><td>3.8654225</td></tr><tr><td>18024</td><td>5207</td><td>3.8634214</td></tr><tr><td>18024</td><td>6590</td><td>3.8478737</td></tr><tr><td>18024</td><td>6920</td><td>3.827638</td></tr><tr><td>18024</td><td>6361</td><td>3.8213012</td></tr><tr><td>18024</td><td>862</td><td>3.8200169</td></tr><tr><td>18024</td><td>3628</td><td>3.815854</td></tr><tr><td>18024</td><td>7254</td><td>3.800873</td></tr><tr><td>18024</td><td>9076</td><td>3.796158</td></tr><tr><td>18051</td><td>10020</td><td>4.688256</td></tr><tr><td>18051</td><td>6902</td><td>4.5152583</td></tr><tr><td>18051</td><td>9076</td><td>4.504469</td></tr><tr><td>18051</td><td>5207</td><td>4.4704084</td></tr><tr><td>18051</td><td>3753</td><td>4.4670944</td></tr><tr><td>18051</td><td>3628</td><td>4.46296</td></tr><tr><td>18051</td><td>8109</td><td>4.445294</td></tr><tr><td>18051</td><td>8013</td><td>4.4441714</td></tr><tr><td>18051</td><td>6920</td><td>4.4420533</td></tr><tr><td>18051</td><td>9566</td><td>4.4347315</td></tr><tr><td>18498</td><td>10020</td><td>3.5995955</td></tr><tr><td>18498</td><td>4344</td><td>3.594275</td></tr><tr><td>18498</td><td>9842</td><td>3.477104</td></tr><tr><td>18498</td><td>9076</td><td>3.4656913</td></tr><tr><td>18498</td><td>8109</td><td>3.439192</td></tr><tr><td>18498</td><td>3628</td><td>3.4130304</td></tr><tr><td>18498</td><td>5207</td><td>3.4095514</td></tr><tr><td>18498</td><td>9566</td><td>3.4051828</td></tr><tr><td>18498</td><td>6590</td><td>3.4045033</td></tr><tr><td>18498</td><td>6920</td><td>3.4014258</td></tr><tr><td>18654</td><td>3628</td><td>5.1135883</td></tr><tr><td>18654</td><td>1788</td><td>4.946328</td></tr><tr><td>18654</td><td>10020</td><td>4.939394</td></tr><tr><td>18654</td><td>2244</td><td>4.936672</td></tr><tr><td>18654</td><td>1010</td><td>4.925075</td></tr><tr><td>18654</td><td>6920</td><td>4.912536</td></tr><tr><td>18654</td><td>6590</td><td>4.906875</td></tr><tr><td>18654</td><td>862</td><td>4.904367</td></tr><tr><td>18654</td><td>9714</td><td>4.89238</td></tr><tr><td>18654</td><td>1029</td><td>4.884262</td></tr><tr><td>18800</td><td>10020</td><td>4.2400994</td></tr><tr><td>18800</td><td>9566</td><td>4.0792203</td></tr><tr><td>18800</td><td>5207</td><td>4.0718393</td></tr><tr><td>18800</td><td>7593</td><td>4.058328</td></tr><tr><td>18800</td><td>3885</td><td>4.028725</td></tr><tr><td>18800</td><td>6920</td><td>4.002191</td></tr><tr><td>18800</td><td>6590</td><td>3.9926195</td></tr><tr><td>18800</td><td>4868</td><td>3.9881935</td></tr><tr><td>18800</td><td>7117</td><td>3.9851305</td></tr><tr><td>18800</td><td>7254</td><td>3.9763987</td></tr><tr><td>18866</td><td>9941</td><td>3.8152008</td></tr><tr><td>18866</td><td>10020</td><td>3.7173579</td></tr><tr><td>18866</td><td>8187</td><td>3.6218553</td></tr><tr><td>18866</td><td>3953</td><td>3.5620291</td></tr><tr><td>18866</td><td>3628</td><td>3.554092</td></tr><tr><td>18866</td><td>7537</td><td>3.5306382</td></tr><tr><td>18866</td><td>9004</td><td>3.486209</td></tr><tr><td>18866</td><td>5580</td><td>3.4841652</td></tr><tr><td>18866</td><td>9531</td><td>3.481543</td></tr><tr><td>18866</td><td>6361</td><td>3.462193</td></tr><tr><td>18911</td><td>10020</td><td>3.7315917</td></tr><tr><td>18911</td><td>3628</td><td>3.679975</td></tr><tr><td>18911</td><td>3310</td><td>3.6505837</td></tr><tr><td>18911</td><td>5207</td><td>3.6451683</td></tr><tr><td>18911</td><td>6590</td><td>3.642483</td></tr><tr><td>18911</td><td>6361</td><td>3.64054</td></tr><tr><td>18911</td><td>6920</td><td>3.6343143</td></tr><tr><td>18911</td><td>8109</td><td>3.627639</td></tr><tr><td>18911</td><td>9076</td><td>3.604501</td></tr><tr><td>18911</td><td>4483</td><td>3.6034677</td></tr><tr><td>18944</td><td>10020</td><td>5.7205305</td></tr><tr><td>18944</td><td>5207</td><td>5.498187</td></tr><tr><td>18944</td><td>9566</td><td>5.4254704</td></tr><tr><td>18944</td><td>6920</td><td>5.4238243</td></tr><tr><td>18944</td><td>6590</td><td>5.4080405</td></tr><tr><td>18944</td><td>6902</td><td>5.4069633</td></tr><tr><td>18944</td><td>3628</td><td>5.398187</td></tr><tr><td>18944</td><td>5580</td><td>5.370127</td></tr><tr><td>18944</td><td>9076</td><td>5.3614745</td></tr><tr><td>18944</td><td>8109</td><td>5.337184</td></tr><tr><td>18979</td><td>10020</td><td>4.1730494</td></tr><tr><td>18979</td><td>9076</td><td>4.0147033</td></tr><tr><td>18979</td><td>6902</td><td>4.0029807</td></tr><tr><td>18979</td><td>5919</td><td>3.945688</td></tr><tr><td>18979</td><td>3885</td><td>3.9391804</td></tr><tr><td>18979</td><td>3628</td><td>3.9340718</td></tr><tr><td>18979</td><td>5207</td><td>3.897314</td></tr><tr><td>18979</td><td>6920</td><td>3.8956664</td></tr><tr><td>18979</td><td>2507</td><td>3.891828</td></tr><tr><td>18979</td><td>6590</td><td>3.8912556</td></tr><tr><td>19079</td><td>10020</td><td>4.545784</td></tr><tr><td>19079</td><td>9076</td><td>4.340554</td></tr><tr><td>19079</td><td>9566</td><td>4.3396373</td></tr><tr><td>19079</td><td>5207</td><td>4.335661</td></tr><tr><td>19079</td><td>3628</td><td>4.331913</td></tr><tr><td>19079</td><td>3885</td><td>4.3128433</td></tr><tr><td>19079</td><td>7593</td><td>4.29592</td></tr><tr><td>19079</td><td>6920</td><td>4.2936616</td></tr><tr><td>19079</td><td>6361</td><td>4.280258</td></tr><tr><td>19079</td><td>4344</td><td>4.256472</td></tr><tr><td>19204</td><td>10020</td><td>4.7266045</td></tr><tr><td>19204</td><td>5207</td><td>4.583671</td></tr><tr><td>19204</td><td>9842</td><td>4.575456</td></tr><tr><td>19204</td><td>6902</td><td>4.5674405</td></tr><tr><td>19204</td><td>6590</td><td>4.5342035</td></tr><tr><td>19204</td><td>9566</td><td>4.5338297</td></tr><tr><td>19204</td><td>6920</td><td>4.4926705</td></tr><tr><td>19204</td><td>9076</td><td>4.4877152</td></tr><tr><td>19204</td><td>7373</td><td>4.4583974</td></tr><tr><td>19204</td><td>3885</td><td>4.4324307</td></tr></tbody></table></div>"
      ]
     },
     "metadata": {},
     "output_type": "display_data"
    }
   ],
   "source": [
    "clean_recs.join(remote_table, [\"userid\", \"book_id\"], \"left\").filter(remote_table.rating.isNull()).show()\n",
    "\n",
    "clean_recs_filtered = clean_recs.select(\"userid\", \"book_id\", \"prediction\")\n",
    "\n",
    "display(clean_recs_filtered)"
   ]
  },
  {
   "cell_type": "markdown",
   "metadata": {},
   "source": [
    "Now, with our 10 recommendations ready, we need to make sure that the recommended books in each user's list haven't already been rated (and implicitly been read by the user). We can filter out any recommendations that have been rated by that user:"
   ]
  },
  {
   "cell_type": "code",
   "execution_count": 55,
   "metadata": {},
   "outputs": [
    {
     "data": {
      "text/html": [
       "<style scoped>\n",
       "  .ansiout {\n",
       "    display: block;\n",
       "    unicode-bidi: embed;\n",
       "    white-space: pre-wrap;\n",
       "    word-wrap: break-word;\n",
       "    word-break: break-all;\n",
       "    font-family: \"Source Code Pro\", \"Menlo\", monospace;;\n",
       "    font-size: 13px;\n",
       "    color: #555;\n",
       "    margin-left: 4px;\n",
       "    line-height: 19px;\n",
       "  }\n",
       "</style>\n",
       "<div class=\"ansiout\"></div>"
      ]
     },
     "metadata": {},
     "output_type": "display_data"
    }
   ],
   "source": [
    "new_books = (clean_recs_filtered.join(remote_table, [\"userid\", \"book_id\"], \"left\").filter(remote_table.rating.isNull()))"
   ]
  },
  {
   "cell_type": "markdown",
   "metadata": {},
   "source": [
    "In the end, we can save just the new book recommendations to eventually push back to our remote PostgreSQL table:"
   ]
  },
  {
   "cell_type": "code",
   "execution_count": 57,
   "metadata": {},
   "outputs": [
    {
     "data": {
      "text/html": [
       "<style scoped>\n",
       "  .table-result-container {\n",
       "    max-height: 300px;\n",
       "    overflow: auto;\n",
       "  }\n",
       "  table, th, td {\n",
       "    border: 1px solid black;\n",
       "    border-collapse: collapse;\n",
       "  }\n",
       "  th, td {\n",
       "    padding: 5px;\n",
       "  }\n",
       "  th {\n",
       "    text-align: left;\n",
       "  }\n",
       "</style><div class='table-result-container'><table class='table-result'><thead style='background-color: white'><tr><th>userid</th><th>book_id</th><th>prediction</th></tr></thead><tbody><tr><td>53429</td><td>10026</td><td>3.7028527</td></tr><tr><td>53427</td><td>10034</td><td>4.4262066</td></tr><tr><td>53426</td><td>6590</td><td>5.2477336</td></tr><tr><td>53426</td><td>5580</td><td>5.1231766</td></tr><tr><td>53426</td><td>6361</td><td>5.1833167</td></tr><tr><td>53428</td><td>5580</td><td>4.003819</td></tr><tr><td>53427</td><td>10036</td><td>4.4262066</td></tr><tr><td>53428</td><td>6361</td><td>4.0357094</td></tr><tr><td>53426</td><td>6920</td><td>5.243292</td></tr><tr><td>53428</td><td>10036</td><td>4.064948</td></tr><tr><td>53428</td><td>6920</td><td>4.0739856</td></tr><tr><td>53429</td><td>10020</td><td>4.065512</td></tr><tr><td>53428</td><td>10034</td><td>4.064948</td></tr><tr><td>53427</td><td>10020</td><td>4.4985204</td></tr><tr><td>53426</td><td>7254</td><td>5.21943</td></tr><tr><td>53426</td><td>9566</td><td>5.3054423</td></tr><tr><td>53428</td><td>9566</td><td>4.072011</td></tr><tr><td>53429</td><td>10027</td><td>3.7028527</td></tr><tr><td>53429</td><td>10025</td><td>3.7028527</td></tr><tr><td>53426</td><td>10020</td><td>5.427298</td></tr><tr><td>53429</td><td>10024</td><td>3.7028527</td></tr><tr><td>53426</td><td>5207</td><td>5.3255463</td></tr><tr><td>53428</td><td>6590</td><td>4.0241117</td></tr><tr><td>53426</td><td>8978</td><td>5.1319685</td></tr><tr><td>53426</td><td>3628</td><td>5.233329</td></tr><tr><td>53428</td><td>5207</td><td>4.127137</td></tr><tr><td>53428</td><td>3628</td><td>4.062442</td></tr></tbody></table></div>"
      ]
     },
     "metadata": {},
     "output_type": "display_data"
    }
   ],
   "source": [
    "new_books_fnl = new_books.select('userid', 'book_id', 'prediction')\n",
    "\n",
    "new_books_users = new_books_fnl.filter(new_books_fnl['userid'] > 53424)\n",
    "\n",
    "new_books_use = new_books_users.select('userid', 'book_id', 'prediction')\n",
    "\n",
    "display(new_books_use)"
   ]
  },
  {
   "cell_type": "markdown",
   "metadata": {},
   "source": [
    "And finally, using our \"write\" command, we can overwrite the existing table in our remote table with our new recommendations:"
   ]
  },
  {
   "cell_type": "code",
   "execution_count": 59,
   "metadata": {},
   "outputs": [
    {
     "data": {
      "text/html": [
       "<style scoped>\n",
       "  .ansiout {\n",
       "    display: block;\n",
       "    unicode-bidi: embed;\n",
       "    white-space: pre-wrap;\n",
       "    word-wrap: break-word;\n",
       "    word-break: break-all;\n",
       "    font-family: \"Source Code Pro\", \"Menlo\", monospace;;\n",
       "    font-size: 13px;\n",
       "    color: #555;\n",
       "    margin-left: 4px;\n",
       "    line-height: 19px;\n",
       "  }\n",
       "</style>\n",
       "<div class=\"ansiout\"></div>"
      ]
     },
     "metadata": {},
     "output_type": "display_data"
    }
   ],
   "source": [
    "new_books_use.write.option(\"truncate\", \"true\").jdbc(url=full_url, table='new_recs', mode='overwrite')"
   ]
  },
  {
   "cell_type": "markdown",
   "metadata": {},
   "source": [
    "### Conclusion\n",
    "\n",
    "##### Overall performance\n",
    "After running the model multiple times, I've been happy to see that it is serving up recommendations that fit past user ratings quite well. For instance, many of the books that I rated as an initial user (most books were Data Science Books), were being recommended to other users that I've created that have rated some of the same Data Science books. I was also noticing that books rated by the other users with some overlapping Data Science book ratings, were being recommended to my initial user. This demonstrates that the ALS calculations are working effectively, and the recommender system is functioning as expected. Given that the overall approach was to use collaborative filtering to serve up recommendations, I feel like it's been effectively living up to this task. \n",
    "\n",
    "##### Caveats (so many Calvin and Hobbes recommendations!)\n",
    "However, there are a few caveats to this recommender model. One, I noticed that a lot of recommendations are being made based on the most highly rated books (especially when the prediction calculations are low for a particular user). Therefore, when looking at the highest rated books in the `goodbooks-10k` dataset, we notice that many *Calvin and Hobbes* books are at the top of the list. The recommender is definitely recommending these books to many users, especially when it isn't able to find users that match similarity quite well. For instance, one of my custom users rated many books outside of the initial list of 10,000 books in the dataset, and no other users had also rated these books, which meant that when ALS ran its calculations, the predictions were not too great. If more users were to rate books on the application, my hope is that this would even out. However, many users will be seeing *Calvin and Hobbes* books flood their recommendation lists for quite some time!  \n",
    "\n",
    "##### Takeaways\n",
    "In the end, I was able to create a full production application that serves up user-specific book recommendations based on user ratings of past books. This project was a great way to bring some of the content that we learned this semester into a comprehensive system. Hopefully in the future, I can continue to fine-tune the ALS model, and add in a few more algorithms/approaches to make the recommender system even more effective. One idea is to set up a hybrid model that also factors in content-based filtering. Since the `goodbooks-10k` dataset has book categories tagged for each book, it would be a great way to add in an additional set of features/parameters to make the model serve recommendations that are more specific. For instance, although *Calvin and Hobbes* may be a very highly rated set of books, if a user rated a list of drama books quite highly, my hope would be that the content-based filtering would be able to serve up highly rated drama books instead of *Calvin and Hobbes* books (which fall outside of this category).\n",
    "\n",
    "##### Create an account and interact with the recommender\n",
    "Hopefully this has been an interesting project to read through. If interested, please do create an account on the application and start rating some books! Hopefully you'll start to see recommendations that match your tastes!\n",
    "\n",
    "+ **Application Website:** https://zach-book-recommender.herokuapp.com/  \n",
    "+ **Explainer Video** https://www.youtube.com/watch?v=Z5JhqceWrzc&feature=youtu.be (the video cuts off at the end due to a 15-minute time limit, but I pretty much covered everything in the allotted time.)\n",
    "\n",
    "For any questions, feel free to reach out at zachary.alexander33@spsmail.cuny.edu"
   ]
  },
  {
   "cell_type": "code",
   "execution_count": null,
   "metadata": {},
   "outputs": [],
   "source": []
  }
 ],
 "metadata": {
  "kernelspec": {
   "display_name": "Python 3",
   "language": "python",
   "name": "python3"
  },
  "language_info": {
   "codemirror_mode": {
    "name": "ipython",
    "version": 3
   },
   "file_extension": ".py",
   "mimetype": "text/x-python",
   "name": "python",
   "nbconvert_exporter": "python",
   "pygments_lexer": "ipython3",
   "version": "3.7.6"
  },
  "name": "book-recommender-als-jupyter",
  "notebookId": 2032635376846962
 },
 "nbformat": 4,
 "nbformat_minor": 1
}
