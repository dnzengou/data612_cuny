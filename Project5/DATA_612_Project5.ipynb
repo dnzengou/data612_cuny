{
 "cells": [
  {
   "cell_type": "markdown",
   "metadata": {},
   "source": [
    "### DATA 612 - Project #5\n",
    "\n",
    "Zach Alexander  \n",
    "7/4/2020"
   ]
  },
  {
   "cell_type": "markdown",
   "metadata": {},
   "source": [
    "### Instructions\n",
    "\n",
    "Adapt one of your recommendation systems to work with Apache Spark and compare the performance with your previous iteration. Consider the efficiency of the system and the added complexity of using Spark. You may complete the assignment using PySpark (Python), SparkR (R), sparklyr (R), or Scala. Please include in your conclusion: For your given recommender system’s data, algorithm(s), and (envisioned) implementation, at what point would you see moving to a distributed platform such as Spark becoming necessary?"
   ]
  },
  {
   "cell_type": "markdown",
   "metadata": {},
   "source": [
    "##### Declaring time-tracking functions to measure performance in PySpark \n",
    "\n",
    "Before diving into the work, in order to measure and compare the performance of my work in Databricks (utilizing PySpark), relative to my work in R in previous weeks, I decided to load in two functions `tic()` and `toc()`. These will help set up a time window to measure the time elapsed from the beginning to the end of a certain piece of code. I'll use this throughout, but wanted to make sure I have these ready to go for my work in the following lines."
   ]
  },
  {
   "cell_type": "code",
   "execution_count": 4,
   "metadata": {},
   "outputs": [
    {
     "data": {
      "text/html": [
       "<style scoped>\n",
       "  .ansiout {\n",
       "    display: block;\n",
       "    unicode-bidi: embed;\n",
       "    white-space: pre-wrap;\n",
       "    word-wrap: break-word;\n",
       "    word-break: break-all;\n",
       "    font-family: \"Source Code Pro\", \"Menlo\", monospace;;\n",
       "    font-size: 13px;\n",
       "    color: #555;\n",
       "    margin-left: 4px;\n",
       "    line-height: 19px;\n",
       "  }\n",
       "</style>\n",
       "<div class=\"ansiout\"></div>"
      ]
     },
     "metadata": {},
     "output_type": "display_data"
    }
   ],
   "source": [
    "def tic():\n",
    "    #Homemade version of matlab tic and toc functions\n",
    "    import time\n",
    "    global startTime_for_tictoc\n",
    "    startTime_for_tictoc = time.time()\n",
    "\n",
    "def toc():\n",
    "    import time\n",
    "    if 'startTime_for_tictoc' in globals():\n",
    "        print(\"Elapsed time is \" + str(time.time() - startTime_for_tictoc) + \" seconds.\")\n",
    "    else:\n",
    "        print(\"Toc: start time not set\")"
   ]
  },
  {
   "cell_type": "markdown",
   "metadata": {},
   "source": [
    "### Loading in Movies Data\n",
    "\n",
    "Similar to how our professor walked through this process in our lecture this past week, I'll take a look at the MovieLens data, which I also did extensive analysis on the first few weeks of the course. Given that I ran multiple algorithms in past projects, and built recommender systems based on these ratings, I'll be able to see if an algorithm that I run on PySpark will perform better than my previous iterations in R."
   ]
  },
  {
   "cell_type": "markdown",
   "metadata": {},
   "source": [
    "##### Saving the movies data as a csv file\n",
    "\n",
    "First, I saved the movies data as a separate csv file, and loaded it into the \"Data\" section of Databricks. After assigning it with a file type of .csv, indicating to read the first row as a header, and delimiter as a comma, I then created a Spark dataframe and saved it as `movies_df`. I then displayed this below:"
   ]
  },
  {
   "cell_type": "code",
   "execution_count": 7,
   "metadata": {},
   "outputs": [
    {
     "data": {
      "text/html": [
       "<style scoped>\n",
       "  .ansiout {\n",
       "    display: block;\n",
       "    unicode-bidi: embed;\n",
       "    white-space: pre-wrap;\n",
       "    word-wrap: break-word;\n",
       "    word-break: break-all;\n",
       "    font-family: \"Source Code Pro\", \"Menlo\", monospace;;\n",
       "    font-size: 13px;\n",
       "    color: #555;\n",
       "    margin-left: 4px;\n",
       "    line-height: 19px;\n",
       "  }\n",
       "</style>\n",
       "<div class=\"ansiout\"></div>"
      ]
     },
     "metadata": {},
     "output_type": "display_data"
    }
   ],
   "source": [
    "# File location and type\n",
    "movies_file_location = \"/FileStore/tables/movies-2.csv\"\n",
    "file_type = \"csv\"\n",
    "\n",
    "# CSV options\n",
    "infer_schema = \"false\"\n",
    "first_row_is_header = \"true\"\n",
    "delimiter = \",\"\n",
    "\n",
    "# The applied options are for CSV files. For other file types, these will be ignored.\n",
    "movies_df = spark.read.format(file_type) \\\n",
    "  .option(\"inferSchema\", infer_schema) \\\n",
    "  .option(\"header\", first_row_is_header) \\\n",
    "  .option(\"sep\", delimiter) \\\n",
    "  .load(movies_file_location)\n",
    "\n",
    "# display(movies_df)"
   ]
  },
  {
   "cell_type": "markdown",
   "metadata": {},
   "source": [
    "### Loading in the Ratings Data\n",
    "\n",
    "With the movies data loaded in as a Spark dataframe, I then did the same process for the ratings data. Since we'll be utilizing the ratings data to build our model later, we also need to define a schema, indicating the data type for each of the four columns. I saved the schema as `movies_schema`, saved the ratings data in a dataframe, `ratings_df`, and displayed it below:"
   ]
  },
  {
   "cell_type": "code",
   "execution_count": 9,
   "metadata": {},
   "outputs": [
    {
     "data": {
      "text/html": [
       "<style scoped>\n",
       "  .ansiout {\n",
       "    display: block;\n",
       "    unicode-bidi: embed;\n",
       "    white-space: pre-wrap;\n",
       "    word-wrap: break-word;\n",
       "    word-break: break-all;\n",
       "    font-family: \"Source Code Pro\", \"Menlo\", monospace;;\n",
       "    font-size: 13px;\n",
       "    color: #555;\n",
       "    margin-left: 4px;\n",
       "    line-height: 19px;\n",
       "  }\n",
       "</style>\n",
       "<div class=\"ansiout\"></div>"
      ]
     },
     "metadata": {},
     "output_type": "display_data"
    }
   ],
   "source": [
    "from pyspark.sql.types import StructType, StructField\n",
    "from pyspark.sql.types import DoubleType, IntegerType\n",
    "\n",
    "ratings_file_location = \"/FileStore/tables/ratings-2.csv\"\n",
    "\n",
    "movie_schema = StructType([\n",
    "  StructField(\"userId\", IntegerType()),\n",
    "  StructField(\"movieId\", IntegerType()),\n",
    "  StructField(\"rating\", DoubleType()),\n",
    "  StructField(\"timestamp\", DoubleType())\n",
    "])\n",
    "\n",
    "# The applied options are for CSV files. For other file types, these will be ignored.\n",
    "ratings_df = spark.read.format(file_type) \\\n",
    "  .option(\"inferSchema\", infer_schema) \\\n",
    "  .option(\"header\", first_row_is_header) \\\n",
    "  .option(\"sep\", delimiter) \\\n",
    "  .schema(movie_schema) \\\n",
    "  .load(ratings_file_location)\n",
    "\n",
    "# display(ratings_df)"
   ]
  },
  {
   "cell_type": "markdown",
   "metadata": {},
   "source": [
    "We can also take a quick look at the dimensions of the dataframe:"
   ]
  },
  {
   "cell_type": "code",
   "execution_count": 11,
   "metadata": {},
   "outputs": [
    {
     "data": {
      "text/html": [
       "<style scoped>\n",
       "  .ansiout {\n",
       "    display: block;\n",
       "    unicode-bidi: embed;\n",
       "    white-space: pre-wrap;\n",
       "    word-wrap: break-word;\n",
       "    word-break: break-all;\n",
       "    font-family: \"Source Code Pro\", \"Menlo\", monospace;;\n",
       "    font-size: 13px;\n",
       "    color: #555;\n",
       "    margin-left: 4px;\n",
       "    line-height: 19px;\n",
       "  }\n",
       "</style>\n",
       "<div class=\"ansiout\">Number of rows in ratings_df dataset : 1000209\n",
       "Number of columns in ratings_df dataset : 4\n",
       "</div>"
      ]
     },
     "metadata": {},
     "output_type": "display_data"
    }
   ],
   "source": [
    "print(\"Number of rows in ratings_df dataset : {}\".format(str(ratings_df.count())))\n",
    "print(\"Number of columns in ratings_df dataset : {}\".format(str(len(ratings_df.columns))))"
   ]
  },
  {
   "cell_type": "markdown",
   "metadata": {},
   "source": [
    "### Splitting into Training and Testing Datasets\n",
    "\n",
    "Now, with our ratings and movies data loaded into Databricks successfully, I then was able to split the full `ratings_df` into a training and test dataset. I decided to do a split of 80/20, similar to past weeks. In the end, we can see the dimensions of our training and test datasets below:"
   ]
  },
  {
   "cell_type": "code",
   "execution_count": 13,
   "metadata": {},
   "outputs": [
    {
     "data": {
      "text/html": [
       "<style scoped>\n",
       "  .ansiout {\n",
       "    display: block;\n",
       "    unicode-bidi: embed;\n",
       "    white-space: pre-wrap;\n",
       "    word-wrap: break-word;\n",
       "    word-break: break-all;\n",
       "    font-family: \"Source Code Pro\", \"Menlo\", monospace;;\n",
       "    font-size: 13px;\n",
       "    color: #555;\n",
       "    margin-left: 4px;\n",
       "    line-height: 19px;\n",
       "  }\n",
       "</style>\n",
       "<div class=\"ansiout\"></div>"
      ]
     },
     "metadata": {},
     "output_type": "display_data"
    }
   ],
   "source": [
    "(training, test) = ratings_df.randomSplit([0.8, 0.2])"
   ]
  },
  {
   "cell_type": "code",
   "execution_count": 14,
   "metadata": {},
   "outputs": [
    {
     "data": {
      "text/html": [
       "<style scoped>\n",
       "  .ansiout {\n",
       "    display: block;\n",
       "    unicode-bidi: embed;\n",
       "    white-space: pre-wrap;\n",
       "    word-wrap: break-word;\n",
       "    word-break: break-all;\n",
       "    font-family: \"Source Code Pro\", \"Menlo\", monospace;;\n",
       "    font-size: 13px;\n",
       "    color: #555;\n",
       "    margin-left: 4px;\n",
       "    line-height: 19px;\n",
       "  }\n",
       "</style>\n",
       "<div class=\"ansiout\">Number of rows in training dataset : 800290\n",
       "Number of columns in training dataset : 4\n",
       "Number of rows in test dataset : 199919\n",
       "Number of columns in test dataset : 4\n",
       "</div>"
      ]
     },
     "metadata": {},
     "output_type": "display_data"
    }
   ],
   "source": [
    "print(\"Number of rows in training dataset : {}\".format(str(training.count())))\n",
    "print(\"Number of columns in training dataset : {}\".format(str(len(training.columns))))\n",
    "print(\"Number of rows in test dataset : {}\".format(str(test.count())))\n",
    "print(\"Number of columns in test dataset : {}\".format(str(len(test.columns))))"
   ]
  },
  {
   "cell_type": "code",
   "execution_count": 15,
   "metadata": {},
   "outputs": [
    {
     "data": {
      "text/html": [
       "<style scoped>\n",
       "  .ansiout {\n",
       "    display: block;\n",
       "    unicode-bidi: embed;\n",
       "    white-space: pre-wrap;\n",
       "    word-wrap: break-word;\n",
       "    word-break: break-all;\n",
       "    font-family: \"Source Code Pro\", \"Menlo\", monospace;;\n",
       "    font-size: 13px;\n",
       "    color: #555;\n",
       "    margin-left: 4px;\n",
       "    line-height: 19px;\n",
       "  }\n",
       "</style>\n",
       "<div class=\"ansiout\">Elapsed time is 0.16474390029907227 seconds.\n",
       "</div>"
      ]
     },
     "metadata": {},
     "output_type": "display_data"
    }
   ],
   "source": [
    "from pyspark.ml.recommendation import ALS\n",
    "\n",
    "tic()\n",
    "als = ALS(maxIter=5, regParam=0.01, userCol=\"userId\", itemCol=\"movieId\", ratingCol=\"rating\", coldStartStrategy=\"drop\")\n",
    "toc()"
   ]
  },
  {
   "cell_type": "code",
   "execution_count": 16,
   "metadata": {},
   "outputs": [
    {
     "data": {
      "text/html": [
       "<style scoped>\n",
       "  .ansiout {\n",
       "    display: block;\n",
       "    unicode-bidi: embed;\n",
       "    white-space: pre-wrap;\n",
       "    word-wrap: break-word;\n",
       "    word-break: break-all;\n",
       "    font-family: \"Source Code Pro\", \"Menlo\", monospace;;\n",
       "    font-size: 13px;\n",
       "    color: #555;\n",
       "    margin-left: 4px;\n",
       "    line-height: 19px;\n",
       "  }\n",
       "</style>\n",
       "<div class=\"ansiout\">Elapsed time is 15.110301971435547 seconds.\n",
       "</div>"
      ]
     },
     "metadata": {},
     "output_type": "display_data"
    }
   ],
   "source": [
    "tic()\n",
    "model = als.fit(training)\n",
    "toc()"
   ]
  },
  {
   "cell_type": "code",
   "execution_count": 17,
   "metadata": {},
   "outputs": [
    {
     "data": {
      "text/html": [
       "<style scoped>\n",
       "  .ansiout {\n",
       "    display: block;\n",
       "    unicode-bidi: embed;\n",
       "    white-space: pre-wrap;\n",
       "    word-wrap: break-word;\n",
       "    word-break: break-all;\n",
       "    font-family: \"Source Code Pro\", \"Menlo\", monospace;;\n",
       "    font-size: 13px;\n",
       "    color: #555;\n",
       "    margin-left: 4px;\n",
       "    line-height: 19px;\n",
       "  }\n",
       "</style>\n",
       "<div class=\"ansiout\">Elapsed time is 0.02061295509338379 seconds.\n",
       "</div>"
      ]
     },
     "metadata": {},
     "output_type": "display_data"
    }
   ],
   "source": [
    "tic()\n",
    "predictions = model.transform(test)\n",
    "toc()"
   ]
  },
  {
   "cell_type": "code",
   "execution_count": 18,
   "metadata": {},
   "outputs": [
    {
     "data": {
      "text/html": [
       "<style scoped>\n",
       "  .table-result-container {\n",
       "    max-height: 300px;\n",
       "    overflow: auto;\n",
       "  }\n",
       "  table, th, td {\n",
       "    border: 1px solid black;\n",
       "    border-collapse: collapse;\n",
       "  }\n",
       "  th, td {\n",
       "    padding: 5px;\n",
       "  }\n",
       "  th {\n",
       "    text-align: left;\n",
       "  }\n",
       "</style><div class='table-result-container'><table class='table-result'><thead style='background-color: white'><tr><th>userId</th><th>movieId</th><th>rating</th><th>timestamp</th><th>prediction</th></tr></thead><tbody><tr><td>4784</td><td>148</td><td>3.0</td><td>9.7000057E8</td><td>3.275588</td></tr><tr><td>840</td><td>148</td><td>1.0</td><td>9.76295338E8</td><td>4.948865</td></tr><tr><td>970</td><td>463</td><td>3.0</td><td>9.80625253E8</td><td>3.0763342</td></tr><tr><td>319</td><td>463</td><td>2.0</td><td>9.76424451E8</td><td>2.3499815</td></tr><tr><td>5306</td><td>463</td><td>2.0</td><td>9.6101316E8</td><td>2.9395308</td></tr><tr><td>202</td><td>463</td><td>3.0</td><td>9.76936512E8</td><td>2.8485217</td></tr><tr><td>3618</td><td>463</td><td>3.0</td><td>9.66598399E8</td><td>2.7932694</td></tr><tr><td>5996</td><td>463</td><td>4.0</td><td>9.66273626E8</td><td>3.3915977</td></tr><tr><td>3808</td><td>463</td><td>3.0</td><td>9.65972261E8</td><td>2.4198284</td></tr><tr><td>5300</td><td>471</td><td>4.0</td><td>9.60976999E8</td><td>4.5550027</td></tr><tr><td>1699</td><td>471</td><td>5.0</td><td>9.74711905E8</td><td>3.7918022</td></tr><tr><td>3425</td><td>471</td><td>4.0</td><td>9.6736497E8</td><td>4.3257217</td></tr><tr><td>4957</td><td>471</td><td>3.0</td><td>9.62906679E8</td><td>3.8633137</td></tr><tr><td>5140</td><td>471</td><td>2.0</td><td>9.64876259E8</td><td>3.3721383</td></tr><tr><td>4167</td><td>471</td><td>5.0</td><td>9.65425364E8</td><td>4.1272774</td></tr><tr><td>1199</td><td>471</td><td>3.0</td><td>9.74920181E8</td><td>2.0491254</td></tr><tr><td>1404</td><td>471</td><td>3.0</td><td>9.74765002E8</td><td>3.177122</td></tr><tr><td>3841</td><td>471</td><td>4.0</td><td>9.65996668E8</td><td>3.1343594</td></tr><tr><td>4443</td><td>471</td><td>2.0</td><td>9.65096025E8</td><td>2.961161</td></tr><tr><td>4958</td><td>471</td><td>4.0</td><td>1.04498525E9</td><td>3.5217974</td></tr><tr><td>5880</td><td>471</td><td>5.0</td><td>9.57546755E8</td><td>3.7634401</td></tr><tr><td>587</td><td>471</td><td>4.0</td><td>9.76032008E8</td><td>3.3241317</td></tr><tr><td>26</td><td>471</td><td>4.0</td><td>9.78140977E8</td><td>2.7488804</td></tr><tr><td>3792</td><td>471</td><td>3.0</td><td>9.67123821E8</td><td>3.265454</td></tr><tr><td>5333</td><td>471</td><td>3.0</td><td>1.031008147E9</td><td>3.0785336</td></tr><tr><td>2288</td><td>471</td><td>4.0</td><td>9.74521409E8</td><td>3.9031117</td></tr><tr><td>4837</td><td>471</td><td>3.0</td><td>9.6289389E8</td><td>2.9846294</td></tr><tr><td>319</td><td>471</td><td>3.0</td><td>9.76422396E8</td><td>3.2942395</td></tr><tr><td>3689</td><td>471</td><td>3.0</td><td>9.66311581E8</td><td>3.5997913</td></tr><tr><td>2414</td><td>471</td><td>4.0</td><td>9.74918629E8</td><td>4.00871</td></tr><tr><td>539</td><td>471</td><td>5.0</td><td>9.76128059E8</td><td>4.6689067</td></tr><tr><td>1505</td><td>471</td><td>4.0</td><td>9.83674232E8</td><td>3.8291395</td></tr><tr><td>4277</td><td>471</td><td>4.0</td><td>9.6762068E8</td><td>4.15674</td></tr><tr><td>5084</td><td>471</td><td>4.0</td><td>9.62400159E8</td><td>3.577602</td></tr><tr><td>1939</td><td>471</td><td>4.0</td><td>9.74695248E8</td><td>3.9549806</td></tr><tr><td>5090</td><td>471</td><td>5.0</td><td>9.7240746E8</td><td>3.9652765</td></tr><tr><td>1244</td><td>471</td><td>4.0</td><td>9.74831537E8</td><td>4.1055083</td></tr><tr><td>5306</td><td>471</td><td>4.0</td><td>9.60939588E8</td><td>3.0960245</td></tr><tr><td>3648</td><td>471</td><td>2.0</td><td>9.9480029E8</td><td>3.1873825</td></tr><tr><td>4041</td><td>471</td><td>4.0</td><td>9.65712896E8</td><td>3.9083483</td></tr><tr><td>2256</td><td>471</td><td>4.0</td><td>9.74590461E8</td><td>2.6287088</td></tr><tr><td>699</td><td>471</td><td>4.0</td><td>9.75558306E8</td><td>3.759467</td></tr><tr><td>3484</td><td>471</td><td>3.0</td><td>9.67063772E8</td><td>3.0470276</td></tr><tr><td>2102</td><td>471</td><td>2.0</td><td>9.74654126E8</td><td>2.9502099</td></tr><tr><td>4220</td><td>471</td><td>3.0</td><td>9.65332308E8</td><td>3.4012377</td></tr><tr><td>3167</td><td>471</td><td>5.0</td><td>9.68818508E8</td><td>4.7739224</td></tr><tr><td>3415</td><td>471</td><td>4.0</td><td>9.67518553E8</td><td>3.9834468</td></tr><tr><td>692</td><td>471</td><td>5.0</td><td>9.79437627E8</td><td>4.3627195</td></tr><tr><td>3067</td><td>471</td><td>5.0</td><td>9.70001524E8</td><td>4.243129</td></tr><tr><td>4928</td><td>471</td><td>2.0</td><td>9.62669872E8</td><td>2.9684863</td></tr><tr><td>5555</td><td>471</td><td>4.0</td><td>9.5963589E8</td><td>3.2173886</td></tr><tr><td>3232</td><td>471</td><td>3.0</td><td>9.68385501E8</td><td>2.8127263</td></tr><tr><td>3007</td><td>471</td><td>3.0</td><td>9.70540807E8</td><td>2.8178868</td></tr><tr><td>3243</td><td>471</td><td>5.0</td><td>9.68394755E8</td><td>3.7558975</td></tr><tr><td>3931</td><td>471</td><td>3.0</td><td>9.6570932E8</td><td>3.8011198</td></tr><tr><td>3285</td><td>471</td><td>3.0</td><td>1.002382216E9</td><td>3.9884396</td></tr><tr><td>3401</td><td>471</td><td>4.0</td><td>9.80116555E8</td><td>2.7058558</td></tr><tr><td>3323</td><td>471</td><td>3.0</td><td>9.67912821E8</td><td>3.60733</td></tr><tr><td>5397</td><td>471</td><td>3.0</td><td>9.63425656E8</td><td>4.020092</td></tr><tr><td>891</td><td>471</td><td>2.0</td><td>9.7523398E8</td><td>3.6881676</td></tr><tr><td>2777</td><td>471</td><td>3.0</td><td>9.73050452E8</td><td>3.2499893</td></tr><tr><td>1211</td><td>471</td><td>5.0</td><td>9.76217803E8</td><td>4.1108885</td></tr><tr><td>1509</td><td>471</td><td>4.0</td><td>9.74833837E8</td><td>3.288795</td></tr><tr><td>1698</td><td>471</td><td>4.0</td><td>9.75875217E8</td><td>4.2662764</td></tr><tr><td>721</td><td>471</td><td>4.0</td><td>9.76462686E8</td><td>2.4883587</td></tr><tr><td>1386</td><td>471</td><td>5.0</td><td>9.76145742E8</td><td>4.507993</td></tr><tr><td>4950</td><td>471</td><td>3.0</td><td>9.62946638E8</td><td>3.3954544</td></tr><tr><td>2174</td><td>471</td><td>3.0</td><td>9.74610973E8</td><td>3.6175456</td></tr><tr><td>3422</td><td>471</td><td>3.0</td><td>9.67361379E8</td><td>3.2283227</td></tr><tr><td>669</td><td>471</td><td>5.0</td><td>9.75631528E8</td><td>4.2013073</td></tr><tr><td>1340</td><td>471</td><td>5.0</td><td>9.74785291E8</td><td>1.8845377</td></tr><tr><td>687</td><td>471</td><td>3.0</td><td>9.75600327E8</td><td>4.088912</td></tr><tr><td>5076</td><td>471</td><td>4.0</td><td>9.62420844E8</td><td>3.2446012</td></tr><tr><td>549</td><td>471</td><td>5.0</td><td>9.76070068E8</td><td>4.6157064</td></tr><tr><td>2832</td><td>471</td><td>4.0</td><td>9.72589169E8</td><td>3.7167842</td></tr><tr><td>3916</td><td>471</td><td>5.0</td><td>9.65759962E8</td><td>4.4694314</td></tr><tr><td>5627</td><td>471</td><td>2.0</td><td>9.59048039E8</td><td>2.8409665</td></tr><tr><td>331</td><td>471</td><td>4.0</td><td>9.76385732E8</td><td>4.0049057</td></tr><tr><td>428</td><td>471</td><td>4.0</td><td>9.76261131E8</td><td>4.6133804</td></tr><tr><td>5501</td><td>471</td><td>5.0</td><td>9.59798763E8</td><td>3.6828501</td></tr><tr><td>3608</td><td>471</td><td>4.0</td><td>9.66612691E8</td><td>4.0934286</td></tr><tr><td>1230</td><td>471</td><td>4.0</td><td>9.74836219E8</td><td>3.931543</td></tr><tr><td>5536</td><td>471</td><td>2.0</td><td>9.59813578E8</td><td>3.3097649</td></tr><tr><td>533</td><td>471</td><td>3.0</td><td>9.76142192E8</td><td>3.727685</td></tr><tr><td>3695</td><td>471</td><td>4.0</td><td>9.66377747E8</td><td>4.072327</td></tr><tr><td>4344</td><td>471</td><td>4.0</td><td>9.66452301E8</td><td>3.8752627</td></tr><tr><td>509</td><td>471</td><td>4.0</td><td>9.76206132E8</td><td>4.3549733</td></tr><tr><td>2172</td><td>471</td><td>4.0</td><td>9.74667808E8</td><td>3.7772293</td></tr><tr><td>3031</td><td>471</td><td>5.0</td><td>9.70429234E8</td><td>4.4338036</td></tr><tr><td>3850</td><td>471</td><td>4.0</td><td>9.65880458E8</td><td>4.2483835</td></tr><tr><td>817</td><td>471</td><td>4.0</td><td>9.75388161E8</td><td>4.0503707</td></tr><tr><td>3724</td><td>471</td><td>3.0</td><td>9.66226093E8</td><td>2.753447</td></tr><tr><td>3414</td><td>471</td><td>3.0</td><td>9.67406894E8</td><td>3.4089494</td></tr><tr><td>5366</td><td>471</td><td>5.0</td><td>9.60502934E8</td><td>4.1247077</td></tr><tr><td>4379</td><td>471</td><td>2.0</td><td>9.65176247E8</td><td>3.5110521</td></tr><tr><td>4790</td><td>471</td><td>4.0</td><td>9.6310512E8</td><td>3.4674292</td></tr><tr><td>1103</td><td>471</td><td>2.0</td><td>9.74922676E8</td><td>2.7912493</td></tr><tr><td>1501</td><td>471</td><td>2.0</td><td>9.74760048E8</td><td>3.0234997</td></tr><tr><td>3842</td><td>471</td><td>4.0</td><td>9.65917226E8</td><td>4.0506635</td></tr><tr><td>1666</td><td>471</td><td>4.0</td><td>9.74713157E8</td><td>3.1258996</td></tr><tr><td>6000</td><td>471</td><td>3.0</td><td>9.56882436E8</td><td>3.1418314</td></tr><tr><td>214</td><td>471</td><td>4.0</td><td>9.76899426E8</td><td>3.6696417</td></tr><tr><td>4275</td><td>471</td><td>3.0</td><td>9.65299903E8</td><td>3.743946</td></tr><tr><td>5812</td><td>471</td><td>5.0</td><td>9.57946054E8</td><td>3.3546467</td></tr><tr><td>752</td><td>471</td><td>4.0</td><td>9.7622284E8</td><td>4.02461</td></tr><tr><td>809</td><td>471</td><td>5.0</td><td>9.75395702E8</td><td>4.534178</td></tr><tr><td>3953</td><td>471</td><td>5.0</td><td>9.65675898E8</td><td>4.4251566</td></tr><tr><td>5783</td><td>471</td><td>4.0</td><td>9.58152353E8</td><td>2.1605859</td></tr><tr><td>5395</td><td>471</td><td>3.0</td><td>9.60323988E8</td><td>4.175069</td></tr><tr><td>724</td><td>471</td><td>1.0</td><td>9.75522027E8</td><td>3.1907914</td></tr><tr><td>4458</td><td>471</td><td>5.0</td><td>9.65076205E8</td><td>3.267714</td></tr><tr><td>1980</td><td>471</td><td>4.0</td><td>9.74691272E8</td><td>3.7009072</td></tr><tr><td>4139</td><td>471</td><td>3.0</td><td>9.65349042E8</td><td>3.9549778</td></tr><tr><td>4789</td><td>471</td><td>3.0</td><td>9.63006607E8</td><td>3.7612448</td></tr><tr><td>2916</td><td>471</td><td>4.0</td><td>9.71737963E8</td><td>4.227821</td></tr><tr><td>781</td><td>471</td><td>4.0</td><td>9.75435094E8</td><td>4.706979</td></tr><tr><td>541</td><td>471</td><td>2.0</td><td>9.7612441E8</td><td>2.2898028</td></tr><tr><td>5070</td><td>471</td><td>2.0</td><td>9.6246837E8</td><td>4.0485888</td></tr><tr><td>1241</td><td>471</td><td>5.0</td><td>9.74833265E8</td><td>4.4404564</td></tr><tr><td>4183</td><td>471</td><td>5.0</td><td>9.65330359E8</td><td>3.8423934</td></tr><tr><td>1228</td><td>471</td><td>4.0</td><td>9.75783011E8</td><td>3.4183595</td></tr><tr><td>5394</td><td>471</td><td>4.0</td><td>9.61438776E8</td><td>3.9531121</td></tr><tr><td>454</td><td>471</td><td>5.0</td><td>9.7648821E8</td><td>5.139257</td></tr><tr><td>832</td><td>471</td><td>2.0</td><td>9.75362602E8</td><td>3.7583401</td></tr><tr><td>3770</td><td>471</td><td>4.0</td><td>9.66050475E8</td><td>4.0810285</td></tr><tr><td>5491</td><td>471</td><td>5.0</td><td>9.5981658E8</td><td>3.644235</td></tr><tr><td>3881</td><td>471</td><td>3.0</td><td>9.65826915E8</td><td>4.094826</td></tr><tr><td>2124</td><td>471</td><td>3.0</td><td>9.74644971E8</td><td>4.1732826</td></tr><tr><td>6016</td><td>471</td><td>4.0</td><td>9.56785125E8</td><td>3.5962906</td></tr><tr><td>1449</td><td>471</td><td>4.0</td><td>9.75695818E8</td><td>3.7324994</td></tr><tr><td>3520</td><td>471</td><td>4.0</td><td>9.66945974E8</td><td>3.6211648</td></tr><tr><td>4064</td><td>471</td><td>4.0</td><td>9.65479685E8</td><td>3.1353867</td></tr><tr><td>2063</td><td>471</td><td>3.0</td><td>9.74660631E8</td><td>3.496807</td></tr><tr><td>4430</td><td>471</td><td>2.0</td><td>9.65104759E8</td><td>2.8727098</td></tr><tr><td>3729</td><td>471</td><td>4.0</td><td>9.66576666E8</td><td>3.4988368</td></tr><tr><td>6039</td><td>471</td><td>3.0</td><td>9.56705679E8</td><td>3.285186</td></tr><tr><td>5107</td><td>471</td><td>2.0</td><td>9.62336415E8</td><td>3.5646355</td></tr><tr><td>5530</td><td>471</td><td>5.0</td><td>9.59993821E8</td><td>3.7584655</td></tr><tr><td>3696</td><td>471</td><td>3.0</td><td>9.66302801E8</td><td>3.4175441</td></tr><tr><td>4607</td><td>471</td><td>3.0</td><td>9.98920097E8</td><td>4.1208944</td></tr><tr><td>5289</td><td>471</td><td>4.0</td><td>9.62980086E8</td><td>3.827975</td></tr><tr><td>2208</td><td>471</td><td>5.0</td><td>9.74611802E8</td><td>4.131883</td></tr><tr><td>3825</td><td>471</td><td>3.0</td><td>9.65943045E8</td><td>3.3145487</td></tr><tr><td>5074</td><td>496</td><td>2.0</td><td>9.64551783E8</td><td>2.9044259</td></tr><tr><td>731</td><td>496</td><td>4.0</td><td>9.75529436E8</td><td>3.9176793</td></tr><tr><td>1291</td><td>496</td><td>2.0</td><td>9.80309014E8</td><td>2.4047422</td></tr><tr><td>1391</td><td>496</td><td>1.0</td><td>9.74769807E8</td><td>2.9995856</td></tr><tr><td>1015</td><td>496</td><td>5.0</td><td>9.75015907E8</td><td>3.8348224</td></tr><tr><td>3662</td><td>496</td><td>1.0</td><td>9.66429404E8</td><td>1.1363409</td></tr><tr><td>2506</td><td>496</td><td>1.0</td><td>9.74078764E8</td><td>2.1406832</td></tr><tr><td>2916</td><td>496</td><td>5.0</td><td>9.7173803E8</td><td>5.273346</td></tr><tr><td>5394</td><td>496</td><td>2.0</td><td>9.81003868E8</td><td>4.09123</td></tr><tr><td>864</td><td>496</td><td>3.0</td><td>9.77183137E8</td><td>3.7988672</td></tr><tr><td>1413</td><td>496</td><td>3.0</td><td>9.74765536E8</td><td>3.9511902</td></tr><tr><td>1051</td><td>833</td><td>1.0</td><td>9.74960622E8</td><td>2.521325</td></tr><tr><td>3626</td><td>833</td><td>2.0</td><td>9.66603047E8</td><td>2.6311183</td></tr><tr><td>1516</td><td>833</td><td>1.0</td><td>9.76293486E8</td><td>1.4975379</td></tr><tr><td>3422</td><td>833</td><td>1.0</td><td>9.6741147E8</td><td>1.0470605</td></tr><tr><td>1779</td><td>833</td><td>2.0</td><td>9.77034542E8</td><td>2.1920292</td></tr><tr><td>1943</td><td>833</td><td>4.0</td><td>9.75737719E8</td><td>2.9991124</td></tr><tr><td>543</td><td>833</td><td>2.0</td><td>9.76215387E8</td><td>2.999504</td></tr><tr><td>293</td><td>833</td><td>1.0</td><td>9.80976066E8</td><td>0.8422807</td></tr><tr><td>3868</td><td>833</td><td>4.0</td><td>9.6585654E8</td><td>2.9186647</td></tr><tr><td>710</td><td>833</td><td>2.0</td><td>9.75569141E8</td><td>2.1117828</td></tr><tr><td>3716</td><td>833</td><td>4.0</td><td>9.6626655E8</td><td>2.5516715</td></tr><tr><td>1088</td><td>1088</td><td>3.0</td><td>1.012463661E9</td><td>3.2231338</td></tr><tr><td>1645</td><td>1088</td><td>1.0</td><td>9.75537925E8</td><td>4.448796</td></tr><tr><td>1884</td><td>1088</td><td>3.0</td><td>9.75738326E8</td><td>3.638182</td></tr><tr><td>4186</td><td>1088</td><td>1.0</td><td>1.017759061E9</td><td>2.544174</td></tr><tr><td>2156</td><td>1088</td><td>4.0</td><td>9.7462817E8</td><td>2.4737272</td></tr><tr><td>133</td><td>1088</td><td>4.0</td><td>9.77423723E8</td><td>4.4499874</td></tr><tr><td>1808</td><td>1088</td><td>1.0</td><td>9.74697638E8</td><td>4.284988</td></tr><tr><td>3577</td><td>1088</td><td>5.0</td><td>9.6671071E8</td><td>5.1909637</td></tr><tr><td>1068</td><td>1088</td><td>3.0</td><td>9.74945341E8</td><td>3.8549035</td></tr><tr><td>1752</td><td>1088</td><td>4.0</td><td>9.95698838E8</td><td>3.289691</td></tr><tr><td>1889</td><td>1088</td><td>2.0</td><td>9.89089056E8</td><td>3.0948098</td></tr><tr><td>3727</td><td>1088</td><td>1.0</td><td>9.66222288E8</td><td>2.515846</td></tr><tr><td>2497</td><td>1088</td><td>5.0</td><td>9.74091466E8</td><td>4.8450575</td></tr><tr><td>3196</td><td>1088</td><td>3.0</td><td>9.70938903E8</td><td>3.7512543</td></tr><tr><td>2638</td><td>1088</td><td>2.0</td><td>9.80119237E8</td><td>2.7843077</td></tr><tr><td>3140</td><td>1088</td><td>5.0</td><td>9.69037015E8</td><td>4.1301312</td></tr><tr><td>556</td><td>1088</td><td>3.0</td><td>9.76054972E8</td><td>2.8617818</td></tr><tr><td>4828</td><td>1088</td><td>5.0</td><td>9.6290562E8</td><td>4.568014</td></tr><tr><td>1599</td><td>1088</td><td>2.0</td><td>9.74845142E8</td><td>3.0644588</td></tr><tr><td>5306</td><td>1088</td><td>3.0</td><td>9.61013865E8</td><td>3.8001342</td></tr><tr><td>1190</td><td>1088</td><td>4.0</td><td>9.74850698E8</td><td>4.4950714</td></tr><tr><td>442</td><td>1088</td><td>3.0</td><td>9.97240946E8</td><td>3.3461895</td></tr><tr><td>3272</td><td>1088</td><td>4.0</td><td>9.71247215E8</td><td>3.9095726</td></tr><tr><td>5144</td><td>1088</td><td>5.0</td><td>9.62035715E8</td><td>4.217022</td></tr><tr><td>5649</td><td>1088</td><td>4.0</td><td>9.58867971E8</td><td>3.0137208</td></tr><tr><td>6</td><td>1088</td><td>5.0</td><td>9.7823667E8</td><td>5.0453978</td></tr><tr><td>5001</td><td>1088</td><td>5.0</td><td>1.019973023E9</td><td>4.205312</td></tr><tr><td>500</td><td>1088</td><td>3.0</td><td>9.76643367E8</td><td>2.533585</td></tr><tr><td>5948</td><td>1088</td><td>2.0</td><td>9.59956945E8</td><td>3.0829523</td></tr><tr><td>919</td><td>1088</td><td>3.0</td><td>9.75203865E8</td><td>2.926511</td></tr><tr><td>3473</td><td>1088</td><td>5.0</td><td>9.67136948E8</td><td>3.850252</td></tr><tr><td>5954</td><td>1088</td><td>1.0</td><td>9.57707224E8</td><td>2.5790782</td></tr><tr><td>544</td><td>1088</td><td>1.0</td><td>9.76129922E8</td><td>2.8879988</td></tr><tr><td>2072</td><td>1088</td><td>5.0</td><td>9.7466193E8</td><td>3.4825864</td></tr><tr><td>5488</td><td>1088</td><td>3.0</td><td>1.007248723E9</td><td>2.6864004</td></tr><tr><td>4322</td><td>1088</td><td>5.0</td><td>9.65386931E8</td><td>3.777107</td></tr><tr><td>1692</td><td>1088</td><td>2.0</td><td>9.74707514E8</td><td>2.964601</td></tr><tr><td>2847</td><td>1088</td><td>1.0</td><td>1.014431932E9</td><td>2.016585</td></tr><tr><td>2106</td><td>1088</td><td>3.0</td><td>9.75441214E8</td><td>1.8293768</td></tr><tr><td>4956</td><td>1088</td><td>3.0</td><td>9.62640416E8</td><td>2.7693942</td></tr><tr><td>366</td><td>1088</td><td>3.0</td><td>9.78473087E8</td><td>3.180239</td></tr><tr><td>1073</td><td>1088</td><td>3.0</td><td>9.74940049E8</td><td>4.163027</td></tr><tr><td>3280</td><td>1088</td><td>1.0</td><td>9.68348949E8</td><td>1.5924839</td></tr><tr><td>5618</td><td>1088</td><td>5.0</td><td>9.64156019E8</td><td>4.14869</td></tr><tr><td>4808</td><td>1088</td><td>3.0</td><td>9.62955169E8</td><td>3.1763396</td></tr><tr><td>5598</td><td>1088</td><td>4.0</td><td>9.59215576E8</td><td>3.259688</td></tr><tr><td>2777</td><td>1088</td><td>4.0</td><td>9.73048294E8</td><td>3.3977942</td></tr><tr><td>1164</td><td>1088</td><td>4.0</td><td>1.004486713E9</td><td>3.1116216</td></tr><tr><td>4940</td><td>1088</td><td>3.0</td><td>1.022012357E9</td><td>3.490512</td></tr><tr><td>4115</td><td>1088</td><td>2.0</td><td>9.65366743E8</td><td>3.7611477</td></tr><tr><td>5532</td><td>1088</td><td>3.0</td><td>9.59620253E8</td><td>3.758699</td></tr><tr><td>3065</td><td>1088</td><td>5.0</td><td>9.71148879E8</td><td>3.6128242</td></tr><tr><td>739</td><td>1088</td><td>4.0</td><td>9.75475874E8</td><td>4.4090858</td></tr><tr><td>5972</td><td>1088</td><td>5.0</td><td>9.59717678E8</td><td>3.592057</td></tr><tr><td>2523</td><td>1088</td><td>3.0</td><td>9.74066111E8</td><td>2.1093373</td></tr><tr><td>2584</td><td>1088</td><td>4.0</td><td>9.7387541E8</td><td>2.5784228</td></tr><tr><td>3304</td><td>1088</td><td>3.0</td><td>9.68007869E8</td><td>3.5793076</td></tr><tr><td>5271</td><td>1088</td><td>2.0</td><td>9.61141284E8</td><td>2.5605764</td></tr><tr><td>4345</td><td>1088</td><td>3.0</td><td>9.66435749E8</td><td>2.967372</td></tr><tr><td>5956</td><td>1088</td><td>4.0</td><td>9.57078475E8</td><td>3.248114</td></tr><tr><td>59</td><td>1088</td><td>4.0</td><td>1.041967061E9</td><td>3.168083</td></tr><tr><td>4573</td><td>1088</td><td>3.0</td><td>9.64453445E8</td><td>3.551322</td></tr><tr><td>757</td><td>1088</td><td>3.0</td><td>9.75542927E8</td><td>3.0656605</td></tr><tr><td>987</td><td>1088</td><td>3.0</td><td>9.75098812E8</td><td>3.3459818</td></tr><tr><td>1943</td><td>1088</td><td>1.0</td><td>9.75736936E8</td><td>2.988718</td></tr><tr><td>2030</td><td>1088</td><td>2.0</td><td>9.74931434E8</td><td>2.9415193</td></tr><tr><td>3128</td><td>1088</td><td>3.0</td><td>9.69396551E8</td><td>2.3611434</td></tr><tr><td>4490</td><td>1088</td><td>4.0</td><td>9.65009313E8</td><td>3.2358</td></tr><tr><td>4150</td><td>1088</td><td>3.0</td><td>9.65345425E8</td><td>2.557396</td></tr><tr><td>2429</td><td>1088</td><td>3.0</td><td>9.74439013E8</td><td>3.682554</td></tr><tr><td>2873</td><td>1088</td><td>4.0</td><td>9.7241512E8</td><td>4.161816</td></tr><tr><td>4888</td><td>1088</td><td>3.0</td><td>9.62738688E8</td><td>2.7587366</td></tr><tr><td>1887</td><td>1088</td><td>5.0</td><td>9.74695501E8</td><td>3.357226</td></tr><tr><td>5063</td><td>1088</td><td>4.0</td><td>1.035510837E9</td><td>3.304333</td></tr><tr><td>869</td><td>1088</td><td>5.0</td><td>9.9937553E8</td><td>3.434985</td></tr><tr><td>1209</td><td>1088</td><td>2.0</td><td>9.74845397E8</td><td>3.4351954</td></tr><tr><td>2172</td><td>1088</td><td>2.0</td><td>9.74668383E8</td><td>2.2226439</td></tr><tr><td>3526</td><td>1088</td><td>1.0</td><td>9.67610897E8</td><td>2.595449</td></tr><tr><td>5574</td><td>1088</td><td>3.0</td><td>9.59294921E8</td><td>3.504749</td></tr><tr><td>1647</td><td>1088</td><td>3.0</td><td>9.74806713E8</td><td>3.1227512</td></tr><tr><td>1354</td><td>1088</td><td>4.0</td><td>9.75459067E8</td><td>3.3380444</td></tr><tr><td>3518</td><td>1088</td><td>5.0</td><td>9.67040656E8</td><td>3.4427655</td></tr><tr><td>3682</td><td>1088</td><td>4.0</td><td>9.66354744E8</td><td>4.023666</td></tr><tr><td>2986</td><td>1088</td><td>3.0</td><td>9.70808649E8</td><td>3.0423083</td></tr><tr><td>3182</td><td>1088</td><td>1.0</td><td>9.68779393E8</td><td>1.686038</td></tr><tr><td>4670</td><td>1088</td><td>3.0</td><td>9.63801408E8</td><td>2.5926354</td></tr><tr><td>249</td><td>1088</td><td>5.0</td><td>9.7672907E8</td><td>4.063003</td></tr><tr><td>4243</td><td>1088</td><td>3.0</td><td>9.65318248E8</td><td>4.1042275</td></tr><tr><td>889</td><td>1088</td><td>3.0</td><td>9.75254309E8</td><td>2.5183837</td></tr><tr><td>2858</td><td>1088</td><td>5.0</td><td>9.74168712E8</td><td>5.305387</td></tr><tr><td>2552</td><td>1088</td><td>3.0</td><td>9.73999677E8</td><td>3.5923245</td></tr><tr><td>3096</td><td>1088</td><td>5.0</td><td>9.6964332E8</td><td>4.548948</td></tr><tr><td>3693</td><td>1088</td><td>3.0</td><td>9.66378442E8</td><td>2.7043624</td></tr><tr><td>3842</td><td>1088</td><td>1.0</td><td>9.76517193E8</td><td>3.4314644</td></tr><tr><td>1592</td><td>1088</td><td>3.0</td><td>9.7473611E8</td><td>3.2674618</td></tr><tr><td>3576</td><td>1088</td><td>3.0</td><td>9.66722795E8</td><td>3.1936464</td></tr><tr><td>411</td><td>1088</td><td>4.0</td><td>9.76388157E8</td><td>3.0457711</td></tr><tr><td>5857</td><td>1088</td><td>5.0</td><td>9.57737585E8</td><td>3.170834</td></tr><tr><td>528</td><td>1088</td><td>5.0</td><td>9.76410702E8</td><td>4.0838037</td></tr><tr><td>2116</td><td>1088</td><td>3.0</td><td>9.75899339E8</td><td>3.7112596</td></tr><tr><td>3878</td><td>1088</td><td>4.0</td><td>9.659189E8</td><td>3.4597301</td></tr><tr><td>5723</td><td>1088</td><td>3.0</td><td>1.01805224E9</td><td>2.21286</td></tr><tr><td>3477</td><td>1088</td><td>5.0</td><td>9.67127219E8</td><td>3.9056556</td></tr><tr><td>911</td><td>1088</td><td>4.0</td><td>9.75273869E8</td><td>3.9752572</td></tr><tr><td>2100</td><td>1088</td><td>5.0</td><td>9.74671461E8</td><td>4.20303</td></tr><tr><td>1920</td><td>1088</td><td>4.0</td><td>9.75129025E8</td><td>3.7982924</td></tr><tr><td>3521</td><td>1088</td><td>3.0</td><td>9.66924678E8</td><td>3.5053136</td></tr><tr><td>3641</td><td>1088</td><td>2.0</td><td>9.6648832E8</td><td>2.5951586</td></tr><tr><td>899</td><td>1088</td><td>4.0</td><td>9.75216442E8</td><td>3.647834</td></tr><tr><td>1579</td><td>1088</td><td>3.0</td><td>9.81272315E8</td><td>3.5859194</td></tr><tr><td>1383</td><td>1088</td><td>3.0</td><td>9.75976868E8</td><td>3.2400827</td></tr><tr><td>4458</td><td>1088</td><td>2.0</td><td>9.65095758E8</td><td>3.152464</td></tr><tr><td>2506</td><td>1088</td><td>2.0</td><td>9.74078346E8</td><td>3.5608397</td></tr><tr><td>749</td><td>1088</td><td>3.0</td><td>9.75479523E8</td><td>3.5236769</td></tr><tr><td>1268</td><td>1088</td><td>1.0</td><td>9.7579892E8</td><td>2.8847744</td></tr><tr><td>1758</td><td>1088</td><td>2.0</td><td>9.74789434E8</td><td>2.79342</td></tr><tr><td>3424</td><td>1088</td><td>4.0</td><td>9.67357456E8</td><td>4.3920207</td></tr><tr><td>5430</td><td>1088</td><td>5.0</td><td>9.60073244E8</td><td>4.4742994</td></tr><tr><td>1680</td><td>1088</td><td>2.0</td><td>9.74844186E8</td><td>3.173749</td></tr><tr><td>3808</td><td>1088</td><td>2.0</td><td>9.65970918E8</td><td>2.5652196</td></tr><tr><td>4609</td><td>1088</td><td>3.0</td><td>9.6416656E8</td><td>2.868752</td></tr><tr><td>975</td><td>1088</td><td>3.0</td><td>9.75107105E8</td><td>2.5516357</td></tr><tr><td>4800</td><td>1088</td><td>3.0</td><td>9.62991767E8</td><td>2.6618702</td></tr><tr><td>965</td><td>1088</td><td>3.0</td><td>9.75121124E8</td><td>3.4175541</td></tr><tr><td>1448</td><td>1088</td><td>4.0</td><td>9.77259765E8</td><td>3.8996897</td></tr><tr><td>5277</td><td>1088</td><td>2.0</td><td>9.83333056E8</td><td>3.077675</td></tr><tr><td>5569</td><td>1088</td><td>5.0</td><td>9.59544602E8</td><td>3.9156492</td></tr><tr><td>2419</td><td>1088</td><td>3.0</td><td>9.74242696E8</td><td>2.912214</td></tr><tr><td>1112</td><td>1088</td><td>3.0</td><td>9.74945224E8</td><td>3.4101727</td></tr><tr><td>3224</td><td>1088</td><td>5.0</td><td>9.68705258E8</td><td>3.4664145</td></tr><tr><td>4748</td><td>1088</td><td>3.0</td><td>9.6327231E8</td><td>4.28725</td></tr><tr><td>873</td><td>1088</td><td>3.0</td><td>9.75342131E8</td><td>3.5084805</td></tr><tr><td>4265</td><td>1088</td><td>3.0</td><td>9.65306272E8</td><td>3.7403004</td></tr><tr><td>4596</td><td>1088</td><td>5.0</td><td>9.6422284E8</td><td>3.1456652</td></tr><tr><td>4600</td><td>1088</td><td>4.0</td><td>9.67477173E8</td><td>3.2450075</td></tr><tr><td>1117</td><td>1088</td><td>3.0</td><td>9.76592209E8</td><td>3.0007668</td></tr><tr><td>4467</td><td>1088</td><td>5.0</td><td>1.03240795E9</td><td>3.2099433</td></tr><tr><td>5636</td><td>1088</td><td>2.0</td><td>1.025247556E9</td><td>2.2283318</td></tr><tr><td>788</td><td>1088</td><td>4.0</td><td>9.75430285E8</td><td>3.5577734</td></tr><tr><td>4173</td><td>1088</td><td>5.0</td><td>9.65334545E8</td><td>3.9279234</td></tr><tr><td>1591</td><td>1238</td><td>5.0</td><td>9.7474572E8</td><td>4.85573</td></tr><tr><td>5300</td><td>1238</td><td>3.0</td><td>9.61472546E8</td><td>4.201245</td></tr><tr><td>1884</td><td>1238</td><td>5.0</td><td>9.74695857E8</td><td>4.0449953</td></tr><tr><td>2259</td><td>1238</td><td>4.0</td><td>9.74592267E8</td><td>4.6305923</td></tr><tr><td>1525</td><td>1238</td><td>4.0</td><td>9.74745254E8</td><td>4.68216</td></tr><tr><td>4865</td><td>1238</td><td>2.0</td><td>9.62820133E8</td><td>4.177935</td></tr><tr><td>731</td><td>1238</td><td>2.0</td><td>9.75528668E8</td><td>5.0325947</td></tr><tr><td>3346</td><td>1238</td><td>5.0</td><td>9.67774345E8</td><td>3.8012798</td></tr><tr><td>4286</td><td>1238</td><td>3.0</td><td>9.65277771E8</td><td>4.929236</td></tr><tr><td>973</td><td>1238</td><td>5.0</td><td>9.75859607E8</td><td>3.9761872</td></tr><tr><td>2680</td><td>1238</td><td>5.0</td><td>9.73389552E8</td><td>2.7541807</td></tr><tr><td>5841</td><td>1238</td><td>5.0</td><td>9.57871529E8</td><td>5.147805</td></tr><tr><td>4882</td><td>1238</td><td>4.0</td><td>9.62755391E8</td><td>4.171082</td></tr><tr><td>2092</td><td>1238</td><td>5.0</td><td>9.74670906E8</td><td>4.017322</td></tr><tr><td>2054</td><td>1238</td><td>4.0</td><td>9.74661381E8</td><td>3.0839872</td></tr><tr><td>3622</td><td>1238</td><td>3.0</td><td>9.66570162E8</td><td>4.6398616</td></tr><tr><td>3754</td><td>1238</td><td>4.0</td><td>9.66119508E8</td><td>3.738587</td></tr><tr><td>5077</td><td>1238</td><td>4.0</td><td>9.62417637E8</td><td>3.485701</td></tr><tr><td>178</td><td>1238</td><td>2.0</td><td>9.77098757E8</td><td>3.9836257</td></tr><tr><td>4807</td><td>1238</td><td>3.0</td><td>9.62936905E8</td><td>3.1558566</td></tr><tr><td>1273</td><td>1238</td><td>3.0</td><td>9.74814983E8</td><td>4.030045</td></tr><tr><td>6032</td><td>1238</td><td>5.0</td><td>9.56718092E8</td><td>4.7990093</td></tr><tr><td>4356</td><td>1238</td><td>5.0</td><td>9.65190447E8</td><td>4.2560916</td></tr><tr><td>2223</td><td>1238</td><td>3.0</td><td>9.74599357E8</td><td>3.313115</td></tr><tr><td>4765</td><td>1238</td><td>5.0</td><td>9.71814083E8</td><td>4.658437</td></tr><tr><td>4627</td><td>1238</td><td>3.0</td><td>9.64109864E8</td><td>4.4820614</td></tr><tr><td>397</td><td>1238</td><td>5.0</td><td>9.76295122E8</td><td>2.8716745</td></tr><tr><td>2785</td><td>1238</td><td>3.0</td><td>9.72989319E8</td><td>3.426364</td></tr><tr><td>1128</td><td>1238</td><td>4.0</td><td>9.7490784E8</td><td>3.503689</td></tr><tr><td>1692</td><td>1238</td><td>4.0</td><td>9.74710161E8</td><td>4.4222856</td></tr><tr><td>2909</td><td>1238</td><td>4.0</td><td>9.71882337E8</td><td>3.6349921</td></tr><tr><td>3118</td><td>1238</td><td>5.0</td><td>9.69404596E8</td><td>4.3248954</td></tr><tr><td>3824</td><td>1238</td><td>2.0</td><td>9.65939964E8</td><td>3.5493345</td></tr><tr><td>5675</td><td>1238</td><td>5.0</td><td>9.58690751E8</td><td>4.056465</td></tr><tr><td>4956</td><td>1238</td><td>5.0</td><td>9.62643527E8</td><td>3.9122145</td></tr><tr><td>2764</td><td>1238</td><td>5.0</td><td>9.73136817E8</td><td>4.1767745</td></tr><tr><td>1271</td><td>1238</td><td>5.0</td><td>9.74815247E8</td><td>4.9696865</td></tr><tr><td>5943</td><td>1238</td><td>4.0</td><td>9.57201275E8</td><td>5.7425146</td></tr><tr><td>498</td><td>1238</td><td>3.0</td><td>9.77848721E8</td><td>3.3078108</td></tr><tr><td>3511</td><td>1238</td><td>4.0</td><td>9.66978848E8</td><td>4.941889</td></tr><tr><td>4345</td><td>1238</td><td>5.0</td><td>9.66355587E8</td><td>3.8932602</td></tr><tr><td>3018</td><td>1238</td><td>4.0</td><td>9.70521266E8</td><td>3.7674348</td></tr><tr><td>3093</td><td>1238</td><td>5.0</td><td>9.69652852E8</td><td>4.3655677</td></tr><tr><td>6003</td><td>1238</td><td>4.0</td><td>9.56982262E8</td><td>4.896074</td></tr><tr><td>3292</td><td>1238</td><td>5.0</td><td>9.68126202E8</td><td>4.7102427</td></tr><tr><td>3718</td><td>1238</td><td>5.0</td><td>9.66265242E8</td><td>4.159251</td></tr><tr><td>635</td><td>1238</td><td>4.0</td><td>9.79142951E8</td><td>4.8156085</td></tr><tr><td>4344</td><td>1238</td><td>4.0</td><td>9.65239462E8</td><td>3.8713586</td></tr><tr><td>4673</td><td>1238</td><td>5.0</td><td>9.63760762E8</td><td>4.2446637</td></tr><tr><td>1916</td><td>1238</td><td>3.0</td><td>9.74693261E8</td><td>3.6290715</td></tr><tr><td>3492</td><td>1238</td><td>4.0</td><td>9.67046764E8</td><td>4.4201593</td></tr><tr><td>5794</td><td>1238</td><td>4.0</td><td>9.58070257E8</td><td>4.5676665</td></tr><tr><td>6000</td><td>1238</td><td>3.0</td><td>9.56880505E8</td><td>3.503282</td></tr><tr><td>1203</td><td>1238</td><td>4.0</td><td>9.7527235E8</td><td>4.1103024</td></tr><tr><td>5454</td><td>1238</td><td>3.0</td><td>9.59923018E8</td><td>4.839649</td></tr><tr><td>2503</td><td>1238</td><td>2.0</td><td>9.74084854E8</td><td>2.6466231</td></tr><tr><td>5910</td><td>1238</td><td>5.0</td><td>9.57371537E8</td><td>5.035832</td></tr><tr><td>5604</td><td>1238</td><td>2.0</td><td>9.60344769E8</td><td>3.9390614</td></tr><tr><td>4802</td><td>1238</td><td>5.0</td><td>9.78959234E8</td><td>4.416525</td></tr><tr><td>4954</td><td>1238</td><td>3.0</td><td>9.62638446E8</td><td>4.9719825</td></tr><tr><td>2916</td><td>1238</td><td>5.0</td><td>9.71737199E8</td><td>4.119406</td></tr><tr><td>2039</td><td>1238</td><td>4.0</td><td>9.74667643E8</td><td>3.227594</td></tr><tr><td>975</td><td>1238</td><td>5.0</td><td>9.75121095E8</td><td>3.5707178</td></tr><tr><td>1285</td><td>1238</td><td>4.0</td><td>9.74967798E8</td><td>4.002517</td></tr><tr><td>1202</td><td>1238</td><td>5.0</td><td>9.74857181E8</td><td>4.2011495</td></tr><tr><td>5019</td><td>1238</td><td>3.0</td><td>9.86270737E8</td><td>3.4268968</td></tr><tr><td>5622</td><td>1238</td><td>4.0</td><td>9.59096915E8</td><td>4.15297</td></tr><tr><td>2002</td><td>1238</td><td>5.0</td><td>9.74678135E8</td><td>4.7909536</td></tr><tr><td>1044</td><td>1238</td><td>5.0</td><td>9.74966102E8</td><td>4.116558</td></tr><tr><td>2140</td><td>1238</td><td>3.0</td><td>9.74638087E8</td><td>3.9771569</td></tr><tr><td>4234</td><td>1238</td><td>4.0</td><td>9.65311838E8</td><td>3.4546804</td></tr><tr><td>5107</td><td>1238</td><td>1.0</td><td>9.62335743E8</td><td>3.837923</td></tr><tr><td>5289</td><td>1238</td><td>5.0</td><td>9.61080157E8</td><td>4.37225</td></tr><tr><td>1342</td><td>1342</td><td>3.0</td><td>9.74774291E8</td><td>2.8184502</td></tr><tr><td>53</td><td>1342</td><td>2.0</td><td>9.77980747E8</td><td>3.888422</td></tr><tr><td>5916</td><td>1342</td><td>3.0</td><td>9.57459853E8</td><td>2.6920152</td></tr><tr><td>2907</td><td>1342</td><td>3.0</td><td>9.71839221E8</td><td>3.5591714</td></tr><tr><td>3841</td><td>1342</td><td>3.0</td><td>9.66000888E8</td><td>3.7830558</td></tr><tr><td>1051</td><td>1342</td><td>3.0</td><td>9.87219614E8</td><td>2.7592173</td></tr><tr><td>2015</td><td>1342</td><td>4.0</td><td>9.75037054E8</td><td>2.6004953</td></tr><tr><td>5854</td><td>1342</td><td>2.0</td><td>9.58272414E8</td><td>3.583074</td></tr><tr><td>3512</td><td>1342</td><td>2.0</td><td>9.67482443E8</td><td>2.511813</td></tr><tr><td>3586</td><td>1342</td><td>1.0</td><td>9.66692706E8</td><td>2.570195</td></tr><tr><td>4203</td><td>1342</td><td>4.0</td><td>9.65323819E8</td><td>3.1679983</td></tr><tr><td>1626</td><td>1342</td><td>3.0</td><td>9.74722273E8</td><td>2.7409413</td></tr><tr><td>2840</td><td>1342</td><td>4.0</td><td>9.72569313E8</td><td>2.0161057</td></tr><tr><td>4656</td><td>1342</td><td>3.0</td><td>9.63897627E8</td><td>3.0302076</td></tr><tr><td>5649</td><td>1342</td><td>3.0</td><td>9.58868639E8</td><td>2.8985662</td></tr><tr><td>3539</td><td>1342</td><td>4.0</td><td>9.6692828E8</td><td>3.2124822</td></tr><tr><td>4279</td><td>1342</td><td>4.0</td><td>9.65284461E8</td><td>3.5024593</td></tr><tr><td>3067</td><td>1342</td><td>3.0</td><td>9.69998912E8</td><td>3.2610373</td></tr><tr><td>2131</td><td>1342</td><td>3.0</td><td>9.74644256E8</td><td>3.313453</td></tr><tr><td>4870</td><td>1342</td><td>1.0</td><td>9.62817462E8</td><td>2.972424</td></tr><tr><td>2909</td><td>1342</td><td>5.0</td><td>9.71977051E8</td><td>3.868368</td></tr><tr><td>1904</td><td>1342</td><td>1.0</td><td>9.74760577E8</td><td>1.729377</td></tr><tr><td>2438</td><td>1342</td><td>2.0</td><td>9.74263042E8</td><td>3.965447</td></tr><tr><td>1950</td><td>1342</td><td>2.0</td><td>9.74701111E8</td><td>3.2924984</td></tr><tr><td>5348</td><td>1342</td><td>2.0</td><td>9.60666166E8</td><td>2.851618</td></tr><tr><td>721</td><td>1342</td><td>3.0</td><td>9.76461999E8</td><td>3.2817109</td></tr><tr><td>1643</td><td>1342</td><td>2.0</td><td>1.01184356E9</td><td>4.194366</td></tr><tr><td>669</td><td>1342</td><td>1.0</td><td>9.75634875E8</td><td>2.4464066</td></tr><tr><td>1340</td><td>1342</td><td>1.0</td><td>9.75129535E8</td><td>1.8042672</td></tr><tr><td>4334</td><td>1342</td><td>4.0</td><td>9.65245157E8</td><td>3.4650776</td></tr><tr><td>4011</td><td>1342</td><td>1.0</td><td>9.65543361E8</td><td>3.3240678</td></tr><tr><td>5788</td><td>1342</td><td>3.0</td><td>9.58523151E8</td><td>2.7446325</td></tr><tr><td>4344</td><td>1342</td><td>2.0</td><td>9.664483E8</td><td>3.2122574</td></tr><tr><td>5725</td><td>1342</td><td>1.0</td><td>9.58496189E8</td><td>3.154341</td></tr><tr><td>4496</td><td>1342</td><td>3.0</td><td>9.65013908E8</td><td>4.1125984</td></tr><tr><td>4404</td><td>1342</td><td>2.0</td><td>9.65158238E8</td><td>2.4459682</td></tr><tr><td>1941</td><td>1342</td><td>3.0</td><td>9.74850978E8</td><td>2.332546</td></tr><tr><td>3265</td><td>1342</td><td>3.0</td><td>9.68262642E8</td><td>2.262824</td></tr><tr><td>2878</td><td>1342</td><td>1.0</td><td>9.73231308E8</td><td>2.501372</td></tr><tr><td>5312</td><td>1342</td><td>4.0</td><td>9.6230365E8</td><td>3.5423846</td></tr><tr><td>5822</td><td>1342</td><td>3.0</td><td>9.57902133E8</td><td>3.1140118</td></tr><tr><td>6007</td><td>1342</td><td>2.0</td><td>9.56790653E8</td><td>2.9488509</td></tr><tr><td>5878</td><td>1342</td><td>1.0</td><td>1.04378346E9</td><td>2.126328</td></tr><tr><td>2010</td><td>1342</td><td>1.0</td><td>9.74687536E8</td><td>2.2570267</td></tr><tr><td>1676</td><td>1342</td><td>2.0</td><td>9.74792066E8</td><td>3.2395055</td></tr><tr><td>3749</td><td>1580</td><td>5.0</td><td>9.66133974E8</td><td>3.7156487</td></tr><tr><td>31</td><td>1580</td><td>4.0</td><td>9.78121329E8</td><td>3.8983161</td></tr><tr><td>1139</td><td>1580</td><td>4.0</td><td>9.74878436E8</td><td>3.50749</td></tr><tr><td>1903</td><td>1580</td><td>5.0</td><td>9.74691767E8</td><td>3.6708403</td></tr><tr><td>2821</td><td>1580</td><td>5.0</td><td>9.72655771E8</td><td>3.5823925</td></tr><tr><td>5345</td><td>1580</td><td>4.0</td><td>9.60671358E8</td><td>3.9389474</td></tr><tr><td>3098</td><td>1580</td><td>4.0</td><td>9.69596084E8</td><td>3.695797</td></tr><tr><td>3490</td><td>1580</td><td>2.0</td><td>9.67049647E8</td><td>3.0736105</td></tr><tr><td>4042</td><td>1580</td><td>4.0</td><td>9.65503261E8</td><td>3.7829254</td></tr><tr><td>4239</td><td>1580</td><td>4.0</td><td>9.65310412E8</td><td>3.758491</td></tr><tr><td>5074</td><td>1580</td><td>1.0</td><td>9.62430441E8</td><td>2.9970286</td></tr><tr><td>2249</td><td>1580</td><td>5.0</td><td>9.74595817E8</td><td>4.2585626</td></tr><tr><td>3425</td><td>1580</td><td>2.0</td><td>9.67365021E8</td><td>3.4654</td></tr><tr><td>3834</td><td>1580</td><td>5.0</td><td>9.66403229E8</td><td>4.467401</td></tr><tr><td>5740</td><td>1580</td><td>4.0</td><td>9.58406285E8</td><td>2.7029364</td></tr><tr><td>588</td><td>1580</td><td>5.0</td><td>9.75935269E8</td><td>3.4287038</td></tr><tr><td>853</td><td>1580</td><td>5.0</td><td>9.75348019E8</td><td>4.0830555</td></tr><tr><td>4167</td><td>1580</td><td>3.0</td><td>9.65334076E8</td><td>3.1025372</td></tr><tr><td>5457</td><td>1580</td><td>4.0</td><td>9.59913153E8</td><td>3.413001</td></tr><tr><td>673</td><td>1580</td><td>3.0</td><td>9.75624033E8</td><td>2.1150997</td></tr><tr><td>4725</td><td>1580</td><td>4.0</td><td>9.633688E8</td><td>3.4998627</td></tr><tr><td>3661</td><td>1580</td><td>4.0</td><td>9.66432323E8</td><td>4.1753864</td></tr><tr><td>1068</td><td>1580</td><td>3.0</td><td>9.7501407E8</td><td>3.7864258</td></tr><tr><td>1344</td><td>1580</td><td>4.0</td><td>9.74774461E8</td><td>3.4993033</td></tr><tr><td>2225</td><td>1580</td><td>3.0</td><td>9.74680031E8</td><td>3.5278888</td></tr><tr><td>1165</td><td>1580</td><td>4.0</td><td>9.758926E8</td><td>3.5330358</td></tr><tr><td>1183</td><td>1580</td><td>4.0</td><td>9.74854706E8</td><td>2.8337216</td></tr><tr><td>2342</td><td>1580</td><td>4.0</td><td>9.74416741E8</td><td>3.4625523</td></tr><tr><td>4683</td><td>1580</td><td>3.0</td><td>9.63676543E8</td><td>2.926715</td></tr><tr><td>3026</td><td>1580</td><td>3.0</td><td>9.70461849E8</td><td>2.8320346</td></tr><tr><td>4918</td><td>1580</td><td>4.0</td><td>9.62676623E8</td><td>3.5569713</td></tr><tr><td>2905</td><td>1580</td><td>3.0</td><td>1.027813886E9</td><td>3.8904505</td></tr><tr><td>3885</td><td>1580</td><td>4.0</td><td>9.65810562E8</td><td>3.6392555</td></tr><tr><td>4826</td><td>1580</td><td>4.0</td><td>9.62919498E8</td><td>3.80945</td></tr><tr><td>4829</td><td>1580</td><td>5.0</td><td>9.62925203E8</td><td>4.012396</td></tr><tr><td>412</td><td>1580</td><td>4.0</td><td>9.76293316E8</td><td>4.6882243</td></tr><tr><td>1030</td><td>1580</td><td>2.0</td><td>9.74999947E8</td><td>3.6571915</td></tr><tr><td>1064</td><td>1580</td><td>4.0</td><td>9.74946757E8</td><td>3.4274359</td></tr><tr><td>1752</td><td>1580</td><td>4.0</td><td>9.75728855E8</td><td>3.7713513</td></tr><tr><td>2682</td><td>1580</td><td>3.0</td><td>9.73387855E8</td><td>2.843564</td></tr><tr><td>731</td><td>1580</td><td>5.0</td><td>9.7550852E8</td><td>3.9126112</td></tr><tr><td>5505</td><td>1580</td><td>4.0</td><td>9.59732575E8</td><td>3.6993678</td></tr><tr><td>501</td><td>1580</td><td>5.0</td><td>9.76211684E8</td><td>4.1539073</td></tr><tr><td>2439</td><td>1580</td><td>3.0</td><td>9.74225603E8</td><td>3.4697297</td></tr><tr><td>2610</td><td>1580</td><td>4.0</td><td>9.7372253E8</td><td>4.3798656</td></tr><tr><td>2047</td><td>1580</td><td>3.0</td><td>9.75005996E8</td><td>3.3642273</td></tr><tr><td>1875</td><td>1580</td><td>4.0</td><td>9.75767301E8</td><td>3.8938236</td></tr><tr><td>3183</td><td>1580</td><td>4.0</td><td>9.68728787E8</td><td>3.3926992</td></tr><tr><td>3370</td><td>1580</td><td>1.0</td><td>9.67607117E8</td><td>2.8656738</td></tr><tr><td>5142</td><td>1580</td><td>2.0</td><td>9.62041214E8</td><td>4.4220314</td></tr><tr><td>223</td><td>1580</td><td>4.0</td><td>9.76902475E8</td><td>3.9615028</td></tr><tr><td>3083</td><td>1580</td><td>5.0</td><td>9.69762073E8</td><td>3.6636407</td></tr><tr><td>3792</td><td>1580</td><td>5.0</td><td>9.76297488E8</td><td>4.3479733</td></tr><tr><td>4446</td><td>1580</td><td>4.0</td><td>9.65088528E8</td><td>3.6196866</td></tr><tr><td>3519</td><td>1580</td><td>5.0</td><td>9.68352778E8</td><td>3.089408</td></tr><tr><td>4227</td><td>1580</td><td>5.0</td><td>9.65313628E8</td><td>4.003428</td></tr><tr><td>5843</td><td>1580</td><td>4.0</td><td>9.57805803E8</td><td>2.618506</td></tr><tr><td>1457</td><td>1580</td><td>3.0</td><td>9.74757267E8</td><td>3.7169478</td></tr><tr><td>2113</td><td>1580</td><td>5.0</td><td>9.74648997E8</td><td>3.594759</td></tr><tr><td>2789</td><td>1580</td><td>3.0</td><td>9.72949455E8</td><td>4.180288</td></tr><tr><td>285</td><td>1580</td><td>3.0</td><td>1.025213283E9</td><td>3.7232006</td></tr><tr><td>4387</td><td>1580</td><td>4.0</td><td>9.65169764E8</td><td>2.7718675</td></tr><tr><td>1731</td><td>1580</td><td>4.0</td><td>9.74704786E8</td><td>2.7286305</td></tr><tr><td>2242</td><td>1580</td><td>2.0</td><td>9.74595693E8</td><td>3.8917012</td></tr><tr><td>5953</td><td>1580</td><td>4.0</td><td>9.57143581E8</td><td>3.8851902</td></tr><tr><td>319</td><td>1580</td><td>4.0</td><td>9.76422186E8</td><td>3.2495735</td></tr><tr><td>2013</td><td>1580</td><td>5.0</td><td>9.74676489E8</td><td>4.6748047</td></tr><tr><td>3689</td><td>1580</td><td>3.0</td><td>9.663116E8</td><td>3.0950255</td></tr><tr><td>5568</td><td>1580</td><td>4.0</td><td>9.59309579E8</td><td>4.573547</td></tr><tr><td>157</td><td>1580</td><td>3.0</td><td>9.77248649E8</td><td>3.5564542</td></tr><tr><td>225</td><td>1580</td><td>2.0</td><td>9.76914069E8</td><td>2.7315881</td></tr><tr><td>3884</td><td>1580</td><td>3.0</td><td>9.65814827E8</td><td>2.6052763</td></tr><tr><td>4426</td><td>1580</td><td>3.0</td><td>9.65109382E8</td><td>3.0726836</td></tr><tr><td>2896</td><td>1580</td><td>4.0</td><td>9.7205707E8</td><td>3.8859704</td></tr><tr><td>5655</td><td>1580</td><td>4.0</td><td>9.58843652E8</td><td>3.747372</td></tr><tr><td>4655</td><td>1580</td><td>3.0</td><td>9.63903716E8</td><td>3.7652597</td></tr><tr><td>556</td><td>1580</td><td>4.0</td><td>9.76062967E8</td><td>3.4560177</td></tr><tr><td>1425</td><td>1580</td><td>3.0</td><td>9.7484039E8</td><td>3.8185003</td></tr><tr><td>1613</td><td>1580</td><td>4.0</td><td>9.7473254E8</td><td>3.7299752</td></tr><tr><td>1899</td><td>1580</td><td>4.0</td><td>9.74777265E8</td><td>3.5429559</td></tr><tr><td>2038</td><td>1580</td><td>4.0</td><td>9.74670341E8</td><td>3.7490773</td></tr><tr><td>132</td><td>1580</td><td>4.0</td><td>9.77429293E8</td><td>3.721961</td></tr><tr><td>5547</td><td>1580</td><td>3.0</td><td>9.59478336E8</td><td>3.4441724</td></tr><tr><td>696</td><td>1580</td><td>3.0</td><td>9.75562779E8</td><td>3.4059987</td></tr><tr><td>1512</td><td>1580</td><td>4.0</td><td>9.74747549E8</td><td>2.7489994</td></tr><tr><td>1586</td><td>1580</td><td>4.0</td><td>9.74736517E8</td><td>4.1264524</td></tr><tr><td>1694</td><td>1580</td><td>4.0</td><td>9.74710802E8</td><td>3.8857296</td></tr><tr><td>2219</td><td>1580</td><td>3.0</td><td>9.74601163E8</td><td>3.5397315</td></tr><tr><td>3029</td><td>1580</td><td>5.0</td><td>9.70364026E8</td><td>4.0893526</td></tr><tr><td>435</td><td>1580</td><td>4.0</td><td>9.7624945E8</td><td>3.9903834</td></tr><tr><td>2840</td><td>1580</td><td>4.0</td><td>9.72572708E8</td><td>3.3230278</td></tr><tr><td>1122</td><td>1580</td><td>3.0</td><td>9.74910939E8</td><td>3.1663988</td></tr><tr><td>4472</td><td>1580</td><td>4.0</td><td>9.65064248E8</td><td>3.7385275</td></tr><tr><td>1802</td><td>1580</td><td>3.0</td><td>9.74698813E8</td><td>3.579157</td></tr><tr><td>2239</td><td>1580</td><td>3.0</td><td>9.86875124E8</td><td>3.9739435</td></tr><tr><td>2941</td><td>1580</td><td>4.0</td><td>9.71347792E8</td><td>3.8296912</td></tr><tr><td>4561</td><td>1580</td><td>3.0</td><td>9.64497526E8</td><td>3.6147337</td></tr><tr><td>4786</td><td>1580</td><td>5.0</td><td>9.63001643E8</td><td>3.9030654</td></tr><tr><td>1391</td><td>1580</td><td>4.0</td><td>9.74770688E8</td><td>3.700274</td></tr><tr><td>5960</td><td>1580</td><td>5.0</td><td>9.5702924E8</td><td>4.0493054</td></tr><tr><td>770</td><td>1580</td><td>3.0</td><td>9.75443142E8</td><td>3.7782648</td></tr><tr><td>5819</td><td>1580</td><td>4.0</td><td>9.57906688E8</td><td>4.0318933</td></tr><tr><td>1190</td><td>1580</td><td>5.0</td><td>9.74850892E8</td><td>4.129996</td></tr><tr><td>631</td><td>1580</td><td>5.0</td><td>9.75781491E8</td><td>3.7572575</td></tr><tr><td>1878</td><td>1580</td><td>3.0</td><td>9.74845115E8</td><td>3.698903</td></tr><tr><td>2256</td><td>1580</td><td>5.0</td><td>9.74591065E8</td><td>4.057181</td></tr><tr><td>3172</td><td>1580</td><td>3.0</td><td>9.68793136E8</td><td>2.8679318</td></tr><tr><td>3192</td><td>1580</td><td>4.0</td><td>9.68645431E8</td><td>4.6448436</td></tr><tr><td>3474</td><td>1580</td><td>3.0</td><td>9.67133896E8</td><td>3.810607</td></tr><tr><td>3607</td><td>1580</td><td>5.0</td><td>9.71912507E8</td><td>3.972675</td></tr><tr><td>1399</td><td>1580</td><td>4.0</td><td>9.74768416E8</td><td>3.677573</td></tr><tr><td>3272</td><td>1580</td><td>4.0</td><td>9.68204916E8</td><td>4.0914617</td></tr><tr><td>440</td><td>1580</td><td>3.0</td><td>9.76242381E8</td><td>3.4699724</td></tr><tr><td>2383</td><td>1580</td><td>2.0</td><td>9.7432446E8</td><td>3.7151124</td></tr><tr><td>2455</td><td>1580</td><td>2.0</td><td>9.74180495E8</td><td>2.9785042</td></tr><tr><td>2471</td><td>1580</td><td>3.0</td><td>9.74153297E8</td><td>3.0609465</td></tr><tr><td>1100</td><td>1580</td><td>1.0</td><td>9.74925438E8</td><td>2.1493645</td></tr><tr><td>4030</td><td>1580</td><td>3.0</td><td>9.65513972E8</td><td>3.2073627</td></tr><tr><td>3645</td><td>1580</td><td>5.0</td><td>9.66468786E8</td><td>4.7010393</td></tr><tr><td>5701</td><td>1580</td><td>4.0</td><td>9.58587975E8</td><td>3.6266744</td></tr><tr><td>2852</td><td>1580</td><td>5.0</td><td>9.72507394E8</td><td>4.2589483</td></tr><tr><td>3115</td><td>1580</td><td>1.0</td><td>9.69594847E8</td><td>3.3280938</td></tr><tr><td>4094</td><td>1580</td><td>5.0</td><td>9.65420038E8</td><td>4.2227345</td></tr><tr><td>5120</td><td>1580</td><td>3.0</td><td>9.6225819E8</td><td>3.7039444</td></tr><tr><td>479</td><td>1580</td><td>4.0</td><td>9.76218104E8</td><td>3.8560562</td></tr><tr><td>2681</td><td>1580</td><td>5.0</td><td>9.73391688E8</td><td>3.7815166</td></tr><tr><td>5424</td><td>1580</td><td>3.0</td><td>9.60142938E8</td><td>3.5276566</td></tr><tr><td>881</td><td>1580</td><td>2.0</td><td>9.75262087E8</td><td>3.15522</td></tr><tr><td>980</td><td>1580</td><td>4.0</td><td>9.75731591E8</td><td>2.8007522</td></tr><tr><td>377</td><td>1580</td><td>3.0</td><td>9.76302561E8</td><td>3.5397756</td></tr><tr><td>402</td><td>1580</td><td>4.0</td><td>9.7629607E8</td><td>3.7806013</td></tr><tr><td>1273</td><td>1580</td><td>5.0</td><td>9.74816667E8</td><td>3.2594376</td></tr><tr><td>2489</td><td>1580</td><td>4.0</td><td>9.74139618E8</td><td>3.4105756</td></tr><tr><td>4137</td><td>1580</td><td>4.0</td><td>9.65348136E8</td><td>4.089753</td></tr><tr><td>5324</td><td>1580</td><td>4.0</td><td>9.60858095E8</td><td>3.395145</td></tr><tr><td>1968</td><td>1580</td><td>3.0</td><td>9.74685243E8</td><td>3.00938</td></tr><tr><td>292</td><td>1580</td><td>4.0</td><td>9.76561409E8</td><td>3.8027496</td></tr><tr><td>4356</td><td>1580</td><td>2.0</td><td>9.65327525E8</td><td>3.230135</td></tr><tr><td>6027</td><td>1580</td><td>4.0</td><td>9.5672662E8</td><td>4.3707275</td></tr><tr><td>3726</td><td>1580</td><td>5.0</td><td>9.66226036E8</td><td>3.913627</td></tr><tr><td>4425</td><td>1580</td><td>4.0</td><td>9.65108392E8</td><td>3.461987</td></tr><tr><td>5189</td><td>1580</td><td>2.0</td><td>9.6173802E8</td><td>3.306508</td></tr><tr><td>5466</td><td>1580</td><td>3.0</td><td>9.59898172E8</td><td>3.8348017</td></tr><tr><td>235</td><td>1580</td><td>4.0</td><td>9.76772128E8</td><td>3.5466464</td></tr><tr><td>1605</td><td>1580</td><td>3.0</td><td>9.75381331E8</td><td>3.3772514</td></tr><tr><td>3702</td><td>1580</td><td>4.0</td><td>9.66290078E8</td><td>3.4628098</td></tr><tr><td>5626</td><td>1580</td><td>3.0</td><td>9.61489746E8</td><td>4.278434</td></tr><tr><td>5954</td><td>1580</td><td>5.0</td><td>9.57129437E8</td><td>3.5067492</td></tr><tr><td>650</td><td>1580</td><td>4.0</td><td>9.75704514E8</td><td>4.467488</td></tr><tr><td>2803</td><td>1580</td><td>4.0</td><td>9.72814385E8</td><td>3.0570562</td></tr><tr><td>4508</td><td>1580</td><td>4.0</td><td>9.64981358E8</td><td>3.092886</td></tr><tr><td>5657</td><td>1580</td><td>5.0</td><td>9.58828502E8</td><td>4.242491</td></tr><tr><td>1360</td><td>1580</td><td>3.0</td><td>9.74771218E8</td><td>3.5907373</td></tr><tr><td>1855</td><td>1580</td><td>4.0</td><td>9.74785323E8</td><td>3.1939118</td></tr><tr><td>4543</td><td>1580</td><td>3.0</td><td>9.65107631E8</td><td>3.4511385</td></tr><tr><td>5176</td><td>1580</td><td>4.0</td><td>9.65939614E8</td><td>3.9980743</td></tr><tr><td>1010</td><td>1580</td><td>3.0</td><td>9.75219299E8</td><td>2.9871764</td></tr><tr><td>5625</td><td>1580</td><td>4.0</td><td>9.59089248E8</td><td>3.5233834</td></tr><tr><td>2105</td><td>1580</td><td>3.0</td><td>9.74665162E8</td><td>3.3079078</td></tr><tr><td>3816</td><td>1580</td><td>5.0</td><td>9.65952924E8</td><td>3.960054</td></tr><tr><td>1420</td><td>1580</td><td>2.0</td><td>9.74759975E8</td><td>3.4975502</td></tr><tr><td>1856</td><td>1580</td><td>5.0</td><td>9.74697348E8</td><td>4.831477</td></tr><tr><td>2085</td><td>1580</td><td>5.0</td><td>9.74654373E8</td><td>3.8032625</td></tr><tr><td>2761</td><td>1580</td><td>4.0</td><td>9.73147694E8</td><td>3.8042874</td></tr><tr><td>3138</td><td>1580</td><td>4.0</td><td>9.69051206E8</td><td>4.169606</td></tr><tr><td>5015</td><td>1580</td><td>5.0</td><td>9.62594793E8</td><td>4.2279263</td></tr><tr><td>542</td><td>1580</td><td>4.0</td><td>9.76120505E8</td><td>3.3482504</td></tr><tr><td>560</td><td>1580</td><td>4.0</td><td>9.76048632E8</td><td>4.170833</td></tr><tr><td>2218</td><td>1580</td><td>3.0</td><td>9.74600243E8</td><td>4.070201</td></tr><tr><td>2994</td><td>1580</td><td>4.0</td><td>9.70708264E8</td><td>3.5611281</td></tr><tr><td>4961</td><td>1580</td><td>2.0</td><td>9.62633421E8</td><td>3.286071</td></tr><tr><td>5243</td><td>1580</td><td>3.0</td><td>9.61390878E8</td><td>3.8980775</td></tr><tr><td>4322</td><td>1580</td><td>3.0</td><td>9.65258006E8</td><td>3.509661</td></tr><tr><td>1314</td><td>1580</td><td>5.0</td><td>9.74780299E8</td><td>3.7133405</td></tr><tr><td>2743</td><td>1580</td><td>4.0</td><td>9.7321809E8</td><td>3.8786273</td></tr><tr><td>3056</td><td>1580</td><td>4.0</td><td>9.70125552E8</td><td>3.8534665</td></tr><tr><td>3080</td><td>1580</td><td>3.0</td><td>9.69809964E8</td><td>3.6699111</td></tr><tr><td>4130</td><td>1580</td><td>4.0</td><td>9.65352384E8</td><td>3.9130301</td></tr><tr><td>4476</td><td>1580</td><td>2.0</td><td>9.65059877E8</td><td>2.3392968</td></tr><tr><td>1166</td><td>1580</td><td>4.0</td><td>9.74860651E8</td><td>2.2748194</td></tr><tr><td>1255</td><td>1580</td><td>4.0</td><td>9.74822676E8</td><td>3.2389855</td></tr><tr><td>4374</td><td>1580</td><td>5.0</td><td>9.65179707E8</td><td>4.189184</td></tr><tr><td>1181</td><td>1580</td><td>4.0</td><td>9.74855027E8</td><td>3.1629834</td></tr><tr><td>4006</td><td>1580</td><td>4.0</td><td>9.65551722E8</td><td>4.2872167</td></tr><tr><td>3285</td><td>1580</td><td>5.0</td><td>9.6811811E8</td><td>3.75328</td></tr><tr><td>3434</td><td>1580</td><td>3.0</td><td>9.67335662E8</td><td>3.2821298</td></tr><tr><td>3638</td><td>1580</td><td>3.0</td><td>9.66580318E8</td><td>3.6459494</td></tr><tr><td>929</td><td>1580</td><td>1.0</td><td>9.75191185E8</td><td>3.7642097</td></tr><tr><td>5675</td><td>1580</td><td>4.0</td><td>9.5874456E8</td><td>4.0265036</td></tr><tr><td>5688</td><td>1580</td><td>3.0</td><td>9.58603749E8</td><td>2.4138436</td></tr><tr><td>1194</td><td>1580</td><td>4.0</td><td>1.036308118E9</td><td>3.3100994</td></tr><tr><td>1793</td><td>1580</td><td>4.0</td><td>9.74699833E8</td><td>3.7510054</td></tr><tr><td>5874</td><td>1580</td><td>4.0</td><td>9.57562294E8</td><td>3.2508984</td></tr><tr><td>1263</td><td>1580</td><td>3.0</td><td>9.74840101E8</td><td>3.4073434</td></tr><tr><td>4816</td><td>1580</td><td>3.0</td><td>9.63791134E8</td><td>3.9875946</td></tr><tr><td>1091</td><td>1580</td><td>3.0</td><td>9.74929981E8</td><td>2.2443335</td></tr><tr><td>179</td><td>1580</td><td>3.0</td><td>9.77092824E8</td><td>2.9380128</td></tr><tr><td>2149</td><td>1580</td><td>4.0</td><td>9.74620735E8</td><td>3.6258705</td></tr><tr><td>3609</td><td>1580</td><td>4.0</td><td>9.66614121E8</td><td>3.5066588</td></tr><tr><td>1624</td><td>1580</td><td>2.0</td><td>9.74724344E8</td><td>3.7231603</td></tr><tr><td>316</td><td>1580</td><td>4.0</td><td>9.7646584E8</td><td>4.5463247</td></tr><tr><td>3003</td><td>1580</td><td>5.0</td><td>9.70774153E8</td><td>4.175025</td></tr><tr><td>5404</td><td>1580</td><td>5.0</td><td>9.60255825E8</td><td>4.172229</td></tr><tr><td>979</td><td>1580</td><td>5.0</td><td>9.79496046E8</td><td>4.4630556</td></tr><tr><td>5598</td><td>1580</td><td>4.0</td><td>9.59214634E8</td><td>3.8557947</td></tr><tr><td>5283</td><td>1580</td><td>3.0</td><td>9.61164952E8</td><td>3.7849035</td></tr><tr><td>3773</td><td>1580</td><td>4.0</td><td>9.66043761E8</td><td>3.6203966</td></tr><tr><td>6009</td><td>1580</td><td>3.0</td><td>9.5678633E8</td><td>2.979625</td></tr><tr><td>231</td><td>1580</td><td>5.0</td><td>9.85630509E8</td><td>4.2309203</td></tr><tr><td>3658</td><td>1580</td><td>4.0</td><td>9.6644579E8</td><td>3.7682202</td></tr><tr><td>2783</td><td>1580</td><td>2.0</td><td>9.73017976E8</td><td>3.6941726</td></tr><tr><td>5560</td><td>1580</td><td>5.0</td><td>9.59375275E8</td><td>4.1370687</td></tr><tr><td>1698</td><td>1580</td><td>4.0</td><td>9.74773182E8</td><td>3.5549612</td></tr><tr><td>1161</td><td>1580</td><td>2.0</td><td>9.7486231E8</td><td>2.7567813</td></tr><tr><td>739</td><td>1580</td><td>4.0</td><td>9.75475479E8</td><td>4.602726</td></tr><tr><td>3201</td><td>1580</td><td>4.0</td><td>9.72669736E8</td><td>4.2588964</td></tr><tr><td>3511</td><td>1580</td><td>4.0</td><td>9.66974786E8</td><td>4.062464</td></tr><tr><td>3681</td><td>1580</td><td>4.0</td><td>9.66354416E8</td><td>4.1848516</td></tr><tr><td>1814</td><td>1580</td><td>4.0</td><td>9.74698151E8</td><td>4.713271</td></tr><tr><td>4223</td><td>1580</td><td>3.0</td><td>9.65314867E8</td><td>3.8812037</td></tr><tr><td>4453</td><td>1580</td><td>4.0</td><td>9.65243509E8</td><td>3.379779</td></tr><tr><td>3823</td><td>1580</td><td>4.0</td><td>9.65944661E8</td><td>4.220791</td></tr><tr><td>441</td><td>1580</td><td>5.0</td><td>9.76241695E8</td><td>3.8542798</td></tr><tr><td>733</td><td>1580</td><td>5.0</td><td>9.75481539E8</td><td>3.6242566</td></tr><tr><td>2171</td><td>1580</td><td>3.0</td><td>9.74611012E8</td><td>3.0881054</td></tr><tr><td>5630</td><td>1580</td><td>5.0</td><td>9.80085337E8</td><td>4.013234</td></tr><tr><td>2631</td><td>1580</td><td>5.0</td><td>9.73614178E8</td><td>3.6057231</td></tr><tr><td>3513</td><td>1580</td><td>4.0</td><td>9.66974187E8</td><td>3.600143</td></tr><tr><td>4361</td><td>1580</td><td>4.0</td><td>9.66707377E8</td><td>4.01599</td></tr><tr><td>5503</td><td>1580</td><td>4.0</td><td>9.59781568E8</td><td>3.6862733</td></tr><tr><td>2929</td><td>1580</td><td>4.0</td><td>9.71550708E8</td><td>3.8400655</td></tr><tr><td>4210</td><td>1580</td><td>4.0</td><td>9.65319542E8</td><td>4.507804</td></tr><tr><td>4690</td><td>1580</td><td>5.0</td><td>9.63615289E8</td><td>3.5625832</td></tr><tr><td>5319</td><td>1580</td><td>4.0</td><td>9.60864972E8</td><td>3.8641405</td></tr><tr><td>445</td><td>1580</td><td>5.0</td><td>9.76239845E8</td><td>4.1830206</td></tr><tr><td>2993</td><td>1580</td><td>3.0</td><td>9.70725135E8</td><td>3.7094877</td></tr><tr><td>3653</td><td>1580</td><td>4.0</td><td>9.66453283E8</td><td>3.8972137</td></tr><tr><td>4020</td><td>1580</td><td>3.0</td><td>9.65532534E8</td><td>3.6589699</td></tr><tr><td>4333</td><td>1580</td><td>5.0</td><td>9.65242717E8</td><td>4.659851</td></tr><tr><td>450</td><td>1580</td><td>3.0</td><td>9.76234252E8</td><td>3.4304283</td></tr><tr><td>495</td><td>1580</td><td>3.0</td><td>9.76213871E8</td><td>4.1471586</td></tr><tr><td>4122</td><td>1580</td><td>4.0</td><td>9.65356966E8</td><td>3.3053944</td></tr><tr><td>687</td><td>1580</td><td>4.0</td><td>9.75600806E8</td><td>3.6661687</td></tr><tr><td>2163</td><td>1580</td><td>3.0</td><td>9.74615247E8</td><td>3.9744027</td></tr><tr><td>3128</td><td>1580</td><td>4.0</td><td>9.69286837E8</td><td>2.904614</td></tr><tr><td>5925</td><td>1580</td><td>4.0</td><td>9.57294918E8</td><td>3.360608</td></tr><tr><td>1060</td><td>1580</td><td>3.0</td><td>9.74949624E8</td><td>3.2113397</td></tr><tr><td>1685</td><td>1580</td><td>3.0</td><td>9.74715638E8</td><td>3.0330164</td></tr><tr><td>3157</td><td>1580</td><td>5.0</td><td>9.68902112E8</td><td>3.611858</td></tr><tr><td>4560</td><td>1580</td><td>4.0</td><td>9.64649369E8</td><td>3.6812892</td></tr><tr><td>5418</td><td>1580</td><td>4.0</td><td>9.60184625E8</td><td>3.3835838</td></tr><tr><td>49</td><td>1580</td><td>3.0</td><td>9.77973921E8</td><td>3.3403149</td></tr><tr><td>672</td><td>1580</td><td>2.0</td><td>9.75624979E8</td><td>3.4245083</td></tr><tr><td>791</td><td>1580</td><td>5.0</td><td>9.81767833E8</td><td>4.093543</td></tr><tr><td>1717</td><td>1580</td><td>5.0</td><td>9.74705345E8</td><td>3.3568852</td></tr><tr><td>5808</td><td>1580</td><td>4.0</td><td>9.57983064E8</td><td>4.27509</td></tr><tr><td>2756</td><td>1580</td><td>4.0</td><td>9.73192757E8</td><td>4.1023297</td></tr><tr><td>1662</td><td>1580</td><td>4.0</td><td>9.74710724E8</td><td>3.7914767</td></tr><tr><td>2136</td><td>1580</td><td>5.0</td><td>9.7464268E8</td><td>4.067913</td></tr><tr><td>2918</td><td>1580</td><td>4.0</td><td>9.73280832E8</td><td>3.1999474</td></tr><tr><td>5075</td><td>1580</td><td>5.0</td><td>9.62422114E8</td><td>3.7221005</td></tr><tr><td>3389</td><td>1580</td><td>3.0</td><td>9.67515526E8</td><td>3.0846038</td></tr><tr><td>4892</td><td>1580</td><td>3.0</td><td>9.62736731E8</td><td>3.3421342</td></tr><tr><td>5065</td><td>1580</td><td>2.0</td><td>9.62476646E8</td><td>3.783588</td></tr><tr><td>5730</td><td>1580</td><td>2.0</td><td>9.58441889E8</td><td>3.2422347</td></tr><tr><td>1716</td><td>1580</td><td>3.0</td><td>9.74707784E8</td><td>3.5580847</td></tr><tr><td>439</td><td>1580</td><td>4.0</td><td>9.76472405E8</td><td>3.8049388</td></tr><tr><td>2814</td><td>1580</td><td>5.0</td><td>9.72698278E8</td><td>4.0963354</td></tr><tr><td>2873</td><td>1580</td><td>4.0</td><td>9.72782918E8</td><td>3.3935435</td></tr><tr><td>3516</td><td>1580</td><td>2.0</td><td>9.66966816E8</td><td>3.3345463</td></tr><tr><td>194</td><td>1580</td><td>4.0</td><td>9.77014914E8</td><td>3.0890074</td></tr><tr><td>331</td><td>1580</td><td>4.0</td><td>9.84154283E8</td><td>3.6692295</td></tr><tr><td>2187</td><td>1580</td><td>5.0</td><td>9.74609129E8</td><td>4.2864933</td></tr><tr><td>5376</td><td>1580</td><td>4.0</td><td>9.60409656E8</td><td>3.471581</td></tr><tr><td>532</td><td>1580</td><td>5.0</td><td>9.76140661E8</td><td>4.7207947</td></tr><tr><td>3608</td><td>1580</td><td>4.0</td><td>9.66612489E8</td><td>3.8370516</td></tr><tr><td>3763</td><td>1580</td><td>3.0</td><td>9.66091982E8</td><td>4.115729</td></tr><tr><td>2077</td><td>1580</td><td>4.0</td><td>9.74658392E8</td><td>3.5154119</td></tr><tr><td>1001</td><td>1580</td><td>4.0</td><td>9.76297632E8</td><td>3.4634469</td></tr><tr><td>2394</td><td>1580</td><td>4.0</td><td>9.74354648E8</td><td>4.0949717</td></tr><tr><td>5053</td><td>1580</td><td>5.0</td><td>9.8783564E8</td><td>3.9842474</td></tr><tr><td>5261</td><td>1580</td><td>2.0</td><td>9.61197052E8</td><td>2.7441652</td></tr><tr><td>1134</td><td>1580</td><td>3.0</td><td>9.74882425E8</td><td>4.053125</td></tr><tr><td>2480</td><td>1580</td><td>4.0</td><td>9.74148364E8</td><td>4.0447946</td></tr><tr><td>3715</td><td>1580</td><td>5.0</td><td>9.66265752E8</td><td>4.3624845</td></tr><tr><td>4123</td><td>1580</td><td>4.0</td><td>9.65359009E8</td><td>2.8439271</td></tr><tr><td>5523</td><td>1580</td><td>4.0</td><td>9.59645186E8</td><td>4.1152472</td></tr><tr><td>5885</td><td>1580</td><td>5.0</td><td>9.57775271E8</td><td>3.8519013</td></tr><tr><td>869</td><td>1580</td><td>5.0</td><td>9.75278898E8</td><td>3.8154213</td></tr><tr><td>1347</td><td>1580</td><td>4.0</td><td>9.75807987E8</td><td>3.686843</td></tr><tr><td>1356</td><td>1580</td><td>1.0</td><td>9.74770422E8</td><td>2.8294504</td></tr><tr><td>2020</td><td>1580</td><td>3.0</td><td>9.74676014E8</td><td>3.5461674</td></tr><tr><td>2853</td><td>1580</td><td>1.0</td><td>9.72506527E8</td><td>2.816366</td></tr><tr><td>4022</td><td>1580</td><td>4.0</td><td>9.6552091E8</td><td>3.4815423</td></tr><tr><td>4140</td><td>1580</td><td>4.0</td><td>9.65348438E8</td><td>3.6373785</td></tr><tr><td>1780</td><td>1580</td><td>3.0</td><td>9.74700352E8</td><td>3.03452</td></tr><tr><td>3771</td><td>1580</td><td>2.0</td><td>9.66049584E8</td><td>3.050337</td></tr><tr><td>1921</td><td>1580</td><td>4.0</td><td>9.74692584E8</td><td>3.4013786</td></tr><tr><td>2226</td><td>1580</td><td>4.0</td><td>9.74661319E8</td><td>3.5259175</td></tr><tr><td>1354</td><td>1580</td><td>4.0</td><td>9.74771855E8</td><td>3.5873005</td></tr><tr><td>2641</td><td>1580</td><td>2.0</td><td>1.028484634E9</td><td>3.6905913</td></tr><tr><td>3860</td><td>1580</td><td>4.0</td><td>9.65860526E8</td><td>3.926681</td></tr><tr><td>5113</td><td>1580</td><td>2.0</td><td>9.71966518E8</td><td>1.953168</td></tr><tr><td>3518</td><td>1580</td><td>5.0</td><td>9.66958862E8</td><td>3.6723635</td></tr><tr><td>5860</td><td>1580</td><td>4.0</td><td>9.58701743E8</td><td>4.264392</td></tr><tr><td>817</td><td>1580</td><td>4.0</td><td>9.75387059E8</td><td>4.4822764</td></tr><tr><td>793</td><td>1580</td><td>3.0</td><td>9.75424278E8</td><td>3.2849734</td></tr><tr><td>1611</td><td>1580</td><td>2.0</td><td>9.80748171E8</td><td>3.8451893</td></tr><tr><td>3724</td><td>1580</td><td>4.0</td><td>9.66225398E8</td><td>3.9929595</td></tr><tr><td>5172</td><td>1580</td><td>4.0</td><td>9.62722669E8</td><td>3.392306</td></tr><tr><td>5412</td><td>1580</td><td>3.0</td><td>9.6024109E8</td><td>4.081203</td></tr><tr><td>5641</td><td>1580</td><td>2.0</td><td>9.58926595E8</td><td>3.5173962</td></tr><tr><td>3182</td><td>1580</td><td>2.0</td><td>9.68772238E8</td><td>2.986371</td></tr><tr><td>3646</td><td>1580</td><td>3.0</td><td>9.66468239E8</td><td>3.8490977</td></tr><tr><td>2737</td><td>1580</td><td>3.0</td><td>9.73225542E8</td><td>3.1657748</td></tr><tr><td>82</td><td>1580</td><td>3.0</td><td>9.77774062E8</td><td>3.9592426</td></tr><tr><td>181</td><td>1580</td><td>3.0</td><td>9.77087712E8</td><td>3.477153</td></tr><tr><td>2251</td><td>1580</td><td>3.0</td><td>9.74595206E8</td><td>3.574859</td></tr><tr><td>4879</td><td>1580</td><td>2.0</td><td>9.62766408E8</td><td>3.0036354</td></tr><tr><td>3760</td><td>1580</td><td>4.0</td><td>9.66095067E8</td><td>4.106883</td></tr><tr><td>5705</td><td>1580</td><td>3.0</td><td>9.58544882E8</td><td>3.5090609</td></tr><tr><td>240</td><td>1580</td><td>3.0</td><td>9.76755336E8</td><td>3.5260482</td></tr><tr><td>2270</td><td>1580</td><td>5.0</td><td>9.7457445E8</td><td>4.325857</td></tr><tr><td>5108</td><td>1580</td><td>3.0</td><td>9.62338253E8</td><td>2.871406</td></tr><tr><td>237</td><td>1580</td><td>4.0</td><td>9.76761512E8</td><td>3.853482</td></tr><tr><td>895</td><td>1580</td><td>5.0</td><td>9.75221712E8</td><td>3.6985633</td></tr><tr><td>3438</td><td>1580</td><td>4.0</td><td>9.67390005E8</td><td>3.7214808</td></tr><tr><td>3508</td><td>1580</td><td>3.0</td><td>9.66974805E8</td><td>3.254617</td></tr><tr><td>3510</td><td>1580</td><td>4.0</td><td>9.66974248E8</td><td>3.803057</td></tr><tr><td>3994</td><td>1580</td><td>5.0</td><td>9.66701011E8</td><td>4.378387</td></tr><tr><td>24</td><td>1580</td><td>4.0</td><td>9.78134324E8</td><td>3.7224965</td></tr><tr><td>4915</td><td>1580</td><td>3.0</td><td>9.62676836E8</td><td>4.046331</td></tr><tr><td>5893</td><td>1580</td><td>3.0</td><td>9.57470549E8</td><td>2.2934914</td></tr><tr><td>1709</td><td>1580</td><td>5.0</td><td>9.74708934E8</td><td>3.5576358</td></tr><tr><td>3265</td><td>1580</td><td>5.0</td><td>9.68215433E8</td><td>3.0674305</td></tr><tr><td>1592</td><td>1580</td><td>4.0</td><td>9.74734685E8</td><td>3.5332525</td></tr><tr><td>1853</td><td>1580</td><td>4.0</td><td>9.75019901E8</td><td>3.6598155</td></tr><tr><td>2812</td><td>1580</td><td>4.0</td><td>9.72699573E8</td><td>3.4165385</td></tr><tr><td>3591</td><td>1580</td><td>4.0</td><td>9.66645495E8</td><td>3.2093165</td></tr><tr><td>697</td><td>1580</td><td>4.0</td><td>9.75560891E8</td><td>3.8253615</td></tr><tr><td>967</td><td>1580</td><td>3.0</td><td>9.75116528E8</td><td>3.488194</td></tr><tr><td>1099</td><td>1580</td><td>4.0</td><td>9.74926383E8</td><td>3.3070128</td></tr><tr><td>2820</td><td>1580</td><td>2.0</td><td>9.72657553E8</td><td>2.4738624</td></tr><tr><td>2541</td><td>1580</td><td>4.0</td><td>9.74046076E8</td><td>3.731423</td></tr><tr><td>2860</td><td>1580</td><td>4.0</td><td>9.74150492E8</td><td>3.1771173</td></tr><tr><td>2749</td><td>1580</td><td>2.0</td><td>9.74154362E8</td><td>3.8976693</td></tr><tr><td>3845</td><td>1580</td><td>5.0</td><td>9.6596601E8</td><td>3.8494525</td></tr><tr><td>4945</td><td>1580</td><td>5.0</td><td>9.62644047E8</td><td>3.66323</td></tr><tr><td>214</td><td>1580</td><td>4.0</td><td>9.76900856E8</td><td>3.3827367</td></tr><tr><td>710</td><td>1580</td><td>5.0</td><td>9.75541687E8</td><td>3.7863088</td></tr><tr><td>550</td><td>1580</td><td>5.0</td><td>9.76158422E8</td><td>3.9249537</td></tr><tr><td>2955</td><td>1580</td><td>1.0</td><td>9.71205049E8</td><td>2.6074984</td></tr><tr><td>3716</td><td>1580</td><td>5.0</td><td>9.66264727E8</td><td>3.822097</td></tr><tr><td>4406</td><td>1580</td><td>5.0</td><td>9.65156122E8</td><td>4.359341</td></tr><tr><td>5723</td><td>1580</td><td>4.0</td><td>1.026864308E9</td><td>3.4483428</td></tr><tr><td>2449</td><td>1580</td><td>4.0</td><td>9.74210134E8</td><td>4.158956</td></tr><tr><td>4117</td><td>1580</td><td>3.0</td><td>9.65621376E8</td><td>4.1912026</td></tr><tr><td>5390</td><td>1580</td><td>4.0</td><td>9.60327469E8</td><td>3.817045</td></tr><tr><td>5686</td><td>1580</td><td>3.0</td><td>9.58602723E8</td><td>2.4446537</td></tr><tr><td>1450</td><td>1580</td><td>4.0</td><td>9.74767917E8</td><td>2.7794032</td></tr><tr><td>595</td><td>1580</td><td>3.0</td><td>9.75896457E8</td><td>3.1866205</td></tr><tr><td>2130</td><td>1580</td><td>4.0</td><td>9.74643105E8</td><td>3.0373538</td></tr><tr><td>2435</td><td>1580</td><td>4.0</td><td>9.74224246E8</td><td>3.68471</td></tr><tr><td>4342</td><td>1580</td><td>5.0</td><td>9.65231024E8</td><td>4.2310596</td></tr><tr><td>1593</td><td>1580</td><td>3.0</td><td>9.74735042E8</td><td>3.0364423</td></tr><tr><td>3569</td><td>1580</td><td>3.0</td><td>9.68212469E8</td><td>2.4846308</td></tr><tr><td>863</td><td>1580</td><td>4.0</td><td>9.75282111E8</td><td>4.339461</td></tr><tr><td>1712</td><td>1580</td><td>3.0</td><td>9.74705961E8</td><td>3.710218</td></tr><tr><td>4005</td><td>1580</td><td>5.0</td><td>9.65559303E8</td><td>4.0419497</td></tr><tr><td>1937</td><td>1580</td><td>3.0</td><td>9.74922345E8</td><td>3.1192193</td></tr><tr><td>2927</td><td>1580</td><td>4.0</td><td>9.71554296E8</td><td>4.296573</td></tr><tr><td>3553</td><td>1580</td><td>4.0</td><td>9.66814115E8</td><td>4.2779164</td></tr><tr><td>2421</td><td>1580</td><td>4.0</td><td>9.74238238E8</td><td>3.653174</td></tr><tr><td>2634</td><td>1580</td><td>4.0</td><td>9.73787365E8</td><td>3.7525089</td></tr><tr><td>1532</td><td>1580</td><td>1.0</td><td>9.74825171E8</td><td>3.9550548</td></tr><tr><td>2594</td><td>1580</td><td>4.0</td><td>9.73817166E8</td><td>3.8093994</td></tr><tr><td>5534</td><td>1580</td><td>5.0</td><td>9.60074304E8</td><td>4.440412</td></tr><tr><td>735</td><td>1580</td><td>4.0</td><td>9.75646748E8</td><td>3.685974</td></tr><tr><td>3594</td><td>1580</td><td>4.0</td><td>9.66635774E8</td><td>4.420878</td></tr><tr><td>4287</td><td>1580</td><td>3.0</td><td>9.65276355E8</td><td>4.0992184</td></tr><tr><td>4975</td><td>1580</td><td>4.0</td><td>9.62606705E8</td><td>3.826521</td></tr><tr><td>2253</td><td>1580</td><td>5.0</td><td>9.74594004E8</td><td>4.3949757</td></tr><tr><td>749</td><td>1580</td><td>3.0</td><td>9.75477627E8</td><td>3.3541598</td></tr><tr><td>1120</td><td>1580</td><td>4.0</td><td>9.74912331E8</td><td>3.8615048</td></tr><tr><td>3230</td><td>1580</td><td>5.0</td><td>9.68389433E8</td><td>4.11813</td></tr><tr><td>4942</td><td>1580</td><td>4.0</td><td>9.62641967E8</td><td>3.8296595</td></tr><tr><td>708</td><td>1580</td><td>3.0</td><td>9.75542225E8</td><td>3.129176</td></tr><tr><td>1953</td><td>1580</td><td>4.0</td><td>9.74690871E8</td><td>4.170518</td></tr><tr><td>5263</td><td>1580</td><td>5.0</td><td>9.61191213E8</td><td>3.4611309</td></tr><tr><td>611</td><td>1580</td><td>4.0</td><td>9.75856891E8</td><td>3.8615901</td></tr><tr><td>3892</td><td>1580</td><td>4.0</td><td>9.6579707E8</td><td>3.609834</td></tr><tr><td>5399</td><td>1580</td><td>4.0</td><td>9.60293251E8</td><td>4.6820717</td></tr><tr><td>865</td><td>1580</td><td>3.0</td><td>9.75281274E8</td><td>3.6120112</td></tr><tr><td>2103</td><td>1580</td><td>4.0</td><td>9.74846764E8</td><td>3.9002466</td></tr><tr><td>2293</td><td>1580</td><td>2.0</td><td>9.74509437E8</td><td>3.7014332</td></tr><tr><td>2916</td><td>1580</td><td>4.0</td><td>9.7173806E8</td><td>2.474071</td></tr><tr><td>4611</td><td>1580</td><td>4.0</td><td>9.64153273E8</td><td>3.3536437</td></tr><tr><td>781</td><td>1580</td><td>5.0</td><td>9.75433451E8</td><td>3.6149848</td></tr><tr><td>888</td><td>1580</td><td>3.0</td><td>9.75255678E8</td><td>3.121011</td></tr><tr><td>2058</td><td>1580</td><td>4.0</td><td>9.74663252E8</td><td>3.4979193</td></tr><tr><td>5332</td><td>1580</td><td>4.0</td><td>9.60825575E8</td><td>4.6835475</td></tr><tr><td>2039</td><td>1580</td><td>3.0</td><td>9.74668405E8</td><td>2.8341084</td></tr><tr><td>3418</td><td>1580</td><td>4.0</td><td>9.67398991E8</td><td>3.214595</td></tr><tr><td>4488</td><td>1580</td><td>4.0</td><td>9.65012389E8</td><td>3.179745</td></tr><tr><td>260</td><td>1580</td><td>4.0</td><td>9.76671295E8</td><td>3.5891402</td></tr><tr><td>2307</td><td>1580</td><td>4.0</td><td>9.74488409E8</td><td>4.144111</td></tr><tr><td>2917</td><td>1580</td><td>2.0</td><td>9.72269612E8</td><td>2.2513516</td></tr><tr><td>3358</td><td>1580</td><td>4.0</td><td>9.6769588E8</td><td>3.4449081</td></tr><tr><td>3604</td><td>1580</td><td>4.0</td><td>9.66613966E8</td><td>4.095977</td></tr><tr><td>4375</td><td>1580</td><td>4.0</td><td>9.65187603E8</td><td>3.7497423</td></tr><tr><td>546</td><td>1580</td><td>5.0</td><td>9.76069066E8</td><td>3.486718</td></tr><tr><td>2946</td><td>1580</td><td>3.0</td><td>9.71273448E8</td><td>3.099804</td></tr><tr><td>3829</td><td>1580</td><td>2.0</td><td>9.6593808E8</td><td>2.9911857</td></tr><tr><td>3928</td><td>1580</td><td>3.0</td><td>9.6570832E8</td><td>3.5304692</td></tr><tr><td>4895</td><td>1580</td><td>4.0</td><td>9.63181793E8</td><td>3.8376346</td></tr><tr><td>6007</td><td>1580</td><td>4.0</td><td>9.56791104E8</td><td>3.4949532</td></tr><tr><td>832</td><td>1580</td><td>3.0</td><td>9.75363579E8</td><td>3.528965</td></tr><tr><td>971</td><td>1580</td><td>4.0</td><td>9.75113771E8</td><td>3.592213</td></tr><tr><td>1086</td><td>1580</td><td>4.0</td><td>9.74933474E8</td><td>3.8985426</td></tr><tr><td>1563</td><td>1580</td><td>4.0</td><td>9.74740689E8</td><td>3.5031927</td></tr><tr><td>3250</td><td>1580</td><td>4.0</td><td>9.68303045E8</td><td>3.3412952</td></tr><tr><td>5118</td><td>1580</td><td>4.0</td><td>9.62297496E8</td><td>3.278861</td></tr><tr><td>522</td><td>1580</td><td>4.0</td><td>9.76197188E8</td><td>3.7650366</td></tr><tr><td>1606</td><td>1580</td><td>5.0</td><td>9.74730684E8</td><td>4.205937</td></tr><tr><td>3946</td><td>1580</td><td>4.0</td><td>9.65748416E8</td><td>4.0475855</td></tr><tr><td>3948</td><td>1580</td><td>2.0</td><td>9.65682357E8</td><td>2.4001565</td></tr><tr><td>4116</td><td>1580</td><td>3.0</td><td>9.65363297E8</td><td>3.8485327</td></tr><tr><td>5634</td><td>1580</td><td>5.0</td><td>9.59008359E8</td><td>4.4345737</td></tr><tr><td>909</td><td>1580</td><td>3.0</td><td>9.75451066E8</td><td>2.8685234</td></tr><tr><td>5991</td><td>1580</td><td>2.0</td><td>1.000091829E9</td><td>3.550119</td></tr><tr><td>1817</td><td>1580</td><td>4.0</td><td>9.74698934E8</td><td>3.5311928</td></tr><tr><td>2162</td><td>1580</td><td>4.0</td><td>9.74616051E8</td><td>3.90592</td></tr><tr><td>2897</td><td>1580</td><td>4.0</td><td>9.71933278E8</td><td>3.2784328</td></tr><tr><td>2624</td><td>1580</td><td>5.0</td><td>9.73642254E8</td><td>4.1873093</td></tr><tr><td>3942</td><td>1580</td><td>2.0</td><td>9.65691958E8</td><td>2.5356898</td></tr><tr><td>4532</td><td>1580</td><td>4.0</td><td>9.64737111E8</td><td>3.8677993</td></tr><tr><td>2115</td><td>1580</td><td>4.0</td><td>9.7464937E8</td><td>3.8691077</td></tr><tr><td>3984</td><td>1580</td><td>3.0</td><td>9.65611735E8</td><td>3.7747662</td></tr><tr><td>4194</td><td>1580</td><td>4.0</td><td>9.653273E8</td><td>3.467256</td></tr><tr><td>1187</td><td>1580</td><td>3.0</td><td>9.75230578E8</td><td>3.4700015</td></tr><tr><td>1819</td><td>1580</td><td>4.0</td><td>9.7469761E8</td><td>3.6265986</td></tr><tr><td>1373</td><td>1580</td><td>5.0</td><td>9.74768733E8</td><td>3.5639749</td></tr><tr><td>1981</td><td>1580</td><td>4.0</td><td>9.74683702E8</td><td>3.080649</td></tr><tr><td>2010</td><td>1580</td><td>4.0</td><td>9.74676219E8</td><td>3.0297952</td></tr><tr><td>4854</td><td>1580</td><td>4.0</td><td>9.62834073E8</td><td>3.3378758</td></tr><tr><td>4872</td><td>1580</td><td>4.0</td><td>9.62815851E8</td><td>3.4542649</td></tr><tr><td>571</td><td>1580</td><td>5.0</td><td>9.75998242E8</td><td>4.7257175</td></tr><tr><td>4388</td><td>1580</td><td>5.0</td><td>9.65165533E8</td><td>4.06487</td></tr><tr><td>2461</td><td>1580</td><td>5.0</td><td>9.74169727E8</td><td>3.6084063</td></tr><tr><td>2792</td><td>1580</td><td>3.0</td><td>9.72931651E8</td><td>3.1445434</td></tr><tr><td>3768</td><td>1580</td><td>4.0</td><td>9.66066298E8</td><td>3.6733184</td></tr><tr><td>985</td><td>1580</td><td>4.0</td><td>9.75097775E8</td><td>4.0906157</td></tr><tr><td>5294</td><td>1580</td><td>4.0</td><td>9.61040282E8</td><td>3.6571424</td></tr><tr><td>302</td><td>1580</td><td>3.0</td><td>9.76503541E8</td><td>3.484165</td></tr><tr><td>2446</td><td>1580</td><td>3.0</td><td>9.74220646E8</td><td>3.7231176</td></tr><tr><td>2566</td><td>1580</td><td>4.0</td><td>9.73963703E8</td><td>3.9529555</td></tr><tr><td>3033</td><td>1580</td><td>4.0</td><td>9.70290031E8</td><td>3.767961</td></tr><tr><td>4064</td><td>1580</td><td>2.0</td><td>9.65480346E8</td><td>3.0660877</td></tr><tr><td>5326</td><td>1580</td><td>1.0</td><td>9.60845802E8</td><td>2.470096</td></tr><tr><td>1764</td><td>1580</td><td>5.0</td><td>9.74703512E8</td><td>4.4364276</td></tr><tr><td>3491</td><td>1580</td><td>4.0</td><td>9.67067275E8</td><td>3.7354565</td></tr><tr><td>5242</td><td>1580</td><td>2.0</td><td>1.013657336E9</td><td>2.6911063</td></tr><tr><td>3887</td><td>1580</td><td>3.0</td><td>9.65803833E8</td><td>3.3139575</td></tr><tr><td>4341</td><td>1580</td><td>4.0</td><td>9.652319E8</td><td>4.446831</td></tr><tr><td>5198</td><td>1580</td><td>3.0</td><td>9.61686199E8</td><td>2.9817815</td></tr><tr><td>5413</td><td>1580</td><td>3.0</td><td>9.60238356E8</td><td>3.9377158</td></tr><tr><td>3134</td><td>1580</td><td>3.0</td><td>9.69083891E8</td><td>3.7750065</td></tr><tr><td>1481</td><td>1580</td><td>4.0</td><td>9.74839539E8</td><td>4.5818367</td></tr><tr><td>3809</td><td>1580</td><td>5.0</td><td>9.65962677E8</td><td>4.367286</td></tr><tr><td>5684</td><td>1580</td><td>3.0</td><td>9.58606497E8</td><td>3.153497</td></tr><tr><td>2969</td><td>1580</td><td>5.0</td><td>9.71099987E8</td><td>4.0703526</td></tr><tr><td>1067</td><td>1580</td><td>3.0</td><td>9.74950893E8</td><td>3.1228714</td></tr><tr><td>2745</td><td>1580</td><td>4.0</td><td>9.73215708E8</td><td>4.1716957</td></tr><tr><td>785</td><td>1580</td><td>3.0</td><td>9.75430887E8</td><td>3.3733213</td></tr><tr><td>1962</td><td>1580</td><td>4.0</td><td>9.75361894E8</td><td>3.1266797</td></tr><tr><td>5436</td><td>1580</td><td>3.0</td><td>9.60009863E8</td><td>3.6549046</td></tr><tr><td>1292</td><td>1580</td><td>5.0</td><td>9.74788883E8</td><td>3.1393912</td></tr><tr><td>1762</td><td>1580</td><td>4.0</td><td>9.74702131E8</td><td>3.5942442</td></tr><tr><td>2066</td><td>1580</td><td>5.0</td><td>9.74659498E8</td><td>4.6394196</td></tr><tr><td>3874</td><td>1580</td><td>3.0</td><td>9.65839589E8</td><td>3.3174524</td></tr><tr><td>5831</td><td>1580</td><td>4.0</td><td>9.57893807E8</td><td>3.8621228</td></tr><tr><td>4171</td><td>1580</td><td>5.0</td><td>9.65342457E8</td><td>3.8109217</td></tr><tr><td>6033</td><td>1580</td><td>5.0</td><td>9.56714112E8</td><td>3.9064155</td></tr><tr><td>3470</td><td>1580</td><td>5.0</td><td>9.67149821E8</td><td>3.7050595</td></tr><tr><td>3345</td><td>1580</td><td>4.0</td><td>9.6777641E8</td><td>4.0549088</td></tr><tr><td>2021</td><td>1580</td><td>5.0</td><td>9.74977505E8</td><td>4.2467976</td></tr><tr><td>3688</td><td>1580</td><td>5.0</td><td>9.70979589E8</td><td>3.7894537</td></tr><tr><td>4232</td><td>1580</td><td>4.0</td><td>1.023465796E9</td><td>3.854271</td></tr><tr><td>187</td><td>1580</td><td>5.0</td><td>9.77233829E8</td><td>3.6177037</td></tr><tr><td>2558</td><td>1580</td><td>4.0</td><td>9.73990574E8</td><td>3.1354854</td></tr><tr><td>5745</td><td>1580</td><td>3.0</td><td>9.58364167E8</td><td>3.1403193</td></tr><tr><td>4173</td><td>1580</td><td>5.0</td><td>9.66657725E8</td><td>4.4802823</td></tr><tr><td>623</td><td>1591</td><td>3.0</td><td>9.75903764E8</td><td>2.6863513</td></tr><tr><td>5847</td><td>1591</td><td>4.0</td><td>9.57793123E8</td><td>2.7374368</td></tr><tr><td>5670</td><td>1591</td><td>5.0</td><td>9.58715799E8</td><td>4.250258</td></tr><tr><td>5543</td><td>1591</td><td>2.0</td><td>9.59514051E8</td><td>3.0402887</td></tr><tr><td>772</td><td>1591</td><td>3.0</td><td>9.75440817E8</td><td>3.2672656</td></tr><tr><td>3313</td><td>1591</td><td>3.0</td><td>9.989825E8</td><td>2.731008</td></tr><tr><td>1496</td><td>1591</td><td>2.0</td><td>9.74752389E8</td><td>2.3599765</td></tr><tr><td>1974</td><td>1591</td><td>2.0</td><td>9.74686078E8</td><td>2.3523033</td></tr><tr><td>103</td><td>1591</td><td>5.0</td><td>9.7755569E8</td><td>3.2941353</td></tr><tr><td>3456</td><td>1591</td><td>5.0</td><td>9.67232217E8</td><td>3.065709</td></tr><tr><td>2090</td><td>1591</td><td>3.0</td><td>9.74765339E8</td><td>2.792343</td></tr><tr><td>3621</td><td>1591</td><td>1.0</td><td>9.66575487E8</td><td>1.8678546</td></tr><tr><td>5333</td><td>1591</td><td>1.0</td><td>9.60834164E8</td><td>2.278187</td></tr><tr><td>93</td><td>1591</td><td>2.0</td><td>9.77632839E8</td><td>2.4550004</td></tr><tr><td>2042</td><td>1591</td><td>1.0</td><td>9.74669848E8</td><td>2.0953214</td></tr><tr><td>696</td><td>1591</td><td>3.0</td><td>9.75562941E8</td><td>2.2152603</td></tr><tr><td>1694</td><td>1591</td><td>2.0</td><td>9.74711779E8</td><td>2.8428078</td></tr><tr><td>4893</td><td>1591</td><td>2.0</td><td>9.62732961E8</td><td>3.0961335</td></tr><tr><td>2796</td><td>1591</td><td>1.0</td><td>9.97321489E8</td><td>1.909571</td></tr><tr><td>4524</td><td>1591</td><td>2.0</td><td>9.64815978E8</td><td>2.3718064</td></tr><tr><td>3970</td><td>1591</td><td>1.0</td><td>9.65662949E8</td><td>2.62751</td></tr><tr><td>770</td><td>1591</td><td>1.0</td><td>9.76184473E8</td><td>2.742701</td></tr><tr><td>1812</td><td>1591</td><td>4.0</td><td>9.74847704E8</td><td>2.8529117</td></tr><tr><td>4475</td><td>1591</td><td>3.0</td><td>9.65062421E8</td><td>3.1912565</td></tr><tr><td>5347</td><td>1591</td><td>3.0</td><td>9.60667016E8</td><td>2.4103637</td></tr><tr><td>1499</td><td>1591</td><td>2.0</td><td>9.74761305E8</td><td>3.1715527</td></tr><tr><td>4928</td><td>1591</td><td>2.0</td><td>9.62672441E8</td><td>2.1647773</td></tr><tr><td>5555</td><td>1591</td><td>3.0</td><td>9.59550838E8</td><td>2.5248659</td></tr><tr><td>5103</td><td>1591</td><td>4.0</td><td>9.62451237E8</td><td>3.6847448</td></tr><tr><td>4508</td><td>1591</td><td>2.0</td><td>9.6498178E8</td><td>2.3821986</td></tr><tr><td>163</td><td>1591</td><td>2.0</td><td>9.77219856E8</td><td>1.8532053</td></tr><tr><td>1360</td><td>1591</td><td>2.0</td><td>9.74772057E8</td><td>1.9673969</td></tr><tr><td>5824</td><td>1591</td><td>1.0</td><td>9.57898687E8</td><td>2.5403612</td></tr><tr><td>2994</td><td>1591</td><td>2.0</td><td>9.70709299E8</td><td>2.6812477</td></tr><tr><td>2131</td><td>1591</td><td>3.0</td><td>9.94547496E8</td><td>2.6648233</td></tr><tr><td>3285</td><td>1591</td><td>1.0</td><td>9.68212739E8</td><td>2.3621757</td></tr><tr><td>262</td><td>1591</td><td>3.0</td><td>9.76660641E8</td><td>2.6463006</td></tr><tr><td>563</td><td>1591</td><td>2.0</td><td>9.76046496E8</td><td>1.8475993</td></tr><tr><td>3999</td><td>1591</td><td>2.0</td><td>9.6557391E8</td><td>2.5179572</td></tr><tr><td>1132</td><td>1591</td><td>2.0</td><td>9.74890087E8</td><td>3.3907328</td></tr><tr><td>4238</td><td>1591</td><td>2.0</td><td>9.65342011E8</td><td>2.8987</td></tr><tr><td>1635</td><td>1591</td><td>4.0</td><td>9.74716957E8</td><td>2.7264543</td></tr><tr><td>4658</td><td>1591</td><td>1.0</td><td>9.63879463E8</td><td>1.872262</td></tr><tr><td>4808</td><td>1591</td><td>4.0</td><td>9.62936851E8</td><td>2.6560123</td></tr><tr><td>1696</td><td>1591</td><td>2.0</td><td>9.74762318E8</td><td>2.9246778</td></tr><tr><td>202</td><td>1591</td><td>2.0</td><td>9.76939522E8</td><td>2.563226</td></tr><tr><td>1219</td><td>1591</td><td>3.0</td><td>9.7951889E8</td><td>2.8626566</td></tr><tr><td>3687</td><td>1591</td><td>1.0</td><td>9.66317529E8</td><td>1.2691306</td></tr><tr><td>5249</td><td>1591</td><td>1.0</td><td>9.61601368E8</td><td>2.0956485</td></tr><tr><td>2244</td><td>1591</td><td>1.0</td><td>9.74595901E8</td><td>1.6176996</td></tr><tr><td>3499</td><td>1591</td><td>4.0</td><td>9.66996568E8</td><td>2.656434</td></tr><tr><td>437</td><td>1591</td><td>3.0</td><td>9.76245085E8</td><td>2.619648</td></tr><tr><td>948</td><td>1591</td><td>3.0</td><td>9.75161429E8</td><td>2.0035534</td></tr><tr><td>1096</td><td>1591</td><td>1.0</td><td>9.74935661E8</td><td>2.5319932</td></tr><tr><td>5795</td><td>1591</td><td>2.0</td><td>9.58151903E8</td><td>1.6054565</td></tr><tr><td>1340</td><td>1591</td><td>1.0</td><td>9.74775696E8</td><td>1.5657501</td></tr><tr><td>549</td><td>1591</td><td>4.0</td><td>9.76115847E8</td><td>3.1700113</td></tr><tr><td>2576</td><td>1591</td><td>3.0</td><td>9.73898751E8</td><td>2.6425784</td></tr><tr><td>2935</td><td>1591</td><td>4.0</td><td>9.72177819E8</td><td>2.3728004</td></tr><tr><td>4377</td><td>1591</td><td>3.0</td><td>9.65176977E8</td><td>3.0319676</td></tr><tr><td>5443</td><td>1591</td><td>5.0</td><td>9.5998223E8</td><td>3.2070959</td></tr><tr><td>2921</td><td>1591</td><td>3.0</td><td>9.71670538E8</td><td>2.9963646</td></tr><tr><td>5536</td><td>1591</td><td>1.0</td><td>9.59570291E8</td><td>2.1450927</td></tr><tr><td>1746</td><td>1591</td><td>5.0</td><td>9.74704355E8</td><td>3.2002478</td></tr><tr><td>3715</td><td>1591</td><td>4.0</td><td>9.6626624E8</td><td>2.7078905</td></tr><tr><td>1714</td><td>1591</td><td>4.0</td><td>9.74706794E8</td><td>2.6860743</td></tr><tr><td>3193</td><td>1591</td><td>2.0</td><td>9.68645999E8</td><td>2.2097008</td></tr><tr><td>5504</td><td>1591</td><td>2.0</td><td>9.59734555E8</td><td>2.783525</td></tr><tr><td>3771</td><td>1591</td><td>2.0</td><td>9.66182623E8</td><td>2.0012991</td></tr><tr><td>1647</td><td>1591</td><td>3.0</td><td>9.74805987E8</td><td>2.6008933</td></tr><tr><td>817</td><td>1591</td><td>4.0</td><td>9.75389663E8</td><td>3.202819</td></tr><tr><td>1639</td><td>1591</td><td>2.0</td><td>9.75962732E8</td><td>2.5882063</td></tr><tr><td>5473</td><td>1591</td><td>2.0</td><td>1.012590057E9</td><td>2.4011035</td></tr><tr><td>2793</td><td>1591</td><td>3.0</td><td>9.72937499E8</td><td>3.1801965</td></tr><tr><td>2453</td><td>1591</td><td>2.0</td><td>9.74187886E8</td><td>2.4803314</td></tr><tr><td>2125</td><td>1591</td><td>4.0</td><td>9.74944374E8</td><td>2.5864403</td></tr><tr><td>1587</td><td>1591</td><td>1.0</td><td>9.74745651E8</td><td>2.1684728</td></tr><tr><td>4972</td><td>1591</td><td>2.0</td><td>9.62607612E8</td><td>2.4521127</td></tr><tr><td>195</td><td>1591</td><td>4.0</td><td>9.97478679E8</td><td>2.6711662</td></tr><tr><td>678</td><td>1591</td><td>4.0</td><td>9.89242972E8</td><td>2.5710318</td></tr><tr><td>2098</td><td>1591</td><td>1.0</td><td>9.74655049E8</td><td>2.612446</td></tr><tr><td>2088</td><td>1591</td><td>1.0</td><td>9.746563E8</td><td>3.1110432</td></tr><tr><td>859</td><td>1591</td><td>3.0</td><td>9.75343867E8</td><td>2.5041118</td></tr><tr><td>1726</td><td>1591</td><td>1.0</td><td>9.74711907E8</td><td>2.0821579</td></tr><tr><td>783</td><td>1591</td><td>3.0</td><td>9.75702538E8</td><td>2.9574568</td></tr></tbody></table></div>"
      ]
     },
     "metadata": {},
     "output_type": "display_data"
    }
   ],
   "source": [
    "display(predictions)"
   ]
  },
  {
   "cell_type": "code",
   "execution_count": 19,
   "metadata": {},
   "outputs": [
    {
     "data": {
      "text/html": [
       "<style scoped>\n",
       "  .ansiout {\n",
       "    display: block;\n",
       "    unicode-bidi: embed;\n",
       "    white-space: pre-wrap;\n",
       "    word-wrap: break-word;\n",
       "    word-break: break-all;\n",
       "    font-family: \"Source Code Pro\", \"Menlo\", monospace;;\n",
       "    font-size: 13px;\n",
       "    color: #555;\n",
       "    margin-left: 4px;\n",
       "    line-height: 19px;\n",
       "  }\n",
       "</style>\n",
       "<div class=\"ansiout\"></div>"
      ]
     },
     "metadata": {},
     "output_type": "display_data"
    }
   ],
   "source": [
    "from pyspark.ml.evaluation import RegressionEvaluator\n",
    "\n",
    "evaluator = RegressionEvaluator(\n",
    "    metricName=\"rmse\", labelCol=\"rating\", \n",
    "    predictionCol=\"prediction\")\n",
    "\n",
    "rmse = evaluator.evaluate(predictions)"
   ]
  },
  {
   "cell_type": "code",
   "execution_count": 20,
   "metadata": {},
   "outputs": [
    {
     "data": {
      "text/html": [
       "<style scoped>\n",
       "  .ansiout {\n",
       "    display: block;\n",
       "    unicode-bidi: embed;\n",
       "    white-space: pre-wrap;\n",
       "    word-wrap: break-word;\n",
       "    word-break: break-all;\n",
       "    font-family: \"Source Code Pro\", \"Menlo\", monospace;;\n",
       "    font-size: 13px;\n",
       "    color: #555;\n",
       "    margin-left: 4px;\n",
       "    line-height: 19px;\n",
       "  }\n",
       "</style>\n",
       "<div class=\"ansiout\">RMSE : 0.8948988851599775\n",
       "</div>"
      ]
     },
     "metadata": {},
     "output_type": "display_data"
    }
   ],
   "source": [
    "# Evaluation results\n",
    "print(\"RMSE : {}\".format(str(rmse)))"
   ]
  },
  {
   "cell_type": "markdown",
   "metadata": {},
   "source": [
    "### Assessing performance\n",
    "\n",
    "After running the matrix factorization method above (ALS), and measuring the elapsed time from fitting the training data to the model as well as the time it took to make the predictions, we can see the following when we compare these processing times to our SVD factorization method in R in past weeks:"
   ]
  },
  {
   "cell_type": "code",
   "execution_count": 22,
   "metadata": {},
   "outputs": [
    {
     "data": {
      "text/html": [
       "<div>\n",
       "<style scoped>\n",
       "    .dataframe tbody tr th:only-of-type {\n",
       "        vertical-align: middle;\n",
       "    }\n",
       "\n",
       "    .dataframe tbody tr th {\n",
       "        vertical-align: top;\n",
       "    }\n",
       "\n",
       "    .dataframe thead th {\n",
       "        text-align: right;\n",
       "    }\n",
       "</style>\n",
       "<table border=\"1\" class=\"dataframe\">\n",
       "  <thead>\n",
       "    <tr style=\"text-align: right;\">\n",
       "      <th></th>\n",
       "      <th>Platform</th>\n",
       "      <th>Fitting Training Data to Model/Computations</th>\n",
       "      <th>Making Predictions</th>\n",
       "    </tr>\n",
       "  </thead>\n",
       "  <tbody>\n",
       "    <tr>\n",
       "      <th>0</th>\n",
       "      <td>PySpark</td>\n",
       "      <td>14.17 seconds</td>\n",
       "      <td>0.02 seconds</td>\n",
       "    </tr>\n",
       "    <tr>\n",
       "      <th>1</th>\n",
       "      <td>R</td>\n",
       "      <td>1.70 seconds</td>\n",
       "      <td>0.06 seconds</td>\n",
       "    </tr>\n",
       "  </tbody>\n",
       "</table>\n",
       "</div>"
      ]
     },
     "metadata": {},
     "output_type": "display_data"
    }
   ],
   "source": [
    "import pandas as pd\n",
    "\n",
    "performance_table = pd.DataFrame([['PySpark', \"{:.2f}\".format(14.17) + \" seconds\", \"{:.2f}\".format(0.02) + \" seconds\"],\n",
    "             ['R', \"{:.2f}\".format(1.7) + \" seconds\", \"{:.2f}\".format(0.06) + \" seconds\"]],\n",
    "            columns = ['Platform', 'Fitting Training Data to Model/Computations', 'Making Predictions'])\n",
    "\n",
    "performance_table"
   ]
  },
  {
   "cell_type": "markdown",
   "metadata": {},
   "source": [
    "Interestingly, we can see that R seems to perform faster during the time it takes to fit the training data to the matrix factorization model. However, we see a noticeable difference in speed in making predictions between PySpark and R. PySpark was able to make predictions on the full ratings dataset about **3 times faster** than our predictions in R."
   ]
  },
  {
   "cell_type": "markdown",
   "metadata": {},
   "source": [
    "### Second Algorithm Test -- Attempting to run SVD in PySpark and comparing to R\n",
    "\n",
    "After reading a fair bit of documentation, it seems like it's not very straightforward to run SVD in PySpark. However, I'm going to attempt to do it here and measure its performance against the process I outlined in my Project #3 assignment a few weeks ago. Although I've already seen that running a similar matrix factorization method (ALS) above is much faster in PySpark, I did want to see if I could do an \"apples to apples\" comparison from one platform to the other.\n",
    "\n",
    "Therefore, I initially decided to load in my user-movie matrix that I developed in R from Project #3. This matrix has already been imputed to have its missing values recalculated to the row mean. Therefore, this should be all set to run through SVD here in PySpark.\n",
    "\n",
    "Below, you can see that I've successfully loaded in this user-movie matrix and assigned it to a spark dataframe of `R_movie_matrix`:"
   ]
  },
  {
   "cell_type": "code",
   "execution_count": 25,
   "metadata": {},
   "outputs": [
    {
     "data": {
      "text/html": [
       "<style scoped>\n",
       "  .ansiout {\n",
       "    display: block;\n",
       "    unicode-bidi: embed;\n",
       "    white-space: pre-wrap;\n",
       "    word-wrap: break-word;\n",
       "    word-break: break-all;\n",
       "    font-family: \"Source Code Pro\", \"Menlo\", monospace;;\n",
       "    font-size: 13px;\n",
       "    color: #555;\n",
       "    margin-left: 4px;\n",
       "    line-height: 19px;\n",
       "  }\n",
       "</style>\n",
       "<div class=\"ansiout\"></div>"
      ]
     },
     "metadata": {},
     "output_type": "display_data"
    }
   ],
   "source": [
    "file_location = \"/FileStore/tables/movie_matrix-1.csv\"\n",
    "file_type = \"csv\"\n",
    "\n",
    "# CSV options\n",
    "infer_schema = \"false\"\n",
    "first_row_is_header = \"true\"\n",
    "delimiter = \",\"\n",
    "\n",
    "# The applied options are for CSV files. For other file types, these will be ignored.\n",
    "R_movie_matrix = spark.read.format(file_type) \\\n",
    "  .option(\"inferSchema\", infer_schema) \\\n",
    "  .option(\"header\", first_row_is_header) \\\n",
    "  .option(\"sep\", delimiter) \\\n",
    "  .load(file_location)\n",
    "\n",
    "# display(R_movie_matrix)"
   ]
  },
  {
   "cell_type": "markdown",
   "metadata": {},
   "source": [
    "We can confirm that this matrix has the same rows and columns as our matrix in R."
   ]
  },
  {
   "cell_type": "code",
   "execution_count": 27,
   "metadata": {},
   "outputs": [
    {
     "data": {
      "text/html": [
       "<style scoped>\n",
       "  .ansiout {\n",
       "    display: block;\n",
       "    unicode-bidi: embed;\n",
       "    white-space: pre-wrap;\n",
       "    word-wrap: break-word;\n",
       "    word-break: break-all;\n",
       "    font-family: \"Source Code Pro\", \"Menlo\", monospace;;\n",
       "    font-size: 13px;\n",
       "    color: #555;\n",
       "    margin-left: 4px;\n",
       "    line-height: 19px;\n",
       "  }\n",
       "</style>\n",
       "<div class=\"ansiout\">Number of rows in R_movie_matrix dataset : 943\n",
       "Number of columns in R_movie_matrix dataset : 1664\n",
       "</div>"
      ]
     },
     "metadata": {},
     "output_type": "display_data"
    }
   ],
   "source": [
    "print(\"Number of rows in R_movie_matrix dataset : {}\".format(str(R_movie_matrix.count())))\n",
    "print(\"Number of columns in R_movie_matrix dataset : {}\".format(str(len(R_movie_matrix.columns))))"
   ]
  },
  {
   "cell_type": "markdown",
   "metadata": {},
   "source": [
    "Next, we need to convert our spark dataframe into a RDD RowMatrix format in order to do matrix multiplication on it later. Therefore, I mapped through the dataframe and created a RowMatrix:"
   ]
  },
  {
   "cell_type": "code",
   "execution_count": 29,
   "metadata": {},
   "outputs": [
    {
     "data": {
      "text/html": [
       "<style scoped>\n",
       "  .ansiout {\n",
       "    display: block;\n",
       "    unicode-bidi: embed;\n",
       "    white-space: pre-wrap;\n",
       "    word-wrap: break-word;\n",
       "    word-break: break-all;\n",
       "    font-family: \"Source Code Pro\", \"Menlo\", monospace;;\n",
       "    font-size: 13px;\n",
       "    color: #555;\n",
       "    margin-left: 4px;\n",
       "    line-height: 19px;\n",
       "  }\n",
       "</style>\n",
       "<div class=\"ansiout\"></div>"
      ]
     },
     "metadata": {},
     "output_type": "display_data"
    }
   ],
   "source": [
    "from pyspark.mllib.linalg import Vectors, DenseMatrix\n",
    "from pyspark.mllib.linalg.distributed import IndexedRow, IndexedRowMatrix, RowMatrix\n",
    "\n",
    "rdd = R_movie_matrix.rdd.map(list)\n",
    "mat = RowMatrix(rdd)\n"
   ]
  },
  {
   "cell_type": "markdown",
   "metadata": {},
   "source": [
    "With our RowMatrix ready to go, I then was able to use the `computeSVD()` function in PySpark to run singular value decomposition with our k value equal to 20, which was the same value as my optimal SVD computations in R in Project #3. The goal here is to obtain the same eigen values for s:"
   ]
  },
  {
   "cell_type": "code",
   "execution_count": 31,
   "metadata": {},
   "outputs": [
    {
     "data": {
      "text/html": [
       "<style scoped>\n",
       "  .ansiout {\n",
       "    display: block;\n",
       "    unicode-bidi: embed;\n",
       "    white-space: pre-wrap;\n",
       "    word-wrap: break-word;\n",
       "    word-break: break-all;\n",
       "    font-family: \"Source Code Pro\", \"Menlo\", monospace;;\n",
       "    font-size: 13px;\n",
       "    color: #555;\n",
       "    margin-left: 4px;\n",
       "    line-height: 19px;\n",
       "  }\n",
       "</style>\n",
       "<div class=\"ansiout\"></div>"
      ]
     },
     "metadata": {},
     "output_type": "display_data"
    }
   ],
   "source": [
    "svd = mat.computeSVD(20, computeU=True)\n",
    "U = svd.U\n",
    "s = svd.s\n",
    "V = svd.V"
   ]
  },
  {
   "cell_type": "markdown",
   "metadata": {},
   "source": [
    "After running SVD on our matrix, we can indeed see that we obtain the same eigenvalues for s:"
   ]
  },
  {
   "cell_type": "code",
   "execution_count": 33,
   "metadata": {},
   "outputs": [
    {
     "data": {
      "text/html": [
       "<style scoped>\n",
       "  .ansiout {\n",
       "    display: block;\n",
       "    unicode-bidi: embed;\n",
       "    white-space: pre-wrap;\n",
       "    word-wrap: break-word;\n",
       "    word-break: break-all;\n",
       "    font-family: \"Source Code Pro\", \"Menlo\", monospace;;\n",
       "    font-size: 13px;\n",
       "    color: #555;\n",
       "    margin-left: 4px;\n",
       "    line-height: 19px;\n",
       "  }\n",
       "</style>\n",
       "<div class=\"ansiout\">Singular values are: [4528.795310209989,65.74346656442125,50.424327505714935,38.55470593522779,37.13876053402636,35.776545081960975,33.91172748271665,32.676419114502984,30.791885251212594,29.471643259235048,29.299125195958123,28.172323603732355,27.891424686553776,27.834347740275255,27.523725583591165,27.25689130512897,26.898323532598972,26.732033504109708,26.339615863951018,26.315940258488915]\n",
       "</div>"
      ]
     },
     "metadata": {},
     "output_type": "display_data"
    }
   ],
   "source": [
    "print(\"Singular values are: %s\" % s)"
   ]
  },
  {
   "cell_type": "markdown",
   "metadata": {},
   "source": [
    "I then was able to save my U, s, and V variables, and created a sigma variable below that has the eigenvalues of s oriented in a diagonal matrix. I was also able to compute the transpose of V. I created two new DenseMatrix variables in order to do this."
   ]
  },
  {
   "cell_type": "code",
   "execution_count": 35,
   "metadata": {},
   "outputs": [
    {
     "data": {
      "text/html": [
       "<style scoped>\n",
       "  .ansiout {\n",
       "    display: block;\n",
       "    unicode-bidi: embed;\n",
       "    white-space: pre-wrap;\n",
       "    word-wrap: break-word;\n",
       "    word-break: break-all;\n",
       "    font-family: \"Source Code Pro\", \"Menlo\", monospace;;\n",
       "    font-size: 13px;\n",
       "    color: #555;\n",
       "    margin-left: 4px;\n",
       "    line-height: 19px;\n",
       "  }\n",
       "</style>\n",
       "<div class=\"ansiout\"></div>"
      ]
     },
     "metadata": {},
     "output_type": "display_data"
    }
   ],
   "source": [
    "import numpy as np\n",
    "\n",
    "sigma = DenseMatrix(len(s), len(s), np.diag(s).ravel(\"F\"))\n",
    "\n",
    "V_transpose = DenseMatrix(V.numCols, V.numRows, V.toArray().transpose().ravel(\"F\"))"
   ]
  },
  {
   "cell_type": "markdown",
   "metadata": {},
   "source": [
    "With the new values computed and saved in proper PySpark formats, I was able to multiply the U orthonormal matrix by the sigma diagonal matrix by the V orthonormal matrix to obtain my SVD matrix with ratings predictions."
   ]
  },
  {
   "cell_type": "code",
   "execution_count": 37,
   "metadata": {},
   "outputs": [
    {
     "data": {
      "text/html": [
       "<style scoped>\n",
       "  .ansiout {\n",
       "    display: block;\n",
       "    unicode-bidi: embed;\n",
       "    white-space: pre-wrap;\n",
       "    word-wrap: break-word;\n",
       "    word-break: break-all;\n",
       "    font-family: \"Source Code Pro\", \"Menlo\", monospace;;\n",
       "    font-size: 13px;\n",
       "    color: #555;\n",
       "    margin-left: 4px;\n",
       "    line-height: 19px;\n",
       "  }\n",
       "</style>\n",
       "<div class=\"ansiout\"></div>"
      ]
     },
     "metadata": {},
     "output_type": "display_data"
    }
   ],
   "source": [
    "mat_ = U.multiply(sigma).multiply(V_transpose)"
   ]
  },
  {
   "cell_type": "markdown",
   "metadata": {},
   "source": [
    "As we can see below, our new `mat_` matrix has the same dimensions as our original matrix we started with, which was to be expected. However, `mat_` should have our new prediction ratings computed for all user-movie combinations."
   ]
  },
  {
   "cell_type": "code",
   "execution_count": 39,
   "metadata": {},
   "outputs": [
    {
     "data": {
      "text/html": [
       "<style scoped>\n",
       "  .ansiout {\n",
       "    display: block;\n",
       "    unicode-bidi: embed;\n",
       "    white-space: pre-wrap;\n",
       "    word-wrap: break-word;\n",
       "    word-break: break-all;\n",
       "    font-family: \"Source Code Pro\", \"Menlo\", monospace;;\n",
       "    font-size: 13px;\n",
       "    color: #555;\n",
       "    margin-left: 4px;\n",
       "    line-height: 19px;\n",
       "  }\n",
       "</style>\n",
       "<div class=\"ansiout\">1664\n",
       "943\n",
       "</div>"
      ]
     },
     "metadata": {},
     "output_type": "display_data"
    }
   ],
   "source": [
    "print(mat_.numCols())\n",
    "print(mat_.numRows())"
   ]
  },
  {
   "cell_type": "markdown",
   "metadata": {},
   "source": [
    "After doing a quick check on my `movie_matrix_svd` matrix that I computed in R for Project #3, I'm able to calculate the same prediction ratings here in PySpark. We can confirm by looking at the values of the first user, which are indeed the same as the user-predicted ratings for my Project #3 dataframe in R."
   ]
  },
  {
   "cell_type": "code",
   "execution_count": 41,
   "metadata": {},
   "outputs": [
    {
     "data": {
      "text/html": [
       "<style scoped>\n",
       "  .ansiout {\n",
       "    display: block;\n",
       "    unicode-bidi: embed;\n",
       "    white-space: pre-wrap;\n",
       "    word-wrap: break-word;\n",
       "    word-break: break-all;\n",
       "    font-family: \"Source Code Pro\", \"Menlo\", monospace;;\n",
       "    font-size: 13px;\n",
       "    color: #555;\n",
       "    margin-left: 4px;\n",
       "    line-height: 19px;\n",
       "  }\n",
       "</style>\n",
       "<div class=\"ansiout\">Out[23]: DenseVector([4.3125, 3.6207, 3.3733, 3.5236, 3.2783, 3.7232, 4.6954, 3.9236, 4.4911, 3.7586, 3.3358, 4.4699, 4.2959, 4.1518, 3.7446, 3.7951, 3.2872, 3.6105, 3.6634, 3.6418, 3.089, 3.6511, 3.6332, 3.8188, 4.0597, 3.4801, 3.4696, 3.9281, 2.7461, 3.648, 3.7341, 3.7167, 3.5756, 3.4375, 3.2689, 3.52, 3.4125, 3.2084, 3.5867, 3.5844, 3.3074, 3.8738, 3.5558, 3.5316, 3.9259, 3.7229, 3.3587, 4.2922, 3.5675, 6.1129, 3.6564, 3.8527, 3.5882, 3.4971, 3.6998, 4.6262, 3.7444, 4.1034, 4.0697, 4.0725, 3.8666, 3.8587, 3.2086, 4.0968, 3.696, 3.5315, 2.9933, 3.5075, 3.1521, 3.7775, 3.4479, 3.6162, 3.4477, 3.3748, 3.5951, 3.517, 3.5605, 3.0076, 3.907, 3.4685, 3.6029, 3.8139, 4.1928, 3.6329, 3.3725, 3.6628, 4.0963, 3.2808, 4.9756, 3.5387, 3.9126, 3.7453, 3.7994, 2.9252, 3.575, 4.6667, 3.4569, 4.2363, 3.2097, 5.7657, 3.4922, 3.4315, 3.1877, 3.3137, 3.2458, 3.5854, 3.7601, 3.6746, 4.1478, 3.3467, 4.0255, 3.2846, 3.7163, 4.1739, 3.6946, 3.6818, 3.5937, 2.9805, 3.7315, 3.1, 3.8342, 3.1284, 3.5344, 4.4217, 3.3201, 3.7643, 4.2876, 3.7392, 4.0137, 3.429, 3.2623, 3.53, 3.5769, 4.2008, 4.1415, 3.6845, 4.4645, 3.1266, 3.4084, 2.992, 3.4659, 3.3409, 2.6779, 4.1951, 3.1969, 3.4828, 3.3957, 3.13, 3.5639, 4.0944, 3.5643, 4.0732, 4.3921, 4.217, 2.9404, 3.7708, 3.8651, 3.123, 3.2351, 3.5779, 3.5749, 3.283, 3.819, 3.9179, 3.8491, 3.9333, 3.3576, 4.7677, 4.9377, 4.1097, 4.016, 5.2659, 5.4315, 5.4305, 4.1141, 4.593, 3.9236, 4.0654, 3.6679, 3.3968, 5.3663, 3.7418, 4.7849, 4.082, 3.6762, 4.2253, 3.6744, 3.6632, 4.1705, 4.0956, 4.1477, 3.4258, 3.73, 4.2364, 4.3623, 4.2516, 3.7301, 4.0261, 4.1747, 3.3487, 3.7251, 4.1982, 3.529, 4.6041, 3.4519, 3.6774, 3.8928, 4.3369, 3.9823, 4.437, 4.2953, 3.9948, 3.7012, 3.5395, 3.2427, 3.9432, 3.391, 3.192, 2.995, 3.3283, 3.8216, 4.0011, 4.4183, 3.8823, 2.673, 3.546, 3.6157, 4.7082, 3.6188, 3.9307, 2.6769, 3.3136, 3.4274, 3.6152, 3.1831, 3.7375, 3.4899, 3.9955, 3.8702, 2.7947, 3.5737, 3.6491, 2.6623, 3.3663, 2.9253, 4.0781, 3.2919, 4.077, 3.4492, 3.7495, 3.8465, 3.3167, 3.529, 3.2142, 3.3421, 3.6234, 4.1467, 5.3402, 3.2147, 3.1874, 2.9448, 3.7683, 3.3109, 3.3537, 4.1552, 3.1743, 3.7107, 3.8728, 3.7375, 3.474, 3.8866, 3.6048, 3.5619, 4.2419, 5.075, 3.6372, 3.2696, 3.6436, 3.4732, 3.2781, 3.4101, 3.7753, 3.1669, 4.1351, 2.9777, 3.4585, 3.6188, 3.2273, 3.6352, 3.3449, 3.5049, 3.7491, 3.691, 3.6075, 3.5948, 3.7677, 3.78, 3.3624, 3.4206, 3.4971, 4.1123, 3.7372, 3.633, 3.6017, 3.4674, 3.6639, 3.5286, 3.6614, 3.6496, 3.3065, 3.7273, 3.4643, 3.6951, 3.6272, 3.8448, 3.9568, 3.7065, 3.5333, 3.5507, 2.9916, 3.6175, 3.8484, 3.4864, 3.509, 3.6899, 3.2892, 3.5418, 3.5128, 3.5484, 3.4069, 3.6297, 3.4227, 3.642, 3.4028, 3.5732, 3.0091, 3.5178, 3.4602, 3.5727, 3.589, 3.3908, 3.4978, 3.7523, 3.6485, 3.6564, 3.4546, 3.5669, 3.5279, 3.6689, 3.6528, 3.5763, 3.6029, 3.2623, 3.537, 3.2566, 3.5818, 3.6362, 3.5839, 3.6588, 3.6985, 3.4435, 3.539, 3.4252, 3.6553, 3.0645, 3.153, 3.3469, 3.5094, 3.7285, 3.5252, 3.4642, 3.2538, 3.3624, 3.3669, 3.1457, 3.2352, 3.6889, 3.6258, 3.8448, 3.5028, 3.3707, 3.6899, 3.2387, 3.4635, 3.2268, 3.4849, 3.7329, 3.565, 3.4074, 2.956, 3.5247, 3.2183, 3.3994, 3.462, 3.5158, 3.7687, 3.7139, 3.5166, 3.1758, 3.5507, 3.2424, 3.3472, 3.4191, 3.5258, 4.5797, 3.2505, 2.888, 3.1694, 2.9463, 3.5363, 3.7012, 3.5513, 3.4004, 3.2211, 2.9795, 2.9936, 3.3553, 3.8487, 3.5587, 3.683, 3.1655, 3.7751, 3.4701, 3.6108, 3.9936, 3.8414, 4.1504, 3.4804, 3.4529, 4.1613, 3.883, 4.0351, 3.9335, 3.4412, 3.4378, 3.4412, 3.3501, 3.2369, 3.4704, 3.7231, 3.4497, 3.5705, 3.6114, 3.4941, 3.2683, 3.6972, 3.3386, 3.077, 3.0074, 3.28, 3.5562, 4.1557, 3.0522, 3.0093, 3.4758, 3.5894, 3.6861, 3.6014, 3.984, 3.7573, 3.7423, 3.43, 3.7794, 3.6943, 3.4246, 3.8053, 3.4341, 3.5539, 2.8028, 3.2901, 4.1694, 3.8976, 3.0209, 3.7297, 3.8422, 4.1077, 3.7106, 3.5606, 3.7452, 4.266, 4.0319, 3.2484, 3.6876, 3.6624, 3.5527, 3.7038, 3.6166, 3.8278, 3.6836, 3.7845, 3.6635, 3.5206, 3.7215, 3.72, 3.9188, 3.6557, 3.1479, 3.8968, 3.6246, 3.6866, 3.6615, 3.6761, 3.4819, 4.1714, 3.9935, 3.9729, 4.224, 3.8852, 3.7162, 4.0151, 3.855, 3.8725, 3.6592, 3.7298, 3.7708, 3.8864, 3.7388, 3.8027, 3.8473, 3.702, 3.7365, 3.7678, 3.8516, 3.7566, 3.8779, 3.8888, 3.7095, 3.5258, 3.6012, 3.5348, 3.4769, 3.6334, 3.6837, 3.4992, 3.367, 3.595, 3.4484, 3.3047, 3.7102, 3.3836, 3.6584, 3.1122, 3.426, 3.5898, 3.7257, 3.7206, 3.5379, 3.5449, 3.528, 3.1725, 3.5979, 3.6577, 3.602, 3.755, 2.9739, 3.6365, 3.3728, 3.4741, 3.5791, 3.3419, 3.4734, 3.6321, 3.4827, 3.6606, 3.1299, 3.5895, 3.1424, 3.4697, 3.4889, 3.61, 3.1481, 3.5962, 3.0805, 3.6345, 3.5838, 3.6347, 3.5164, 3.4737, 3.7511, 3.4215, 3.6103, 3.5159, 3.5946, 3.5245, 3.6072, 3.6558, 3.6815, 3.6308, 3.6614, 3.5201, 3.6681, 3.4178, 3.0077, 3.5805, 3.6336, 3.5889, 3.6426, 3.5477, 3.9048, 3.6353, 3.5595, 3.6544, 3.642, 3.6458, 3.4569, 3.5602, 3.6433, 3.6017, 3.7326, 3.7478, 3.7569, 3.5669, 3.5955, 3.5892, 3.4764, 3.5369, 3.6683, 3.6406, 3.4982, 3.5653, 3.4101, 3.6423, 3.5995, 3.5514, 3.474, 3.6066, 3.4487, 3.6354, 3.5625, 3.5452, 3.3781, 3.7246, 3.4934, 3.6844, 3.6718, 3.5722, 3.6811, 3.6829, 3.6543, 3.4007, 3.7025, 3.6268, 3.8914, 3.719, 3.6307, 3.4368, 3.8256, 3.9922, 3.6199, 3.7755, 3.7705, 3.7619, 3.8607, 3.4608, 3.5656, 4.0334, 3.6715, 3.6279, 3.6291, 3.6837, 2.9795, 3.6028, 3.5912, 3.5417, 3.6182, 3.4344, 3.3295, 3.244, 3.5595, 3.7688, 3.5349, 3.6144, 3.1538, 3.5701, 3.4221, 3.4498, 3.25, 3.4727, 3.6902, 3.762, 3.1283, 3.1841, 3.2732, 3.4368, 3.6385, 3.4017, 3.6459, 3.8374, 3.6316, 3.5573, 3.6396, 3.6202, 3.7966, 3.7081, 3.6278, 3.6375, 3.6228, 3.5537, 3.8071, 3.4847, 3.6113, 3.8595, 4.1307, 3.5926, 3.6067, 3.7935, 3.5906, 3.6237, 3.8232, 3.5104, 3.3359, 3.6817, 3.5878, 3.4561, 3.5811, 3.5863, 3.6855, 3.8777, 3.705, 3.5733, 3.6004, 3.4609, 3.4964, 3.684, 3.5635, 3.5595, 3.7453, 3.4981, 3.912, 3.5351, 3.5846, 3.4876, 3.1692, 3.6065, 3.6317, 3.3836, 3.5313, 3.5049, 3.6663, 4.0354, 3.8217, 3.286, 3.4556, 3.8153, 3.6364, 3.4933, 3.5873, 3.6725, 3.5167, 3.2721, 3.6458, 3.2986, 3.6506, 3.192, 3.668, 3.7548, 3.0704, 3.4781, 3.6479, 3.6656, 3.5375, 3.242, 3.3465, 3.9076, 3.6702, 3.6915, 3.579, 3.4353, 3.569, 3.6227, 3.544, 3.6982, 3.6331, 3.0331, 3.3106, 3.5568, 3.4432, 3.5557, 3.5534, 3.5879, 3.5486, 3.5558, 3.7892, 3.3723, 3.6034, 3.5511, 3.7582, 3.4146, 3.3994, 3.5544, 3.5931, 3.6159, 3.6301, 3.4199, 3.563, 3.5122, 3.5388, 3.5883, 3.6933, 3.8165, 3.5517, 3.5749, 3.5832, 3.5593, 3.7003, 3.4958, 3.6043, 3.694, 3.4004, 3.2104, 3.5087, 3.5751, 3.5239, 3.2395, 3.6379, 3.5877, 3.4793, 3.6234, 3.1549, 3.4409, 3.438, 3.495, 3.4539, 3.5072, 3.375, 3.6656, 3.5254, 3.3252, 3.5926, 3.5677, 3.6252, 3.5378, 3.4871, 3.38, 3.4125, 3.3583, 3.5606, 3.5252, 3.4507, 3.4814, 3.8137, 3.6735, 3.3882, 3.6593, 3.7398, 3.5072, 3.596, 3.5281, 3.8192, 3.8213, 3.6006, 3.5325, 3.5618, 3.5625, 3.6505, 3.4081, 3.5773, 3.547, 3.4259, 3.7174, 3.6764, 3.4433, 3.5988, 3.3545, 3.6591, 3.489, 3.6162, 3.3948, 3.3461, 3.4525, 3.3348, 3.3702, 3.7034, 3.5437, 3.5428, 3.5025, 3.3921, 3.7186, 3.7576, 3.5093, 3.594, 3.105, 3.5166, 3.4417, 3.4939, 3.5068, 3.5019, 3.8069, 3.5052, 3.4711, 3.4907, 3.7041, 3.6041, 3.5858, 3.6114, 3.4993, 3.4703, 3.5569, 3.5032, 3.5413, 3.6628, 3.548, 3.5515, 3.5707, 3.5103, 3.5326, 3.7609, 3.5933, 3.6687, 3.618, 3.9435, 3.6448, 3.7374, 3.5637, 3.598, 3.4134, 3.505, 3.1536, 3.6034, 3.4327, 3.4623, 3.375, 2.781, 3.5102, 3.5742, 3.4156, 3.6254, 3.686, 3.6113, 3.6551, 3.3425, 3.7392, 3.5515, 3.7459, 3.6135, 3.5451, 3.7397, 3.2153, 3.63, 3.2971, 3.325, 3.5493, 3.3871, 3.6356, 3.5871, 3.4593, 3.626, 3.6157, 3.6432, 3.6567, 3.52, 3.6013, 3.5646, 3.6385, 3.8566, 3.6682, 3.6017, 3.6382, 3.6119, 3.625, 3.3791, 3.6554, 3.7074, 3.5407, 3.6015, 3.5803, 3.4246, 3.5126, 3.4321, 3.3426, 3.5274, 3.6419, 3.5171, 3.7031, 3.5985, 3.3706, 3.5983, 3.3739, 3.6163, 3.2758, 3.5472, 3.3836, 3.6474, 3.6364, 3.6204, 3.6463, 3.5903, 3.5005, 3.6204, 3.4683, 3.6368, 3.5785, 3.3328, 3.5438, 3.6441, 3.781, 3.5688, 3.8492, 3.6076, 3.6314, 3.7073, 3.5481, 3.8395, 3.5046, 3.301, 3.5769, 3.5422, 3.5174, 3.6652, 3.6379, 3.7236, 3.6398, 3.6491, 3.363, 3.601, 3.2905, 3.5813, 3.6861, 3.0538, 3.6427, 3.5378, 3.5532, 3.605, 3.3506, 3.6362, 3.3971, 3.5749, 3.1221, 3.5366, 3.6526, 3.7253, 3.1805, 3.5997, 3.6615, 3.4551, 3.573, 3.4989, 2.9527, 3.3044, 3.4964, 3.5098, 3.6166, 3.5648, 3.3592, 3.5846, 3.5432, 3.6525, 3.8349, 3.6655, 3.4106, 3.2788, 3.4996, 3.6454, 3.3814, 3.598, 3.5273, 3.5661, 3.7546, 3.5959, 3.5881, 3.6941, 3.6436, 3.6395, 3.8156, 3.2946, 3.5932, 3.515, 3.5089, 3.5899, 3.3078, 3.5853, 3.5869, 3.4787, 3.6466, 3.6233, 3.7127, 3.6657, 3.5624, 3.728, 3.4716, 3.6, 3.4572, 3.4969, 3.6378, 3.6152, 3.4112, 3.5907, 3.5891, 3.6261, 3.6086, 3.6364, 3.6664, 3.6139, 3.6232, 3.6368, 3.506, 3.6026, 3.5761, 3.5192, 3.5957, 3.659, 3.7117, 3.494, 3.6549, 3.6303, 3.5695, 3.5721, 3.5707, 3.5612, 3.6101, 3.4681, 3.6274, 3.613, 3.6044, 3.5964, 3.6006, 3.5419, 3.6209, 3.54, 3.6781, 3.6205, 3.6425, 3.329, 3.5399, 3.5997, 3.3828, 3.4869, 3.6647, 3.5932, 3.3483, 3.443, 3.6423, 3.7344, 3.6852, 3.6151, 3.5781, 3.5645, 3.6111, 3.6496, 3.6231, 3.5719, 3.4864, 3.5669, 3.6116, 3.4754, 3.6057, 3.6047, 3.4833, 3.603, 3.6408, 3.642, 3.5919, 3.5555, 3.558, 3.5756, 3.599, 3.6297, 3.7097, 3.6349, 3.6086, 3.4711, 3.6065, 3.5232, 3.5861, 3.6099, 3.6447, 3.3895, 3.5627, 3.6547, 3.5859, 3.5802, 3.6324, 3.7054, 3.4804, 3.7198, 3.3957, 3.5961, 3.5478, 3.389, 3.6477, 3.6057, 3.6021, 3.6425, 3.6659, 3.7498, 3.5582, 3.6069, 3.6454, 3.5845, 3.6699, 3.6525, 3.6082, 3.6405, 3.6269, 3.5909, 3.5984, 3.6227, 3.6729, 3.6016, 3.5188, 3.6374, 3.5907, 3.6593, 3.56, 3.456, 3.4186, 3.6653, 3.5555, 3.2989, 3.6179, 3.4618, 3.739, 3.6452, 3.5969, 3.6288, 3.6695, 3.6218, 3.4453, 3.509, 3.5347, 3.5534, 3.5703, 3.6545, 3.5968, 3.6025, 3.6035, 3.6053, 3.6076, 3.6039, 3.5251, 3.726, 3.5668, 3.4659, 3.6036, 3.536, 3.5227, 3.6769, 3.5556, 3.6438, 3.6428, 3.4215, 3.6071, 3.6087, 3.6779, 3.5508, 3.6312, 3.6183, 3.393, 3.6051, 3.6437, 3.6557, 3.6397, 3.6399, 3.6093, 3.4467, 3.522, 3.6322, 3.6534, 3.6361, 3.6165, 3.659, 3.5766, 3.5346, 3.7214, 3.6276, 3.4615, 3.6208, 3.6094, 3.6606, 3.5666, 3.5529, 3.6292, 3.7145, 3.6004, 3.5524, 3.6163, 3.606, 3.6541, 3.688, 3.648, 3.6986, 3.618, 3.5994, 3.5641, 3.5502, 3.544, 3.6109, 3.5744, 3.6024, 3.5693, 3.6167, 3.5857, 3.5632, 3.6908, 3.663, 3.6512, 3.6555, 3.657, 3.6085, 3.6056, 3.5931, 3.6037, 3.6151, 3.6396, 3.5086, 3.6163, 3.6441, 3.6339, 3.4726, 3.5995, 3.6343, 3.5789, 3.599, 3.5695, 3.5995, 3.6191, 3.5949, 3.5711, 3.5995, 3.6026, 3.6017, 3.5931, 3.5925, 3.648, 3.5948, 3.3068, 3.5342, 3.6494, 3.5995, 3.5995, 3.5995, 3.5995, 3.5995, 3.5978, 3.5955, 3.6447, 3.5936, 3.5995, 3.5995, 3.6021, 3.5845, 3.5995, 3.6482, 3.5921, 3.5947, 3.6076, 3.6089, 3.5905, 3.648, 3.5777, 3.5762, 3.5993, 3.5995, 3.5995, 3.5987, 3.5995, 3.6267, 3.6095, 3.6, 3.6002, 3.5949, 3.6014, 3.5995, 3.6026, 3.5665, 3.6592, 3.5721, 3.6014, 3.5784, 3.5952, 3.6098, 3.648, 3.5993, 3.6477, 3.6217, 3.5916, 3.5898, 3.596, 3.5964, 3.5992, 3.6463, 3.5497, 3.5627, 3.6156, 3.5834, 3.6033, 3.5809, 3.6211, 3.6785, 3.6733, 3.6067, 3.5111, 3.6238, 3.6298, 3.7077, 3.5878, 3.5723, 3.6015, 3.6393, 3.6255, 3.5203, 3.5744, 3.6733, 3.6116, 3.6555, 3.63, 3.6076, 3.6005, 3.4614, 3.5481, 3.6817, 3.6503, 3.6347, 3.6646, 3.555, 3.6506, 3.6033, 3.5269, 3.6526, 3.5983, 3.6074, 3.6443, 3.6026, 3.6499, 3.6351, 3.603, 3.57, 3.6682, 3.6354, 3.6107, 3.6127, 3.6463, 3.5657, 3.5148, 3.6551, 3.5354, 3.6053, 3.6231, 3.6665, 3.6079, 3.6251, 3.6037, 3.6069, 3.5928, 3.6035, 3.6029, 3.6053, 3.6037, 3.6216, 3.6053, 3.6069, 3.6207, 3.6099, 3.6448, 3.6022, 3.5987, 3.6252, 3.6615, 3.5897, 3.5744, 3.5955, 3.603, 3.6051, 3.6428, 3.637, 3.5937, 3.5934, 3.5088, 3.6781, 3.5164, 3.6337, 3.6073, 3.6289, 3.6412, 3.6628, 3.4975, 3.538, 3.6817, 3.5425, 3.6433, 3.6666, 3.6399, 3.4975, 3.4975, 3.6734, 3.5831, 3.5451, 3.6399, 3.6856, 3.6916, 3.4877, 3.6554, 3.6596, 3.589, 3.6095, 3.6148, 3.5957, 3.6333, 3.6132, 3.6086, 3.6108, 3.5998, 3.5814, 3.6538, 3.608, 3.6438, 3.5835, 3.5914, 3.5851, 3.6268, 3.5855, 3.6312, 3.5876, 3.622, 3.6144, 3.6051, 3.6, 3.6053, 3.6752, 3.6567, 3.6334, 3.5975, 3.6056, 3.6216, 3.6529, 3.602, 3.6143, 3.6002, 3.6772, 3.5489, 3.6103, 3.608, 3.6049, 3.6524, 3.5773, 3.6536, 3.5922, 3.6536, 3.651, 3.5419, 3.6563, 3.6245, 3.641, 3.4772, 3.6437, 3.6574, 3.6536, 3.689, 3.6536, 3.6624, 3.6536, 3.6536, 3.6536, 3.6536, 3.6536, 3.6536, 3.6536, 3.6536, 3.6536, 3.6536, 3.6536, 3.6536, 3.6538, 3.6536, 3.6536, 3.6536, 3.6536, 3.6538, 3.6536, 3.6536, 3.6536, 3.6536, 3.6536, 3.6536, 3.6567, 3.6536, 3.6536, 3.6533, 3.6701, 3.6533, 3.6354, 3.6706, 3.6105, 3.6416, 3.5963, 3.5963, 3.5354, 3.6274, 3.6198, 3.6073, 3.6026, 3.6066, 3.611, 3.6017, 3.5983, 3.5847, 3.4774, 3.5803, 3.5997, 3.6191, 3.6054, 3.6048, 3.5796, 3.6161, 3.5805, 3.6045, 3.4671, 3.6917, 3.5956, 3.6164, 3.6022, 3.5003, 3.603, 3.6021, 3.623, 3.6054, 3.6107, 3.6054, 3.6054, 3.6025, 3.6054, 3.6082, 3.6054, 3.6054, 3.6083, 3.6054, 3.6054, 3.6123, 3.6088, 3.6008, 3.6082, 3.6034, 3.6054, 3.6025, 3.6054, 3.6082, 3.6028, 3.5992, 3.6052, 3.624, 3.6047, 3.6123, 3.61, 3.5906, 3.6035, 3.6062, 3.6079, 3.6062, 3.6062, 3.6048, 3.6048, 3.6062, 3.6048, 3.6099, 3.5923, 3.6116, 3.6058, 3.6061, 3.6082, 3.6025, 3.6067, 3.6052, 3.6054, 3.5972])</div>"
      ]
     },
     "metadata": {},
     "output_type": "display_data"
    }
   ],
   "source": [
    "mat_.rows.first()"
   ]
  },
  {
   "cell_type": "markdown",
   "metadata": {},
   "source": [
    "### Assessing performance of SVD in PySpark and R\n",
    "\n",
    "After doing this apples-to-apples comparison between the two platforms, we can see the following processing time breakdown:"
   ]
  },
  {
   "cell_type": "code",
   "execution_count": 43,
   "metadata": {},
   "outputs": [
    {
     "data": {
      "text/html": [
       "<div>\n",
       "<style scoped>\n",
       "    .dataframe tbody tr th:only-of-type {\n",
       "        vertical-align: middle;\n",
       "    }\n",
       "\n",
       "    .dataframe tbody tr th {\n",
       "        vertical-align: top;\n",
       "    }\n",
       "\n",
       "    .dataframe thead th {\n",
       "        text-align: right;\n",
       "    }\n",
       "</style>\n",
       "<table border=\"1\" class=\"dataframe\">\n",
       "  <thead>\n",
       "    <tr style=\"text-align: right;\">\n",
       "      <th></th>\n",
       "      <th>Platform/Method</th>\n",
       "      <th>Computing SVD</th>\n",
       "      <th>Making Predictions</th>\n",
       "    </tr>\n",
       "  </thead>\n",
       "  <tbody>\n",
       "    <tr>\n",
       "      <th>0</th>\n",
       "      <td>PySpark SVD</td>\n",
       "      <td>502.00 seconds</td>\n",
       "      <td>0.07 seconds</td>\n",
       "    </tr>\n",
       "    <tr>\n",
       "      <th>1</th>\n",
       "      <td>R SVD</td>\n",
       "      <td>1.70 seconds</td>\n",
       "      <td>0.06 seconds</td>\n",
       "    </tr>\n",
       "  </tbody>\n",
       "</table>\n",
       "</div>"
      ]
     },
     "metadata": {},
     "output_type": "display_data"
    }
   ],
   "source": [
    "performance_table = pd.DataFrame([['PySpark SVD', \"{:.2f}\".format(502) + \" seconds\", \"{:.2f}\".format(0.07) + \" seconds\"],\n",
    "             ['R SVD', \"{:.2f}\".format(1.7) + \" seconds\", \"{:.2f}\".format(0.06) + \" seconds\"]],\n",
    "            columns = ['Platform/Method', 'Computing SVD', 'Making Predictions'])\n",
    "\n",
    "performance_table"
   ]
  },
  {
   "cell_type": "markdown",
   "metadata": {},
   "source": [
    "### Conclusion\n",
    "\n",
    "After working through both ALS and SVD in PySpark, I've found a few takeaways:  \n",
    "\n",
    "+ ALS in PySpark seemed to perform about **three times faster** than SVD in R when looking strictly at its ability to make ratings predictions  \n",
    "+ ALS in PySpark was much slower than R, about 14 seconds to 2 seconds, in terms of fitting the training data to the model and computing singular values in R (although this is not a true comparison, so doesn't hold much weight)  \n",
    "\n",
    "Although we cannot really draw too many concrete conclusions from this initial comparison, it does look like PySpark may be more efficient at making predictions once the data has been processed and/or fit to the training data. When we ran the SVD technique in PySpark as well, and compared this to the same computations from Project #3, this seems to confirm these findings:  \n",
    "\n",
    "+ SVD computation in PySpark was *very* slow, taking about 502 seconds (~8.5 minutes) with a k-value of 20. This was much slower than the approximately 2 seconds it took to run this function in R.  \n",
    "+ However, once SVD had been computed in PySpark, it seemed to make predictions on our user-movie matrix **at about the same efficiency** as we saw in R (about 0.06 seconds for each).  \n",
    "\n",
    "\n",
    "##### Envisioned Implimentation\n",
    "This makes me consider a few things about implimentation -- 1) Using SVD in PySpark may not be the most efficient technique to use for matrix factorization and dimensionality reduction. If we were to role this out to production, we'd seriously want to think through the implications of using a technique that takes about 8.5 minutes to process a relatively small dataset of ratings. If SVD did yield the best predictions and was chosen to role out to production, it would be important to think about how this system would handle inputs of new ratings. Likely, it would be advantageous to run updates to the predictions (based on new data) in batches, in order to prevent slow processing times on the front-end of an application. However, if it were possible to use ALS as a good alternative to SVD, it may be more worthwhile to do so. 2) PySpark seems to do a good job of making predictions and utilizing the data it has available once it has been processed. Although we saw slower processing times in PySpark than we did in R, the efficiencies of making faster predictions may be more beneficial when thinking about implementation. As mentioned above, batch updates could help keep the models up to date as much as possible, while still having the advantages of faster processing time for predictions. In the end, it would be important to consider the pros and cons to these two factors in determining which algorithms, techniques and platforms to use to implement a recommender system in production.  \n",
    "\n",
    "##### Transitioning to Distributed Platform\n",
    "I could definitely see it becoming necessary to transition to a distributed platform when the volume of data reaches into the millions and billions. Given that PySpark would be able to handle computations in a distributed fashion, eventually the larger your data volume, the more efficient it'll be. For our example utilizing the MovieLens data (and doing computations over a thousand rows), we didn't see the full advantages of Spark. However, once an application or system is scaled to meet the demand of a much larger volume of users/clients (i.e. millions/billions, big data, etc.), it would not be possible to process these consuming algorithms and techniques in a non-distributed fashion.\n",
    "\n",
    "##### Added Complexity of Using Spark\n",
    "I will say that it was a bit tricky to get acclimated to Spark this week. The resources are helpful, but at this point in time, it's difficult for me to fully wrap my head around the nuances of distributed data types such as RowMatrices, Spark dataframes, etc., and how they operate differently from something like a Pandas dataframe. With time, I'm sure these types of things become more familiar, but for those running algorithms/machine learning techniques on smaller datasets, I can definitely see why some data scientists tend to work in a non-distributed system to save on time, confusion (and sometimes efficiency)."
   ]
  }
 ],
 "metadata": {
  "kernelspec": {
   "display_name": "Python 3",
   "language": "python",
   "name": "python3"
  },
  "language_info": {
   "codemirror_mode": {
    "name": "ipython",
    "version": 3
   },
   "file_extension": ".py",
   "mimetype": "text/x-python",
   "name": "python",
   "nbconvert_exporter": "python",
   "pygments_lexer": "ipython3",
   "version": "3.7.6"
  },
  "name": "DATA 612 - Project #5",
  "notebookId": 3056149489528635
 },
 "nbformat": 4,
 "nbformat_minor": 1
}
