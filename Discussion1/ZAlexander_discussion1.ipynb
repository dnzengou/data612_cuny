{
 "cells": [
  {
   "cell_type": "markdown",
   "metadata": {},
   "source": [
    "***\n",
    "\n",
    "## Research Discussion Assignment #1 \n",
    "\n",
    "###### Zach Alexander - June 10th, 2020\n",
    "\n",
    "***\n",
    "\n",
    "### Instructions\n",
    "Please complete the research discussion assignment in a Jupyter or R Markdown notebook. You should post the GitHub link to your research in a new discussion thread.\n",
    "\n",
    "Now that we have covered basic techniques for recommender systems, choose one commercial recommender and describe how you think it works (content-based, collaborative filtering, etc). Does the technique deliver a good experience or are the recommendations off-target?\n",
    "\n",
    "***"
   ]
  },
  {
   "cell_type": "markdown",
   "metadata": {},
   "source": [
    "### Part 1: Commercial Recommender System - The New York Times\n",
    "\n",
    "The New York Times is one of the largest news and media companies in the world. The organization publishs around 250 to 300 stories and articles every day.\n",
    "\n",
    "As mobile traffic on the internet [continues to rise year-over-year](https://www.broadbandsearch.net/blog/mobile-desktop-internet-usage-statistics), and users are choosing to obtain their news and stories on platforms with smaller screen sizes over traditional print or larger desktop computers, news recommender systems are becoming increasingly crucial to ensure that organizations are able to maintain consistent readership while balancing the challenge of presenting fewer stories to readers on smaller window/screen sizes.\n",
    "\n",
    "Therefore, the New York Times has been thinking strategically about the path readers take through their content, and have been finding ways to create more personalized recommendations. In 2015, they set out to revamp their recommender system, and to find ways to match readers to the content that they enjoy.\n",
    "\n",
    "From the items described, it looks like staff at the New York Times took a combination of content-based and collaborative filtering to develop their internal system. \n",
    "\n",
    "##### Content-based filtering\n",
    "\n",
    "To start, they used a content-based filtering approach by tagging author, topic, relevant keywords to the stories that they published. This way, they could build out a profile of the stories that they produced and group them into categories that would appeal to different types of readers. Initially, this seemed to be the extent of their recommender system, where, based on the tags and the 30-day reading history of the user, they were able to serve recommendations based on the topics that had previously been read.\n",
    "Although this method seemed to be quite effective, there were times where rare tags/keywords were weight too heavily, and would serve articles to users outside of their interests.\n",
    "\n",
    "##### Collaborative filtering layered in\n",
    "\n",
    "Therefore, they also decided to implement collaborative filtering in combination with some of the content-based filtering they had designed earlier. By tracking similarities between users, especially on what articles users were reading, this helped balance out their recommendation approach. The collaborative filters were surfacing articles that similar users were reading, and therefore would be recommended to the current user if they hadn't read it yet. However, this approach is limited to articles that had already been read by a user in the group, and wasn't effective for newly published articles.\n",
    "\n",
    "##### Collaborative Topic Modeling (CTM)\n",
    "\n",
    "To create the proper balance between content-based and collaborative filtering approaches, they used a method called Collaborative Topic Modeling. Essentially, it works in this order:\n",
    "\n",
    "+ Models the content through content-based filtering techniques\n",
    "+ Adjusts the content based on signals from users, a form of collaborative filtering\n",
    "+ Models reader preference through a combination of content-based and collaborative filtering\n",
    "+ Serves up content to the user based on preference and content\n",
    "\n",
    "In this method, you can see that a combination of both content-based and collaborative filtering are used, and the models developed work in tandem with one another to filter content based on user preference and interest.\n",
    "\n",
    "##### Does the technique deliver a good experience?\n",
    "\n",
    "I'd say that this collaborative topic model is quite advanced, and appears to do a good job of incorporating error and bias into it's recommendations. It seems like the New York Times team has worked hard to find a balance between content-based filtering and collaborative filtering methods, and doing so in a way that provides the right content to each user. From personal experience, I feel like this recommender system performs quite well for my taste, and I often find that the articles recommended to me align with the topics and content I find interesting to read.\n",
    "\n",
    "***"
   ]
  },
  {
   "cell_type": "markdown",
   "metadata": {},
   "source": [
    "### Part 2: Attacks on Recommender System\n",
    "\n",
    "Read [this article](https://www.washingtonpost.com/news/morning-mix/wp/2017/04/19/wisdom-of-the-crowd-imdb-users-gang-up-on-the-promise-before-it-even-opens/) and consider how to handle attacks on recommender systems. Can you think of a similar example where a collective effort to alter the workings of content recommendations have been successful? How would you design a system to prevent this kind of abuse?\n",
    "\n",
    "\n",
    "##### Attack on TripAdvisor's restaurant recommender system\n",
    "\n",
    "I highly recommend [this article, \"I made my shed the top-rated restaurant on TripAdvisor\"](https://www.vice.com/en_us/article/434gqw/i-made-my-shed-the-top-rated-restaurant-on-tripadvisor) if you want a good laugh, and to learn about how it was possible for someone to manipulate TripAdvisor's restaurant ratings to get a fake restaurant (in a shed) ranked as London's #1 restaurant for a few weeks. The premise of this article was to show that anyone with a bit of review-writing savvy can manipulate this ranking/recommender system through providing fake reviews.\n",
    "\n",
    "It appears that during the time this article was written, TripAdvisor was using a collaborative filtering approach, and it looks like it weighted customer reviews very heavily. The author made a living writing reviews for restaurants on TripAdvisor, and he knew how to game the system.\n",
    "\n",
    "##### Designing a system to prevent this from happening again\n",
    "\n",
    "When TripAdvisor was questioned about this particular case, they mentioned that they typically provided a lot of oversight in monitoring actual restaurants, and were ensuring that they didn't fraudulently boost their reviews (provide fake reviews). However, from this article, it sounds like many people have been hired by restaurants, and make a decent living, gaming this system, in order to boost restaurant ratings. In order to prevent this, TripAdvisor really should rework their recommender system. It seems like having a collaborative filtering approach, which weighs extremely heavily on customer reviews and feedback, has been leading to distrust in its ratings. A few things I'd do differently:\n",
    "\n",
    "+ I'd ensure that the TripAdvisor team wasn't only monitoring activity from existing restaurants, but would hire a team to investigate new restaurant openings -- if possible, setting up site visits or investigative phone calls to ensure that a restaurant is real. It appears that it was really easy for the author to \"create a new restaurant\", and to start showing it's menu on their site. \n",
    "\n",
    "+ I'd also factor in other metrics to the collaborative filtering model. For instance, it would be helpful to get expert opinions of restaurants. Incorporating profiles for food critics and matching them to restaurants on their site may provide a more valuable rating system. It would be helpful to hire a team of food critics as well, potentially deploying them to newly opened restaurants to provide immediate feedback for users, or even better, incorporating their reviews into the recommender system.\n",
    "\n",
    "+ Finally, it sounded like there were numerous attempts by interested customers to engage with the fake restaurant, calling to book reservations and gather more information. If possible, it would be valuable to weight certain terms and feedback in customer reviews that are centered around \"responsiveness\" and \"availability\" in the model, to weight restaurants that are easy to engage with over those that people cannot get ahold of. This may cut down on fraudelent restaurants.\n",
    "\n",
    "In the end, this was an interesting use case, and similar to the one presented on IMDB. In these cases, it's hard to pinpoint the level of impact false ratings can have on the outcome of a movie or a restaurant, but could lead to potentially very serious financial consequences for either industry. Hopefully these examples will provide enough of an alarm to help deter them from happening in the future.\n"
   ]
  },
  {
   "cell_type": "markdown",
   "metadata": {},
   "source": [
    "### Sources\n",
    "\n",
    "+ https://open.blogs.nytimes.com/2015/08/11/building-the-next-new-york-times-recommendation-engine/\n",
    "+ http://www.cs.columbia.edu/~blei/papers/WangBlei2011.pdf\n",
    "+ https://www.vice.com/en_us/article/434gqw/i-made-my-shed-the-top-rated-restaurant-on-tripadvisor\n"
   ]
  },
  {
   "cell_type": "code",
   "execution_count": null,
   "metadata": {},
   "outputs": [],
   "source": []
  }
 ],
 "metadata": {
  "kernelspec": {
   "display_name": "Python 3",
   "language": "python",
   "name": "python3"
  },
  "language_info": {
   "codemirror_mode": {
    "name": "ipython",
    "version": 3
   },
   "file_extension": ".py",
   "mimetype": "text/x-python",
   "name": "python",
   "nbconvert_exporter": "python",
   "pygments_lexer": "ipython3",
   "version": "3.7.6"
  }
 },
 "nbformat": 4,
 "nbformat_minor": 4
}
